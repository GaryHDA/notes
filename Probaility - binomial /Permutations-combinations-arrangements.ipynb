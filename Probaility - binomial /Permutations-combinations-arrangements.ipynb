{
 "cells": [
  {
   "cell_type": "markdown",
   "metadata": {},
   "source": [
    "### Discrete random variables\n",
    "#### Binomial variable, permutations, combinations\n",
    "\n",
    "Expressing different types of discrete random variables in python. First derive it then apply the appropriate python package.\n",
    "\n",
    "#### Usage\n",
    "\n",
    "A quick review before jumping into ML/AI and the use of Bayes Theorem in applications like scikit-learn or PyTorch\n",
    "\n",
    "#### References\n",
    "\n",
    "1. Introduction à la théorie de probability: Robert Dalang\n",
    "2. Data Science par la pratique: Joel grus\n",
    "3. Scipy stats: https://docs.scipy.org/doc/scipy/reference/stats.html#discrete-distributions\n",
    "4. Pandas docs: https://pandas.pydata.org/pandas-docs/stable/\n",
    "5. Numpy docs: https://docs.scipy.org/doc/numpy-1.13.0/reference/\n",
    "6. Writing equations in the notebook: https://jupyter-notebook.readthedocs.io/en/stable/examples/Notebook/Typesetting%20Equations.html"
   ]
  },
  {
   "cell_type": "code",
   "execution_count": 1,
   "metadata": {},
   "outputs": [],
   "source": [
    "import numpy as np\n",
    "import pandas as pd\n",
    "import matplotlib\n",
    "import matplotlib.pyplot as plt\n",
    "import scipy\n",
    "import seaborn"
   ]
  },
  {
   "cell_type": "markdown",
   "metadata": {},
   "source": [
    "### Combinations and permutations\n",
    "\n",
    "#### Mutliplication principle:\n",
    "\n",
    "Basis of the technique for enumerating. Very simple really. Imagine an experiment that has three stages. The first stage has three possible results, the second stage has four and the third stage has 2 possible results."
   ]
  },
  {
   "cell_type": "code",
   "execution_count": 2,
   "metadata": {},
   "outputs": [
    {
     "data": {
      "text/plain": [
       "24"
      ]
     },
     "execution_count": 2,
     "metadata": {},
     "output_type": "execute_result"
    }
   ],
   "source": [
    "# in that case it would look like:\n",
    "3*4*2"
   ]
  },
  {
   "cell_type": "code",
   "execution_count": 3,
   "metadata": {},
   "outputs": [
    {
     "data": {
      "text/plain": [
       "160"
      ]
     },
     "execution_count": 3,
     "metadata": {},
     "output_type": "execute_result"
    }
   ],
   "source": [
    "# expressed as a function with just the three stages:\n",
    "def multiplcationPrinciple(a, b, c):\n",
    "    return a*b*c\n",
    "# a function that covers an unlimited number of stages:\n",
    "def alotOfTrials(a_list_of_results):\n",
    "    placeHolder = 1\n",
    "    for i in range(len(a_list_of_results)):\n",
    "        placeHolder *= a_list_of_results[i]\n",
    "    return placeHolder\n",
    "a = [2, 2, 2, 2, 10]\n",
    "alotOfTrials(a)                   \n"
   ]
  },
  {
   "cell_type": "code",
   "execution_count": 4,
   "metadata": {},
   "outputs": [
    {
     "data": {
      "text/plain": [
       "160"
      ]
     },
     "execution_count": 4,
     "metadata": {},
     "output_type": "execute_result"
    }
   ],
   "source": [
    "# this is a little more concise but you need to import functools\n",
    "# probably the fastest\n",
    "import functools\n",
    "functools.reduce(lambda x,y: x*y, a, 1)"
   ]
  },
  {
   "cell_type": "code",
   "execution_count": 5,
   "metadata": {},
   "outputs": [
    {
     "data": {
      "text/plain": [
       "160"
      ]
     },
     "execution_count": 5,
     "metadata": {},
     "output_type": "execute_result"
    }
   ],
   "source": [
    "# numpy is already imported\n",
    "# this will overflow if range of list > 21\n",
    "# definiteley the most convenient for small jobs\n",
    "np.prod(a)  "
   ]
  },
  {
   "cell_type": "markdown",
   "metadata": {},
   "source": [
    "### Permutations\n",
    "\n",
    "An ordered arangement without repetition of n distinct objects. How many permutations possible of n objects?"
   ]
  },
  {
   "cell_type": "markdown",
   "metadata": {},
   "source": [
    "In general the number of permutations of n objects is $n!$\n",
    "\n",
    "So in this case: $(a_{1}, a_{2}, a_{3}, a_{4}, a_{5})$ with the mutitiplication principle this equals $5!$\n"
   ]
  },
  {
   "cell_type": "code",
   "execution_count": 6,
   "metadata": {},
   "outputs": [
    {
     "data": {
      "text/plain": [
       "24"
      ]
     },
     "execution_count": 6,
     "metadata": {},
     "output_type": "execute_result"
    }
   ],
   "source": [
    "# manualy this looks like this\n",
    "# 1 needs to be added to the end point of the range function\n",
    "\n",
    "def makeFactorial(a):\n",
    "    b = 1\n",
    "    for i in range(1, a + 1):\n",
    "        b *= i\n",
    "    return b\n",
    "makeFactorial(4)"
   ]
  },
  {
   "cell_type": "code",
   "execution_count": 7,
   "metadata": {},
   "outputs": [
    {
     "data": {
      "text/plain": [
       "24"
      ]
     },
     "execution_count": 7,
     "metadata": {},
     "output_type": "execute_result"
    }
   ],
   "source": [
    "# or of course there is alway numpy\n",
    "np.math.factorial(4)"
   ]
  },
  {
   "cell_type": "code",
   "execution_count": 8,
   "metadata": {},
   "outputs": [
    {
     "data": {
      "text/plain": [
       "24"
      ]
     },
     "execution_count": 8,
     "metadata": {},
     "output_type": "execute_result"
    }
   ],
   "source": [
    "# scipy works too\n",
    "# it is the same function\n",
    "scipy.math.factorial(4)"
   ]
  },
  {
   "cell_type": "markdown",
   "metadata": {},
   "source": [
    "### Arrangements\n",
    "\n",
    "An arrangement is a permutation of k objects taken from n distinct objects. The k objects are taken without repetition and are ordered. The number of possible arrangements is expressed like this $A_{n,k}$\n",
    "\n",
    "or like this:   $A_{n,k}= \\frac{n!}{(n-k)!}$"
   ]
  },
  {
   "cell_type": "code",
   "execution_count": 9,
   "metadata": {},
   "outputs": [
    {
     "data": {
      "text/plain": [
       "15600.0"
      ]
     },
     "execution_count": 9,
     "metadata": {},
     "output_type": "execute_result"
    }
   ],
   "source": [
    "# there is already a solution for this\n",
    "# The question is how many three letter combinations can be made from an alphabet of 26 letters:\n",
    "n = 26\n",
    "k = 3\n",
    "b = makeFactorial(n)\n",
    "c = makeFactorial(n-k)\n",
    "numberOfCombinations = b/c\n",
    "numberOfCombinations"
   ]
  },
  {
   "cell_type": "markdown",
   "metadata": {},
   "source": [
    "### Combinations - binomial coefficient\n",
    "\n",
    "A combination of $k$ elements taken from $n$ elements is an unorderd group of $k$ elements (the difference from an arangement). This is commonly expressed like this: $C_{n,k}$  or  $\\binom{n}{k}$\n",
    "\n",
    "As a result each subgroup has $k!$ possible arrangements. So a combination looks like this: $A_{n,k} = C_{n,k} * k!$\n",
    "\n",
    "More preciseley : $\\binom{n}{k} = \\frac{n!}{k!(n-k)!}$\n"
   ]
  },
  {
   "cell_type": "code",
   "execution_count": 10,
   "metadata": {},
   "outputs": [
    {
     "data": {
      "text/plain": [
       "2600.0"
      ]
     },
     "execution_count": 10,
     "metadata": {},
     "output_type": "execute_result"
    }
   ],
   "source": [
    "# how would this look with the previous example?\n",
    "# add k factorial\n",
    "d = makeFactorial(k)\n",
    "e = d*c\n",
    "b/e"
   ]
  },
  {
   "cell_type": "code",
   "execution_count": 11,
   "metadata": {},
   "outputs": [
    {
     "data": {
      "text/plain": [
       "8855.0"
      ]
     },
     "execution_count": 11,
     "metadata": {},
     "output_type": "execute_result"
    }
   ],
   "source": [
    "# try this on another example. A club of 23 members needs to make a commitee of 4 members.\n",
    "#n:\n",
    "members = 23\n",
    "#k:\n",
    "commitee = 4\n",
    "# how many possible combinations of 4 commitee memebers?\n",
    "makeFactorial(members)/(makeFactorial(4)*makeFactorial(members-commitee))"
   ]
  },
  {
   "cell_type": "markdown",
   "metadata": {},
   "source": [
    "### Draw without replacement\n",
    "\n",
    "Because this wouldn't be complete without at least one of these excercises! Given an urn that contains $n$ black balls and $m$ red balls if a group $k$ of balls is drawn from the urn:\n",
    "\n",
    "What is the probability of drawing $r$ red balls and $k$ - $r$ black balls? for the record: $(r \\leq k \\leq m + n$ and $ k-r \\leq n)$\n",
    "\n",
    "First describe all the results possible:  $\\Omega=\\binom {m+n}{k}$\n",
    "\n",
    "Then in terms of the draws: $G=\\binom{m}{r}\\binom{n}{k-r}$"
   ]
  },
  {
   "cell_type": "code",
   "execution_count": null,
   "metadata": {},
   "outputs": [],
   "source": []
  }
 ],
 "metadata": {
  "kernelspec": {
   "display_name": "Python 3",
   "language": "python",
   "name": "python3"
  },
  "language_info": {
   "codemirror_mode": {
    "name": "ipython",
    "version": 3
   },
   "file_extension": ".py",
   "mimetype": "text/x-python",
   "name": "python",
   "nbconvert_exporter": "python",
   "pygments_lexer": "ipython3",
   "version": "3.6.5"
  }
 },
 "nbformat": 4,
 "nbformat_minor": 2
}
