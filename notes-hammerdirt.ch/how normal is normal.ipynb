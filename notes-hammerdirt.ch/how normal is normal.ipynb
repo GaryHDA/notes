{
 "cells": [
  {
   "cell_type": "markdown",
   "metadata": {},
   "source": [
    "### Using qq plot to test the assumption of normality\n",
    "#### Up untill now we have been fitting a curve to the histogram of the log of the survey results.  After receiving the following feedback from Prof Davison at the EPFL stats dept we will look at this another way\n",
    "\n",
    "> Better to use a normal QQ plot or normal probability plot (also called a rankit plot) to assess normality.  A histogram is a crude tool, especially in the tails.\n",
    "\n",
    "#### Although we are not handling 'critical data' -- like drug efficiency, mortality rates or the returns on my IRA we (hammerdirt) take every opportunity to learn and apply feedback.  Besides this may make the model more precise in predictions about trash values in the future and/or changes year over year"
   ]
  },
  {
   "cell_type": "markdown",
   "metadata": {},
   "source": [
    "#### Load the libraries needed:"
   ]
  },
  {
   "cell_type": "code",
   "execution_count": 1,
   "metadata": {},
   "outputs": [
    {
     "data": {
      "text/plain": [
       "'/home/mw-shovel/web/notes/notes-hammerdirt.ch'"
      ]
     },
     "execution_count": 1,
     "metadata": {},
     "output_type": "execute_result"
    }
   ],
   "source": [
    "import pandas as pd\n",
    "import numpy as np\n",
    "import matplotlib\n",
    "import matplotlib.pyplot as plt\n",
    "import pickle\n",
    "import re\n",
    "import os\n",
    "from scipy.stats import norm\n",
    "import scipy.stats\n",
    "import statsmodels.api as sm #<----- this is the library for doing the QQ plot\n",
    "here = os.getcwd()\n",
    "data = '/home/mw-shovel/web/notes/basel/data'\n",
    "here"
   ]
  },
  {
   "cell_type": "markdown",
   "metadata": {},
   "source": [
    "#### Get the data and any other 'objects' required"
   ]
  },
  {
   "cell_type": "code",
   "execution_count": 2,
   "metadata": {},
   "outputs": [],
   "source": [
    "# in the note book we pickle everything for storage\n",
    "# in the app we use json format, pickle is not secure for web apps (as far as I know)\n",
    "slr = pd.read_pickle(data + '/combined.p')\n",
    "mcb = pd.read_pickle(data + '/combined_mc.p')\n",
    "mcb_slr = pd.read_pickle(data + '/mcb_slr.p')\n",
    "g_all = pd.read_pickle(data + '/water_bodies_all.p')\n",
    "g = pd.read_pickle(data + '/water_bodies.p')\n",
    "codes = pd.read_pickle(data + '/codes.p')"
   ]
  },
  {
   "cell_type": "code",
   "execution_count": 3,
   "metadata": {},
   "outputs": [],
   "source": [
    "mcb_slr.reset_index(inplace=True)"
   ]
  },
  {
   "cell_type": "markdown",
   "metadata": {},
   "source": [
    "#### Run through the same checks and transformations as in the previous note book"
   ]
  },
  {
   "cell_type": "code",
   "execution_count": 4,
   "metadata": {},
   "outputs": [
    {
     "data": {
      "text/plain": [
       "index                            1\n",
       "code_id                        G27\n",
       "date           2017-04-02 00:00:00\n",
       "pcs_m                        0.429\n",
       "length                          28\n",
       "location_id     Aare_Bern_CaveltiN\n",
       "quantity                        12\n",
       "city                 Muri bei Bern\n",
       "latitude                   46.9236\n",
       "longitude                  7.47332\n",
       "post                          3074\n",
       "water                        river\n",
       "pop                          13187\n",
       "area                          7.63\n",
       "pop_dens                   1728.31\n",
       "day                              6\n",
       "Name: 1, dtype: object"
      ]
     },
     "execution_count": 4,
     "metadata": {},
     "output_type": "execute_result"
    }
   ],
   "source": [
    "# the records are stored as individual events per object type\n",
    "# for example one record from the data base looks like this\n",
    "mcb_slr.loc[1]"
   ]
  },
  {
   "cell_type": "code",
   "execution_count": 5,
   "metadata": {},
   "outputs": [],
   "source": [
    "# need to combine records by date and location\n",
    "\n",
    "dfA = mcb_slr.pivot_table('pcs_m', index=['date', 'day', 'water','city','location_id'], columns=['code_id'], fill_value=0)"
   ]
  },
  {
   "cell_type": "code",
   "execution_count": 6,
   "metadata": {},
   "outputs": [
    {
     "data": {
      "text/html": [
       "<div>\n",
       "<style scoped>\n",
       "    .dataframe tbody tr th:only-of-type {\n",
       "        vertical-align: middle;\n",
       "    }\n",
       "\n",
       "    .dataframe tbody tr th {\n",
       "        vertical-align: top;\n",
       "    }\n",
       "\n",
       "    .dataframe thead th {\n",
       "        text-align: right;\n",
       "    }\n",
       "</style>\n",
       "<table border=\"1\" class=\"dataframe\">\n",
       "  <thead>\n",
       "    <tr style=\"text-align: right;\">\n",
       "      <th></th>\n",
       "      <th></th>\n",
       "      <th></th>\n",
       "      <th></th>\n",
       "      <th>code_id</th>\n",
       "      <th>G1</th>\n",
       "      <th>G10</th>\n",
       "      <th>G100</th>\n",
       "      <th>G101</th>\n",
       "      <th>G102</th>\n",
       "      <th>G11</th>\n",
       "      <th>G12</th>\n",
       "      <th>G124</th>\n",
       "      <th>G125</th>\n",
       "      <th>G126</th>\n",
       "      <th>...</th>\n",
       "      <th>G89</th>\n",
       "      <th>G9</th>\n",
       "      <th>G90</th>\n",
       "      <th>G91</th>\n",
       "      <th>G92</th>\n",
       "      <th>G93</th>\n",
       "      <th>G95</th>\n",
       "      <th>G96</th>\n",
       "      <th>G97</th>\n",
       "      <th>G99</th>\n",
       "    </tr>\n",
       "    <tr>\n",
       "      <th>date</th>\n",
       "      <th>day</th>\n",
       "      <th>water</th>\n",
       "      <th>city</th>\n",
       "      <th>location_id</th>\n",
       "      <th></th>\n",
       "      <th></th>\n",
       "      <th></th>\n",
       "      <th></th>\n",
       "      <th></th>\n",
       "      <th></th>\n",
       "      <th></th>\n",
       "      <th></th>\n",
       "      <th></th>\n",
       "      <th></th>\n",
       "      <th></th>\n",
       "      <th></th>\n",
       "      <th></th>\n",
       "      <th></th>\n",
       "      <th></th>\n",
       "      <th></th>\n",
       "      <th></th>\n",
       "      <th></th>\n",
       "      <th></th>\n",
       "      <th></th>\n",
       "      <th></th>\n",
       "    </tr>\n",
       "  </thead>\n",
       "  <tbody>\n",
       "    <tr>\n",
       "      <th>2015-11-23</th>\n",
       "      <th>0</th>\n",
       "      <th>lake</th>\n",
       "      <th>Montreux</th>\n",
       "      <th>Baye de Montreux - G</th>\n",
       "      <td>0.0</td>\n",
       "      <td>0.0</td>\n",
       "      <td>0.016393</td>\n",
       "      <td>0.0</td>\n",
       "      <td>0.0</td>\n",
       "      <td>0.016393</td>\n",
       "      <td>0.0</td>\n",
       "      <td>0.016393</td>\n",
       "      <td>0.0</td>\n",
       "      <td>0.016393</td>\n",
       "      <td>...</td>\n",
       "      <td>0.065574</td>\n",
       "      <td>0.0</td>\n",
       "      <td>0.0</td>\n",
       "      <td>0.0</td>\n",
       "      <td>0.0</td>\n",
       "      <td>0.0</td>\n",
       "      <td>0.147541</td>\n",
       "      <td>0.0</td>\n",
       "      <td>0.0</td>\n",
       "      <td>0.0</td>\n",
       "    </tr>\n",
       "  </tbody>\n",
       "</table>\n",
       "<p>1 rows × 120 columns</p>\n",
       "</div>"
      ],
      "text/plain": [
       "code_id                                              G1  G10      G100  G101  \\\n",
       "date       day water city     location_id                                      \n",
       "2015-11-23 0   lake  Montreux Baye de Montreux - G  0.0  0.0  0.016393   0.0   \n",
       "\n",
       "code_id                                             G102       G11  G12  \\\n",
       "date       day water city     location_id                                 \n",
       "2015-11-23 0   lake  Montreux Baye de Montreux - G   0.0  0.016393  0.0   \n",
       "\n",
       "code_id                                                 G124  G125      G126  \\\n",
       "date       day water city     location_id                                      \n",
       "2015-11-23 0   lake  Montreux Baye de Montreux - G  0.016393   0.0  0.016393   \n",
       "\n",
       "code_id                                            ...        G89   G9  G90  \\\n",
       "date       day water city     location_id          ...                        \n",
       "2015-11-23 0   lake  Montreux Baye de Montreux - G ...   0.065574  0.0  0.0   \n",
       "\n",
       "code_id                                             G91  G92  G93       G95  \\\n",
       "date       day water city     location_id                                     \n",
       "2015-11-23 0   lake  Montreux Baye de Montreux - G  0.0  0.0  0.0  0.147541   \n",
       "\n",
       "code_id                                             G96  G97  G99  \n",
       "date       day water city     location_id                          \n",
       "2015-11-23 0   lake  Montreux Baye de Montreux - G  0.0  0.0  0.0  \n",
       "\n",
       "[1 rows x 120 columns]"
      ]
     },
     "execution_count": 6,
     "metadata": {},
     "output_type": "execute_result"
    }
   ],
   "source": [
    "# now all the records that have the same 'date', 'day', 'city' and 'location_id' are grouped together\n",
    "# in other words all the results from one beach-litter inventory\n",
    "dfA[:1]"
   ]
  },
  {
   "cell_type": "code",
   "execution_count": 7,
   "metadata": {},
   "outputs": [],
   "source": [
    "# add up all the columns (those with a 'G' label)\n",
    "dfA['total'] = dfA[dfA.columns].sum(axis=1)"
   ]
  },
  {
   "cell_type": "code",
   "execution_count": 8,
   "metadata": {},
   "outputs": [
    {
     "data": {
      "text/plain": [
       "date        day  water  city      location_id         \n",
       "2015-11-23  0    lake   Montreux  Baye de Montreux - G    5.721311\n",
       "2015-11-24  1    lake   Montreux  Baye de Clarens         1.695652\n",
       "2015-11-27  4    lake   Vevey     Veveyse                 4.075472\n",
       "2015-12-01  1    lake   Vevey     Veveyse                 0.981132\n",
       "2015-12-02  2    lake   Montreux  Baye de Clarens         0.681159\n",
       "2015-12-04  4    lake   Montreux  Baye de Montreux - D    6.918033\n",
       "                                  Baye de Montreux - G    8.377049\n",
       "2015-12-07  0    lake   Vevey     Veveyse                 3.641509\n",
       "2015-12-08  1    lake   Montreux  Baye de Clarens         3.391304\n",
       "2015-12-10  3    lake   Montreux  Baye de Montreux - D    9.655738\n",
       "Name: total, dtype: float64"
      ]
     },
     "execution_count": 8,
     "metadata": {},
     "output_type": "execute_result"
    }
   ],
   "source": [
    "# get the first 10 records for Lac Leman\n",
    "idx = pd.IndexSlice\n",
    "dfA.loc[idx[:, :, :, :, g_all['Lac Léman']], 'total'][:10]\n",
    "# this looks good"
   ]
  },
  {
   "cell_type": "code",
   "execution_count": 9,
   "metadata": {},
   "outputs": [],
   "source": [
    "dfA.reset_index(inplace=True)"
   ]
  },
  {
   "cell_type": "markdown",
   "metadata": {},
   "source": [
    "#### Get down to just what is needed"
   ]
  },
  {
   "cell_type": "code",
   "execution_count": 10,
   "metadata": {},
   "outputs": [
    {
     "data": {
      "text/html": [
       "<div>\n",
       "<style scoped>\n",
       "    .dataframe tbody tr th:only-of-type {\n",
       "        vertical-align: middle;\n",
       "    }\n",
       "\n",
       "    .dataframe tbody tr th {\n",
       "        vertical-align: top;\n",
       "    }\n",
       "\n",
       "    .dataframe thead th {\n",
       "        text-align: right;\n",
       "    }\n",
       "</style>\n",
       "<table border=\"1\" class=\"dataframe\">\n",
       "  <thead>\n",
       "    <tr style=\"text-align: right;\">\n",
       "      <th>code_id</th>\n",
       "      <th>date</th>\n",
       "      <th>location_id</th>\n",
       "      <th>total</th>\n",
       "    </tr>\n",
       "  </thead>\n",
       "  <tbody>\n",
       "    <tr>\n",
       "      <th>0</th>\n",
       "      <td>2015-11-23</td>\n",
       "      <td>Baye de Montreux - G</td>\n",
       "      <td>5.721311</td>\n",
       "    </tr>\n",
       "    <tr>\n",
       "      <th>1</th>\n",
       "      <td>2015-11-24</td>\n",
       "      <td>Baye de Clarens</td>\n",
       "      <td>1.695652</td>\n",
       "    </tr>\n",
       "    <tr>\n",
       "      <th>2</th>\n",
       "      <td>2015-11-27</td>\n",
       "      <td>Veveyse</td>\n",
       "      <td>4.075472</td>\n",
       "    </tr>\n",
       "    <tr>\n",
       "      <th>3</th>\n",
       "      <td>2015-12-01</td>\n",
       "      <td>Veveyse</td>\n",
       "      <td>0.981132</td>\n",
       "    </tr>\n",
       "    <tr>\n",
       "      <th>4</th>\n",
       "      <td>2015-12-02</td>\n",
       "      <td>Baye de Clarens</td>\n",
       "      <td>0.681159</td>\n",
       "    </tr>\n",
       "  </tbody>\n",
       "</table>\n",
       "</div>"
      ],
      "text/plain": [
       "code_id       date           location_id     total\n",
       "0       2015-11-23  Baye de Montreux - G  5.721311\n",
       "1       2015-11-24       Baye de Clarens  1.695652\n",
       "2       2015-11-27               Veveyse  4.075472\n",
       "3       2015-12-01               Veveyse  0.981132\n",
       "4       2015-12-02       Baye de Clarens  0.681159"
      ]
     },
     "execution_count": 10,
     "metadata": {},
     "output_type": "execute_result"
    }
   ],
   "source": [
    "# make a working copy\n",
    "a = dfA.copy()\n",
    "# grab only the columns we need to chart\n",
    "a = a[['date','location_id','total']].copy()\n",
    "# grab only the rows that are in the Group 'Lac Léman'\n",
    "a = a.loc[a.location_id.isin(g_all['Lac Léman'])].copy()\n",
    "# just to make sure its all good:\n",
    "a[:5]\n",
    "# its all good"
   ]
  },
  {
   "cell_type": "markdown",
   "metadata": {},
   "source": [
    "### The assumption is that a log transform makes the litter survey data \"normal\".\n",
    "#### This is a common transformation, we have covered this alot in past and wont go into the details here\n",
    "#### Just take a look at the two histograms:"
   ]
  },
  {
   "cell_type": "code",
   "execution_count": 11,
   "metadata": {},
   "outputs": [
    {
     "data": {
      "image/png": "[encoded data removed]",
      "text/plain": [
       "<Figure size 576x360 with 2 Axes>"
      ]
     },
     "metadata": {},
     "output_type": "display_data"
    }
   ],
   "source": [
    "# first thing is to get the log of the total column\n",
    "# put that in a seperate column\n",
    "a['log'] = np.log(a['total'])\n",
    "n_bins = 30\n",
    "\n",
    "fig, axs = plt.subplots(1, 2, figsize=(8,5))\n",
    "axs[0].hist(a['log'], bins=n_bins)\n",
    "axs[1].hist(a['total'], bins=n_bins)\n",
    "axs[0].set_title(\"Histogram of np.log(a['total'])\")\n",
    "axs[1].set_title(\"Histogram of a['total']\")\n",
    "plt.show()"
   ]
  },
  {
   "cell_type": "markdown",
   "metadata": {},
   "source": [
    "#### Prof Davison is right (of course), the tails of both histograms are 'extended', the log is slightly skewed left and the 'total' is definiteley skewed right.\n",
    "\n",
    "1. I don't think this means our assumption is wrong\n",
    "2. Remember this is trash on the ground we are talking about here\n",
    "3. We knew the histogram was skewed right thats why we take the log\n",
    "\n",
    "#### Take a look at the distribution and see how 'tails' play out"
   ]
  },
  {
   "cell_type": "code",
   "execution_count": 12,
   "metadata": {},
   "outputs": [
    {
     "data": {
      "image/png": "[encoded data removed]",
      "text/plain": [
       "<Figure size 576x360 with 2 Axes>"
      ]
     },
     "metadata": {},
     "output_type": "display_data"
    }
   ],
   "source": [
    "loc_log = np.mean(a['log'])\n",
    "scale_log = np.std(a['log'])\n",
    "loc = np.mean(a['total'])\n",
    "scale = np.std(a['total'])\n",
    "\n",
    "x_log = a['log'].sort_values()\n",
    "y_log =  norm.pdf(x_log, loc_log, scale_log)\n",
    "x_total= a['total'].sort_values()\n",
    "y_total= norm.pdf(x_total, loc, scale)\n",
    "\n",
    "fig, axs = plt.subplots(1, 2, figsize=(8,5))\n",
    "axs[1].plot(x_total, y_total, color='r', label='plot_total')\n",
    "axs[0].plot(x_log, y_log, color='b', label='plot log')\n",
    "axs[0].set_title(\"plot of np.log(a['total'])\")\n",
    "axs[1].set_title(\"plot of a['total']\")\n",
    "plt.show()\n"
   ]
  },
  {
   "cell_type": "markdown",
   "metadata": {},
   "source": [
    "### There it is even more obvious the log of the values has the extended tail to the left, and the 'totals' pushes to the right, this is more for me than for you, it helps if I can see what is going on.\n",
    "#### So now its time to look at this with a QQ plot"
   ]
  },
  {
   "cell_type": "code",
   "execution_count": 13,
   "metadata": {},
   "outputs": [
    {
     "data": {
      "image/png": "[encoded data removed]",
      "text/plain": [
       "<Figure size 432x288 with 1 Axes>"
      ]
     },
     "metadata": {},
     "output_type": "display_data"
    }
   ],
   "source": [
    "fig = sm.qqplot(x_log, scipy.stats.norm, loc=loc_log, scale=scale_log, line='q')\n",
    "plt.show()"
   ]
  },
  {
   "cell_type": "markdown",
   "metadata": {},
   "source": [
    "#### Indeed the data is not normal, but it is not bad either. What would happen if the the extreme records are excluded ?\n",
    "\n",
    "1. Exclude all values less than -1\n",
    "2. np.exp(-1) = 0.3678 or 37pcs of trash per 100/m of shoreline \n",
    "3. That is an acceptable value and the model can be modified where x >/= 0.3678 pcs/m\n",
    "4. So 1 piece of trash every two or three meters (that can be any object)"
   ]
  },
  {
   "cell_type": "code",
   "execution_count": 14,
   "metadata": {},
   "outputs": [
    {
     "data": {
      "text/plain": [
       "-0.5447271754416719"
      ]
     },
     "execution_count": 14,
     "metadata": {},
     "output_type": "execute_result"
    }
   ],
   "source": [
    "x_22 = x_log[x_log > -1]\n",
    "min(x_22)"
   ]
  },
  {
   "cell_type": "code",
   "execution_count": 15,
   "metadata": {},
   "outputs": [
    {
     "data": {
      "image/png": "[encoded data removed]",
      "text/plain": [
       "<Figure size 432x288 with 1 Axes>"
      ]
     },
     "metadata": {},
     "output_type": "display_data"
    }
   ],
   "source": [
    "x_22_loc = np.mean(x_22)\n",
    "x_22_scale = np.std(x_22)\n",
    "fig = sm.qqplot(x_22, scipy.stats.norm, loc=x_22_loc, scale=x_22_scale, line='q')\n",
    "plt.show()"
   ]
  },
  {
   "cell_type": "markdown",
   "metadata": {},
   "source": [
    "#### Suppose the top and bottom 5% are extreme values and do not relfect the reality on the ground\n",
    "\n",
    "1. This makes sense here (a few extreme values on the max side, and a few on the min side)\n",
    "2. Cut the dist off from the bottom 5% and top 5%\n",
    "3. This cuts out quite a few records(14) most of them from one location\n",
    "4. The records that have extreme values can be set asisde and see if they have common cahracteristics"
   ]
  },
  {
   "cell_type": "code",
   "execution_count": 16,
   "metadata": {},
   "outputs": [],
   "source": [
    "num_res = len(x_log)\n",
    "low_end = np.percentile(x_log, 5)\n",
    "top_end = np.percentile(x_log, 95)\n",
    "x_log_2 = x_log[(x_log > low_end) & (x_log < top_end)]\n",
    "x_log2_loc = np.mean(x_log_2)\n",
    "x_log2_scale = np.std(x_log_2)"
   ]
  },
  {
   "cell_type": "code",
   "execution_count": 17,
   "metadata": {},
   "outputs": [
    {
     "data": {
      "image/png": "[encoded data removed]",
      "text/plain": [
       "<Figure size 432x288 with 1 Axes>"
      ]
     },
     "metadata": {},
     "output_type": "display_data"
    }
   ],
   "source": [
    "fig = sm.qqplot(x_log_2, scipy.stats.norm, loc=x_log2_loc, scale=x_log2_scale, line='q')\n",
    "plt.show()"
   ]
  },
  {
   "cell_type": "markdown",
   "metadata": {},
   "source": [
    "### So that is what it looks for the two year data on Lac Léman, apply the same principles to the larger data set that combines the SLR and MCBP data.\n",
    "\n",
    "#### n=1009\n",
    "\n",
    "1. If Professor Davisons observations hold true then the effect should be the same\n",
    "2. There may even be a larger effect because the surveys on rivers have a lower average"
   ]
  },
  {
   "cell_type": "code",
   "execution_count": 18,
   "metadata": {},
   "outputs": [],
   "source": [
    "# get the data\n",
    "b = dfA.copy()\n",
    "b = dfA[['date','location_id','total']].copy()\n",
    "b['log'] = np.log(dfA['total'])"
   ]
  },
  {
   "cell_type": "code",
   "execution_count": 19,
   "metadata": {},
   "outputs": [
    {
     "data": {
      "image/png": "[encoded data removed]",
      "text/plain": [
       "<Figure size 432x288 with 1 Axes>"
      ]
     },
     "metadata": {},
     "output_type": "display_data"
    }
   ],
   "source": [
    "b_log_loc = np.mean(b['log'])\n",
    "b_log_scale = np.std(b['log'])\n",
    "fig = sm.qqplot(b['log'], scipy.stats.norm, loc=b_log_loc, scale=b_log_scale, line='q')\n",
    "plt.show()"
   ]
  },
  {
   "cell_type": "markdown",
   "metadata": {},
   "source": [
    "### Follow up questions:\n",
    "\n",
    "1. How do these results change the year over year comparison? (I don't think they do, but we will ask someone)\n",
    "2. Is there a better way to do this transform?\n",
    "\n",
    "#### Remarks:\n",
    "\n",
    "#### Thanks Prof Davison; this will go into the tool box for sure!\n",
    "#### Unless there is some mathematical proof that these results are not comparable year over year because of extreme values then we will stick with the assumption that as the number of samples increases the distribution of np.log(results) of beach litter surveys can be approximated by a normal distribution with mu* and sigma*----\n",
    "\n",
    "#### Things to do: Find the proof that this is not the correct course of action!"
   ]
  },
  {
   "cell_type": "code",
   "execution_count": null,
   "metadata": {},
   "outputs": [],
   "source": []
  }
 ],
 "metadata": {
  "kernelspec": {
   "display_name": "Python 3",
   "language": "python",
   "name": "python3"
  },
  "language_info": {
   "codemirror_mode": {
    "name": "ipython",
    "version": 3
   },
   "file_extension": ".py",
   "mimetype": "text/x-python",
   "name": "python",
   "nbconvert_exporter": "python",
   "pygments_lexer": "ipython3",
   "version": "3.6.5"
  }
 },
 "nbformat": 4,
 "nbformat_minor": 2
}
