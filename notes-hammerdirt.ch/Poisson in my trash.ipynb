{
 "cells": [
  {
   "cell_type": "markdown",
   "metadata": {},
   "source": [
    "### Using the Poisson process to predict litter survey results on Lac Léman\n",
    "#### Another bit of advice from Prof Davison was to use the Poisson process to answer the question:\n",
    "\n",
    "> What are the chances of finding X quantity of some object on the beach (during a survey)\n",
    "\n",
    "#### This is pretty important stuff in the sense that if this works then that means that the quantity of any specific item found per meter is random, which would make it difficult to predict or to estimate the efficiency of litter mitigation efforts over time.\n",
    "\n",
    "#### Huh, what did he just say? Our basic assumption is that you have less chance finding an object in nature if their is less of it in nature ---- if that doesn't make sense I am trading my keyboard in for a console and the coffee for a beer"
   ]
  },
  {
   "cell_type": "markdown",
   "metadata": {},
   "source": [
    "#### Load the libraries needed:"
   ]
  },
  {
   "cell_type": "code",
   "execution_count": 1,
   "metadata": {},
   "outputs": [
    {
     "data": {
      "text/plain": [
       "'/home/mw-shovel/web/notes/notes-hammerdirt.ch'"
      ]
     },
     "execution_count": 1,
     "metadata": {},
     "output_type": "execute_result"
    }
   ],
   "source": [
    "import pandas as pd\n",
    "import numpy as np\n",
    "import matplotlib\n",
    "import matplotlib.pyplot as plt\n",
    "import pickle\n",
    "import re\n",
    "import os\n",
    "from scipy.stats import norm\n",
    "import scipy.stats\n",
    "import statsmodels.api as sm #<----- this library has a bunch of tools to use on the poisson process\n",
    "here = os.getcwd()\n",
    "data = '/home/mw-shovel/web/notes/basel/data'\n",
    "here"
   ]
  },
  {
   "cell_type": "markdown",
   "metadata": {},
   "source": [
    "#### Get the data and any other 'objects' required"
   ]
  },
  {
   "cell_type": "code",
   "execution_count": 2,
   "metadata": {},
   "outputs": [],
   "source": [
    "# in the note book we pickle everything for storage\n",
    "# in the app we use json format, pickle is not secure for web apps (as far as I know)\n",
    "slr = pd.read_pickle(data + '/combined.p')\n",
    "mcb = pd.read_pickle(data + '/combined_mc.p')\n",
    "mcb_slr = pd.read_pickle(data + '/mcb_slr.p')\n",
    "g_all = pd.read_pickle(data + '/water_bodies_all.p')\n",
    "g = pd.read_pickle(data + '/water_bodies.p')\n",
    "codes = pd.read_pickle(data + '/codes.p')"
   ]
  },
  {
   "cell_type": "code",
   "execution_count": 3,
   "metadata": {},
   "outputs": [],
   "source": [
    "mcb_slr.reset_index(inplace=True)"
   ]
  },
  {
   "cell_type": "markdown",
   "metadata": {},
   "source": [
    "#### Run through the same checks and transformations as in the previous note book"
   ]
  },
  {
   "cell_type": "code",
   "execution_count": 4,
   "metadata": {},
   "outputs": [
    {
     "data": {
      "text/plain": [
       "index                            1\n",
       "code_id                        G27\n",
       "date           2017-04-02 00:00:00\n",
       "pcs_m                        0.429\n",
       "length                          28\n",
       "location_id     Aare_Bern_CaveltiN\n",
       "quantity                        12\n",
       "city                 Muri bei Bern\n",
       "latitude                   46.9236\n",
       "longitude                  7.47332\n",
       "post                          3074\n",
       "water                        river\n",
       "pop                          13187\n",
       "area                          7.63\n",
       "pop_dens                   1728.31\n",
       "day                              6\n",
       "Name: 1, dtype: object"
      ]
     },
     "execution_count": 4,
     "metadata": {},
     "output_type": "execute_result"
    }
   ],
   "source": [
    "# the records are stored as individual events per object type\n",
    "# for example one record from the data base looks like this\n",
    "mcb_slr.loc[1]"
   ]
  },
  {
   "cell_type": "code",
   "execution_count": 5,
   "metadata": {},
   "outputs": [],
   "source": [
    "#need to combine records by date and location\n",
    "\n",
    "dfA = mcb_slr.pivot_table('pcs_m', index=['date', 'day', 'water','city','location_id', 'length'], columns=['code_id'], fill_value=0)"
   ]
  },
  {
   "cell_type": "code",
   "execution_count": 6,
   "metadata": {},
   "outputs": [
    {
     "data": {
      "text/html": [
       "<div>\n",
       "<style scoped>\n",
       "    .dataframe tbody tr th:only-of-type {\n",
       "        vertical-align: middle;\n",
       "    }\n",
       "\n",
       "    .dataframe tbody tr th {\n",
       "        vertical-align: top;\n",
       "    }\n",
       "\n",
       "    .dataframe thead th {\n",
       "        text-align: right;\n",
       "    }\n",
       "</style>\n",
       "<table border=\"1\" class=\"dataframe\">\n",
       "  <thead>\n",
       "    <tr style=\"text-align: right;\">\n",
       "      <th></th>\n",
       "      <th></th>\n",
       "      <th></th>\n",
       "      <th></th>\n",
       "      <th></th>\n",
       "      <th>code_id</th>\n",
       "      <th>G1</th>\n",
       "      <th>G10</th>\n",
       "      <th>G100</th>\n",
       "      <th>G101</th>\n",
       "      <th>G102</th>\n",
       "      <th>G11</th>\n",
       "      <th>G12</th>\n",
       "      <th>G124</th>\n",
       "      <th>G125</th>\n",
       "      <th>G126</th>\n",
       "      <th>...</th>\n",
       "      <th>G89</th>\n",
       "      <th>G9</th>\n",
       "      <th>G90</th>\n",
       "      <th>G91</th>\n",
       "      <th>G92</th>\n",
       "      <th>G93</th>\n",
       "      <th>G95</th>\n",
       "      <th>G96</th>\n",
       "      <th>G97</th>\n",
       "      <th>G99</th>\n",
       "    </tr>\n",
       "    <tr>\n",
       "      <th>date</th>\n",
       "      <th>day</th>\n",
       "      <th>water</th>\n",
       "      <th>city</th>\n",
       "      <th>location_id</th>\n",
       "      <th>length</th>\n",
       "      <th></th>\n",
       "      <th></th>\n",
       "      <th></th>\n",
       "      <th></th>\n",
       "      <th></th>\n",
       "      <th></th>\n",
       "      <th></th>\n",
       "      <th></th>\n",
       "      <th></th>\n",
       "      <th></th>\n",
       "      <th></th>\n",
       "      <th></th>\n",
       "      <th></th>\n",
       "      <th></th>\n",
       "      <th></th>\n",
       "      <th></th>\n",
       "      <th></th>\n",
       "      <th></th>\n",
       "      <th></th>\n",
       "      <th></th>\n",
       "      <th></th>\n",
       "    </tr>\n",
       "  </thead>\n",
       "  <tbody>\n",
       "    <tr>\n",
       "      <th>2015-11-23</th>\n",
       "      <th>0</th>\n",
       "      <th>lake</th>\n",
       "      <th>Montreux</th>\n",
       "      <th>Baye de Montreux - G</th>\n",
       "      <th>61.0</th>\n",
       "      <td>0.0</td>\n",
       "      <td>0.0</td>\n",
       "      <td>0.016393</td>\n",
       "      <td>0.0</td>\n",
       "      <td>0.0</td>\n",
       "      <td>0.016393</td>\n",
       "      <td>0.0</td>\n",
       "      <td>0.016393</td>\n",
       "      <td>0.0</td>\n",
       "      <td>0.016393</td>\n",
       "      <td>...</td>\n",
       "      <td>0.065574</td>\n",
       "      <td>0.0</td>\n",
       "      <td>0.0</td>\n",
       "      <td>0.0</td>\n",
       "      <td>0.0</td>\n",
       "      <td>0.0</td>\n",
       "      <td>0.147541</td>\n",
       "      <td>0.0</td>\n",
       "      <td>0.0</td>\n",
       "      <td>0.0</td>\n",
       "    </tr>\n",
       "  </tbody>\n",
       "</table>\n",
       "<p>1 rows × 120 columns</p>\n",
       "</div>"
      ],
      "text/plain": [
       "code_id                                                     G1  G10      G100  \\\n",
       "date       day water city     location_id          length                       \n",
       "2015-11-23 0   lake  Montreux Baye de Montreux - G 61.0    0.0  0.0  0.016393   \n",
       "\n",
       "code_id                                                    G101  G102  \\\n",
       "date       day water city     location_id          length               \n",
       "2015-11-23 0   lake  Montreux Baye de Montreux - G 61.0     0.0   0.0   \n",
       "\n",
       "code_id                                                         G11  G12  \\\n",
       "date       day water city     location_id          length                  \n",
       "2015-11-23 0   lake  Montreux Baye de Montreux - G 61.0    0.016393  0.0   \n",
       "\n",
       "code_id                                                        G124  G125  \\\n",
       "date       day water city     location_id          length                   \n",
       "2015-11-23 0   lake  Montreux Baye de Montreux - G 61.0    0.016393   0.0   \n",
       "\n",
       "code_id                                                        G126 ...   \\\n",
       "date       day water city     location_id          length           ...    \n",
       "2015-11-23 0   lake  Montreux Baye de Montreux - G 61.0    0.016393 ...    \n",
       "\n",
       "code_id                                                         G89   G9  G90  \\\n",
       "date       day water city     location_id          length                       \n",
       "2015-11-23 0   lake  Montreux Baye de Montreux - G 61.0    0.065574  0.0  0.0   \n",
       "\n",
       "code_id                                                    G91  G92  G93  \\\n",
       "date       day water city     location_id          length                  \n",
       "2015-11-23 0   lake  Montreux Baye de Montreux - G 61.0    0.0  0.0  0.0   \n",
       "\n",
       "code_id                                                         G95  G96  G97  \\\n",
       "date       day water city     location_id          length                       \n",
       "2015-11-23 0   lake  Montreux Baye de Montreux - G 61.0    0.147541  0.0  0.0   \n",
       "\n",
       "code_id                                                    G99  \n",
       "date       day water city     location_id          length       \n",
       "2015-11-23 0   lake  Montreux Baye de Montreux - G 61.0    0.0  \n",
       "\n",
       "[1 rows x 120 columns]"
      ]
     },
     "execution_count": 6,
     "metadata": {},
     "output_type": "execute_result"
    }
   ],
   "source": [
    "# now all the records that have the same 'date', 'day', 'city' and 'location_id' are grouped together\n",
    "# in other words all the results from one beach-litter inventory\n",
    "dfA[:1]"
   ]
  },
  {
   "cell_type": "code",
   "execution_count": 7,
   "metadata": {},
   "outputs": [],
   "source": [
    "# add up all the columns (those with a 'G' label)\n",
    "dfA['total'] = dfA[dfA.columns].sum(axis=1)"
   ]
  },
  {
   "cell_type": "code",
   "execution_count": 8,
   "metadata": {},
   "outputs": [
    {
     "data": {
      "text/plain": [
       "date        day  water  city      location_id           length\n",
       "2015-11-23  0    lake   Montreux  Baye de Montreux - G  61.0      5.721311\n",
       "2015-11-24  1    lake   Montreux  Baye de Clarens       69.0      1.695652\n",
       "2015-11-27  4    lake   Vevey     Veveyse               53.0      4.075472\n",
       "2015-12-01  1    lake   Vevey     Veveyse               53.0      0.981132\n",
       "2015-12-02  2    lake   Montreux  Baye de Clarens       69.0      0.681159\n",
       "2015-12-04  4    lake   Montreux  Baye de Montreux - D  61.0      6.918033\n",
       "                                  Baye de Montreux - G  61.0      8.377049\n",
       "2015-12-07  0    lake   Vevey     Veveyse               53.0      3.641509\n",
       "2015-12-08  1    lake   Montreux  Baye de Clarens       69.0      3.391304\n",
       "2015-12-10  3    lake   Montreux  Baye de Montreux - D  61.0      9.655738\n",
       "Name: total, dtype: float64"
      ]
     },
     "execution_count": 8,
     "metadata": {},
     "output_type": "execute_result"
    }
   ],
   "source": [
    "# get the first 10 records for Lac Leman\n",
    "idx = pd.IndexSlice\n",
    "dfA.loc[idx[:, :, :, :, g_all['Lac Léman']], 'total'][:10]\n",
    "# this looks good"
   ]
  },
  {
   "cell_type": "code",
   "execution_count": 9,
   "metadata": {},
   "outputs": [],
   "source": [
    "dfA.reset_index(inplace=True)"
   ]
  },
  {
   "cell_type": "markdown",
   "metadata": {},
   "source": [
    "#### Get down to just what is needed"
   ]
  },
  {
   "cell_type": "code",
   "execution_count": 10,
   "metadata": {},
   "outputs": [
    {
     "data": {
      "text/html": [
       "<div>\n",
       "<style scoped>\n",
       "    .dataframe tbody tr th:only-of-type {\n",
       "        vertical-align: middle;\n",
       "    }\n",
       "\n",
       "    .dataframe tbody tr th {\n",
       "        vertical-align: top;\n",
       "    }\n",
       "\n",
       "    .dataframe thead th {\n",
       "        text-align: right;\n",
       "    }\n",
       "</style>\n",
       "<table border=\"1\" class=\"dataframe\">\n",
       "  <thead>\n",
       "    <tr style=\"text-align: right;\">\n",
       "      <th>code_id</th>\n",
       "      <th>date</th>\n",
       "      <th>day</th>\n",
       "      <th>water</th>\n",
       "      <th>city</th>\n",
       "      <th>location_id</th>\n",
       "      <th>length</th>\n",
       "      <th>G1</th>\n",
       "      <th>G10</th>\n",
       "      <th>G100</th>\n",
       "      <th>G101</th>\n",
       "      <th>...</th>\n",
       "      <th>G9</th>\n",
       "      <th>G90</th>\n",
       "      <th>G91</th>\n",
       "      <th>G92</th>\n",
       "      <th>G93</th>\n",
       "      <th>G95</th>\n",
       "      <th>G96</th>\n",
       "      <th>G97</th>\n",
       "      <th>G99</th>\n",
       "      <th>total</th>\n",
       "    </tr>\n",
       "  </thead>\n",
       "  <tbody>\n",
       "    <tr>\n",
       "      <th>0</th>\n",
       "      <td>2015-11-23</td>\n",
       "      <td>0</td>\n",
       "      <td>lake</td>\n",
       "      <td>Montreux</td>\n",
       "      <td>Baye de Montreux - G</td>\n",
       "      <td>61.0</td>\n",
       "      <td>0.0</td>\n",
       "      <td>0.0</td>\n",
       "      <td>0.016393</td>\n",
       "      <td>0.000000</td>\n",
       "      <td>...</td>\n",
       "      <td>0.0</td>\n",
       "      <td>0.0</td>\n",
       "      <td>0.0</td>\n",
       "      <td>0.0</td>\n",
       "      <td>0.0</td>\n",
       "      <td>0.147541</td>\n",
       "      <td>0.0</td>\n",
       "      <td>0.0</td>\n",
       "      <td>0.0</td>\n",
       "      <td>5.721311</td>\n",
       "    </tr>\n",
       "    <tr>\n",
       "      <th>1</th>\n",
       "      <td>2015-11-24</td>\n",
       "      <td>1</td>\n",
       "      <td>lake</td>\n",
       "      <td>Montreux</td>\n",
       "      <td>Baye de Clarens</td>\n",
       "      <td>69.0</td>\n",
       "      <td>0.0</td>\n",
       "      <td>0.0</td>\n",
       "      <td>0.000000</td>\n",
       "      <td>0.014493</td>\n",
       "      <td>...</td>\n",
       "      <td>0.0</td>\n",
       "      <td>0.0</td>\n",
       "      <td>0.0</td>\n",
       "      <td>0.0</td>\n",
       "      <td>0.0</td>\n",
       "      <td>0.014493</td>\n",
       "      <td>0.0</td>\n",
       "      <td>0.0</td>\n",
       "      <td>0.0</td>\n",
       "      <td>1.695652</td>\n",
       "    </tr>\n",
       "    <tr>\n",
       "      <th>2</th>\n",
       "      <td>2015-11-27</td>\n",
       "      <td>4</td>\n",
       "      <td>lake</td>\n",
       "      <td>Vevey</td>\n",
       "      <td>Veveyse</td>\n",
       "      <td>53.0</td>\n",
       "      <td>0.0</td>\n",
       "      <td>0.0</td>\n",
       "      <td>0.018868</td>\n",
       "      <td>0.018868</td>\n",
       "      <td>...</td>\n",
       "      <td>0.0</td>\n",
       "      <td>0.0</td>\n",
       "      <td>0.0</td>\n",
       "      <td>0.0</td>\n",
       "      <td>0.0</td>\n",
       "      <td>0.018868</td>\n",
       "      <td>0.0</td>\n",
       "      <td>0.0</td>\n",
       "      <td>0.0</td>\n",
       "      <td>4.075472</td>\n",
       "    </tr>\n",
       "    <tr>\n",
       "      <th>3</th>\n",
       "      <td>2015-12-01</td>\n",
       "      <td>1</td>\n",
       "      <td>lake</td>\n",
       "      <td>Vevey</td>\n",
       "      <td>Veveyse</td>\n",
       "      <td>53.0</td>\n",
       "      <td>0.0</td>\n",
       "      <td>0.0</td>\n",
       "      <td>0.000000</td>\n",
       "      <td>0.000000</td>\n",
       "      <td>...</td>\n",
       "      <td>0.0</td>\n",
       "      <td>0.0</td>\n",
       "      <td>0.0</td>\n",
       "      <td>0.0</td>\n",
       "      <td>0.0</td>\n",
       "      <td>0.000000</td>\n",
       "      <td>0.0</td>\n",
       "      <td>0.0</td>\n",
       "      <td>0.0</td>\n",
       "      <td>0.981132</td>\n",
       "    </tr>\n",
       "    <tr>\n",
       "      <th>4</th>\n",
       "      <td>2015-12-02</td>\n",
       "      <td>2</td>\n",
       "      <td>lake</td>\n",
       "      <td>Montreux</td>\n",
       "      <td>Baye de Clarens</td>\n",
       "      <td>69.0</td>\n",
       "      <td>0.0</td>\n",
       "      <td>0.0</td>\n",
       "      <td>0.014493</td>\n",
       "      <td>0.000000</td>\n",
       "      <td>...</td>\n",
       "      <td>0.0</td>\n",
       "      <td>0.0</td>\n",
       "      <td>0.0</td>\n",
       "      <td>0.0</td>\n",
       "      <td>0.0</td>\n",
       "      <td>0.000000</td>\n",
       "      <td>0.0</td>\n",
       "      <td>0.0</td>\n",
       "      <td>0.0</td>\n",
       "      <td>0.681159</td>\n",
       "    </tr>\n",
       "  </tbody>\n",
       "</table>\n",
       "<p>5 rows × 127 columns</p>\n",
       "</div>"
      ],
      "text/plain": [
       "code_id       date  day water      city           location_id  length   G1  \\\n",
       "0       2015-11-23    0  lake  Montreux  Baye de Montreux - G    61.0  0.0   \n",
       "1       2015-11-24    1  lake  Montreux       Baye de Clarens    69.0  0.0   \n",
       "2       2015-11-27    4  lake     Vevey               Veveyse    53.0  0.0   \n",
       "3       2015-12-01    1  lake     Vevey               Veveyse    53.0  0.0   \n",
       "4       2015-12-02    2  lake  Montreux       Baye de Clarens    69.0  0.0   \n",
       "\n",
       "code_id  G10      G100      G101    ...      G9  G90  G91  G92  G93       G95  \\\n",
       "0        0.0  0.016393  0.000000    ...     0.0  0.0  0.0  0.0  0.0  0.147541   \n",
       "1        0.0  0.000000  0.014493    ...     0.0  0.0  0.0  0.0  0.0  0.014493   \n",
       "2        0.0  0.018868  0.018868    ...     0.0  0.0  0.0  0.0  0.0  0.018868   \n",
       "3        0.0  0.000000  0.000000    ...     0.0  0.0  0.0  0.0  0.0  0.000000   \n",
       "4        0.0  0.014493  0.000000    ...     0.0  0.0  0.0  0.0  0.0  0.000000   \n",
       "\n",
       "code_id  G96  G97  G99     total  \n",
       "0        0.0  0.0  0.0  5.721311  \n",
       "1        0.0  0.0  0.0  1.695652  \n",
       "2        0.0  0.0  0.0  4.075472  \n",
       "3        0.0  0.0  0.0  0.981132  \n",
       "4        0.0  0.0  0.0  0.681159  \n",
       "\n",
       "[5 rows x 127 columns]"
      ]
     },
     "execution_count": 10,
     "metadata": {},
     "output_type": "execute_result"
    }
   ],
   "source": [
    "a = dfA.loc[dfA.location_id.isin(g_all['Lac Léman'])].copy()\n",
    "# just to make sure its all good:\n",
    "a[:5]\n",
    "# its all good"
   ]
  },
  {
   "cell_type": "markdown",
   "metadata": {},
   "source": [
    "### Should explain here how the Poisson distribution works --- is it process or distribution? Sort that out first.  \n",
    "\n",
    "1. Poisson process: A non deterministic process where events occur continuosly and independent of each other.  This sounds like trash data.\n",
    "2. Poisson distribution: A discrete probability distribution that represents the probability of events (that have a Poisson process) occuring in a certain space (time, distance)\n",
    "3. Poisson distributions arises from situtations in whuch there is a large number of opportunitie for the event to occur, but a small chance that it will occur on any one trial.---- This maybe a non-starter\n",
    "\n",
    "#### How did we get here? I asked if we could look at each record as an EVENT in a series of Bernouli trials --- thus using a Bernouli distribution to determine the probability of finding an item.  Turns out the Poisson distribution the sum of independent Bernouli trials.  ---- Doh! I was so close"
   ]
  },
  {
   "cell_type": "code",
   "execution_count": 11,
   "metadata": {},
   "outputs": [],
   "source": [
    "# I know that says what it is not how it works\n",
    "# there are some conditions that need to be met, they can all be found in the data or computed:\n",
    "# 1) Events can be counted in whole numbers --- in the data above an event is one meter (pieces of garbage/meter)\n",
    "# 2) Occurences are independent --- each piece of trash arrived there on its own\n",
    "#    that is to say that me throwing my garbage in the lake does not influence your decision to throw\n",
    "#    garbage in the lake -- (the broken window effect not included)\n",
    "# 3) The average frequency of occurence for the period is known (avg pieces/meter)\n",
    "# 4) It is possible to count how many events have occured"
   ]
  },
  {
   "cell_type": "code",
   "execution_count": 12,
   "metadata": {},
   "outputs": [],
   "source": [
    "# try this out for one item category\n",
    "# r is the average occurence\n",
    "# k is the number of occurences for which we want to know the probaility\n",
    "import math\n",
    "def make_fish(k, r):\n",
    "    # p(k) = r*k/(k!)(e*r)\n",
    "    a = r**k\n",
    "    b = math.factorial(k)\n",
    "    e = math.exp(1)**r\n",
    "    \n",
    "    c = b*e\n",
    "    d = a/c\n",
    "    return d\n"
   ]
  },
  {
   "cell_type": "code",
   "execution_count": 13,
   "metadata": {},
   "outputs": [
    {
     "data": {
      "text/plain": [
       "0.3211248652886724"
      ]
     },
     "execution_count": 13,
     "metadata": {},
     "output_type": "execute_result"
    }
   ],
   "source": [
    "code_avg = a['G95'].mean()#<---- actual average pieces per meter\n",
    "trials = len(a)#<---- this the number of trials\n",
    "p_g95 = make_fish(1, code_avg)#<------ Run the function and see what the probability of getting one piece per meter is\n",
    "p_g95#<----- this output is very close to what you would expect ot find on the poisson table for p(1) and r or l = 0.5"
   ]
  },
  {
   "cell_type": "code",
   "execution_count": 14,
   "metadata": {},
   "outputs": [
    {
     "data": {
      "text/plain": [
       "44.95748114041414"
      ]
     },
     "execution_count": 14,
     "metadata": {},
     "output_type": "execute_result"
    }
   ],
   "source": [
    "p_of_one = trials * p_g95 #<---- multiply the proablity by the number of events\n",
    "p_of_one"
   ]
  },
  {
   "cell_type": "code",
   "execution_count": 15,
   "metadata": {},
   "outputs": [
    {
     "data": {
      "text/plain": [
       "26"
      ]
     },
     "execution_count": 15,
     "metadata": {},
     "output_type": "execute_result"
    }
   ],
   "source": [
    "a.loc[(a.G95 > 0.49) & (a.G95 < 1.5), 'G95'].count() #<------- actual number of events around 1"
   ]
  },
  {
   "cell_type": "markdown",
   "metadata": {},
   "source": [
    "### This is not looking random, the actual number of times that the result was around 'one' is 26.\n",
    "\n",
    "#### Either this being set up wrong or the results are not random.  Try one more thing:\n",
    "\n",
    "1. Instead of doing all the locations on the lake do just one location\n"
   ]
  },
  {
   "cell_type": "code",
   "execution_count": 16,
   "metadata": {},
   "outputs": [],
   "source": [
    "b = dfA.loc[dfA.location_id == 'Veveyse'].copy() #<---- selecting just veveyse"
   ]
  },
  {
   "cell_type": "code",
   "execution_count": 26,
   "metadata": {},
   "outputs": [],
   "source": [
    "b1 = b[['G95', 'length']].copy()\n",
    "b1['q'] = b1['G95']*b1['length']"
   ]
  },
  {
   "cell_type": "code",
   "execution_count": 35,
   "metadata": {
    "scrolled": true
   },
   "outputs": [
    {
     "data": {
      "text/html": [
       "<div>\n",
       "<style scoped>\n",
       "    .dataframe tbody tr th:only-of-type {\n",
       "        vertical-align: middle;\n",
       "    }\n",
       "\n",
       "    .dataframe tbody tr th {\n",
       "        vertical-align: top;\n",
       "    }\n",
       "\n",
       "    .dataframe thead th {\n",
       "        text-align: right;\n",
       "    }\n",
       "</style>\n",
       "<table border=\"1\" class=\"dataframe\">\n",
       "  <thead>\n",
       "    <tr style=\"text-align: right;\">\n",
       "      <th>code_id</th>\n",
       "      <th>G95</th>\n",
       "      <th>length</th>\n",
       "      <th>q</th>\n",
       "    </tr>\n",
       "  </thead>\n",
       "  <tbody>\n",
       "    <tr>\n",
       "      <th>2</th>\n",
       "      <td>0.018868</td>\n",
       "      <td>53.0</td>\n",
       "      <td>1.0</td>\n",
       "    </tr>\n",
       "    <tr>\n",
       "      <th>3</th>\n",
       "      <td>0.000000</td>\n",
       "      <td>53.0</td>\n",
       "      <td>0.0</td>\n",
       "    </tr>\n",
       "    <tr>\n",
       "      <th>7</th>\n",
       "      <td>0.037736</td>\n",
       "      <td>53.0</td>\n",
       "      <td>2.0</td>\n",
       "    </tr>\n",
       "    <tr>\n",
       "      <th>11</th>\n",
       "      <td>0.018868</td>\n",
       "      <td>53.0</td>\n",
       "      <td>1.0</td>\n",
       "    </tr>\n",
       "    <tr>\n",
       "      <th>18</th>\n",
       "      <td>0.037736</td>\n",
       "      <td>53.0</td>\n",
       "      <td>2.0</td>\n",
       "    </tr>\n",
       "    <tr>\n",
       "      <th>21</th>\n",
       "      <td>0.094340</td>\n",
       "      <td>53.0</td>\n",
       "      <td>5.0</td>\n",
       "    </tr>\n",
       "    <tr>\n",
       "      <th>24</th>\n",
       "      <td>0.207547</td>\n",
       "      <td>53.0</td>\n",
       "      <td>11.0</td>\n",
       "    </tr>\n",
       "    <tr>\n",
       "      <th>27</th>\n",
       "      <td>0.018868</td>\n",
       "      <td>53.0</td>\n",
       "      <td>1.0</td>\n",
       "    </tr>\n",
       "    <tr>\n",
       "      <th>31</th>\n",
       "      <td>0.075472</td>\n",
       "      <td>53.0</td>\n",
       "      <td>4.0</td>\n",
       "    </tr>\n",
       "    <tr>\n",
       "      <th>40</th>\n",
       "      <td>0.037736</td>\n",
       "      <td>53.0</td>\n",
       "      <td>2.0</td>\n",
       "    </tr>\n",
       "    <tr>\n",
       "      <th>45</th>\n",
       "      <td>0.018868</td>\n",
       "      <td>53.0</td>\n",
       "      <td>1.0</td>\n",
       "    </tr>\n",
       "    <tr>\n",
       "      <th>50</th>\n",
       "      <td>0.113208</td>\n",
       "      <td>53.0</td>\n",
       "      <td>6.0</td>\n",
       "    </tr>\n",
       "    <tr>\n",
       "      <th>68</th>\n",
       "      <td>0.188679</td>\n",
       "      <td>53.0</td>\n",
       "      <td>10.0</td>\n",
       "    </tr>\n",
       "    <tr>\n",
       "      <th>82</th>\n",
       "      <td>0.080645</td>\n",
       "      <td>62.0</td>\n",
       "      <td>5.0</td>\n",
       "    </tr>\n",
       "    <tr>\n",
       "      <th>85</th>\n",
       "      <td>0.957447</td>\n",
       "      <td>47.0</td>\n",
       "      <td>45.0</td>\n",
       "    </tr>\n",
       "    <tr>\n",
       "      <th>86</th>\n",
       "      <td>0.234043</td>\n",
       "      <td>47.0</td>\n",
       "      <td>11.0</td>\n",
       "    </tr>\n",
       "    <tr>\n",
       "      <th>90</th>\n",
       "      <td>1.000000</td>\n",
       "      <td>43.0</td>\n",
       "      <td>43.0</td>\n",
       "    </tr>\n",
       "  </tbody>\n",
       "</table>\n",
       "</div>"
      ],
      "text/plain": [
       "code_id       G95  length     q\n",
       "2        0.018868    53.0   1.0\n",
       "3        0.000000    53.0   0.0\n",
       "7        0.037736    53.0   2.0\n",
       "11       0.018868    53.0   1.0\n",
       "18       0.037736    53.0   2.0\n",
       "21       0.094340    53.0   5.0\n",
       "24       0.207547    53.0  11.0\n",
       "27       0.018868    53.0   1.0\n",
       "31       0.075472    53.0   4.0\n",
       "40       0.037736    53.0   2.0\n",
       "45       0.018868    53.0   1.0\n",
       "50       0.113208    53.0   6.0\n",
       "68       0.188679    53.0  10.0\n",
       "82       0.080645    62.0   5.0\n",
       "85       0.957447    47.0  45.0\n",
       "86       0.234043    47.0  11.0\n",
       "90       1.000000    43.0  43.0"
      ]
     },
     "execution_count": 35,
     "metadata": {},
     "output_type": "execute_result"
    }
   ],
   "source": [
    "b1"
   ]
  },
  {
   "cell_type": "code",
   "execution_count": 46,
   "metadata": {},
   "outputs": [
    {
     "data": {
      "text/plain": [
       "13"
      ]
     },
     "execution_count": 46,
     "metadata": {},
     "output_type": "execute_result"
    }
   ],
   "source": [
    "len(b1.loc[b1.length == 53])"
   ]
  },
  {
   "cell_type": "code",
   "execution_count": 80,
   "metadata": {},
   "outputs": [],
   "source": [
    "def make_fishes(df, k, code):\n",
    "    # p(k) = r*k/(k!)(e*r)\n",
    "    r =  df.loc[df.length == 53, code].mean()\n",
    "    a = r**k\n",
    "    b = math.factorial(k)\n",
    "    e = math.exp(1)**(-r)\n",
    "    c = b*e\n",
    "    d = (a*e)/b\n",
    "    f = df.loc[(df['length'] == 53) & (df[code] == 1)][code].count()\n",
    "    g = d*17\n",
    "    #print(df.loc[(df[code] > .1) & (df[code] < 1.5), code])\n",
    "    return d, r, g, f"
   ]
  },
  {
   "cell_type": "code",
   "execution_count": 81,
   "metadata": {},
   "outputs": [
    {
     "data": {
      "text/plain": [
       "(0.1028206059119018, 3.5384615384615383, 1.7479503005023307, 4)"
      ]
     },
     "execution_count": 81,
     "metadata": {},
     "output_type": "execute_result"
    }
   ],
   "source": [
    "make_fishes(b1, 1, 'q')"
   ]
  },
  {
   "cell_type": "code",
   "execution_count": 73,
   "metadata": {},
   "outputs": [
    {
     "data": {
      "text/plain": [
       "4"
      ]
     },
     "execution_count": 73,
     "metadata": {},
     "output_type": "execute_result"
    }
   ],
   "source": [
    "b1.loc[(b1.length == 53) & (b1.q == 1)]['q'].count()"
   ]
  },
  {
   "cell_type": "code",
   "execution_count": 82,
   "metadata": {},
   "outputs": [
    {
     "data": {
      "text/plain": [
       "0.3076923076923077"
      ]
     },
     "execution_count": 82,
     "metadata": {},
     "output_type": "execute_result"
    }
   ],
   "source": [
    "4/13"
   ]
  },
  {
   "cell_type": "code",
   "execution_count": 28,
   "metadata": {},
   "outputs": [],
   "source": [
    "def get_fishes(length, code):\n",
    "    for c in code:\n",
    "        b_l = b1.loc[b.length == length].copy()\n",
    "        d, e, r, f = make_fishes(b_l, 1, c, length)\n",
    "        print('the code is ' + str(c) + ' this ' + str(e) + ' should be close to the actual result: ' + str(f) + '\\n')\n",
    "        "
   ]
  },
  {
   "cell_type": "code",
   "execution_count": 29,
   "metadata": {},
   "outputs": [
    {
     "name": "stdout",
     "output_type": "stream",
     "text": [
      "2     1.0\n",
      "11    1.0\n",
      "27    1.0\n",
      "45    1.0\n",
      "Name: q, dtype: float64\n",
      "the code is q this 6453.936224657875 should be close to the actual result: 4\n",
      "\n"
     ]
    }
   ],
   "source": [
    "get_fishes(53, ['q'])\n",
    "# the output is like this:\n",
    "# 1 -- matching output from the data (if any) --- Series([]) means there was no occurences in the data\n",
    "# 2 -- the series indentifier \"Name: G95, dtype: float64\"\n",
    "# 3 -- the code is G95 this {calculated result} should be close to the actual result: {actual result}"
   ]
  },
  {
   "cell_type": "markdown",
   "metadata": {},
   "source": [
    "### The resluts are mixed, indicating that some of these objects are truly random occurences and others not so much? -- maybe\n",
    "\n",
    "#### This will take a little more investigation"
   ]
  },
  {
   "cell_type": "code",
   "execution_count": 20,
   "metadata": {},
   "outputs": [
    {
     "ename": "SyntaxError",
     "evalue": "unexpected EOF while parsing (<ipython-input-20-49d10052f4e5>, line 4)",
     "output_type": "error",
     "traceback": [
      "\u001b[0;36m  File \u001b[0;32m\"<ipython-input-20-49d10052f4e5>\"\u001b[0;36m, line \u001b[0;32m4\u001b[0m\n\u001b[0;31m    \u001b[0m\n\u001b[0m    ^\u001b[0m\n\u001b[0;31mSyntaxError\u001b[0m\u001b[0;31m:\u001b[0m unexpected EOF while parsing\n"
     ]
    }
   ],
   "source": [
    "def find_it():\n",
    "    for i in codes:\n",
    "         for key, value in i.items():\n",
    "                "
   ]
  },
  {
   "cell_type": "code",
   "execution_count": null,
   "metadata": {},
   "outputs": [],
   "source": []
  }
 ],
 "metadata": {
  "kernelspec": {
   "display_name": "Python 3",
   "language": "python",
   "name": "python3"
  },
  "language_info": {
   "codemirror_mode": {
    "name": "ipython",
    "version": 3
   },
   "file_extension": ".py",
   "mimetype": "text/x-python",
   "name": "python",
   "nbconvert_exporter": "python",
   "pygments_lexer": "ipython3",
   "version": "3.6.5"
  }
 },
 "nbformat": 4,
 "nbformat_minor": 2
}
