{
 "cells": [
  {
   "cell_type": "code",
   "execution_count": 1,
   "metadata": {},
   "outputs": [],
   "source": [
    "import pandas as pd\n",
    "import numpy as np\n",
    "import matplotlib\n",
    "import matplotlib.pyplot as plt\n",
    "import pickle\n",
    "import re\n",
    "import os\n",
    "from scipy.stats import norm\n",
    "import scipy.stats"
   ]
  },
  {
   "cell_type": "code",
   "execution_count": 2,
   "metadata": {},
   "outputs": [],
   "source": [
    "here = os.getcwd()\n",
    "data = here + '/data'"
   ]
  },
  {
   "cell_type": "code",
   "execution_count": 3,
   "metadata": {},
   "outputs": [],
   "source": [
    "# Get the treated data from project manager"
   ]
  },
  {
   "cell_type": "code",
   "execution_count": 4,
   "metadata": {},
   "outputs": [],
   "source": [
    "a = pd.read_csv(data + '/rc.csv', header=0,)"
   ]
  },
  {
   "cell_type": "code",
   "execution_count": 5,
   "metadata": {},
   "outputs": [],
   "source": [
    "# Get the existing location information\n",
    "# this includes city, post code, river or lake etc...\n",
    "# retrieved from current db for app\n",
    "# or in the case of hdrc do ti by hand"
   ]
  },
  {
   "cell_type": "code",
   "execution_count": 6,
   "metadata": {},
   "outputs": [],
   "source": [
    "c_creek = {'location':'cordova_creek',\n",
    "           'latitude':-121.317421,\n",
    "           'longitude':38.601989,\n",
    "           'city':'Rancho Cordova',\n",
    "           'post':95670,\n",
    "           'water':'river',\n",
    "           'project':'hdc'}"
   ]
  },
  {
   "cell_type": "code",
   "execution_count": 7,
   "metadata": {},
   "outputs": [],
   "source": [
    "# get the codes\n",
    "codes = pickle.load( open(data + '/codes.p',\"rb\" ) )"
   ]
  },
  {
   "cell_type": "code",
   "execution_count": 8,
   "metadata": {},
   "outputs": [],
   "source": [
    "# compare the location names\n",
    "# see if there were any added by the pm since the last upload"
   ]
  },
  {
   "cell_type": "code",
   "execution_count": 9,
   "metadata": {},
   "outputs": [
    {
     "data": {
      "text/plain": [
       "Cordova Creek       56\n",
       "Cordova Creek II     1\n",
       "Antelope             1\n",
       "Arcade Creek         1\n",
       "Name: Location, dtype: int64"
      ]
     },
     "execution_count": 9,
     "metadata": {},
     "output_type": "execute_result"
    }
   ],
   "source": [
    "a['Location'].value_counts()"
   ]
  },
  {
   "cell_type": "code",
   "execution_count": 10,
   "metadata": {},
   "outputs": [],
   "source": [
    "# okay there were some additions so we need to construct those dicts\n",
    "arcade = {'location':'arcade_creek',\n",
    "           'latitude':-121.337193,\n",
    "           'longitude':38.656328,\n",
    "           'city':'Sacramento',\n",
    "           'post':95864,\n",
    "           'water':'river',\n",
    "           'project':'hdc'}"
   ]
  },
  {
   "cell_type": "code",
   "execution_count": 11,
   "metadata": {},
   "outputs": [],
   "source": [
    "# okay there were some additions so we need to construct those dicts\n",
    "antelope = {'location':'antelope',\n",
    "           'latitude':-121.366282,\n",
    "           'longitude':38.713709,\n",
    "           'city':'Sacramento',\n",
    "           'post':95864,\n",
    "           'water':'river',\n",
    "           'project':'hdc'}"
   ]
  },
  {
   "cell_type": "code",
   "execution_count": 12,
   "metadata": {},
   "outputs": [],
   "source": [
    "c_creek2 = {'location':'cordova_creek2',\n",
    "           'latitude':-121.309888,\n",
    "           'longitude':38.606566,\n",
    "           'city':'Rancho Cordova',\n",
    "           'post':95670,\n",
    "           'water':'river',\n",
    "           'project':'hdc'}"
   ]
  },
  {
   "cell_type": "code",
   "execution_count": 13,
   "metadata": {},
   "outputs": [],
   "source": [
    "# hdrc will have its own datatables\n",
    "# so get this in csv format so it can be uploaded to the database\n",
    "loc_list = [c_creek2, antelope, arcade, c_creek]\n",
    "locs = pd.DataFrame(loc_list)\n",
    "locs.set_index('location', inplace=True)\n",
    "locs.to_csv(data + '/hdrc_beaches.csv')"
   ]
  },
  {
   "cell_type": "code",
   "execution_count": 14,
   "metadata": {},
   "outputs": [],
   "source": [
    "# okay now reduce the slr_final data to what we need\n",
    "# take a look at the columns\n",
    "a_cs = a.columns"
   ]
  },
  {
   "cell_type": "code",
   "execution_count": 15,
   "metadata": {},
   "outputs": [
    {
     "data": {
      "text/plain": [
       "Index(['Location', 'Date', 'length', 'G1', 'G10', 'G100', 'G101', 'G102',\n",
       "       'G11', 'G12', 'G124', 'G125', 'G126', 'G128', 'G13', 'G130', 'G131',\n",
       "       'G139', 'G14', 'G140'],\n",
       "      dtype='object')"
      ]
     },
     "execution_count": 15,
     "metadata": {},
     "output_type": "execute_result"
    }
   ],
   "source": [
    "a_cs[:20]"
   ]
  },
  {
   "cell_type": "code",
   "execution_count": 16,
   "metadata": {},
   "outputs": [],
   "source": [
    "a.rename(columns={'Location':'location', 'Date':'date', 'Total':'quantity'}, inplace=True)"
   ]
  },
  {
   "cell_type": "code",
   "execution_count": 17,
   "metadata": {},
   "outputs": [
    {
     "data": {
      "text/plain": [
       "str"
      ]
     },
     "execution_count": 17,
     "metadata": {},
     "output_type": "execute_result"
    }
   ],
   "source": [
    "# check the date format\n",
    "type(a['date'][1])"
   ]
  },
  {
   "cell_type": "code",
   "execution_count": 18,
   "metadata": {},
   "outputs": [
    {
     "data": {
      "text/plain": [
       "0    2017-05-17\n",
       "Name: date, dtype: object"
      ]
     },
     "execution_count": 18,
     "metadata": {},
     "output_type": "execute_result"
    }
   ],
   "source": [
    "# take a look\n",
    "a['date'][:1]"
   ]
  },
  {
   "cell_type": "code",
   "execution_count": 19,
   "metadata": {},
   "outputs": [
    {
     "data": {
      "text/plain": [
       "0   2017-05-17\n",
       "Name: date, dtype: datetime64[ns]"
      ]
     },
     "execution_count": 19,
     "metadata": {},
     "output_type": "execute_result"
    }
   ],
   "source": [
    "# okay that should work, that means we can use a common library to turn these strings inot to time stamps\n",
    "pd.to_datetime(a['date'][:1])"
   ]
  },
  {
   "cell_type": "code",
   "execution_count": 20,
   "metadata": {},
   "outputs": [],
   "source": [
    "code_list = ['G3','G4','G7','G8','G10','G13','G21','G22','G23',\n",
    "             'G24','G25','G26','G27','G28','G30','G31','G32','G33','G34','G35','G37','G49','G50','G52',\n",
    "           'G59','G65','G66','G67','G70','G71','G79','G80','G82','G83','G87','G89','G90','G91','G93',\n",
    "           'G95','G96','G99','G100','G101','G124','G125','G126','G128','G131','G133','G134','G137','G138',\n",
    "           'G142','G144','G145','G147','G151','G152','G153','G154','G155','G156','G158','G159','G160','G165',\n",
    "           'G167','G171','G172','G175','G176','G177','G178','G179','G182','G188','G191','G194','G195','G198',\n",
    "           'G199','G200','G203','G204','G208','G210','G211','G213',]"
   ]
  },
  {
   "cell_type": "code",
   "execution_count": 21,
   "metadata": {},
   "outputs": [],
   "source": [
    "def make_item_counts_pcm():\n",
    "    d = []\n",
    "    for e, b in a.iterrows():\n",
    "        for code in code_list:\n",
    "            if code in list(a_cs):\n",
    "                if b[code] > 0:\n",
    "                    c = {'location':b['location'],'date':b['date'], 'length':b['length'], 'quantity':b[code], 'density': b[code]/b['length'], 'code':code}\n",
    "                d.append(c)\n",
    "    return d\n",
    "hdrc = make_item_counts_pcm()\n"
   ]
  },
  {
   "cell_type": "code",
   "execution_count": 22,
   "metadata": {},
   "outputs": [
    {
     "data": {
      "text/plain": [
       "[{'location': 'Antelope',\n",
       "  'date': '2017-05-17',\n",
       "  'length': 60.96,\n",
       "  'quantity': 29,\n",
       "  'density': 0.47572178477690286,\n",
       "  'code': 'G3'}]"
      ]
     },
     "execution_count": 22,
     "metadata": {},
     "output_type": "execute_result"
    }
   ],
   "source": [
    "# take a look\n",
    "hdrc[:1]"
   ]
  },
  {
   "cell_type": "code",
   "execution_count": 26,
   "metadata": {},
   "outputs": [],
   "source": [
    "# that works with no errors\n",
    "hdrc_pcs = pd.DataFrame(hdrc)\n"
   ]
  },
  {
   "cell_type": "code",
   "execution_count": 27,
   "metadata": {},
   "outputs": [
    {
     "data": {
      "text/html": [
       "<div>\n",
       "<style scoped>\n",
       "    .dataframe tbody tr th:only-of-type {\n",
       "        vertical-align: middle;\n",
       "    }\n",
       "\n",
       "    .dataframe tbody tr th {\n",
       "        vertical-align: top;\n",
       "    }\n",
       "\n",
       "    .dataframe thead th {\n",
       "        text-align: right;\n",
       "    }\n",
       "</style>\n",
       "<table border=\"1\" class=\"dataframe\">\n",
       "  <thead>\n",
       "    <tr style=\"text-align: right;\">\n",
       "      <th></th>\n",
       "      <th>code</th>\n",
       "      <th>date</th>\n",
       "      <th>density</th>\n",
       "      <th>length</th>\n",
       "      <th>location</th>\n",
       "      <th>quantity</th>\n",
       "    </tr>\n",
       "  </thead>\n",
       "  <tbody>\n",
       "    <tr>\n",
       "      <th>0</th>\n",
       "      <td>G3</td>\n",
       "      <td>2017-05-17</td>\n",
       "      <td>0.475722</td>\n",
       "      <td>60.96</td>\n",
       "      <td>Antelope</td>\n",
       "      <td>29</td>\n",
       "    </tr>\n",
       "  </tbody>\n",
       "</table>\n",
       "</div>"
      ],
      "text/plain": [
       "  code        date   density  length  location  quantity\n",
       "0   G3  2017-05-17  0.475722   60.96  Antelope        29"
      ]
     },
     "execution_count": 27,
     "metadata": {},
     "output_type": "execute_result"
    }
   ],
   "source": [
    "# take a look\n",
    "hdrc_pcs[:1]"
   ]
  },
  {
   "cell_type": "code",
   "execution_count": 29,
   "metadata": {},
   "outputs": [],
   "source": [
    "hdrc_pcs.set_index('location', inplace=True)\n",
    "hdrc_pcs['project'] = 'hdc'"
   ]
  },
  {
   "cell_type": "code",
   "execution_count": 30,
   "metadata": {},
   "outputs": [],
   "source": [
    "hdrc_pcs = hdrc_pcs[['date', 'length', 'quantity', 'code', 'project']].copy()"
   ]
  },
  {
   "cell_type": "code",
   "execution_count": 31,
   "metadata": {},
   "outputs": [
    {
     "data": {
      "text/html": [
       "<div>\n",
       "<style scoped>\n",
       "    .dataframe tbody tr th:only-of-type {\n",
       "        vertical-align: middle;\n",
       "    }\n",
       "\n",
       "    .dataframe tbody tr th {\n",
       "        vertical-align: top;\n",
       "    }\n",
       "\n",
       "    .dataframe thead th {\n",
       "        text-align: right;\n",
       "    }\n",
       "</style>\n",
       "<table border=\"1\" class=\"dataframe\">\n",
       "  <thead>\n",
       "    <tr style=\"text-align: right;\">\n",
       "      <th></th>\n",
       "      <th>date</th>\n",
       "      <th>length</th>\n",
       "      <th>quantity</th>\n",
       "      <th>code</th>\n",
       "      <th>project</th>\n",
       "    </tr>\n",
       "    <tr>\n",
       "      <th>location</th>\n",
       "      <th></th>\n",
       "      <th></th>\n",
       "      <th></th>\n",
       "      <th></th>\n",
       "      <th></th>\n",
       "    </tr>\n",
       "  </thead>\n",
       "  <tbody>\n",
       "    <tr>\n",
       "      <th>Antelope</th>\n",
       "      <td>2017-05-17</td>\n",
       "      <td>60.96</td>\n",
       "      <td>29</td>\n",
       "      <td>G3</td>\n",
       "      <td>hdc</td>\n",
       "    </tr>\n",
       "  </tbody>\n",
       "</table>\n",
       "</div>"
      ],
      "text/plain": [
       "                date  length  quantity code project\n",
       "location                                           \n",
       "Antelope  2017-05-17   60.96        29   G3     hdc"
      ]
     },
     "execution_count": 31,
     "metadata": {},
     "output_type": "execute_result"
    }
   ],
   "source": [
    "# take a look\n",
    "hdrc_pcs[:1]"
   ]
  },
  {
   "cell_type": "code",
   "execution_count": 32,
   "metadata": {},
   "outputs": [],
   "source": [
    "hdrc_pcs.to_csv(data + '/hdrc_pcs.csv')"
   ]
  },
  {
   "cell_type": "code",
   "execution_count": null,
   "metadata": {},
   "outputs": [],
   "source": [
    "new_cols =['BeachName','BeachLength_m','EventDate','G3','G4','G7','G8','G10','G13','G21','G22','G23',\n",
    "           'G24','G25','G26','G27','G28','G30','G31','G32','G33','G34','G35','G37','G49','G50','G52',\n",
    "           'G59','G65','G66','G67','G70','G71','G79','G80','G82','G83','G87','G89','G90','G91','G93',\n",
    "           'G95','G96','G99','G100','G101','G124','G125','G126','G128','G131','G133','G134','G137','G138',\n",
    "           'G142','G144','G145','G147','G151','G152','G153','G154','G155','G156','G158','G159','G160','G165',\n",
    "           'G167','G171','G172','G175','G176','G177','G178','G179','G182','G188','G191','G194','G195','G198',\n",
    "           'G199','G200','G203','G204','G208','G210','G211','G213','TOTAL','Area','DENSITY']"
   ]
  },
  {
   "cell_type": "code",
   "execution_count": null,
   "metadata": {},
   "outputs": [],
   "source": [
    "a_1 = a[new_cols].copy()"
   ]
  },
  {
   "cell_type": "code",
   "execution_count": null,
   "metadata": {},
   "outputs": [],
   "source": [
    "obs_v = a[['BeachName','Percent_WashedAshore']].copy()"
   ]
  },
  {
   "cell_type": "code",
   "execution_count": null,
   "metadata": {},
   "outputs": [],
   "source": [
    "# Need to identify all records where area = 0\n",
    "# This will give a 'undefined' value for 'DENSITY'\n"
   ]
  },
  {
   "cell_type": "code",
   "execution_count": null,
   "metadata": {},
   "outputs": [],
   "source": [
    "a_1.fillna(0, inplace=True)"
   ]
  },
  {
   "cell_type": "code",
   "execution_count": null,
   "metadata": {},
   "outputs": [],
   "source": [
    "no_area = a_1.loc[a_1.Area == 0].copy()\n",
    "no_area.to_csv('data/no_area.csv')"
   ]
  },
  {
   "cell_type": "code",
   "execution_count": null,
   "metadata": {},
   "outputs": [],
   "source": [
    "a_1.rename(columns={'BeachName':'location', 'BeachLength_m':'length', 'EventDate':'date'}, inplace=True)"
   ]
  },
  {
   "cell_type": "code",
   "execution_count": null,
   "metadata": {},
   "outputs": [],
   "source": [
    "# okay now we need to drop the records that have an area = 0\n",
    "# notice I keep the original dataframe and make a new one"
   ]
  },
  {
   "cell_type": "code",
   "execution_count": null,
   "metadata": {},
   "outputs": [],
   "source": [
    "a_2 = a_1.loc[a_1.Area > 0].copy()"
   ]
  },
  {
   "cell_type": "code",
   "execution_count": null,
   "metadata": {},
   "outputs": [],
   "source": [
    "def make_item_counts_area():\n",
    "    d = []\n",
    "    for a, b in a_2.iterrows():\n",
    "        for code in code_list:\n",
    "            if b[code] > 0:\n",
    "                c = {'location':b['location'],'date':b['date'].strftime(\"%Y-%m-%d\"), 'area':b['Area'], 'quantity':b[code], 'density': b[code]/b['Area'], 'code':code}\n",
    "                d.append(c)\n",
    "    return d\n",
    "a_per_item_area = make_item_counts_area()"
   ]
  },
  {
   "cell_type": "code",
   "execution_count": null,
   "metadata": {},
   "outputs": [],
   "source": [
    "# get the total of all the items found\n",
    "# then get the daily density of all items per location per date"
   ]
  },
  {
   "cell_type": "code",
   "execution_count": null,
   "metadata": {},
   "outputs": [],
   "source": [
    "a_2['total']=a_2[code_list].sum(axis=1)\n",
    "a_1['total']=a_1[code_list].sum(axis=1)\n",
    "a_1 = a_1[a_1.total > 0].copy()"
   ]
  },
  {
   "cell_type": "code",
   "execution_count": null,
   "metadata": {},
   "outputs": [],
   "source": [
    "# the remote database has density as the column name for pcs/m\n",
    "# will keep as is and name the total/area column as density2\n",
    "# saves alot of work, and that can be changed later\n",
    "a_1['density'] = a_1['total']/a_1['length']\n",
    "a_2['density2'] = a_2['total']/a_2['Area']"
   ]
  },
  {
   "cell_type": "code",
   "execution_count": null,
   "metadata": {},
   "outputs": [],
   "source": [
    "slr_dens_date = a_1[['location', 'date', 'density', 'total']].copy()\n",
    "slr_dens_date2 = a_2[['location', 'date', 'density2', 'total']].copy()"
   ]
  },
  {
   "cell_type": "code",
   "execution_count": null,
   "metadata": {},
   "outputs": [],
   "source": [
    "def change_name(df):\n",
    "    df.rename(columns={'total':'quantity'})\n",
    "change_name(slr_dens_date)"
   ]
  },
  {
   "cell_type": "code",
   "execution_count": null,
   "metadata": {},
   "outputs": [],
   "source": [
    "change_name(slr_dens_date2)"
   ]
  },
  {
   "cell_type": "code",
   "execution_count": null,
   "metadata": {},
   "outputs": [],
   "source": [
    "def get_sample_no(df):\n",
    "    d = []\n",
    "    for name in nme_p:\n",
    "        a = df.loc[df.location == name]\n",
    "        a = a.sort_values(by='date')\n",
    "        a.reset_index(inplace=True)\n",
    "        for i, row in a.iterrows():\n",
    "            n=i+1\n",
    "            c = {'location':row['location'], 'date':row['date'], 'sample':n, 'density2':row['density2'], 'quantity':row['total']}\n",
    "            d.append(c)\n",
    "    return d\n",
    "slr_d_d2 = get_sample_no(slr_dens_date2)           "
   ]
  },
  {
   "cell_type": "code",
   "execution_count": null,
   "metadata": {},
   "outputs": [],
   "source": [
    "slr_area_samps = pd.DataFrame(slr_d_d2)"
   ]
  },
  {
   "cell_type": "code",
   "execution_count": null,
   "metadata": {},
   "outputs": [],
   "source": [
    "slr_area_samps = slr_area_samps[['location', 'date', 'sample', 'density2', 'quantity']]"
   ]
  },
  {
   "cell_type": "code",
   "execution_count": null,
   "metadata": {},
   "outputs": [],
   "source": [
    "slr_area_samps['date'] = slr_area_samps['date'].dt.strftime(\"%Y-%m-%d\")"
   ]
  },
  {
   "cell_type": "code",
   "execution_count": null,
   "metadata": {},
   "outputs": [],
   "source": [
    "slr_area_samps.set_index('date', inplace=True)"
   ]
  },
  {
   "cell_type": "code",
   "execution_count": null,
   "metadata": {},
   "outputs": [],
   "source": [
    "slr_area_samps['density2'] = slr_area_samps['density2'].round(3)\n",
    "slr_area_samps['quantity'] = slr_area_samps['quantity'].astype(int)\n",
    "slr_area_samps['sample'] = slr_area_samps['sample'].astype(int)"
   ]
  },
  {
   "cell_type": "code",
   "execution_count": null,
   "metadata": {},
   "outputs": [],
   "source": [
    "slr_area_samps.to_csv('data/slr_area.csv', encoding='latin1')"
   ]
  },
  {
   "cell_type": "code",
   "execution_count": null,
   "metadata": {},
   "outputs": [],
   "source": [
    "def get_sample_no(df):\n",
    "    d = []\n",
    "    for name in nme_p:\n",
    "        a = df.loc[df.location == name]\n",
    "        a = a.sort_values(by='date')\n",
    "        a.reset_index(inplace=True)\n",
    "        for i, row in a.iterrows():\n",
    "            n=i+1\n",
    "            c = {'location':row['location'], 'date':row['date'], 'sample':n, 'density':row['density'], 'quantity':row['total']}\n",
    "            d.append(c)\n",
    "    return d"
   ]
  },
  {
   "cell_type": "code",
   "execution_count": null,
   "metadata": {},
   "outputs": [],
   "source": [
    "slr_pcs_m = get_sample_no(slr_dens_date)"
   ]
  },
  {
   "cell_type": "code",
   "execution_count": null,
   "metadata": {},
   "outputs": [],
   "source": [
    "\n",
    "slr_p_m = pd.DataFrame(slr_pcs_m)\n",
    "slr_p_m = slr_p_m[['location', 'date', 'sample', 'density', 'quantity']]\n",
    "slr_p_m['date'] = slr_p_m['date'].dt.strftime(\"%Y-%m-%d\")\n",
    "# slr_p_m.set_index('date', inplace=True)\n",
    "slr_p_m['density'] = slr_p_m['density'].round(4)\n",
    "slr_p_m['quantity'] = slr_p_m['quantity'].astype(int)\n",
    "slr_p_m['sample'] = slr_p_m['sample'].astype(int)\n"
   ]
  },
  {
   "cell_type": "code",
   "execution_count": null,
   "metadata": {},
   "outputs": [],
   "source": [
    "slr_p_m.set_index('location', inplace=True)"
   ]
  },
  {
   "cell_type": "code",
   "execution_count": null,
   "metadata": {},
   "outputs": [],
   "source": [
    "slr_p_m.to_csv('data/slr_pieces.csv', encoding='latin1')"
   ]
  },
  {
   "cell_type": "code",
   "execution_count": null,
   "metadata": {},
   "outputs": [],
   "source": []
  },
  {
   "cell_type": "code",
   "execution_count": null,
   "metadata": {},
   "outputs": [],
   "source": []
  }
 ],
 "metadata": {
  "kernelspec": {
   "display_name": "Python 3",
   "language": "python",
   "name": "python3"
  },
  "language_info": {
   "codemirror_mode": {
    "name": "ipython",
    "version": 3
   },
   "file_extension": ".py",
   "mimetype": "text/x-python",
   "name": "python",
   "nbconvert_exporter": "python",
   "pygments_lexer": "ipython3",
   "version": "3.6.5"
  }
 },
 "nbformat": 4,
 "nbformat_minor": 2
}
