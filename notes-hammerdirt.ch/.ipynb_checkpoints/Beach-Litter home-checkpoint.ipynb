{
 "cells": [
  {
   "cell_type": "markdown",
   "metadata": {},
   "source": [
    "#### Methods used to calculate and display the year over vear difference in shoreline trash on Lac Leman"
   ]
  },
  {
   "cell_type": "markdown",
   "metadata": {},
   "source": [
    "#### Load the libraries needed:"
   ]
  },
  {
   "cell_type": "code",
   "execution_count": 1,
   "metadata": {},
   "outputs": [
    {
     "data": {
      "text/plain": [
       "'/home/mw-shovel/web/notes/notes-hammerdirt.ch'"
      ]
     },
     "execution_count": 1,
     "metadata": {},
     "output_type": "execute_result"
    }
   ],
   "source": [
    "import pandas as pd\n",
    "import numpy as np\n",
    "import matplotlib\n",
    "import matplotlib.pyplot as plt\n",
    "import pickle\n",
    "import re\n",
    "import os\n",
    "from scipy.stats import norm\n",
    "import scipy.stats\n",
    "here = os.getcwd()\n",
    "data = '/home/mw-shovel/web/notes/basel/data'\n",
    "here"
   ]
  },
  {
   "cell_type": "markdown",
   "metadata": {},
   "source": [
    "#### Get the data and any other 'objects' required\n",
    "\n",
    "1. The same methods are used on the website\n",
    "2. The data is from a back up of the data base\n",
    "3. There still maybe slight differences in th curves\n"
   ]
  },
  {
   "cell_type": "code",
   "execution_count": 2,
   "metadata": {},
   "outputs": [],
   "source": [
    "slr = pd.read_pickle(data + '/combined.p')\n",
    "mcb = pd.read_pickle(data + '/combined_mc.p')\n",
    "mcb_slr = pd.read_pickle(data + '/mcb_slr.p')\n",
    "g_all = pd.read_pickle(data + '/water_bodies_all.p')\n",
    "g = pd.read_pickle(data + '/water_bodies.p')\n",
    "codes = pd.read_pickle(data + '/codes.p')"
   ]
  },
  {
   "cell_type": "code",
   "execution_count": 3,
   "metadata": {},
   "outputs": [],
   "source": [
    "mcb_slr.reset_index(inplace=True)"
   ]
  },
  {
   "cell_type": "markdown",
   "metadata": {},
   "source": [
    "#### In this example the data is already combined (SLR - MCBP)\n",
    "\n",
    "1. Pcs/m has already been calculated calculated\n",
    "2. Need to group records by location\n",
    "2. Need to pull out the 'Lac Léman'records\n",
    "3. Separate by date groups"
   ]
  },
  {
   "cell_type": "code",
   "execution_count": 4,
   "metadata": {},
   "outputs": [
    {
     "data": {
      "text/plain": [
       "index                            1\n",
       "code_id                        G27\n",
       "date           2017-04-02 00:00:00\n",
       "pcs_m                        0.429\n",
       "length                          28\n",
       "location_id     Aare_Bern_CaveltiN\n",
       "quantity                        12\n",
       "city                 Muri bei Bern\n",
       "latitude                   46.9236\n",
       "longitude                  7.47332\n",
       "post                          3074\n",
       "water                        river\n",
       "pop                          13187\n",
       "area                          7.63\n",
       "pop_dens                   1728.31\n",
       "day                              6\n",
       "Name: 1, dtype: object"
      ]
     },
     "execution_count": 4,
     "metadata": {},
     "output_type": "execute_result"
    }
   ],
   "source": [
    "# the records are stored as individual events per object type\n",
    "# for example one records from the data base looks like this\n",
    "mcb_slr.loc[1]"
   ]
  },
  {
   "cell_type": "markdown",
   "metadata": {},
   "source": [
    "#### This happens in the two classed 'Make_data' and 'Make_daily'\n",
    "\n",
    "1. These are global instances and thus available to all web pages"
   ]
  },
  {
   "cell_type": "code",
   "execution_count": 5,
   "metadata": {},
   "outputs": [],
   "source": [
    "# need to combine records by date and location\n",
    "dfA = mcb_slr.pivot_table('pcs_m', index=['date', 'day', 'water','city','location_id'], columns=['code_id'], fill_value=0)"
   ]
  },
  {
   "cell_type": "code",
   "execution_count": 6,
   "metadata": {},
   "outputs": [
    {
     "data": {
      "text/html": [
       "<div>\n",
       "<style scoped>\n",
       "    .dataframe tbody tr th:only-of-type {\n",
       "        vertical-align: middle;\n",
       "    }\n",
       "\n",
       "    .dataframe tbody tr th {\n",
       "        vertical-align: top;\n",
       "    }\n",
       "\n",
       "    .dataframe thead th {\n",
       "        text-align: right;\n",
       "    }\n",
       "</style>\n",
       "<table border=\"1\" class=\"dataframe\">\n",
       "  <thead>\n",
       "    <tr style=\"text-align: right;\">\n",
       "      <th></th>\n",
       "      <th></th>\n",
       "      <th></th>\n",
       "      <th></th>\n",
       "      <th>code_id</th>\n",
       "      <th>G1</th>\n",
       "      <th>G10</th>\n",
       "      <th>G100</th>\n",
       "      <th>G101</th>\n",
       "      <th>G102</th>\n",
       "      <th>G11</th>\n",
       "      <th>G12</th>\n",
       "      <th>G124</th>\n",
       "      <th>G125</th>\n",
       "      <th>G126</th>\n",
       "      <th>...</th>\n",
       "      <th>G89</th>\n",
       "      <th>G9</th>\n",
       "      <th>G90</th>\n",
       "      <th>G91</th>\n",
       "      <th>G92</th>\n",
       "      <th>G93</th>\n",
       "      <th>G95</th>\n",
       "      <th>G96</th>\n",
       "      <th>G97</th>\n",
       "      <th>G99</th>\n",
       "    </tr>\n",
       "    <tr>\n",
       "      <th>date</th>\n",
       "      <th>day</th>\n",
       "      <th>water</th>\n",
       "      <th>city</th>\n",
       "      <th>location_id</th>\n",
       "      <th></th>\n",
       "      <th></th>\n",
       "      <th></th>\n",
       "      <th></th>\n",
       "      <th></th>\n",
       "      <th></th>\n",
       "      <th></th>\n",
       "      <th></th>\n",
       "      <th></th>\n",
       "      <th></th>\n",
       "      <th></th>\n",
       "      <th></th>\n",
       "      <th></th>\n",
       "      <th></th>\n",
       "      <th></th>\n",
       "      <th></th>\n",
       "      <th></th>\n",
       "      <th></th>\n",
       "      <th></th>\n",
       "      <th></th>\n",
       "      <th></th>\n",
       "    </tr>\n",
       "  </thead>\n",
       "  <tbody>\n",
       "    <tr>\n",
       "      <th>2015-11-23</th>\n",
       "      <th>0</th>\n",
       "      <th>lake</th>\n",
       "      <th>Montreux</th>\n",
       "      <th>Baye de Montreux - G</th>\n",
       "      <td>0.0</td>\n",
       "      <td>0.0</td>\n",
       "      <td>0.016393</td>\n",
       "      <td>0.0</td>\n",
       "      <td>0.0</td>\n",
       "      <td>0.016393</td>\n",
       "      <td>0.0</td>\n",
       "      <td>0.016393</td>\n",
       "      <td>0.0</td>\n",
       "      <td>0.016393</td>\n",
       "      <td>...</td>\n",
       "      <td>0.065574</td>\n",
       "      <td>0.0</td>\n",
       "      <td>0.0</td>\n",
       "      <td>0.0</td>\n",
       "      <td>0.0</td>\n",
       "      <td>0.0</td>\n",
       "      <td>0.147541</td>\n",
       "      <td>0.0</td>\n",
       "      <td>0.0</td>\n",
       "      <td>0.0</td>\n",
       "    </tr>\n",
       "  </tbody>\n",
       "</table>\n",
       "<p>1 rows × 120 columns</p>\n",
       "</div>"
      ],
      "text/plain": [
       "code_id                                              G1  G10      G100  G101  \\\n",
       "date       day water city     location_id                                      \n",
       "2015-11-23 0   lake  Montreux Baye de Montreux - G  0.0  0.0  0.016393   0.0   \n",
       "\n",
       "code_id                                             G102       G11  G12  \\\n",
       "date       day water city     location_id                                 \n",
       "2015-11-23 0   lake  Montreux Baye de Montreux - G   0.0  0.016393  0.0   \n",
       "\n",
       "code_id                                                 G124  G125      G126  \\\n",
       "date       day water city     location_id                                      \n",
       "2015-11-23 0   lake  Montreux Baye de Montreux - G  0.016393   0.0  0.016393   \n",
       "\n",
       "code_id                                            ...        G89   G9  G90  \\\n",
       "date       day water city     location_id          ...                        \n",
       "2015-11-23 0   lake  Montreux Baye de Montreux - G ...   0.065574  0.0  0.0   \n",
       "\n",
       "code_id                                             G91  G92  G93       G95  \\\n",
       "date       day water city     location_id                                     \n",
       "2015-11-23 0   lake  Montreux Baye de Montreux - G  0.0  0.0  0.0  0.147541   \n",
       "\n",
       "code_id                                             G96  G97  G99  \n",
       "date       day water city     location_id                          \n",
       "2015-11-23 0   lake  Montreux Baye de Montreux - G  0.0  0.0  0.0  \n",
       "\n",
       "[1 rows x 120 columns]"
      ]
     },
     "execution_count": 6,
     "metadata": {},
     "output_type": "execute_result"
    }
   ],
   "source": [
    "# now all the records that have the same 'date', 'day', 'city' and 'location_id' are grouped together\n",
    "# in other words all the results from one beach-litter inventory\n",
    "dfA[:1]"
   ]
  },
  {
   "cell_type": "code",
   "execution_count": 7,
   "metadata": {},
   "outputs": [],
   "source": [
    "# add up all the columns (those with a 'G' label)\n",
    "dfA['total'] = dfA[dfA.columns].sum(axis=1)"
   ]
  },
  {
   "cell_type": "code",
   "execution_count": 8,
   "metadata": {},
   "outputs": [
    {
     "data": {
      "text/plain": [
       "date        day  water  city      location_id         \n",
       "2015-11-23  0    lake   Montreux  Baye de Montreux - G    5.721311\n",
       "2015-11-24  1    lake   Montreux  Baye de Clarens         1.695652\n",
       "2015-11-27  4    lake   Vevey     Veveyse                 4.075472\n",
       "2015-12-01  1    lake   Vevey     Veveyse                 0.981132\n",
       "2015-12-02  2    lake   Montreux  Baye de Clarens         0.681159\n",
       "2015-12-04  4    lake   Montreux  Baye de Montreux - D    6.918033\n",
       "                                  Baye de Montreux - G    8.377049\n",
       "2015-12-07  0    lake   Vevey     Veveyse                 3.641509\n",
       "2015-12-08  1    lake   Montreux  Baye de Clarens         3.391304\n",
       "2015-12-10  3    lake   Montreux  Baye de Montreux - D    9.655738\n",
       "Name: total, dtype: float64"
      ]
     },
     "execution_count": 8,
     "metadata": {},
     "output_type": "execute_result"
    }
   ],
   "source": [
    "# this is just a check and does not actually happen \n",
    "# get the first 10 records for Lac Leman\n",
    "idx = pd.IndexSlice\n",
    "dfA.loc[idx[:, :, :, :, g_all['Lac Léman']], 'total'][:10]\n",
    "# this looks good"
   ]
  },
  {
   "cell_type": "code",
   "execution_count": 9,
   "metadata": {},
   "outputs": [],
   "source": [
    "dfA.reset_index(inplace=True)"
   ]
  },
  {
   "cell_type": "markdown",
   "metadata": {},
   "source": [
    "#### The following sequence happens when the 'web page is called'\n",
    "\n",
    "1. These are not availbale to the other web pages (yet)\n",
    "2. This means if we want to display the same chart on another page, the sequence needs to be repeated"
   ]
  },
  {
   "cell_type": "code",
   "execution_count": 10,
   "metadata": {},
   "outputs": [
    {
     "data": {
      "text/html": [
       "<div>\n",
       "<style scoped>\n",
       "    .dataframe tbody tr th:only-of-type {\n",
       "        vertical-align: middle;\n",
       "    }\n",
       "\n",
       "    .dataframe tbody tr th {\n",
       "        vertical-align: top;\n",
       "    }\n",
       "\n",
       "    .dataframe thead th {\n",
       "        text-align: right;\n",
       "    }\n",
       "</style>\n",
       "<table border=\"1\" class=\"dataframe\">\n",
       "  <thead>\n",
       "    <tr style=\"text-align: right;\">\n",
       "      <th>code_id</th>\n",
       "      <th>date</th>\n",
       "      <th>location_id</th>\n",
       "      <th>total</th>\n",
       "    </tr>\n",
       "  </thead>\n",
       "  <tbody>\n",
       "    <tr>\n",
       "      <th>0</th>\n",
       "      <td>2015-11-23</td>\n",
       "      <td>Baye de Montreux - G</td>\n",
       "      <td>5.721311</td>\n",
       "    </tr>\n",
       "    <tr>\n",
       "      <th>1</th>\n",
       "      <td>2015-11-24</td>\n",
       "      <td>Baye de Clarens</td>\n",
       "      <td>1.695652</td>\n",
       "    </tr>\n",
       "    <tr>\n",
       "      <th>2</th>\n",
       "      <td>2015-11-27</td>\n",
       "      <td>Veveyse</td>\n",
       "      <td>4.075472</td>\n",
       "    </tr>\n",
       "    <tr>\n",
       "      <th>3</th>\n",
       "      <td>2015-12-01</td>\n",
       "      <td>Veveyse</td>\n",
       "      <td>0.981132</td>\n",
       "    </tr>\n",
       "    <tr>\n",
       "      <th>4</th>\n",
       "      <td>2015-12-02</td>\n",
       "      <td>Baye de Clarens</td>\n",
       "      <td>0.681159</td>\n",
       "    </tr>\n",
       "  </tbody>\n",
       "</table>\n",
       "</div>"
      ],
      "text/plain": [
       "code_id       date           location_id     total\n",
       "0       2015-11-23  Baye de Montreux - G  5.721311\n",
       "1       2015-11-24       Baye de Clarens  1.695652\n",
       "2       2015-11-27               Veveyse  4.075472\n",
       "3       2015-12-01               Veveyse  0.981132\n",
       "4       2015-12-02       Baye de Clarens  0.681159"
      ]
     },
     "execution_count": 10,
     "metadata": {},
     "output_type": "execute_result"
    }
   ],
   "source": [
    "# make a working copy\n",
    "a = dfA.copy()\n",
    "# grab only the columns we need to chart\n",
    "a = a[['date','location_id','total']].copy()\n",
    "# grab only the rows that are in the Group 'Lac Léman'\n",
    "a = a.loc[a.location_id.isin(g_all['Lac Léman'])].copy()\n",
    "# just to make sure its all good:\n",
    "a[:5]\n",
    "# its all good"
   ]
  },
  {
   "cell_type": "code",
   "execution_count": 11,
   "metadata": {},
   "outputs": [],
   "source": [
    "# create two data-sets, one for each period\n",
    "c_1 = a.loc[(a.date > \"2015-11-15\")&(a.date < \"2016-11-15\")].copy()\n",
    "c_2 = a.loc[(a.date > \"2016-11-15\") & (a.date < \"2017-11-15\")].copy()\n",
    "# sort the values -- ascending\n",
    "# this is essential to create a distribution of values\n",
    "c_1.sort_values('total', inplace=True)\n",
    "c_2.sort_values('total', inplace=True)"
   ]
  },
  {
   "cell_type": "code",
   "execution_count": 12,
   "metadata": {},
   "outputs": [],
   "source": [
    "# get the log of the 'total' column for each day and data set:\n",
    "c_2['ln'] = np.log(c_2['total'])\n",
    "c_1['ln'] = np.log(c_1['total'])"
   ]
  },
  {
   "cell_type": "code",
   "execution_count": 13,
   "metadata": {},
   "outputs": [],
   "source": [
    "# get the log values per day and put them in a list\n",
    "\n",
    "x = list(c_2['ln'])\n",
    "x1 = list(c_1['ln'])\n",
    "# get the mean and and standard deviation of each list\n",
    "\n",
    "loc = np.mean(x)\n",
    "scale = np.std(x)\n",
    "loc1 = np.mean(x1)\n",
    "scale1 = np.std(x1)\n",
    "\n",
    "# make the y values based on a normal distrubtion with a speicifed mean and std-dev\n",
    "\n",
    "y =  norm.pdf(x, loc, scale)\n",
    "y1 = norm.pdf(x1, loc1, scale1)"
   ]
  },
  {
   "cell_type": "code",
   "execution_count": 14,
   "metadata": {},
   "outputs": [
    {
     "data": {
      "image/png": "[encoded data removed]",
      "text/plain": [
       "<matplotlib.figure.Figure at 0x7fb41f5a3358>"
      ]
     },
     "metadata": {},
     "output_type": "display_data"
    }
   ],
   "source": [
    "# chart it\n",
    "\n",
    "fig, ax = plt.subplots(figsize=(8,8))\n",
    "ax.plot(x, y, color='r')\n",
    "ax.plot(x1, y1)\n",
    "plt.show()\n"
   ]
  },
  {
   "cell_type": "markdown",
   "metadata": {},
   "source": [
    "#### The lines can be smoothed out and extended to the x axis by using a set of random numbers and the mean and standard varation for each distribution"
   ]
  },
  {
   "cell_type": "code",
   "execution_count": 15,
   "metadata": {},
   "outputs": [],
   "source": [
    "# use the minimum value of 1 piece per 1000 meters\n",
    "# use the masx value found for each time frame\n",
    "# assume there are 1000 samples\n",
    "x = np.linspace(-4.6, 4.6, num=1000)#<--- assume the range is from 0.01 - 134 pcs/m \n",
    "x1 = np.linspace(-4.6, 4.6, num=1000)#<---- log(0.01) = -4.6 and log(134) = 4.6\n",
    "y =  norm.pdf(x, loc, scale)\n",
    "y1 = norm.pdf(x1, loc1, scale1)\n"
   ]
  },
  {
   "cell_type": "code",
   "execution_count": 16,
   "metadata": {},
   "outputs": [
    {
     "data": {
      "image/png": "[encoded data removed]",
      "text/plain": [
       "<matplotlib.figure.Figure at 0x7fb417933e48>"
      ]
     },
     "metadata": {},
     "output_type": "display_data"
    }
   ],
   "source": [
    "fig, ax = plt.subplots(figsize=(8,8))\n",
    "ax.plot(x, y, color='r')\n",
    "ax.plot(x1, y1)\n",
    "plt.show()"
   ]
  },
  {
   "cell_type": "markdown",
   "metadata": {},
   "source": [
    "### Use this to calculate the probability of finding less or greater than 1 piece of trash per meter of shorel line"
   ]
  },
  {
   "cell_type": "code",
   "execution_count": 17,
   "metadata": {},
   "outputs": [
    {
     "name": "stdout",
     "output_type": "stream",
     "text": [
      "Probability that an inventory will yield less than 1 pc/m 2016 : 3.117, 2017: 3.039\n",
      "Probability that an inventory will yield more than 1 pc/m 2016 : 96.821, 2017: 96.893\n"
     ]
    }
   ],
   "source": [
    "#To find the probability that a beach inventory has a value of less than 1pc/m\n",
    "#Use the cumulative distribution function for a normal dist, with mean and stdev of the sample data\n",
    "#log(1) = 0, so below take the value of the cdf at zero\n",
    "x_2016_1 = scipy.stats.norm.cdf(0,loc,scale)*100\n",
    "x_2017_1 = scipy.stats.norm.cdf(0,loc1,scale1)*100\n",
    "\n",
    "\n",
    "#To find the probability that the variable has a value GREATER than or\n",
    "#equal to 1.01 pcs/m, you'd use the survival function\n",
    "x_2016_2 = scipy.stats.norm.sf(0.009,loc,scale)*100\n",
    "x_2017_2 = scipy.stats.norm.sf(0.009,loc1,scale1)*100\n",
    "\n",
    "\n",
    "print(\"Probability that an inventory will yield less than 1 pc/m 2016 : \" + str(x_2016_1.round(3)) + \", 2017: \" + str(x_2017_1.round(3)))\n",
    "print(\"Probability that an inventory will yield more than 1 pc/m 2016 : \" + str(x_2016_2.round(3)) + \", 2017: \" + str(x_2017_2.round(3)))"
   ]
  },
  {
   "cell_type": "code",
   "execution_count": null,
   "metadata": {},
   "outputs": [],
   "source": []
  }
 ],
 "metadata": {
  "kernelspec": {
   "display_name": "Python 3",
   "language": "python",
   "name": "python3"
  },
  "language_info": {
   "codemirror_mode": {
    "name": "ipython",
    "version": 3
   },
   "file_extension": ".py",
   "mimetype": "text/x-python",
   "name": "python",
   "nbconvert_exporter": "python",
   "pygments_lexer": "ipython3",
   "version": "3.6.4"
  }
 },
 "nbformat": 4,
 "nbformat_minor": 2
}
