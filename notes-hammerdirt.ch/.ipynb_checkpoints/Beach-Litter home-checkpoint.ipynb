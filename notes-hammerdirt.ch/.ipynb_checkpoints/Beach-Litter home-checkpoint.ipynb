{
 "cells": [
  {
   "cell_type": "markdown",
   "metadata": {},
   "source": [
    "### Methods used to calculate and display the year over year difference in shoreline trash on Lac Leman\n",
    "### The first sections show how we import the data and any transformations, scroll down to the charts"
   ]
  },
  {
   "cell_type": "markdown",
   "metadata": {},
   "source": [
    "#### Load the libraries needed:"
   ]
  },
  {
   "cell_type": "code",
   "execution_count": 1,
   "metadata": {},
   "outputs": [
    {
     "data": {
      "text/plain": [
       "'/home/mw-shovel/web/notes/notes-hammerdirt.ch'"
      ]
     },
     "execution_count": 1,
     "metadata": {},
     "output_type": "execute_result"
    }
   ],
   "source": [
    "import pandas as pd\n",
    "import numpy as np\n",
    "import matplotlib\n",
    "import matplotlib.pyplot as plt\n",
    "import pickle\n",
    "import re\n",
    "import os\n",
    "from scipy.stats import norm\n",
    "import scipy.stats\n",
    "here = os.getcwd()\n",
    "data = '/home/mw-shovel/web/notes/basel/data'\n",
    "here"
   ]
  },
  {
   "cell_type": "markdown",
   "metadata": {},
   "source": [
    "#### Get the data and any other 'objects' required\n",
    "\n",
    "1. The same methods are used on the website\n",
    "2. The data is from a back up of the data base\n",
    "3. There still maybe slight differences in th curves\n"
   ]
  },
  {
   "cell_type": "code",
   "execution_count": 2,
   "metadata": {},
   "outputs": [],
   "source": [
    "# in the note book we pickle everything for storage\n",
    "# in the app we use json format, pickle is not secure for web apps (as far as I know)\n",
    "slr = pd.read_pickle(data + '/combined.p')\n",
    "mcb = pd.read_pickle(data + '/combined_mc.p')\n",
    "mcb_slr = pd.read_pickle(data + '/mcb_slr.p')\n",
    "g_all = pd.read_pickle(data + '/water_bodies_all.p')\n",
    "g = pd.read_pickle(data + '/water_bodies.p')\n",
    "codes = pd.read_pickle(data + '/codes.p')"
   ]
  },
  {
   "cell_type": "code",
   "execution_count": 3,
   "metadata": {},
   "outputs": [],
   "source": [
    "mcb_slr.reset_index(inplace=True)"
   ]
  },
  {
   "cell_type": "markdown",
   "metadata": {},
   "source": [
    "#### In this example the data is already combined (SLR - MCBP)\n",
    "\n",
    "1. Pcs/m has already been calculated\n",
    "2. Need to group records by location\n",
    "2. Need to pull out the 'Lac Léman'records\n",
    "3. Separate by date groups"
   ]
  },
  {
   "cell_type": "code",
   "execution_count": 4,
   "metadata": {},
   "outputs": [
    {
     "data": {
      "text/plain": [
       "index                            1\n",
       "code_id                        G27\n",
       "date           2017-04-02 00:00:00\n",
       "pcs_m                        0.429\n",
       "length                          28\n",
       "location_id     Aare_Bern_CaveltiN\n",
       "quantity                        12\n",
       "city                 Muri bei Bern\n",
       "latitude                   46.9236\n",
       "longitude                  7.47332\n",
       "post                          3074\n",
       "water                        river\n",
       "pop                          13187\n",
       "area                          7.63\n",
       "pop_dens                   1728.31\n",
       "day                              6\n",
       "Name: 1, dtype: object"
      ]
     },
     "execution_count": 4,
     "metadata": {},
     "output_type": "execute_result"
    }
   ],
   "source": [
    "# the records are stored as individual events per object type\n",
    "# for example one record from the data base looks like this\n",
    "mcb_slr.loc[1]"
   ]
  },
  {
   "cell_type": "markdown",
   "metadata": {},
   "source": [
    "#### This happens in the two classes 'Make_data' and 'Make_daily'\n",
    "\n",
    "1. These are global instances and thus available to all web pages\n",
    "2. They are called in views.py"
   ]
  },
  {
   "cell_type": "code",
   "execution_count": 5,
   "metadata": {},
   "outputs": [],
   "source": [
    "# need to combine records by date and location\n",
    "dfA = mcb_slr.pivot_table('pcs_m', index=['date', 'day', 'water','city','location_id'], columns=['code_id'], fill_value=0)"
   ]
  },
  {
   "cell_type": "code",
   "execution_count": 6,
   "metadata": {},
   "outputs": [
    {
     "data": {
      "text/html": [
       "<div>\n",
       "<style scoped>\n",
       "    .dataframe tbody tr th:only-of-type {\n",
       "        vertical-align: middle;\n",
       "    }\n",
       "\n",
       "    .dataframe tbody tr th {\n",
       "        vertical-align: top;\n",
       "    }\n",
       "\n",
       "    .dataframe thead th {\n",
       "        text-align: right;\n",
       "    }\n",
       "</style>\n",
       "<table border=\"1\" class=\"dataframe\">\n",
       "  <thead>\n",
       "    <tr style=\"text-align: right;\">\n",
       "      <th></th>\n",
       "      <th></th>\n",
       "      <th></th>\n",
       "      <th></th>\n",
       "      <th>code_id</th>\n",
       "      <th>G1</th>\n",
       "      <th>G10</th>\n",
       "      <th>G100</th>\n",
       "      <th>G101</th>\n",
       "      <th>G102</th>\n",
       "      <th>G11</th>\n",
       "      <th>G12</th>\n",
       "      <th>G124</th>\n",
       "      <th>G125</th>\n",
       "      <th>G126</th>\n",
       "      <th>...</th>\n",
       "      <th>G89</th>\n",
       "      <th>G9</th>\n",
       "      <th>G90</th>\n",
       "      <th>G91</th>\n",
       "      <th>G92</th>\n",
       "      <th>G93</th>\n",
       "      <th>G95</th>\n",
       "      <th>G96</th>\n",
       "      <th>G97</th>\n",
       "      <th>G99</th>\n",
       "    </tr>\n",
       "    <tr>\n",
       "      <th>date</th>\n",
       "      <th>day</th>\n",
       "      <th>water</th>\n",
       "      <th>city</th>\n",
       "      <th>location_id</th>\n",
       "      <th></th>\n",
       "      <th></th>\n",
       "      <th></th>\n",
       "      <th></th>\n",
       "      <th></th>\n",
       "      <th></th>\n",
       "      <th></th>\n",
       "      <th></th>\n",
       "      <th></th>\n",
       "      <th></th>\n",
       "      <th></th>\n",
       "      <th></th>\n",
       "      <th></th>\n",
       "      <th></th>\n",
       "      <th></th>\n",
       "      <th></th>\n",
       "      <th></th>\n",
       "      <th></th>\n",
       "      <th></th>\n",
       "      <th></th>\n",
       "      <th></th>\n",
       "    </tr>\n",
       "  </thead>\n",
       "  <tbody>\n",
       "    <tr>\n",
       "      <th>2015-11-23</th>\n",
       "      <th>0</th>\n",
       "      <th>lake</th>\n",
       "      <th>Montreux</th>\n",
       "      <th>Baye de Montreux - G</th>\n",
       "      <td>0.0</td>\n",
       "      <td>0.0</td>\n",
       "      <td>0.016393</td>\n",
       "      <td>0.0</td>\n",
       "      <td>0.0</td>\n",
       "      <td>0.016393</td>\n",
       "      <td>0.0</td>\n",
       "      <td>0.016393</td>\n",
       "      <td>0.0</td>\n",
       "      <td>0.016393</td>\n",
       "      <td>...</td>\n",
       "      <td>0.065574</td>\n",
       "      <td>0.0</td>\n",
       "      <td>0.0</td>\n",
       "      <td>0.0</td>\n",
       "      <td>0.0</td>\n",
       "      <td>0.0</td>\n",
       "      <td>0.147541</td>\n",
       "      <td>0.0</td>\n",
       "      <td>0.0</td>\n",
       "      <td>0.0</td>\n",
       "    </tr>\n",
       "  </tbody>\n",
       "</table>\n",
       "<p>1 rows × 120 columns</p>\n",
       "</div>"
      ],
      "text/plain": [
       "code_id                                              G1  G10      G100  G101  \\\n",
       "date       day water city     location_id                                      \n",
       "2015-11-23 0   lake  Montreux Baye de Montreux - G  0.0  0.0  0.016393   0.0   \n",
       "\n",
       "code_id                                             G102       G11  G12  \\\n",
       "date       day water city     location_id                                 \n",
       "2015-11-23 0   lake  Montreux Baye de Montreux - G   0.0  0.016393  0.0   \n",
       "\n",
       "code_id                                                 G124  G125      G126  \\\n",
       "date       day water city     location_id                                      \n",
       "2015-11-23 0   lake  Montreux Baye de Montreux - G  0.016393   0.0  0.016393   \n",
       "\n",
       "code_id                                            ...        G89   G9  G90  \\\n",
       "date       day water city     location_id          ...                        \n",
       "2015-11-23 0   lake  Montreux Baye de Montreux - G ...   0.065574  0.0  0.0   \n",
       "\n",
       "code_id                                             G91  G92  G93       G95  \\\n",
       "date       day water city     location_id                                     \n",
       "2015-11-23 0   lake  Montreux Baye de Montreux - G  0.0  0.0  0.0  0.147541   \n",
       "\n",
       "code_id                                             G96  G97  G99  \n",
       "date       day water city     location_id                          \n",
       "2015-11-23 0   lake  Montreux Baye de Montreux - G  0.0  0.0  0.0  \n",
       "\n",
       "[1 rows x 120 columns]"
      ]
     },
     "execution_count": 6,
     "metadata": {},
     "output_type": "execute_result"
    }
   ],
   "source": [
    "# now all the records that have the same 'date', 'day', 'city' and 'location_id' are grouped together\n",
    "# in other words all the results from one beach-litter inventory\n",
    "dfA[:1]"
   ]
  },
  {
   "cell_type": "code",
   "execution_count": 7,
   "metadata": {},
   "outputs": [],
   "source": [
    "# add up all the columns (those with a 'G' label)\n",
    "dfA['total'] = dfA[dfA.columns].sum(axis=1)"
   ]
  },
  {
   "cell_type": "code",
   "execution_count": 8,
   "metadata": {},
   "outputs": [
    {
     "data": {
      "text/plain": [
       "date        day  water  city      location_id         \n",
       "2015-11-23  0    lake   Montreux  Baye de Montreux - G    5.721311\n",
       "2015-11-24  1    lake   Montreux  Baye de Clarens         1.695652\n",
       "2015-11-27  4    lake   Vevey     Veveyse                 4.075472\n",
       "2015-12-01  1    lake   Vevey     Veveyse                 0.981132\n",
       "2015-12-02  2    lake   Montreux  Baye de Clarens         0.681159\n",
       "2015-12-04  4    lake   Montreux  Baye de Montreux - D    6.918033\n",
       "                                  Baye de Montreux - G    8.377049\n",
       "2015-12-07  0    lake   Vevey     Veveyse                 3.641509\n",
       "2015-12-08  1    lake   Montreux  Baye de Clarens         3.391304\n",
       "2015-12-10  3    lake   Montreux  Baye de Montreux - D    9.655738\n",
       "Name: total, dtype: float64"
      ]
     },
     "execution_count": 8,
     "metadata": {},
     "output_type": "execute_result"
    }
   ],
   "source": [
    "# this is just a check and does not actually happen \n",
    "# get the first 10 records for Lac Leman\n",
    "idx = pd.IndexSlice\n",
    "dfA.loc[idx[:, :, :, :, g_all['Lac Léman']], 'total'][:10]\n",
    "# this looks good"
   ]
  },
  {
   "cell_type": "code",
   "execution_count": 9,
   "metadata": {},
   "outputs": [],
   "source": [
    "dfA.reset_index(inplace=True)"
   ]
  },
  {
   "cell_type": "markdown",
   "metadata": {},
   "source": [
    "#### The following sequence happens when the 'web page is called'\n",
    "\n",
    "1. These are not availbale to the other web pages (yet)\n",
    "2. This means if we want to display the same chart on another page, the sequence needs to be repeated"
   ]
  },
  {
   "cell_type": "code",
   "execution_count": 10,
   "metadata": {},
   "outputs": [
    {
     "data": {
      "text/html": [
       "<div>\n",
       "<style scoped>\n",
       "    .dataframe tbody tr th:only-of-type {\n",
       "        vertical-align: middle;\n",
       "    }\n",
       "\n",
       "    .dataframe tbody tr th {\n",
       "        vertical-align: top;\n",
       "    }\n",
       "\n",
       "    .dataframe thead th {\n",
       "        text-align: right;\n",
       "    }\n",
       "</style>\n",
       "<table border=\"1\" class=\"dataframe\">\n",
       "  <thead>\n",
       "    <tr style=\"text-align: right;\">\n",
       "      <th>code_id</th>\n",
       "      <th>date</th>\n",
       "      <th>location_id</th>\n",
       "      <th>total</th>\n",
       "    </tr>\n",
       "  </thead>\n",
       "  <tbody>\n",
       "    <tr>\n",
       "      <th>0</th>\n",
       "      <td>2015-11-23</td>\n",
       "      <td>Baye de Montreux - G</td>\n",
       "      <td>5.721311</td>\n",
       "    </tr>\n",
       "    <tr>\n",
       "      <th>1</th>\n",
       "      <td>2015-11-24</td>\n",
       "      <td>Baye de Clarens</td>\n",
       "      <td>1.695652</td>\n",
       "    </tr>\n",
       "    <tr>\n",
       "      <th>2</th>\n",
       "      <td>2015-11-27</td>\n",
       "      <td>Veveyse</td>\n",
       "      <td>4.075472</td>\n",
       "    </tr>\n",
       "    <tr>\n",
       "      <th>3</th>\n",
       "      <td>2015-12-01</td>\n",
       "      <td>Veveyse</td>\n",
       "      <td>0.981132</td>\n",
       "    </tr>\n",
       "    <tr>\n",
       "      <th>4</th>\n",
       "      <td>2015-12-02</td>\n",
       "      <td>Baye de Clarens</td>\n",
       "      <td>0.681159</td>\n",
       "    </tr>\n",
       "  </tbody>\n",
       "</table>\n",
       "</div>"
      ],
      "text/plain": [
       "code_id       date           location_id     total\n",
       "0       2015-11-23  Baye de Montreux - G  5.721311\n",
       "1       2015-11-24       Baye de Clarens  1.695652\n",
       "2       2015-11-27               Veveyse  4.075472\n",
       "3       2015-12-01               Veveyse  0.981132\n",
       "4       2015-12-02       Baye de Clarens  0.681159"
      ]
     },
     "execution_count": 10,
     "metadata": {},
     "output_type": "execute_result"
    }
   ],
   "source": [
    "# make a working copy\n",
    "a = dfA.copy()\n",
    "# grab only the columns we need to chart\n",
    "a = a[['date','location_id','total']].copy()\n",
    "# grab only the rows that are in the Group 'Lac Léman'\n",
    "a = a.loc[a.location_id.isin(g_all['Lac Léman'])].copy()\n",
    "# just to make sure its all good:\n",
    "a[:5]\n",
    "# its all good"
   ]
  },
  {
   "cell_type": "code",
   "execution_count": 11,
   "metadata": {},
   "outputs": [],
   "source": [
    "# create two data-sets, one for each period\n",
    "c_1 = a.loc[(a.date > \"2015-11-15\")&(a.date < \"2016-11-15\")].copy()\n",
    "c_2 = a.loc[(a.date > \"2016-11-15\") & (a.date < \"2017-11-15\")].copy()\n",
    "# sort the values -- ascending\n",
    "# this is essential to create a distribution of values\n",
    "c_1.sort_values('total', inplace=True)\n",
    "c_2.sort_values('total', inplace=True)"
   ]
  },
  {
   "cell_type": "code",
   "execution_count": 12,
   "metadata": {},
   "outputs": [],
   "source": [
    "# get the log of the 'total' column for each day and data set:\n",
    "c_2['ln'] = np.log(c_2['total'])\n",
    "c_1['ln'] = np.log(c_1['total'])"
   ]
  },
  {
   "cell_type": "code",
   "execution_count": 13,
   "metadata": {},
   "outputs": [],
   "source": [
    "# get the log values per day and put them in a list\n",
    "\n",
    "x2 = list(c_2['ln'])\n",
    "x1 = list(c_1['ln'])\n",
    "# get the mean and and standard deviation of each list\n",
    "\n",
    "loc2 = np.mean(x2)\n",
    "scale2 = np.std(x2)\n",
    "loc1 = np.mean(x1)\n",
    "scale1 = np.std(x1)\n",
    "\n",
    "# make the y values based on a normal distrubtion with a speicifed mean and std-dev\n",
    "\n",
    "y2 =  norm.pdf(x2, loc2, scale2)\n",
    "y1 = norm.pdf(x1, loc1, scale1)"
   ]
  },
  {
   "cell_type": "code",
   "execution_count": 14,
   "metadata": {},
   "outputs": [
    {
     "data": {
      "image/png": "[encoded data removed]",
      "text/plain": [
       "<matplotlib.figure.Figure at 0x7f3cf1c5ff98>"
      ]
     },
     "metadata": {},
     "output_type": "display_data"
    }
   ],
   "source": [
    "# chart it\n",
    "\n",
    "fig, ax = plt.subplots(figsize=(8,8))\n",
    "ax.plot(x2, y2, color='r')\n",
    "ax.plot(x1, y1)\n",
    "plt.show()\n"
   ]
  },
  {
   "cell_type": "markdown",
   "metadata": {},
   "source": [
    "#### The lines can be smoothed out and extended to the x axis by using a set of random numbers and the mean and standard deviation for each distribution"
   ]
  },
  {
   "cell_type": "code",
   "execution_count": 15,
   "metadata": {},
   "outputs": [],
   "source": [
    "# use the minimum value of 1 piece per 1000 meters\n",
    "# use the masx value found for each time frame\n",
    "# assume there are 1000 samples\n",
    "x = np.linspace(-0.3839589028872009,3.913521881551882, num=1000)#<--- assume the range is the same as the sammple data\n",
    "x1 = np.linspace(-0.3839589028872009, 3.913521881551882, num=1000)\n",
    "y =  norm.pdf(x, loc2, scale2)\n",
    "y1 = norm.pdf(x1, loc1, scale1)\n"
   ]
  },
  {
   "cell_type": "code",
   "execution_count": 16,
   "metadata": {},
   "outputs": [
    {
     "data": {
      "image/png": "[encoded data removed]",
      "text/plain": [
       "<matplotlib.figure.Figure at 0x7f3cea474be0>"
      ]
     },
     "metadata": {},
     "output_type": "display_data"
    }
   ],
   "source": [
    "fig, ax = plt.subplots(figsize=(8,8))\n",
    "ax.plot(x, y, color='r')\n",
    "ax.plot(x1, y1)\n",
    "plt.show()"
   ]
  },
  {
   "cell_type": "markdown",
   "metadata": {},
   "source": [
    "### Use this to calculate the probability of finding less or greater than 1 piece of trash per meter of shoreline"
   ]
  },
  {
   "cell_type": "code",
   "execution_count": 17,
   "metadata": {},
   "outputs": [
    {
     "name": "stdout",
     "output_type": "stream",
     "text": [
      "Probability that an inventory will yield less than 1 pc/m 2016 : 3.039, 2017: 3.117\n",
      "Probability that an inventory will yield more than 1 pc/m 2016 : 96.893, 2017: 96.821\n"
     ]
    }
   ],
   "source": [
    "#To find the probability that a beach inventory has a value of less than 1pc/m\n",
    "#Use the cumulative distribution function for a normal dist, with mean and stdev of the sample data\n",
    "#log(1) = 0, so below take the value of the cdf at zero\n",
    "x_2016_1 = scipy.stats.norm.cdf(0,loc1,scale1)*100 \n",
    "x_2017_1 = scipy.stats.norm.cdf(0,loc2,scale2)*100\n",
    "\n",
    "\n",
    "#To find the probability that the variable has a value GREATER than or\n",
    "#equal to 1.01 pcs/m, you'd use the survival function\n",
    "x_2016_2 = scipy.stats.norm.sf(0.009,loc1,scale1)*100\n",
    "x_2017_2 = scipy.stats.norm.sf(0.009,loc2,scale2)*100\n",
    "\n",
    "\n",
    "print(\"Probability that an inventory will yield less than 1 pc/m 2016 : \" + str(x_2016_1.round(3)) + \", 2017: \" + str(x_2017_1.round(3)))\n",
    "print(\"Probability that an inventory will yield more than 1 pc/m 2016 : \" + str(x_2016_2.round(3)) + \", 2017: \" + str(x_2017_2.round(3)))"
   ]
  },
  {
   "cell_type": "markdown",
   "metadata": {},
   "source": [
    "### Check this by plotting the CDF of the distribution"
   ]
  },
  {
   "cell_type": "code",
   "execution_count": 18,
   "metadata": {},
   "outputs": [
    {
     "data": {
      "text/plain": [
       "<matplotlib.lines.Line2D at 0x7f3cea3d9b38>"
      ]
     },
     "execution_count": 18,
     "metadata": {},
     "output_type": "execute_result"
    },
    {
     "data": {
      "image/png": "[encoded data removed]",
      "text/plain": [
       "<matplotlib.figure.Figure at 0x7f3cf1c5fda0>"
      ]
     },
     "metadata": {},
     "output_type": "display_data"
    }
   ],
   "source": [
    "# use the same data as for the pdf\n",
    "x1_cdf = list(c_1['ln'])\n",
    "x2_cdf = list(c_2['ln'])\n",
    "\n",
    "y1_cdf = scipy.stats.norm.cdf(x1_cdf,loc1,scale1)\n",
    "y2_cdf = scipy.stats.norm.cdf(x2_cdf,loc2,scale2)\n",
    "\n",
    "plt.plot(x1_cdf, y1_cdf)\n",
    "plt.plot(x2_cdf, y2_cdf)\n",
    "plt.axhline(y=.03, color='r')#<--- this draws a horizontal redline at 3%\n",
    "#plt.axvline(x=0, color='b')#<--- this draws a vertical blur line at x = 0 remmember e^0 = 1"
   ]
  },
  {
   "cell_type": "markdown",
   "metadata": {},
   "source": [
    "## If you come this far you then you may have a few questions:\n",
    "\n",
    "### 1. Whats the point ?\n",
    "### 2. Can you explain that please ?\n",
    "\n",
    "### Or you don't understand things like \"y1_cdf = scipy.stats.norm.cdf(x1_cdf,loc1,scale1)\""
   ]
  },
  {
   "cell_type": "code",
   "execution_count": null,
   "metadata": {},
   "outputs": [],
   "source": [
    "# remember this is the log of the ratio \"pieces of trash / 1 meter of shoreline\"\n",
    "# these are recorded observations by people using a protocol\n",
    "# the people are from two distinct groups that share a common vision\n",
    "# The people are all volunteers and recieved no compensation for thier work\n",
    "# The data is split along two categories :\n",
    "# 1. group_one = SLR\n",
    "# 2. group_two = MCBP\n",
    "# These two groups are combined to make a mass of observations:\n",
    "# All the observations on lac leman are grouped together\n",
    "# Then only those observations (lac leman) are further separated  by date in to three groups:\n",
    "#--- Start from the begining:\n",
    "#----- 0. pcs/m = \"pieces of trash / 1 meter of shoreline\"\n",
    "#----- 1. combined = group1 + group2\n",
    "#----- 2. lac_leman = combined[lac leman]<--- the brackets mean(only the day with that attribute)\n",
    "#----- 3. year_one = lac_leman[Nov-15-2015 < X < Nov-15-2016]\n",
    "#----- 4. year_two = lac_leman[Nov-15-2016 < X < Nov-15-2017]\n",
    "#----- 5. year_three = lac_leman[Nov-15-2017 < X ]\n",
    "# from there calculate the probability density of pcs/m for year one and two\n",
    "# see if the probability of finding a certain range of values has changed year over year\n",
    "# indentify the locations that fall within that range"
   ]
  },
  {
   "cell_type": "code",
   "execution_count": 35,
   "metadata": {},
   "outputs": [],
   "source": [
    "import datetime\n",
    "from datetime import datetime, timedelta"
   ]
  },
  {
   "cell_type": "code",
   "execution_count": 39,
   "metadata": {},
   "outputs": [],
   "source": [
    "\n",
    "def monthlist_fast(dates):\n",
    "    start, end = [datetime.strptime(_, \"%Y-%M-%d\") for _ in dates]\n",
    "    total_months = lambda dt: dt.month + 12 * dt.year\n",
    "    mlist = []\n",
    "    for tot_m in xrange(total_months(start)-1, total_months(end)):\n",
    "        y, m = divmod(tot_m, 12)\n",
    "        mlist.append(datetime(y, m+1, 1).strftime(\"%b-%y\"))\n",
    "    return mlist"
   ]
  },
  {
   "cell_type": "code",
   "execution_count": 56,
   "metadata": {},
   "outputs": [],
   "source": [
    "t_day = pd.to_datetime('today')\n",
    "t_day = t_day.strftime(\"%Y-%M-%d\")"
   ]
  },
  {
   "cell_type": "code",
   "execution_count": 48,
   "metadata": {},
   "outputs": [],
   "source": [
    "from dateutil.rrule import *\n",
    "from datetime import date\n",
    "\n",
    "months = map(\n",
    "    date.isoformat,\n",
    "    rrule(MONTHLY, dtstart=date(2010, 8, 1), until=date.today())\n",
    ")"
   ]
  },
  {
   "cell_type": "code",
   "execution_count": 229,
   "metadata": {},
   "outputs": [
    {
     "data": {
      "text/plain": [
       "['Nov - 2015',\n",
       " 'Dec - 2015',\n",
       " 'Jan - 2016',\n",
       " 'Feb - 2016',\n",
       " 'Mar - 2016',\n",
       " 'Apr - 2016',\n",
       " 'May - 2016',\n",
       " 'Jun - 2016',\n",
       " 'Jul - 2016',\n",
       " 'Aug - 2016',\n",
       " 'Sep - 2016',\n",
       " 'Oct - 2016',\n",
       " 'Nov - 2016',\n",
       " 'Dec - 2016',\n",
       " 'Jan - 2017',\n",
       " 'Feb - 2017',\n",
       " 'Mar - 2017',\n",
       " 'Apr - 2017',\n",
       " 'May - 2017',\n",
       " 'Jun - 2017',\n",
       " 'Jul - 2017',\n",
       " 'Aug - 2017',\n",
       " 'Sep - 2017',\n",
       " 'Oct - 2017',\n",
       " 'Nov - 2017',\n",
       " 'Dec - 2017',\n",
       " 'Jan - 2018',\n",
       " 'Feb - 2018',\n",
       " 'Mar - 2018',\n",
       " 'Apr - 2018',\n",
       " 'May - 2018']"
      ]
     },
     "execution_count": 229,
     "metadata": {},
     "output_type": "execute_result"
    }
   ],
   "source": [
    "import datetime\n",
    "from dateutil.rrule import rrule, MONTHLY\n",
    "first_day = datetime.date(2015,11,15)\n",
    "t_day = datetime.date.today()\n",
    "\n",
    "\n",
    "dates = [dt.strftime(\"%b - %Y\") for dt in rrule(MONTHLY, dtstart=first_day, until=t_day)]\n",
    "mon_s = [dt.strftime(\"%b\") for dt in rrule(MONTHLY, dtstart=first_day, until=t_day)]\n",
    "yers  = [dt.strftime(\"%Y\") for dt in rrule(MONTHLY, dtstart=first_day, until=t_day)]\n",
    "\n",
    "dates"
   ]
  },
  {
   "cell_type": "code",
   "execution_count": 230,
   "metadata": {},
   "outputs": [
    {
     "data": {
      "text/plain": [
       "datetime.date(2018, 5, 27)"
      ]
     },
     "execution_count": 230,
     "metadata": {},
     "output_type": "execute_result"
    }
   ],
   "source": [
    "#t_day = t_day.strftime(\"%Y-%M-%d\")\n",
    "datetime.date.today()"
   ]
  },
  {
   "cell_type": "code",
   "execution_count": 231,
   "metadata": {},
   "outputs": [],
   "source": [
    "b = dfA.copy()\n",
    "b = b[['date', 'location_id', 'total']].copy()\n",
    "\n",
    "b_1 = b['total'].groupby([ a.location_id, a.date.dt.year, a.date.dt.month]).describe()\n"
   ]
  },
  {
   "cell_type": "code",
   "execution_count": 232,
   "metadata": {},
   "outputs": [
    {
     "data": {
      "text/plain": [
       "'Dec-2015'"
      ]
     },
     "execution_count": 232,
     "metadata": {},
     "output_type": "execute_result"
    }
   ],
   "source": [
    "b['date'][4].strftime(\"%b-%Y\")"
   ]
  },
  {
   "cell_type": "code",
   "execution_count": 233,
   "metadata": {},
   "outputs": [
    {
     "data": {
      "text/plain": [
       "12"
      ]
     },
     "execution_count": 233,
     "metadata": {},
     "output_type": "execute_result"
    }
   ],
   "source": [
    "b['date'][4].month"
   ]
  },
  {
   "cell_type": "code",
   "execution_count": 234,
   "metadata": {},
   "outputs": [],
   "source": [
    "b_1.index.rename(['location_id','year', 'month',], inplace=True)"
   ]
  },
  {
   "cell_type": "code",
   "execution_count": null,
   "metadata": {},
   "outputs": [],
   "source": []
  },
  {
   "cell_type": "code",
   "execution_count": 236,
   "metadata": {},
   "outputs": [],
   "source": [
    "bx = b_1.loc[idx['Baye de Clarens', 2015, 11,]]"
   ]
  },
  {
   "cell_type": "code",
   "execution_count": 250,
   "metadata": {},
   "outputs": [
    {
     "data": {
      "text/plain": [
       "array([1.        , 1.69565217,        nan, 1.69565217, 1.69565217,\n",
       "       1.69565217, 1.69565217, 1.69565217])"
      ]
     },
     "execution_count": 250,
     "metadata": {},
     "output_type": "execute_result"
    }
   ],
   "source": [
    "bx.values"
   ]
  },
  {
   "cell_type": "code",
   "execution_count": 255,
   "metadata": {},
   "outputs": [
    {
     "data": {
      "text/plain": [
       "['Nov',\n",
       " 'Dec',\n",
       " 'Jan',\n",
       " 'Feb',\n",
       " 'Mar',\n",
       " 'Apr',\n",
       " 'May',\n",
       " 'Jun',\n",
       " 'Jul',\n",
       " 'Aug',\n",
       " 'Sep',\n",
       " 'Oct']"
      ]
     },
     "execution_count": 255,
     "metadata": {},
     "output_type": "execute_result"
    }
   ],
   "source": [
    "mon_dict = {1:'jan', 'Feb':2, 'Mar':3, 'Apr':4, 'May':5, 'Jun':6, 'July':7, 'Aug':8, 'Sep':9, 'Oct':10, 'Nov':11, 'Dec':12 }\n",
    "def get_unique_keep_order(x):\n",
    "    b = []\n",
    "    for a in x:\n",
    "        if a not in b:\n",
    "            b.append(a)\n",
    "    return b\n",
    "bxii = get_unique_keep_order(mon_s)\n",
    "mon_order = []\n"
   ]
  },
  {
   "cell_type": "code",
   "execution_count": null,
   "metadata": {},
   "outputs": [],
   "source": [
    "b_1['m_y'] = (b_1['month'], b_1['year'].astype(int))"
   ]
  },
  {
   "cell_type": "code",
   "execution_count": 185,
   "metadata": {},
   "outputs": [
    {
     "data": {
      "text/html": [
       "<div>\n",
       "<style scoped>\n",
       "    .dataframe tbody tr th:only-of-type {\n",
       "        vertical-align: middle;\n",
       "    }\n",
       "\n",
       "    .dataframe tbody tr th {\n",
       "        vertical-align: top;\n",
       "    }\n",
       "\n",
       "    .dataframe thead th {\n",
       "        text-align: right;\n",
       "    }\n",
       "</style>\n",
       "<table border=\"1\" class=\"dataframe\">\n",
       "  <thead>\n",
       "    <tr style=\"text-align: right;\">\n",
       "      <th>code_id</th>\n",
       "      <th>date</th>\n",
       "      <th>location_id</th>\n",
       "      <th>total</th>\n",
       "    </tr>\n",
       "  </thead>\n",
       "  <tbody>\n",
       "    <tr>\n",
       "      <th>1</th>\n",
       "      <td>2015-11-24</td>\n",
       "      <td>Baye de Clarens</td>\n",
       "      <td>1.695652</td>\n",
       "    </tr>\n",
       "    <tr>\n",
       "      <th>4</th>\n",
       "      <td>2015-12-02</td>\n",
       "      <td>Baye de Clarens</td>\n",
       "      <td>0.681159</td>\n",
       "    </tr>\n",
       "    <tr>\n",
       "      <th>8</th>\n",
       "      <td>2015-12-08</td>\n",
       "      <td>Baye de Clarens</td>\n",
       "      <td>3.391304</td>\n",
       "    </tr>\n",
       "    <tr>\n",
       "      <th>12</th>\n",
       "      <td>2015-12-16</td>\n",
       "      <td>Baye de Clarens</td>\n",
       "      <td>2.782609</td>\n",
       "    </tr>\n",
       "    <tr>\n",
       "      <th>16</th>\n",
       "      <td>2016-01-06</td>\n",
       "      <td>Baye de Clarens</td>\n",
       "      <td>1.927536</td>\n",
       "    </tr>\n",
       "    <tr>\n",
       "      <th>25</th>\n",
       "      <td>2016-01-23</td>\n",
       "      <td>Baye de Clarens</td>\n",
       "      <td>8.405797</td>\n",
       "    </tr>\n",
       "    <tr>\n",
       "      <th>28</th>\n",
       "      <td>2016-02-10</td>\n",
       "      <td>Baye de Clarens</td>\n",
       "      <td>2.115942</td>\n",
       "    </tr>\n",
       "    <tr>\n",
       "      <th>33</th>\n",
       "      <td>2016-03-24</td>\n",
       "      <td>Baye de Clarens</td>\n",
       "      <td>3.217391</td>\n",
       "    </tr>\n",
       "    <tr>\n",
       "      <th>37</th>\n",
       "      <td>2016-03-31</td>\n",
       "      <td>Baye de Clarens</td>\n",
       "      <td>7.289855</td>\n",
       "    </tr>\n",
       "    <tr>\n",
       "      <th>41</th>\n",
       "      <td>2016-04-07</td>\n",
       "      <td>Baye de Clarens</td>\n",
       "      <td>4.768116</td>\n",
       "    </tr>\n",
       "    <tr>\n",
       "      <th>46</th>\n",
       "      <td>2016-04-14</td>\n",
       "      <td>Baye de Clarens</td>\n",
       "      <td>0.869565</td>\n",
       "    </tr>\n",
       "    <tr>\n",
       "      <th>59</th>\n",
       "      <td>2016-05-10</td>\n",
       "      <td>Baye de Clarens</td>\n",
       "      <td>4.217391</td>\n",
       "    </tr>\n",
       "    <tr>\n",
       "      <th>61</th>\n",
       "      <td>2016-05-17</td>\n",
       "      <td>Baye de Clarens</td>\n",
       "      <td>1.652174</td>\n",
       "    </tr>\n",
       "  </tbody>\n",
       "</table>\n",
       "</div>"
      ],
      "text/plain": [
       "code_id       date      location_id     total\n",
       "1       2015-11-24  Baye de Clarens  1.695652\n",
       "4       2015-12-02  Baye de Clarens  0.681159\n",
       "8       2015-12-08  Baye de Clarens  3.391304\n",
       "12      2015-12-16  Baye de Clarens  2.782609\n",
       "16      2016-01-06  Baye de Clarens  1.927536\n",
       "25      2016-01-23  Baye de Clarens  8.405797\n",
       "28      2016-02-10  Baye de Clarens  2.115942\n",
       "33      2016-03-24  Baye de Clarens  3.217391\n",
       "37      2016-03-31  Baye de Clarens  7.289855\n",
       "41      2016-04-07  Baye de Clarens  4.768116\n",
       "46      2016-04-14  Baye de Clarens  0.869565\n",
       "59      2016-05-10  Baye de Clarens  4.217391\n",
       "61      2016-05-17  Baye de Clarens  1.652174"
      ]
     },
     "execution_count": 185,
     "metadata": {},
     "output_type": "execute_result"
    }
   ],
   "source": [
    "b[b.location_id == 'Baye de Clarens']"
   ]
  },
  {
   "cell_type": "code",
   "execution_count": 189,
   "metadata": {},
   "outputs": [],
   "source": [
    "c = b_1.loc['Baye de Clarens', :, :]"
   ]
  },
  {
   "cell_type": "code",
   "execution_count": 200,
   "metadata": {},
   "outputs": [
    {
     "data": {
      "text/plain": [
       "FrozenList(['location_id', 'year', 'month'])"
      ]
     },
     "execution_count": 200,
     "metadata": {},
     "output_type": "execute_result"
    }
   ],
   "source": [
    "c[:1].index.names"
   ]
  },
  {
   "cell_type": "code",
   "execution_count": 209,
   "metadata": {},
   "outputs": [
    {
     "data": {
      "text/plain": [
       "Index(['count', 'mean', 'std', 'min', '25%', '50%', '75%', 'max'], dtype='object')"
      ]
     },
     "execution_count": 209,
     "metadata": {},
     "output_type": "execute_result"
    }
   ],
   "source": [
    "c[:1].columns"
   ]
  },
  {
   "cell_type": "code",
   "execution_count": 210,
   "metadata": {},
   "outputs": [
    {
     "data": {
      "text/plain": [
       "pandas.core.frame.DataFrame"
      ]
     },
     "execution_count": 210,
     "metadata": {},
     "output_type": "execute_result"
    }
   ],
   "source": [
    "type(c[:1])"
   ]
  },
  {
   "cell_type": "code",
   "execution_count": 217,
   "metadata": {},
   "outputs": [
    {
     "data": {
      "text/plain": [
       "'Baye de Clarens'"
      ]
     },
     "execution_count": 217,
     "metadata": {},
     "output_type": "execute_result"
    }
   ],
   "source": [
    "c[:1].index.values[0][0]"
   ]
  },
  {
   "cell_type": "code",
   "execution_count": 218,
   "metadata": {},
   "outputs": [],
   "source": [
    "d, d1, d2 = c[:1].index.values[0][0], c[:1].index.values[0][1], c[:1].index.values[0][2]"
   ]
  },
  {
   "cell_type": "code",
   "execution_count": 221,
   "metadata": {},
   "outputs": [
    {
     "data": {
      "text/html": [
       "<div>\n",
       "<style scoped>\n",
       "    .dataframe tbody tr th:only-of-type {\n",
       "        vertical-align: middle;\n",
       "    }\n",
       "\n",
       "    .dataframe tbody tr th {\n",
       "        vertical-align: top;\n",
       "    }\n",
       "\n",
       "    .dataframe thead th {\n",
       "        text-align: right;\n",
       "    }\n",
       "</style>\n",
       "<table border=\"1\" class=\"dataframe\">\n",
       "  <thead>\n",
       "    <tr style=\"text-align: right;\">\n",
       "      <th></th>\n",
       "      <th></th>\n",
       "      <th></th>\n",
       "      <th>count</th>\n",
       "      <th>mean</th>\n",
       "      <th>std</th>\n",
       "      <th>min</th>\n",
       "      <th>25%</th>\n",
       "      <th>50%</th>\n",
       "      <th>75%</th>\n",
       "      <th>max</th>\n",
       "    </tr>\n",
       "    <tr>\n",
       "      <th>location_id</th>\n",
       "      <th>year</th>\n",
       "      <th>month</th>\n",
       "      <th></th>\n",
       "      <th></th>\n",
       "      <th></th>\n",
       "      <th></th>\n",
       "      <th></th>\n",
       "      <th></th>\n",
       "      <th></th>\n",
       "      <th></th>\n",
       "    </tr>\n",
       "  </thead>\n",
       "  <tbody>\n",
       "    <tr>\n",
       "      <th>Baye de Clarens</th>\n",
       "      <th>2015.0</th>\n",
       "      <th>11.0</th>\n",
       "      <td>1.0</td>\n",
       "      <td>1.695652</td>\n",
       "      <td>NaN</td>\n",
       "      <td>1.695652</td>\n",
       "      <td>1.695652</td>\n",
       "      <td>1.695652</td>\n",
       "      <td>1.695652</td>\n",
       "      <td>1.695652</td>\n",
       "    </tr>\n",
       "  </tbody>\n",
       "</table>\n",
       "</div>"
      ],
      "text/plain": [
       "                              count      mean  std       min       25%  \\\n",
       "location_id     year   month                                             \n",
       "Baye de Clarens 2015.0 11.0     1.0  1.695652  NaN  1.695652  1.695652   \n",
       "\n",
       "                                   50%       75%       max  \n",
       "location_id     year   month                                \n",
       "Baye de Clarens 2015.0 11.0   1.695652  1.695652  1.695652  "
      ]
     },
     "execution_count": 221,
     "metadata": {},
     "output_type": "execute_result"
    }
   ],
   "source": [
    "cx = c[:1].copy()\n",
    "cx"
   ]
  },
  {
   "cell_type": "code",
   "execution_count": 226,
   "metadata": {},
   "outputs": [
    {
     "data": {
      "text/plain": [
       "1.6956521739130435"
      ]
     },
     "execution_count": 226,
     "metadata": {},
     "output_type": "execute_result"
    }
   ],
   "source": [
    "cx['mean'].values[0]"
   ]
  },
  {
   "cell_type": "code",
   "execution_count": null,
   "metadata": {},
   "outputs": [],
   "source": [
    "months"
   ]
  },
  {
   "cell_type": "code",
   "execution_count": 228,
   "metadata": {},
   "outputs": [
    {
     "data": {
      "text/plain": [
       "2015.0"
      ]
     },
     "execution_count": 228,
     "metadata": {},
     "output_type": "execute_result"
    }
   ],
   "source": [
    "d1"
   ]
  },
  {
   "cell_type": "code",
   "execution_count": 219,
   "metadata": {},
   "outputs": [
    {
     "data": {
      "text/plain": [
       "'Baye de Clarens'"
      ]
     },
     "execution_count": 219,
     "metadata": {},
     "output_type": "execute_result"
    }
   ],
   "source": [
    "h = []"
   ]
  },
  {
   "cell_type": "code",
   "execution_count": 146,
   "metadata": {},
   "outputs": [
    {
     "data": {
      "text/plain": [
       "year    month  location_id         \n",
       "2015.0  11.0   Baye de Clarens         1.695652\n",
       "               Baye de Montreux - G    5.721311\n",
       "               Veveyse                 4.075472\n",
       "Name: mean, dtype: float64"
      ]
     },
     "execution_count": 146,
     "metadata": {},
     "output_type": "execute_result"
    }
   ],
   "source": [
    "b_1.loc[idx[2015, 11, :], 'mean']"
   ]
  },
  {
   "cell_type": "code",
   "execution_count": 148,
   "metadata": {},
   "outputs": [],
   "source": [
    "c = b_1.loc[idx[2015, 11, :], 'mean']"
   ]
  },
  {
   "cell_type": "code",
   "execution_count": 149,
   "metadata": {},
   "outputs": [
    {
     "data": {
      "text/plain": [
       "FrozenList(['year', 'month', 'location_id'])"
      ]
     },
     "execution_count": 149,
     "metadata": {},
     "output_type": "execute_result"
    }
   ],
   "source": [
    "c.index.names"
   ]
  },
  {
   "cell_type": "code",
   "execution_count": 150,
   "metadata": {},
   "outputs": [
    {
     "data": {
      "text/plain": [
       "Index(['Baye de Clarens', 'Baye de Montreux - G', 'Veveyse'], dtype='object', name='location_id')"
      ]
     },
     "execution_count": 150,
     "metadata": {},
     "output_type": "execute_result"
    }
   ],
   "source": [
    "c.index.get_level_values(2)"
   ]
  },
  {
   "cell_type": "code",
   "execution_count": 153,
   "metadata": {},
   "outputs": [
    {
     "data": {
      "text/plain": [
       "pandas.core.series.Series"
      ]
     },
     "execution_count": 153,
     "metadata": {},
     "output_type": "execute_result"
    }
   ],
   "source": [
    "type(c)"
   ]
  },
  {
   "cell_type": "code",
   "execution_count": 156,
   "metadata": {},
   "outputs": [
    {
     "data": {
      "text/plain": [
       "1.6956521739130435"
      ]
     },
     "execution_count": 156,
     "metadata": {},
     "output_type": "execute_result"
    }
   ],
   "source": [
    "c.loc[idx[2015, 11, 'Baye de Clarens'], ]"
   ]
  },
  {
   "cell_type": "code",
   "execution_count": 161,
   "metadata": {},
   "outputs": [
    {
     "data": {
      "text/plain": [
       "1.6956521739130435"
      ]
     },
     "execution_count": 161,
     "metadata": {},
     "output_type": "execute_result"
    }
   ],
   "source": [
    "b_1.loc[idx[2015, 11, 'Baye de Clarens'], 'mean']"
   ]
  },
  {
   "cell_type": "code",
   "execution_count": 162,
   "metadata": {},
   "outputs": [
    {
     "data": {
      "text/plain": [
       "count    1.000000\n",
       "mean     1.695652\n",
       "std           NaN\n",
       "min      1.695652\n",
       "25%      1.695652\n",
       "50%      1.695652\n",
       "75%      1.695652\n",
       "max      1.695652\n",
       "Name: (2015.0, 11.0, Baye de Clarens), dtype: float64"
      ]
     },
     "execution_count": 162,
     "metadata": {},
     "output_type": "execute_result"
    }
   ],
   "source": [
    "b_1.loc[idx[2015, 11, 'Baye de Clarens']]"
   ]
  },
  {
   "cell_type": "code",
   "execution_count": null,
   "metadata": {},
   "outputs": [],
   "source": []
  }
 ],
 "metadata": {
  "kernelspec": {
   "display_name": "Python 3",
   "language": "python",
   "name": "python3"
  },
  "language_info": {
   "codemirror_mode": {
    "name": "ipython",
    "version": 3
   },
   "file_extension": ".py",
   "mimetype": "text/x-python",
   "name": "python",
   "nbconvert_exporter": "python",
   "pygments_lexer": "ipython3",
   "version": "3.6.4"
  }
 },
 "nbformat": 4,
 "nbformat_minor": 2
}
