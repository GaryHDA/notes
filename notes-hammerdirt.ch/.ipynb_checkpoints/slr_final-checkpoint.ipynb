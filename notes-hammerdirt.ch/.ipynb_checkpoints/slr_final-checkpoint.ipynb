{
 "cells": [
  {
   "cell_type": "code",
   "execution_count": 1,
   "metadata": {},
   "outputs": [],
   "source": [
    "import pandas as pd\n",
    "import numpy as np\n",
    "import matplotlib\n",
    "import matplotlib.pyplot as plt\n",
    "import pickle\n",
    "import re\n",
    "import os\n",
    "from scipy.stats import norm\n",
    "import scipy.stats"
   ]
  },
  {
   "cell_type": "code",
   "execution_count": 2,
   "metadata": {},
   "outputs": [],
   "source": [
    "here = os.getcwd()\n",
    "data = here + '/data'"
   ]
  },
  {
   "cell_type": "code",
   "execution_count": 8,
   "metadata": {},
   "outputs": [],
   "source": [
    "a = pd.read_excel(data + '/slr_final.xlsx', sheet_name='SLR_Data', header=0)"
   ]
  },
  {
   "cell_type": "code",
   "execution_count": 10,
   "metadata": {},
   "outputs": [
    {
     "data": {
      "text/plain": [
       "Index(['BeachName', 'lat_y1', 'lon_x1', 'lat_y2', 'lon_x2', 'BeachLength_m',\n",
       "       'EventDate', 'G3', 'G4', 'G7',\n",
       "       ...\n",
       "       'Gebiet', 'Besucheranzahl', 'Gewässer', 'Standorteigenschaft am Fluss',\n",
       "       'Mündung', 'Percent_WashedAshore', 'Total_WashedAshore',\n",
       "       'Wird die Fläche gereinigt?',\n",
       "       'Wann finden die Erhebungen in Bezug zur Reinigung statt?', 'Region'],\n",
       "      dtype='object', length=132)"
      ]
     },
     "execution_count": 10,
     "metadata": {},
     "output_type": "execute_result"
    }
   ],
   "source": [
    "a.columns"
   ]
  },
  {
   "cell_type": "code",
   "execution_count": null,
   "metadata": {},
   "outputs": [],
   "source": []
  }
 ],
 "metadata": {
  "kernelspec": {
   "display_name": "Python 3",
   "language": "python",
   "name": "python3"
  },
  "language_info": {
   "codemirror_mode": {
    "name": "ipython",
    "version": 3
   },
   "file_extension": ".py",
   "mimetype": "text/x-python",
   "name": "python",
   "nbconvert_exporter": "python",
   "pygments_lexer": "ipython3",
   "version": "3.6.5"
  }
 },
 "nbformat": 4,
 "nbformat_minor": 2
}
