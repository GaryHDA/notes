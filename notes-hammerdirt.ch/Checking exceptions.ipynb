{
 "cells": [
  {
   "cell_type": "markdown",
   "metadata": {},
   "source": [
    "### There are over 1000 samples from 135 locations in the data set\n",
    "#### It is essential that we can indentify extreme values and identify the cause\n",
    "\n",
    "1. Misidentification of objects can lead to false results\n",
    "2. Volunteers have different expertise and training\n",
    "3. Training and feedback is essential to getting a consistent data set\n",
    "\n",
    "### Key assumptions:\n",
    "\n",
    "1. Sample locations with common properties should have similar distributions for objects or groups of objects\n",
    "2. Siginifigant differences in the distributions could be attributed to misidentification of objects\n",
    "3. If the items are properly identified, then there are other factors that contribute to the difference\n",
    "\n",
    "#### This is the first step to determining cause or origin of the objects found on the water line.  Locations with extreme values can be compared for other correlations including : population density, water level etc...\n",
    "\n",
    "#### We will compare the groups of objects that have similar origins from all the lakes in the survey:\n",
    "\n",
    "1. Direct consumer: Candy wrappers, lolipop sticks, bottle caps(metal and plastic), straws\n",
    "2. Industry & constriction: Fragmented Styrofoam and plastic, plastic construction waste, industrial sheeting\n",
    "3. Infrastructure - Cotton swabs, tampons & maxi pads, tampon applicators, media filters\n"
   ]
  },
  {
   "cell_type": "markdown",
   "metadata": {},
   "source": [
    "#### Load the libraries needed:"
   ]
  },
  {
   "cell_type": "code",
   "execution_count": 1,
   "metadata": {},
   "outputs": [
    {
     "data": {
      "text/plain": [
       "'/home/mw-shovel/web/notes/notes-hammerdirt.ch'"
      ]
     },
     "execution_count": 1,
     "metadata": {},
     "output_type": "execute_result"
    }
   ],
   "source": [
    "import pandas as pd\n",
    "import numpy as np\n",
    "import matplotlib\n",
    "import matplotlib.pyplot as plt\n",
    "import re\n",
    "import os\n",
    "from scipy.stats import norm\n",
    "import scipy.stats\n",
    "import statsmodels.api as sm #<----- this library has a bunch of tools to use on the poisson process\n",
    "here = os.getcwd()\n",
    "data = here + '/data/'\n",
    "here"
   ]
  },
  {
   "cell_type": "markdown",
   "metadata": {},
   "source": [
    "#### Get the data and any other 'objects' required\n",
    "\n",
    "#### The freshest data is available here http://mwshovel.pythonanywhere.com/dirt/beach_litter.html check under the read me section. \"Click here to get data in csv format\" will open a modal with links to the data used here.\n",
    "\n",
    "> This data has been cleaned, which means any record that gives a 'nan' value when quantity is divided by length has been discarded."
   ]
  },
  {
   "cell_type": "code",
   "execution_count": 2,
   "metadata": {},
   "outputs": [],
   "source": [
    "# this has already been downloaded for this note book\n",
    "\n",
    "obj_totals = pd.read_csv(data + 'code_data.csv')\n",
    "day_totals = pd.read_csv(data + 'daily_data.csv')\n",
    "location = pd.read_csv(data + 'site_data.csv')"
   ]
  },
  {
   "cell_type": "code",
   "execution_count": 3,
   "metadata": {},
   "outputs": [
    {
     "data": {
      "text/html": [
       "<div>\n",
       "<style scoped>\n",
       "    .dataframe tbody tr th:only-of-type {\n",
       "        vertical-align: middle;\n",
       "    }\n",
       "\n",
       "    .dataframe tbody tr th {\n",
       "        vertical-align: top;\n",
       "    }\n",
       "\n",
       "    .dataframe thead th {\n",
       "        text-align: right;\n",
       "    }\n",
       "</style>\n",
       "<table border=\"1\" class=\"dataframe\">\n",
       "  <thead>\n",
       "    <tr style=\"text-align: right;\">\n",
       "      <th></th>\n",
       "      <th>Unnamed: 0</th>\n",
       "      <th>city</th>\n",
       "      <th>latitude</th>\n",
       "      <th>location</th>\n",
       "      <th>longitude</th>\n",
       "      <th>post</th>\n",
       "      <th>project_id</th>\n",
       "      <th>water</th>\n",
       "      <th>water_name</th>\n",
       "    </tr>\n",
       "  </thead>\n",
       "  <tbody>\n",
       "    <tr>\n",
       "      <th>0</th>\n",
       "      <td>0</td>\n",
       "      <td>La Tour-de-Peilz</td>\n",
       "      <td>46.447216</td>\n",
       "      <td>Anarchy Beach</td>\n",
       "      <td>6.859612</td>\n",
       "      <td>1814</td>\n",
       "      <td>MCBP</td>\n",
       "      <td>l</td>\n",
       "      <td>Lac Léman</td>\n",
       "    </tr>\n",
       "    <tr>\n",
       "      <th>1</th>\n",
       "      <td>1</td>\n",
       "      <td>Vevey</td>\n",
       "      <td>46.462099</td>\n",
       "      <td>Arabie</td>\n",
       "      <td>6.834972</td>\n",
       "      <td>1800</td>\n",
       "      <td>MCBP</td>\n",
       "      <td>l</td>\n",
       "      <td>Lac Léman</td>\n",
       "    </tr>\n",
       "    <tr>\n",
       "      <th>2</th>\n",
       "      <td>2</td>\n",
       "      <td>La Tour-de-Peilz</td>\n",
       "      <td>46.450507</td>\n",
       "      <td>Bain des Dames</td>\n",
       "      <td>6.858092</td>\n",
       "      <td>1814</td>\n",
       "      <td>MCBP</td>\n",
       "      <td>l</td>\n",
       "      <td>Lac Léman</td>\n",
       "    </tr>\n",
       "  </tbody>\n",
       "</table>\n",
       "</div>"
      ],
      "text/plain": [
       "   Unnamed: 0              city   latitude        location  longitude  post  \\\n",
       "0           0  La Tour-de-Peilz  46.447216   Anarchy Beach   6.859612  1814   \n",
       "1           1             Vevey  46.462099          Arabie   6.834972  1800   \n",
       "2           2  La Tour-de-Peilz  46.450507  Bain des Dames   6.858092  1814   \n",
       "\n",
       "  project_id water water_name  \n",
       "0       MCBP     l  Lac Léman  \n",
       "1       MCBP     l  Lac Léman  \n",
       "2       MCBP     l  Lac Léman  "
      ]
     },
     "execution_count": 3,
     "metadata": {},
     "output_type": "execute_result"
    }
   ],
   "source": [
    "location[:3]"
   ]
  },
  {
   "cell_type": "code",
   "execution_count": 4,
   "metadata": {},
   "outputs": [],
   "source": [
    "# clean this up a little\n",
    "def give_columns(a):\n",
    "    return a.columns\n",
    "a = give_columns(location)\n",
    "b = give_columns(day_totals)\n",
    "c = give_columns(obj_totals)"
   ]
  },
  {
   "cell_type": "code",
   "execution_count": 5,
   "metadata": {},
   "outputs": [
    {
     "data": {
      "text/html": [
       "<div>\n",
       "<style scoped>\n",
       "    .dataframe tbody tr th:only-of-type {\n",
       "        vertical-align: middle;\n",
       "    }\n",
       "\n",
       "    .dataframe tbody tr th {\n",
       "        vertical-align: top;\n",
       "    }\n",
       "\n",
       "    .dataframe thead th {\n",
       "        text-align: right;\n",
       "    }\n",
       "</style>\n",
       "<table border=\"1\" class=\"dataframe\">\n",
       "  <thead>\n",
       "    <tr style=\"text-align: right;\">\n",
       "      <th></th>\n",
       "      <th>city</th>\n",
       "      <th>latitude</th>\n",
       "      <th>location</th>\n",
       "      <th>longitude</th>\n",
       "      <th>post</th>\n",
       "      <th>project_id</th>\n",
       "      <th>water</th>\n",
       "      <th>water_name</th>\n",
       "    </tr>\n",
       "  </thead>\n",
       "  <tbody>\n",
       "    <tr>\n",
       "      <th>0</th>\n",
       "      <td>La Tour-de-Peilz</td>\n",
       "      <td>46.447216</td>\n",
       "      <td>Anarchy Beach</td>\n",
       "      <td>6.859612</td>\n",
       "      <td>1814</td>\n",
       "      <td>MCBP</td>\n",
       "      <td>l</td>\n",
       "      <td>Lac Léman</td>\n",
       "    </tr>\n",
       "    <tr>\n",
       "      <th>1</th>\n",
       "      <td>Vevey</td>\n",
       "      <td>46.462099</td>\n",
       "      <td>Arabie</td>\n",
       "      <td>6.834972</td>\n",
       "      <td>1800</td>\n",
       "      <td>MCBP</td>\n",
       "      <td>l</td>\n",
       "      <td>Lac Léman</td>\n",
       "    </tr>\n",
       "    <tr>\n",
       "      <th>2</th>\n",
       "      <td>La Tour-de-Peilz</td>\n",
       "      <td>46.450507</td>\n",
       "      <td>Bain des Dames</td>\n",
       "      <td>6.858092</td>\n",
       "      <td>1814</td>\n",
       "      <td>MCBP</td>\n",
       "      <td>l</td>\n",
       "      <td>Lac Léman</td>\n",
       "    </tr>\n",
       "  </tbody>\n",
       "</table>\n",
       "</div>"
      ],
      "text/plain": [
       "               city   latitude        location  longitude  post project_id  \\\n",
       "0  La Tour-de-Peilz  46.447216   Anarchy Beach   6.859612  1814       MCBP   \n",
       "1             Vevey  46.462099          Arabie   6.834972  1800       MCBP   \n",
       "2  La Tour-de-Peilz  46.450507  Bain des Dames   6.858092  1814       MCBP   \n",
       "\n",
       "  water water_name  \n",
       "0     l  Lac Léman  \n",
       "1     l  Lac Léman  \n",
       "2     l  Lac Léman  "
      ]
     },
     "execution_count": 5,
     "metadata": {},
     "output_type": "execute_result"
    }
   ],
   "source": [
    "location = location[a[1:]].copy()\n",
    "location[:3]"
   ]
  },
  {
   "cell_type": "code",
   "execution_count": 6,
   "metadata": {},
   "outputs": [],
   "source": [
    "day_totals = day_totals[b[1:]]\n",
    "obj_totals = obj_totals[c[1:]]"
   ]
  },
  {
   "cell_type": "code",
   "execution_count": 7,
   "metadata": {},
   "outputs": [
    {
     "data": {
      "text/html": [
       "<div>\n",
       "<style scoped>\n",
       "    .dataframe tbody tr th:only-of-type {\n",
       "        vertical-align: middle;\n",
       "    }\n",
       "\n",
       "    .dataframe tbody tr th {\n",
       "        vertical-align: top;\n",
       "    }\n",
       "\n",
       "    .dataframe thead th {\n",
       "        text-align: right;\n",
       "    }\n",
       "</style>\n",
       "<table border=\"1\" class=\"dataframe\">\n",
       "  <thead>\n",
       "    <tr style=\"text-align: right;\">\n",
       "      <th></th>\n",
       "      <th>city</th>\n",
       "      <th>latitude</th>\n",
       "      <th>location</th>\n",
       "      <th>longitude</th>\n",
       "      <th>post</th>\n",
       "      <th>project_id</th>\n",
       "      <th>water</th>\n",
       "      <th>water_name</th>\n",
       "    </tr>\n",
       "  </thead>\n",
       "  <tbody>\n",
       "    <tr>\n",
       "      <th>0</th>\n",
       "      <td>La Tour-de-Peilz</td>\n",
       "      <td>46.447216</td>\n",
       "      <td>Anarchy Beach</td>\n",
       "      <td>6.859612</td>\n",
       "      <td>1814</td>\n",
       "      <td>MCBP</td>\n",
       "      <td>l</td>\n",
       "      <td>Lac Léman</td>\n",
       "    </tr>\n",
       "    <tr>\n",
       "      <th>1</th>\n",
       "      <td>Vevey</td>\n",
       "      <td>46.462099</td>\n",
       "      <td>Arabie</td>\n",
       "      <td>6.834972</td>\n",
       "      <td>1800</td>\n",
       "      <td>MCBP</td>\n",
       "      <td>l</td>\n",
       "      <td>Lac Léman</td>\n",
       "    </tr>\n",
       "    <tr>\n",
       "      <th>2</th>\n",
       "      <td>La Tour-de-Peilz</td>\n",
       "      <td>46.450507</td>\n",
       "      <td>Bain des Dames</td>\n",
       "      <td>6.858092</td>\n",
       "      <td>1814</td>\n",
       "      <td>MCBP</td>\n",
       "      <td>l</td>\n",
       "      <td>Lac Léman</td>\n",
       "    </tr>\n",
       "    <tr>\n",
       "      <th>3</th>\n",
       "      <td>Montreux</td>\n",
       "      <td>46.439787</td>\n",
       "      <td>Baye de Clarens</td>\n",
       "      <td>6.888903</td>\n",
       "      <td>1815</td>\n",
       "      <td>MCBP</td>\n",
       "      <td>l</td>\n",
       "      <td>Lac Léman</td>\n",
       "    </tr>\n",
       "    <tr>\n",
       "      <th>4</th>\n",
       "      <td>Montreux</td>\n",
       "      <td>46.430962</td>\n",
       "      <td>Baye de Montreux - D</td>\n",
       "      <td>6.908673</td>\n",
       "      <td>1820</td>\n",
       "      <td>MCBP</td>\n",
       "      <td>l</td>\n",
       "      <td>Lac Léman</td>\n",
       "    </tr>\n",
       "    <tr>\n",
       "      <th>5</th>\n",
       "      <td>Montreux</td>\n",
       "      <td>46.430834</td>\n",
       "      <td>Baye de Montreux - G</td>\n",
       "      <td>6.908778</td>\n",
       "      <td>1820</td>\n",
       "      <td>MCBP</td>\n",
       "      <td>l</td>\n",
       "      <td>Lac Léman</td>\n",
       "    </tr>\n",
       "    <tr>\n",
       "      <th>6</th>\n",
       "      <td>Tolochenaz</td>\n",
       "      <td>46.491030</td>\n",
       "      <td>Boiron</td>\n",
       "      <td>6.480162</td>\n",
       "      <td>1131</td>\n",
       "      <td>MCBP</td>\n",
       "      <td>l</td>\n",
       "      <td>Lac Léman</td>\n",
       "    </tr>\n",
       "    <tr>\n",
       "      <th>7</th>\n",
       "      <td>Saint-Gingolph</td>\n",
       "      <td>46.387746</td>\n",
       "      <td>Grand Clos</td>\n",
       "      <td>6.843686</td>\n",
       "      <td>1898</td>\n",
       "      <td>MCBP</td>\n",
       "      <td>l</td>\n",
       "      <td>Lac Léman</td>\n",
       "    </tr>\n",
       "    <tr>\n",
       "      <th>8</th>\n",
       "      <td>Genève</td>\n",
       "      <td>46.225909</td>\n",
       "      <td>Jardin Botanique</td>\n",
       "      <td>6.149357</td>\n",
       "      <td>1202</td>\n",
       "      <td>MCBP</td>\n",
       "      <td>l</td>\n",
       "      <td>Lac Léman</td>\n",
       "    </tr>\n",
       "    <tr>\n",
       "      <th>9</th>\n",
       "      <td>Morges</td>\n",
       "      <td>46.504063</td>\n",
       "      <td>La Morges</td>\n",
       "      <td>6.494099</td>\n",
       "      <td>1110</td>\n",
       "      <td>MCBP</td>\n",
       "      <td>l</td>\n",
       "      <td>Lac Léman</td>\n",
       "    </tr>\n",
       "  </tbody>\n",
       "</table>\n",
       "</div>"
      ],
      "text/plain": [
       "               city   latitude              location  longitude  post  \\\n",
       "0  La Tour-de-Peilz  46.447216         Anarchy Beach   6.859612  1814   \n",
       "1             Vevey  46.462099                Arabie   6.834972  1800   \n",
       "2  La Tour-de-Peilz  46.450507        Bain des Dames   6.858092  1814   \n",
       "3          Montreux  46.439787       Baye de Clarens   6.888903  1815   \n",
       "4          Montreux  46.430962  Baye de Montreux - D   6.908673  1820   \n",
       "5          Montreux  46.430834  Baye de Montreux - G   6.908778  1820   \n",
       "6        Tolochenaz  46.491030                Boiron   6.480162  1131   \n",
       "7    Saint-Gingolph  46.387746            Grand Clos   6.843686  1898   \n",
       "8            Genève  46.225909      Jardin Botanique   6.149357  1202   \n",
       "9            Morges  46.504063             La Morges   6.494099  1110   \n",
       "\n",
       "  project_id water water_name  \n",
       "0       MCBP     l  Lac Léman  \n",
       "1       MCBP     l  Lac Léman  \n",
       "2       MCBP     l  Lac Léman  \n",
       "3       MCBP     l  Lac Léman  \n",
       "4       MCBP     l  Lac Léman  \n",
       "5       MCBP     l  Lac Léman  \n",
       "6       MCBP     l  Lac Léman  \n",
       "7       MCBP     l  Lac Léman  \n",
       "8       MCBP     l  Lac Léman  \n",
       "9       MCBP     l  Lac Léman  "
      ]
     },
     "execution_count": 7,
     "metadata": {},
     "output_type": "execute_result"
    }
   ],
   "source": [
    "# take only locations that are on lakes\n",
    "def get_lakes(a):\n",
    "    return a.loc[a.water == 'l']\n",
    "lakes = get_lakes(location).copy()\n",
    "lakes[:10]"
   ]
  },
  {
   "cell_type": "code",
   "execution_count": 8,
   "metadata": {},
   "outputs": [],
   "source": [
    "# get the object totals and daily totals that correspond to lakes\n",
    "lake_sites = list(lakes.location.unique())\n",
    "def just_lakes(a, b):\n",
    "    return a.loc[a.location_id.isin(b)].copy()\n",
    "lake_obj = just_lakes(obj_totals, lake_sites)\n",
    "lake_day = just_lakes(day_totals, lake_sites)"
   ]
  },
  {
   "cell_type": "code",
   "execution_count": 9,
   "metadata": {},
   "outputs": [
    {
     "data": {
      "text/plain": [
       "['bodensee_altenrhein_caluoria',\n",
       " 'Bodensee_Arbon_MösliS',\n",
       " 'bodensee_horn_huberm',\n",
       " 'Bodensee_Steinach_Dolder_A',\n",
       " 'bodensee_thal_schlachterj_1']"
      ]
     },
     "execution_count": 9,
     "metadata": {},
     "output_type": "execute_result"
    }
   ],
   "source": [
    "# map/make a dictionary that groups lake names with location/sample sites:\n",
    "lake_list = list(lakes.water_name.unique())\n",
    "def lake_dict(a, b):\n",
    "    f = {}\n",
    "    for e in b:\n",
    "        f.update({e:[]})\n",
    "        for c, d in a.iterrows():\n",
    "            if d['water_name'] == e:\n",
    "                f[e].append(d['location'])\n",
    "    return f\n",
    "lake_key = lake_dict(lakes, lake_list)\n",
    "# now everything can be accesed by a key value pair                \n",
    "lake_key['Bodensee']    "
   ]
  },
  {
   "cell_type": "code",
   "execution_count": 10,
   "metadata": {},
   "outputs": [],
   "source": [
    "# create the groups of items\n",
    "# industrial\n",
    "industry = ['G67', 'G79', 'G82', 'G89']\n",
    "# direct from the consumer\n",
    "consumer = ['G30', 'G178', 'G21', 'G23', 'G31', 'G35']\n",
    "# infrastructure -- water treatment\n",
    "infra = ['G95', 'G96', 'G91', 'G144']\n",
    "# these are the codes we want to compare across lakes\n",
    "# pull those out of the objects dataframe\n",
    "all_objs = ['G95', 'G96', 'G91', 'G144','G30', 'G178', 'G21', 'G23', 'G31', 'G35', 'G67', 'G79', 'G82', 'G89']"
   ]
  },
  {
   "cell_type": "code",
   "execution_count": 11,
   "metadata": {},
   "outputs": [],
   "source": [
    "group_obj = lake_obj.loc[lake_obj.code_id.isin(all_objs)]"
   ]
  },
  {
   "cell_type": "code",
   "execution_count": 12,
   "metadata": {},
   "outputs": [],
   "source": [
    "dfObj = group_obj.pivot_table('density', index=['date', 'location_id', 'project_id'], columns=['code_id'], fill_value=0)"
   ]
  },
  {
   "cell_type": "code",
   "execution_count": 13,
   "metadata": {},
   "outputs": [
    {
     "data": {
      "text/html": [
       "<div>\n",
       "<style scoped>\n",
       "    .dataframe tbody tr th:only-of-type {\n",
       "        vertical-align: middle;\n",
       "    }\n",
       "\n",
       "    .dataframe tbody tr th {\n",
       "        vertical-align: top;\n",
       "    }\n",
       "\n",
       "    .dataframe thead th {\n",
       "        text-align: right;\n",
       "    }\n",
       "</style>\n",
       "<table border=\"1\" class=\"dataframe\">\n",
       "  <thead>\n",
       "    <tr style=\"text-align: right;\">\n",
       "      <th></th>\n",
       "      <th></th>\n",
       "      <th>code_id</th>\n",
       "      <th>G144</th>\n",
       "      <th>G178</th>\n",
       "      <th>G21</th>\n",
       "      <th>G23</th>\n",
       "      <th>G30</th>\n",
       "      <th>G31</th>\n",
       "      <th>G35</th>\n",
       "      <th>G67</th>\n",
       "      <th>G79</th>\n",
       "      <th>G82</th>\n",
       "      <th>G89</th>\n",
       "      <th>G91</th>\n",
       "      <th>G95</th>\n",
       "      <th>G96</th>\n",
       "    </tr>\n",
       "    <tr>\n",
       "      <th>date</th>\n",
       "      <th>location_id</th>\n",
       "      <th>project_id</th>\n",
       "      <th></th>\n",
       "      <th></th>\n",
       "      <th></th>\n",
       "      <th></th>\n",
       "      <th></th>\n",
       "      <th></th>\n",
       "      <th></th>\n",
       "      <th></th>\n",
       "      <th></th>\n",
       "      <th></th>\n",
       "      <th></th>\n",
       "      <th></th>\n",
       "      <th></th>\n",
       "      <th></th>\n",
       "    </tr>\n",
       "  </thead>\n",
       "  <tbody>\n",
       "    <tr>\n",
       "      <th rowspan=\"3\" valign=\"top\">2017-04-03</th>\n",
       "      <th>vierwaldstättersee_weggis_schöberls_1</th>\n",
       "      <th>SLR</th>\n",
       "      <td>0.0</td>\n",
       "      <td>0.00</td>\n",
       "      <td>0.0</td>\n",
       "      <td>0.0</td>\n",
       "      <td>0.00</td>\n",
       "      <td>0.00</td>\n",
       "      <td>0.0</td>\n",
       "      <td>0.00</td>\n",
       "      <td>4.35</td>\n",
       "      <td>4.35</td>\n",
       "      <td>0.0</td>\n",
       "      <td>0.0</td>\n",
       "      <td>0.0</td>\n",
       "      <td>0.0</td>\n",
       "    </tr>\n",
       "    <tr>\n",
       "      <th>vierwaldstättersee_weggis_schöberls_2</th>\n",
       "      <th>SLR</th>\n",
       "      <td>0.0</td>\n",
       "      <td>0.00</td>\n",
       "      <td>0.0</td>\n",
       "      <td>0.0</td>\n",
       "      <td>1.47</td>\n",
       "      <td>0.00</td>\n",
       "      <td>0.0</td>\n",
       "      <td>5.88</td>\n",
       "      <td>2.94</td>\n",
       "      <td>0.00</td>\n",
       "      <td>0.0</td>\n",
       "      <td>0.0</td>\n",
       "      <td>0.0</td>\n",
       "      <td>0.0</td>\n",
       "    </tr>\n",
       "    <tr>\n",
       "      <th>vierwaldstättersee_weggis_schöberls_3</th>\n",
       "      <th>SLR</th>\n",
       "      <td>0.0</td>\n",
       "      <td>0.00</td>\n",
       "      <td>0.0</td>\n",
       "      <td>0.0</td>\n",
       "      <td>1.49</td>\n",
       "      <td>1.49</td>\n",
       "      <td>0.0</td>\n",
       "      <td>7.46</td>\n",
       "      <td>17.91</td>\n",
       "      <td>20.90</td>\n",
       "      <td>0.0</td>\n",
       "      <td>0.0</td>\n",
       "      <td>0.0</td>\n",
       "      <td>0.0</td>\n",
       "    </tr>\n",
       "    <tr>\n",
       "      <th>2017-04-04</th>\n",
       "      <th>katzensee_regensdorfzuerichaffoltern_stueberj</th>\n",
       "      <th>SLR</th>\n",
       "      <td>0.0</td>\n",
       "      <td>1.59</td>\n",
       "      <td>0.0</td>\n",
       "      <td>0.0</td>\n",
       "      <td>4.76</td>\n",
       "      <td>4.76</td>\n",
       "      <td>0.0</td>\n",
       "      <td>3.17</td>\n",
       "      <td>7.94</td>\n",
       "      <td>0.00</td>\n",
       "      <td>0.0</td>\n",
       "      <td>0.0</td>\n",
       "      <td>0.0</td>\n",
       "      <td>0.0</td>\n",
       "    </tr>\n",
       "    <tr>\n",
       "      <th>2017-04-05</th>\n",
       "      <th>Bodensee_Arbon_MösliS</th>\n",
       "      <th>SLR</th>\n",
       "      <td>0.0</td>\n",
       "      <td>10.00</td>\n",
       "      <td>0.0</td>\n",
       "      <td>0.0</td>\n",
       "      <td>13.33</td>\n",
       "      <td>0.00</td>\n",
       "      <td>0.0</td>\n",
       "      <td>0.00</td>\n",
       "      <td>0.00</td>\n",
       "      <td>0.00</td>\n",
       "      <td>0.0</td>\n",
       "      <td>0.0</td>\n",
       "      <td>0.0</td>\n",
       "      <td>0.0</td>\n",
       "    </tr>\n",
       "  </tbody>\n",
       "</table>\n",
       "</div>"
      ],
      "text/plain": [
       "code_id                                                              G144  \\\n",
       "date       location_id                                   project_id         \n",
       "2017-04-03 vierwaldstättersee_weggis_schöberls_1         SLR          0.0   \n",
       "           vierwaldstättersee_weggis_schöberls_2         SLR          0.0   \n",
       "           vierwaldstättersee_weggis_schöberls_3         SLR          0.0   \n",
       "2017-04-04 katzensee_regensdorfzuerichaffoltern_stueberj SLR          0.0   \n",
       "2017-04-05 Bodensee_Arbon_MösliS                         SLR          0.0   \n",
       "\n",
       "code_id                                                               G178  \\\n",
       "date       location_id                                   project_id          \n",
       "2017-04-03 vierwaldstättersee_weggis_schöberls_1         SLR          0.00   \n",
       "           vierwaldstättersee_weggis_schöberls_2         SLR          0.00   \n",
       "           vierwaldstättersee_weggis_schöberls_3         SLR          0.00   \n",
       "2017-04-04 katzensee_regensdorfzuerichaffoltern_stueberj SLR          1.59   \n",
       "2017-04-05 Bodensee_Arbon_MösliS                         SLR         10.00   \n",
       "\n",
       "code_id                                                              G21  G23  \\\n",
       "date       location_id                                   project_id             \n",
       "2017-04-03 vierwaldstättersee_weggis_schöberls_1         SLR         0.0  0.0   \n",
       "           vierwaldstättersee_weggis_schöberls_2         SLR         0.0  0.0   \n",
       "           vierwaldstättersee_weggis_schöberls_3         SLR         0.0  0.0   \n",
       "2017-04-04 katzensee_regensdorfzuerichaffoltern_stueberj SLR         0.0  0.0   \n",
       "2017-04-05 Bodensee_Arbon_MösliS                         SLR         0.0  0.0   \n",
       "\n",
       "code_id                                                                G30  \\\n",
       "date       location_id                                   project_id          \n",
       "2017-04-03 vierwaldstättersee_weggis_schöberls_1         SLR          0.00   \n",
       "           vierwaldstättersee_weggis_schöberls_2         SLR          1.47   \n",
       "           vierwaldstättersee_weggis_schöberls_3         SLR          1.49   \n",
       "2017-04-04 katzensee_regensdorfzuerichaffoltern_stueberj SLR          4.76   \n",
       "2017-04-05 Bodensee_Arbon_MösliS                         SLR         13.33   \n",
       "\n",
       "code_id                                                               G31  \\\n",
       "date       location_id                                   project_id         \n",
       "2017-04-03 vierwaldstättersee_weggis_schöberls_1         SLR         0.00   \n",
       "           vierwaldstättersee_weggis_schöberls_2         SLR         0.00   \n",
       "           vierwaldstättersee_weggis_schöberls_3         SLR         1.49   \n",
       "2017-04-04 katzensee_regensdorfzuerichaffoltern_stueberj SLR         4.76   \n",
       "2017-04-05 Bodensee_Arbon_MösliS                         SLR         0.00   \n",
       "\n",
       "code_id                                                              G35  \\\n",
       "date       location_id                                   project_id        \n",
       "2017-04-03 vierwaldstättersee_weggis_schöberls_1         SLR         0.0   \n",
       "           vierwaldstättersee_weggis_schöberls_2         SLR         0.0   \n",
       "           vierwaldstättersee_weggis_schöberls_3         SLR         0.0   \n",
       "2017-04-04 katzensee_regensdorfzuerichaffoltern_stueberj SLR         0.0   \n",
       "2017-04-05 Bodensee_Arbon_MösliS                         SLR         0.0   \n",
       "\n",
       "code_id                                                               G67  \\\n",
       "date       location_id                                   project_id         \n",
       "2017-04-03 vierwaldstättersee_weggis_schöberls_1         SLR         0.00   \n",
       "           vierwaldstättersee_weggis_schöberls_2         SLR         5.88   \n",
       "           vierwaldstättersee_weggis_schöberls_3         SLR         7.46   \n",
       "2017-04-04 katzensee_regensdorfzuerichaffoltern_stueberj SLR         3.17   \n",
       "2017-04-05 Bodensee_Arbon_MösliS                         SLR         0.00   \n",
       "\n",
       "code_id                                                                G79  \\\n",
       "date       location_id                                   project_id          \n",
       "2017-04-03 vierwaldstättersee_weggis_schöberls_1         SLR          4.35   \n",
       "           vierwaldstättersee_weggis_schöberls_2         SLR          2.94   \n",
       "           vierwaldstättersee_weggis_schöberls_3         SLR         17.91   \n",
       "2017-04-04 katzensee_regensdorfzuerichaffoltern_stueberj SLR          7.94   \n",
       "2017-04-05 Bodensee_Arbon_MösliS                         SLR          0.00   \n",
       "\n",
       "code_id                                                                G82  \\\n",
       "date       location_id                                   project_id          \n",
       "2017-04-03 vierwaldstättersee_weggis_schöberls_1         SLR          4.35   \n",
       "           vierwaldstättersee_weggis_schöberls_2         SLR          0.00   \n",
       "           vierwaldstättersee_weggis_schöberls_3         SLR         20.90   \n",
       "2017-04-04 katzensee_regensdorfzuerichaffoltern_stueberj SLR          0.00   \n",
       "2017-04-05 Bodensee_Arbon_MösliS                         SLR          0.00   \n",
       "\n",
       "code_id                                                              G89  G91  \\\n",
       "date       location_id                                   project_id             \n",
       "2017-04-03 vierwaldstättersee_weggis_schöberls_1         SLR         0.0  0.0   \n",
       "           vierwaldstättersee_weggis_schöberls_2         SLR         0.0  0.0   \n",
       "           vierwaldstättersee_weggis_schöberls_3         SLR         0.0  0.0   \n",
       "2017-04-04 katzensee_regensdorfzuerichaffoltern_stueberj SLR         0.0  0.0   \n",
       "2017-04-05 Bodensee_Arbon_MösliS                         SLR         0.0  0.0   \n",
       "\n",
       "code_id                                                              G95  G96  \n",
       "date       location_id                                   project_id            \n",
       "2017-04-03 vierwaldstättersee_weggis_schöberls_1         SLR         0.0  0.0  \n",
       "           vierwaldstättersee_weggis_schöberls_2         SLR         0.0  0.0  \n",
       "           vierwaldstättersee_weggis_schöberls_3         SLR         0.0  0.0  \n",
       "2017-04-04 katzensee_regensdorfzuerichaffoltern_stueberj SLR         0.0  0.0  \n",
       "2017-04-05 Bodensee_Arbon_MösliS                         SLR         0.0  0.0  "
      ]
     },
     "execution_count": 13,
     "metadata": {},
     "output_type": "execute_result"
    }
   ],
   "source": [
    "dfObj = dfObj.multiply(100)#<-------- keep this will need the output for later if we want to compare individual items\n",
    "dfObj[:5]"
   ]
  },
  {
   "cell_type": "code",
   "execution_count": 14,
   "metadata": {},
   "outputs": [],
   "source": [
    "dfGroup = pd.concat([dfObj[infra].sum(1), dfObj[consumer].sum(1), dfObj[industry].sum(1)], axis=1, keys=['Infra', 'Consumer', 'Industry'])"
   ]
  },
  {
   "cell_type": "code",
   "execution_count": 15,
   "metadata": {},
   "outputs": [
    {
     "data": {
      "text/html": [
       "<div>\n",
       "<style scoped>\n",
       "    .dataframe tbody tr th:only-of-type {\n",
       "        vertical-align: middle;\n",
       "    }\n",
       "\n",
       "    .dataframe tbody tr th {\n",
       "        vertical-align: top;\n",
       "    }\n",
       "\n",
       "    .dataframe thead th {\n",
       "        text-align: right;\n",
       "    }\n",
       "</style>\n",
       "<table border=\"1\" class=\"dataframe\">\n",
       "  <thead>\n",
       "    <tr style=\"text-align: right;\">\n",
       "      <th></th>\n",
       "      <th></th>\n",
       "      <th></th>\n",
       "      <th>Infra</th>\n",
       "      <th>Consumer</th>\n",
       "      <th>Industry</th>\n",
       "    </tr>\n",
       "    <tr>\n",
       "      <th>date</th>\n",
       "      <th>location_id</th>\n",
       "      <th>project_id</th>\n",
       "      <th></th>\n",
       "      <th></th>\n",
       "      <th></th>\n",
       "    </tr>\n",
       "  </thead>\n",
       "  <tbody>\n",
       "    <tr>\n",
       "      <th rowspan=\"3\" valign=\"top\">2017-04-03</th>\n",
       "      <th>vierwaldstättersee_weggis_schöberls_1</th>\n",
       "      <th>SLR</th>\n",
       "      <td>0.0</td>\n",
       "      <td>0.00</td>\n",
       "      <td>8.70</td>\n",
       "    </tr>\n",
       "    <tr>\n",
       "      <th>vierwaldstättersee_weggis_schöberls_2</th>\n",
       "      <th>SLR</th>\n",
       "      <td>0.0</td>\n",
       "      <td>1.47</td>\n",
       "      <td>8.82</td>\n",
       "    </tr>\n",
       "    <tr>\n",
       "      <th>vierwaldstättersee_weggis_schöberls_3</th>\n",
       "      <th>SLR</th>\n",
       "      <td>0.0</td>\n",
       "      <td>2.98</td>\n",
       "      <td>46.27</td>\n",
       "    </tr>\n",
       "    <tr>\n",
       "      <th>2017-04-04</th>\n",
       "      <th>katzensee_regensdorfzuerichaffoltern_stueberj</th>\n",
       "      <th>SLR</th>\n",
       "      <td>0.0</td>\n",
       "      <td>11.11</td>\n",
       "      <td>11.11</td>\n",
       "    </tr>\n",
       "    <tr>\n",
       "      <th>2017-04-05</th>\n",
       "      <th>Bodensee_Arbon_MösliS</th>\n",
       "      <th>SLR</th>\n",
       "      <td>0.0</td>\n",
       "      <td>23.33</td>\n",
       "      <td>0.00</td>\n",
       "    </tr>\n",
       "  </tbody>\n",
       "</table>\n",
       "</div>"
      ],
      "text/plain": [
       "                                                                     Infra  \\\n",
       "date       location_id                                   project_id          \n",
       "2017-04-03 vierwaldstättersee_weggis_schöberls_1         SLR           0.0   \n",
       "           vierwaldstättersee_weggis_schöberls_2         SLR           0.0   \n",
       "           vierwaldstättersee_weggis_schöberls_3         SLR           0.0   \n",
       "2017-04-04 katzensee_regensdorfzuerichaffoltern_stueberj SLR           0.0   \n",
       "2017-04-05 Bodensee_Arbon_MösliS                         SLR           0.0   \n",
       "\n",
       "                                                                     Consumer  \\\n",
       "date       location_id                                   project_id             \n",
       "2017-04-03 vierwaldstättersee_weggis_schöberls_1         SLR             0.00   \n",
       "           vierwaldstättersee_weggis_schöberls_2         SLR             1.47   \n",
       "           vierwaldstättersee_weggis_schöberls_3         SLR             2.98   \n",
       "2017-04-04 katzensee_regensdorfzuerichaffoltern_stueberj SLR            11.11   \n",
       "2017-04-05 Bodensee_Arbon_MösliS                         SLR            23.33   \n",
       "\n",
       "                                                                     Industry  \n",
       "date       location_id                                   project_id            \n",
       "2017-04-03 vierwaldstättersee_weggis_schöberls_1         SLR             8.70  \n",
       "           vierwaldstättersee_weggis_schöberls_2         SLR             8.82  \n",
       "           vierwaldstättersee_weggis_schöberls_3         SLR            46.27  \n",
       "2017-04-04 katzensee_regensdorfzuerichaffoltern_stueberj SLR            11.11  \n",
       "2017-04-05 Bodensee_Arbon_MösliS                         SLR             0.00  "
      ]
     },
     "execution_count": 15,
     "metadata": {},
     "output_type": "execute_result"
    }
   ],
   "source": [
    "dfGroup[:5]#<------ this is what is needed, now seperate by lake"
   ]
  },
  {
   "cell_type": "code",
   "execution_count": 16,
   "metadata": {},
   "outputs": [],
   "source": [
    "idx = pd.IndexSlice\n",
    "def aver_lake(a,b):\n",
    "    i = {}\n",
    "    for key, value in a.items():\n",
    "        h = {key:{}}\n",
    "        c = b.loc[idx[:, value, :], :]\n",
    "        d = c.mean(axis=0).round(4)\n",
    "        g = {'Infra':d['Infra'], 'Consumer':d['Consumer'], 'Industry':d['Industry']}\n",
    "        h[key].update(g)\n",
    "        i.update(h)\n",
    "    return i\n",
    "    \n",
    "bars = aver_lake(lake_key,dfGroup )"
   ]
  },
  {
   "cell_type": "code",
   "execution_count": 17,
   "metadata": {},
   "outputs": [],
   "source": [
    "import matplotlib.patches as mpatches"
   ]
  },
  {
   "cell_type": "code",
   "execution_count": 18,
   "metadata": {},
   "outputs": [],
   "source": [
    "def plot_groups(x, svgtitle, pngtitle, q):\n",
    "    # number of rows depends on the number of weeks\n",
    "    rows = 5\n",
    "   \n",
    "    # the number of columns depends on the number of locations\n",
    "    cols = 3\n",
    "    # this is the number of bars in each chart\n",
    "    # this depends on the number of color groups\n",
    "    ind = np.arange(1, q)#<--- this is the number of bars\n",
    "    # the width of each bar\n",
    "    # width one means there is no space between bars\n",
    "    width = 1\n",
    "    # assign appropriate colors per group\n",
    "    colss = ['darkblue', 'dodgerblue', 'turquoise']\n",
    "    # set up the figure and the array of charts\n",
    "    f, axar = plt.subplots(rows, cols, figsize=(8,12), sharey=True)\n",
    "    # run through the results generated by the previous fucntion\n",
    "    for a, (key, value) in enumerate(x.items()):\n",
    "        i = a%3\n",
    "        j = a%5\n",
    "        if i == 0:\n",
    "            for label, number in value.items():\n",
    "                axar[j, i].bar(ind, [value['Infra'], value['Consumer'], value['Industry']], width, color=colss)\n",
    "                axar[j, i].set_title(key, loc='left')\n",
    "                axar[j, i].set_ylabel('Pieces per 100 meters', fontdict=None,)\n",
    "                axar[j, i].set_xticklabels([])\n",
    "                axar[j, i].set_xticks([])\n",
    "        else:\n",
    "            for label, number in value.items():\n",
    "                axar[j, i].bar(ind, [value['Infra'], value['Consumer'], value['Industry']], width, color=colss)\n",
    "                axar[j, i].set_title(key, loc='left')\n",
    "                axar[j, i].set_xticklabels([])\n",
    "                axar[j, i].set_xticks([])\n",
    "            \n",
    "    plt.savefig(svgtitle)\n",
    "    plt.savefig(pngtitle)\n",
    "    plt.tight_layout()\n",
    "    \n",
    "    plt.show()"
   ]
  },
  {
   "cell_type": "code",
   "execution_count": 19,
   "metadata": {},
   "outputs": [
    {
     "data": {
      "image/png": "[encoded data removed]",
      "text/plain": [
       "<Figure size 576x864 with 15 Axes>"
      ]
     },
     "metadata": {},
     "output_type": "display_data"
    }
   ],
   "source": [
    "plot_groups(bars, data +'images/groups.svg',data +'images/groups.png', 4)"
   ]
  },
  {
   "cell_type": "markdown",
   "metadata": {},
   "source": [
    "### Can't tell a whole lot from that so we will go ahead and look at the groups"
   ]
  },
  {
   "cell_type": "code",
   "execution_count": 20,
   "metadata": {},
   "outputs": [],
   "source": [
    "dfConsumer = dfObj[consumer]"
   ]
  },
  {
   "cell_type": "code",
   "execution_count": 21,
   "metadata": {},
   "outputs": [
    {
     "data": {
      "text/plain": [
       "Index(['G30', 'G178', 'G21', 'G23', 'G31', 'G35'], dtype='object', name='code_id')"
      ]
     },
     "execution_count": 21,
     "metadata": {},
     "output_type": "execute_result"
    }
   ],
   "source": [
    "dfConsumer.columns"
   ]
  },
  {
   "cell_type": "code",
   "execution_count": 22,
   "metadata": {},
   "outputs": [],
   "source": [
    "idx = pd.IndexSlice\n",
    "def aver_lake_2(a,b):\n",
    "    i = {}\n",
    "    for key, value in a.items():\n",
    "        h = {key:{}}\n",
    "        c = b.loc[idx[:, value, :], :]\n",
    "        j = list(c.columns)\n",
    "        d = c.mean(axis=0).round(4)\n",
    "        g = {j[0]:d[j[0]], j[1]:d[j[1]], j[2]:d[j[2]], j[3]:d[j[3]], j[4]:d[j[4]], j[5]:d[j[5]]}\n",
    "        h[key].update(g)\n",
    "        i.update(h)\n",
    "    return i\n",
    "    \n",
    "cons_bars = aver_lake_2(lake_key,dfConsumer)"
   ]
  },
  {
   "cell_type": "code",
   "execution_count": 23,
   "metadata": {},
   "outputs": [],
   "source": [
    "def plot_groups_cons(x, svgtitle, pngtitle, q):\n",
    "    # number of rows depends on the number of weeks\n",
    "    rows = 5\n",
    "   \n",
    "    # the number of columns depends on the number of locations\n",
    "    cols = 3\n",
    "    # this is the number of bars in each chart\n",
    "    # this depends on the number of color groups\n",
    "    ind = np.arange(1, q)#<--- this the number of bars\n",
    "    # the width of each bar\n",
    "    # width one means there is no space between bars\n",
    "    width = 1\n",
    "    # assign appropriate colors per group\n",
    "    colss = ['darkblue', 'dodgerblue', 'turquoise', 'magenta', 'chartreuse','seagreen']\n",
    "    # set up the figure and the array of charts\n",
    "    f, axar = plt.subplots(rows, cols, figsize=(8,12), sharey=True)\n",
    "    # run through the results generated by the previous fucntion\n",
    "    for a, (key, value) in enumerate(x.items()):\n",
    "        i = a%3\n",
    "        j = a%5\n",
    "        if i == 0:\n",
    "            for label, number in value.items():\n",
    "                axar[j, i].bar(ind, [value['G30'], value['G178'], value['G21'], value['G23'], value['G31'], value['G35']], width, color=colss)\n",
    "                axar[j, i].set_title(key, loc='left')\n",
    "                axar[j, i].set_xticklabels([])\n",
    "                axar[j, i].set_ylabel('Pieces per 100 meters', fontdict=None,)\n",
    "                axar[j, i].set_xticks([])\n",
    "        else:\n",
    "            for label, number in value.items():\n",
    "                axar[j, i].bar(ind, [value['G30'], value['G178'], value['G21'], value['G23'], value['G31'], value['G35']], width, color=colss)\n",
    "                axar[j, i].set_title(key, loc='left')\n",
    "                axar[j, i].set_xticklabels([])\n",
    "                axar[j, i].set_xticks([])\n",
    "    \n",
    "    plt.savefig(svgtitle)\n",
    "    plt.savefig(pngtitle)\n",
    "    plt.tight_layout()\n",
    "    \n",
    "    plt.show()"
   ]
  },
  {
   "cell_type": "code",
   "execution_count": 24,
   "metadata": {},
   "outputs": [
    {
     "data": {
      "image/png": "[encoded data removed]",
      "text/plain": [
       "<Figure size 576x864 with 15 Axes>"
      ]
     },
     "metadata": {},
     "output_type": "display_data"
    }
   ],
   "source": [
    "# seperate by lakes\n",
    "plot_groups_cons(cons_bars, data +'images/cons_groups.svg',data +'images/cons_groups.png', 7)"
   ]
  },
  {
   "cell_type": "code",
   "execution_count": 25,
   "metadata": {},
   "outputs": [],
   "source": [
    "dfInfra = dfObj[infra]"
   ]
  },
  {
   "cell_type": "code",
   "execution_count": 26,
   "metadata": {},
   "outputs": [
    {
     "data": {
      "text/plain": [
       "Index(['G95', 'G96', 'G91', 'G144'], dtype='object', name='code_id')"
      ]
     },
     "execution_count": 26,
     "metadata": {},
     "output_type": "execute_result"
    }
   ],
   "source": [
    "dfInfra.columns"
   ]
  },
  {
   "cell_type": "code",
   "execution_count": 27,
   "metadata": {},
   "outputs": [],
   "source": [
    "idx = pd.IndexSlice\n",
    "def aver_lake_3(a,b):\n",
    "    i = {}\n",
    "    for key, value in a.items():\n",
    "        h = {key:{}}\n",
    "        c = b.loc[idx[:, value, :], :]\n",
    "        j = list(c.columns)\n",
    "        d = c.mean(axis=0).round(4)\n",
    "        g = {j[0]:d[j[0]], j[1]:d[j[1]], j[2]:d[j[2]], j[3]:d[j[3]]}\n",
    "        h[key].update(g)\n",
    "        i.update(h)\n",
    "    return i\n",
    "    \n",
    "infra_bars = aver_lake_3(lake_key,dfInfra)"
   ]
  },
  {
   "cell_type": "code",
   "execution_count": 28,
   "metadata": {},
   "outputs": [],
   "source": [
    "def plot_groups_infra(x, svgtitle, pngtitle, q):\n",
    "    # number of rows depends on the number of weeks\n",
    "    rows = 5\n",
    "    # the number of columns depends on the number of locations\n",
    "    cols = 3\n",
    "    # this is the number of bars in each chart\n",
    "    # this depends on the number of color groups\n",
    "    ind = np.arange(1, q)#<--- this is the number of bars\n",
    "    # the width of each bar\n",
    "    # width one means there is no space between bars\n",
    "    width = 1\n",
    "    # assign appropriate colors per group\n",
    "    colss = ['darkblue', 'dodgerblue', 'turquoise', 'magenta', 'chartreuse','seagreen']\n",
    "    # set up the figure and the array of charts\n",
    "    f, axar = plt.subplots(rows, cols, figsize=(8,12), sharey=True)\n",
    "    # run through the results generated by the previous fucntion\n",
    "    for a, (key, value) in enumerate(x.items()):\n",
    "        i = a%3\n",
    "        j = a%5\n",
    "        if i == 0:\n",
    "            for label, number in value.items():\n",
    "                axar[j, i].bar(ind, [value['G95'], value['G96'], value['G91'], value['G144']], width, color=colss)\n",
    "                axar[j, i].set_title(key, loc='left')\n",
    "                axar[j, i].set_xticklabels([])\n",
    "                axar[j, i].set_ylabel('Pieces per 100 meters', fontdict=None,)\n",
    "                axar[j, i].set_xticks([])\n",
    "        else:\n",
    "            for label, number in value.items():\n",
    "                axar[j, i].bar(ind, [value['G95'], value['G96'], value['G91'], value['G144']], width, color=colss)\n",
    "                axar[j, i].set_title(key, loc='left')\n",
    "                axar[j, i].set_xticklabels([])\n",
    "                axar[j, i].set_xticks([])\n",
    " \n",
    "    plt.savefig(svgtitle)\n",
    "    plt.savefig(pngtitle)\n",
    "    plt.tight_layout()\n",
    "    \n",
    "    plt.show()"
   ]
  },
  {
   "cell_type": "code",
   "execution_count": 29,
   "metadata": {},
   "outputs": [
    {
     "data": {
      "image/png": "[encoded data removed]",
      "text/plain": [
       "<Figure size 576x864 with 15 Axes>"
      ]
     },
     "metadata": {},
     "output_type": "display_data"
    }
   ],
   "source": [
    "plot_groups_infra(infra_bars, data +'images/infra_groups.svg',data +'images/infra_groups.png', 5)"
   ]
  },
  {
   "cell_type": "code",
   "execution_count": 30,
   "metadata": {},
   "outputs": [],
   "source": [
    "dfIndus = dfObj[industry]"
   ]
  },
  {
   "cell_type": "code",
   "execution_count": 31,
   "metadata": {},
   "outputs": [
    {
     "data": {
      "text/plain": [
       "Index(['G67', 'G79', 'G82', 'G89'], dtype='object', name='code_id')"
      ]
     },
     "execution_count": 31,
     "metadata": {},
     "output_type": "execute_result"
    }
   ],
   "source": [
    "dfIndus.columns"
   ]
  },
  {
   "cell_type": "code",
   "execution_count": 32,
   "metadata": {},
   "outputs": [],
   "source": [
    "indus_bars = aver_lake_3(lake_key,dfIndus)"
   ]
  },
  {
   "cell_type": "code",
   "execution_count": 33,
   "metadata": {},
   "outputs": [],
   "source": [
    "def plot_groups_indus(x, svgtitle, pngtitle, q):\n",
    "    # number of rows depends on the number of weeks\n",
    "    rows = 5\n",
    "    # the number of columns depends on the number of locations\n",
    "    cols = 3\n",
    "    # this is the number of bars in each chart\n",
    "    # this depends on the number of color groups\n",
    "    ind = np.arange(1, q)#<--- this is the number of bars\n",
    "    # the width of each bar\n",
    "    # width one means there is no space between bars\n",
    "    width = 1\n",
    "    # assign appropriate colors per group\n",
    "    colss = colss = ['darkblue', 'dodgerblue', 'turquoise', 'magenta', 'chartreuse','seagreen']\n",
    "    # set up the figure and the array of charts\n",
    "    f, axar = plt.subplots(rows, cols, figsize=(8,12), sharey=True)\n",
    "    # run through the results generated by the previous fucntion\n",
    "    for a, (key, value) in enumerate(x.items()):\n",
    "        i = a%3\n",
    "        j = a%5\n",
    "        if i == 0:\n",
    "            for label, number in value.items():\n",
    "                axar[j, i].bar(ind, [value['G67'], value['G79'], value['G82'], value['G89']], width, color=colss)\n",
    "                axar[j, i].set_title(key, loc='left')\n",
    "                axar[j, i].set_xticklabels([])\n",
    "                axar[j, i].set_ylabel('Pieces per 100 meters', fontdict=None,)\n",
    "                axar[j, i].set_xticks([])\n",
    "        else:\n",
    "            for label, number in value.items():\n",
    "                axar[j, i].bar(ind, [value['G67'], value['G79'], value['G82'], value['G89']], width, color=colss)\n",
    "                axar[j, i].set_title(key, loc='left')\n",
    "                axar[j, i].set_xticklabels([])\n",
    "                axar[j, i].set_xticks([])    \n",
    "\n",
    "    \n",
    "    plt.savefig(svgtitle)\n",
    "    plt.savefig(pngtitle)\n",
    "    plt.tight_layout()\n",
    "    \n",
    "    plt.show()"
   ]
  },
  {
   "cell_type": "code",
   "execution_count": 34,
   "metadata": {},
   "outputs": [
    {
     "data": {
      "image/png": "[encoded data removed]",
      "text/plain": [
       "<Figure size 576x864 with 15 Axes>"
      ]
     },
     "metadata": {},
     "output_type": "display_data"
    }
   ],
   "source": [
    "plot_groups_indus(indus_bars, data +'images/indus_groups.svg',data +'images/indus_groups.png', 5)"
   ]
  },
  {
   "cell_type": "code",
   "execution_count": null,
   "metadata": {},
   "outputs": [],
   "source": []
  }
 ],
 "metadata": {
  "kernelspec": {
   "display_name": "Python 3",
   "language": "python",
   "name": "python3"
  },
  "language_info": {
   "codemirror_mode": {
    "name": "ipython",
    "version": 3
   },
   "file_extension": ".py",
   "mimetype": "text/x-python",
   "name": "python",
   "nbconvert_exporter": "python",
   "pygments_lexer": "ipython3",
   "version": "3.6.5"
  }
 },
 "nbformat": 4,
 "nbformat_minor": 2
}
