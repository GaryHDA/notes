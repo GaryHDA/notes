{
 "cells": [
  {
   "cell_type": "markdown",
   "metadata": {},
   "source": [
    "### Comparing colony count results to generated sample data\n",
    "### Section micro ------------  27 april 2018\n",
    "\n",
    "#### After meeting with the CSO,  we have decided to investigate the variability of the results from 2016 and 2017\n",
    "\n",
    "\n",
    "1. Use the same data from the analysis page\n",
    "2. Write a function that accepts column names, week no or date, location as arguments\n",
    "3. get the log of the average or get the log of the actual results and get the average\n",
    "4. Create some distributions that fit the sample results\n",
    "5. Sample from those ditributions, sample size of 8, get(max, min)\n",
    "6. Compare the sample results ot the actual results of 2016/2017\n",
    "7. Make a JSON file\n",
    "\n",
    "#### We are still going to track all the usual data with each sample, so we should be able to calculate the results per colorgroup/ per location/per day.... so alot of the first 20 cells are repeats from the previous note book."
   ]
  },
  {
   "cell_type": "code",
   "execution_count": 1,
   "metadata": {},
   "outputs": [],
   "source": [
    "import pandas as pd\n",
    "import numpy as np\n",
    "import matplotlib\n",
    "import matplotlib.pyplot as plt"
   ]
  },
  {
   "cell_type": "markdown",
   "metadata": {},
   "source": [
    "### Import the data and clean it up"
   ]
  },
  {
   "cell_type": "code",
   "execution_count": 2,
   "metadata": {},
   "outputs": [],
   "source": [
    "# get the data\n",
    "a = pd.read_csv('data/forReview_RAoctB.csv')"
   ]
  },
  {
   "cell_type": "code",
   "execution_count": 3,
   "metadata": {},
   "outputs": [],
   "source": [
    "# this is a duplicate value in the DF, data was moved(added as a record)\n",
    "a.drop(12, inplace=True)\n",
    "a.drop(38, inplace=True)"
   ]
  },
  {
   "cell_type": "code",
   "execution_count": 4,
   "metadata": {},
   "outputs": [],
   "source": [
    "# this is \"record data\" each row corresponds to an event:\n",
    "### each event is a water sample from a location on particular day\n",
    "#### for each event there are three samples, those three samples get split between three selective medium plates\n",
    "##### each plate can have a total result of x_total = x1 + x2 +...+ x6\n",
    "###### x1 ... x6 are subtotals that can be compared across dates and/or locations\n",
    "# do the steps to get the descriptive statistics\n",
    "# create output that can be used by : javaScript, django, bokeh\n",
    "### at a granularity appropriate to establish an accurate assesment of the laboratory results\n",
    "a_cols = list(a.columns)\n",
    "# def print_this_list(a):\n",
    "#     for x in a:\n",
    "#         print(x)<--------- don't need to see this output\n",
    "# print(a_cols)\n",
    "#check the columns"
   ]
  },
  {
   "cell_type": "code",
   "execution_count": 5,
   "metadata": {},
   "outputs": [],
   "source": [
    "# go in a terminal and check the date column\n",
    "# it is in %y%.m%.d format\n",
    "# for whatever reason the pd,datetime did not recognize the date 17.06.12\n",
    "# it flipped it to : 17.12.06 ---- which won't work\n",
    "# so use some list index and str properties to make this right\n",
    "b = a['Date'].copy()\n",
    "new_dates = []\n",
    "new_dic = {}\n",
    "for x in b:\n",
    "    year = '20'+str(x[6:])\n",
    "    day = x[:2]\n",
    "    month = x[3:5]\n",
    "    new_d = year + '/' + str(month) + '/' + str(day)\n",
    "    new_dates.append({x:new_d})\n",
    "    new_dic.update({x:new_d})\n",
    "new_dates[:10]\n",
    "\n",
    "a['Date'] = a['Date'].map(new_dic)\n",
    "#a['Date'][:10]"
   ]
  },
  {
   "cell_type": "code",
   "execution_count": 6,
   "metadata": {},
   "outputs": [],
   "source": [
    "# make sure the orignal df is up to speed\n",
    "a['Date'] = pd.to_datetime(a['Date'],format='%Y/%m/%d' )"
   ]
  },
  {
   "cell_type": "markdown",
   "metadata": {},
   "source": [
    "#### 2016 data"
   ]
  },
  {
   "cell_type": "code",
   "execution_count": 7,
   "metadata": {},
   "outputs": [],
   "source": [
    "a16 = pd.read_csv('data/2016_clean.csv')"
   ]
  },
  {
   "cell_type": "code",
   "execution_count": 8,
   "metadata": {},
   "outputs": [],
   "source": [
    "a16.drop('Unnamed: 0', axis=1, inplace=True)\n",
    "a16['Date'] = pd.to_datetime(a16['Date'],format='%Y-%m-%d' )"
   ]
  },
  {
   "cell_type": "markdown",
   "metadata": {},
   "source": [
    "### There are two time periods (24/48 hours), break those up and export the data as a csv"
   ]
  },
  {
   "cell_type": "markdown",
   "metadata": {},
   "source": [
    "### 48 hour results"
   ]
  },
  {
   "cell_type": "code",
   "execution_count": 9,
   "metadata": {},
   "outputs": [],
   "source": [
    "a_b = a[['Date',\n",
    "       'Location',\n",
    "       'medium',\n",
    "       'Samples',\n",
    "       'Sampling_Notes',\n",
    "       'Water_temp',\n",
    "       'Plating_notes',\n",
    "       'Temp_incubation',\n",
    "       'P1_qty_sample',\n",
    "       'P1_fluo_halo_colonies',\n",
    "       'Plate_one_48h_image',\n",
    "       'P1_48h_big_blue',\n",
    "       'P1_48h_med_blue',\n",
    "       'P1_48h_green',\n",
    "       'P1_48h_turq',\n",
    "       'P1_48h_pink',\n",
    "       'P1_48h_other',\n",
    "       'Comments_p1_48h',\n",
    "       'P2_qty_sample',\n",
    "       'P2_fluo_halo_colonies',\n",
    "       'Plate_two_48h_image',\n",
    "       'P2_48h_big_blue',\n",
    "       'P2_48h_med_blue',             \n",
    "       'P2_48h_green',\n",
    "       'P2_48h_turq',\n",
    "       'P2_48h_pink',\n",
    "       'P2_48h_other',\n",
    "       'Comments_p2_48h',\n",
    "       'P3_qty_sample',\n",
    "       'p3_fluo_halo_colonies',\n",
    "       'Plate_three_48h_image',\n",
    "       'P3_48h_big_blue',\n",
    "       'P3_48h_med_blue',\n",
    "       'P3_48h_green',\n",
    "       'P3_48h_turq',\n",
    "       'P3_48h_pink',\n",
    "       'P3_48h_other',\n",
    "       'Comments_p3_48h']].copy()\n"
   ]
  },
  {
   "cell_type": "code",
   "execution_count": 10,
   "metadata": {},
   "outputs": [],
   "source": [
    "# plate three 'fluo colony' does not match the others\n",
    "# fix that and export the CSV\n",
    "a_b.rename(columns={'p3_fluo_halo_colonies':'P3_fluo_halo_colonies'}, inplace=True)\n",
    "a_b.to_csv('data/fluo_48h.csv')"
   ]
  },
  {
   "cell_type": "code",
   "execution_count": 11,
   "metadata": {},
   "outputs": [],
   "source": [
    "a_b.reset_index(inplace=True)"
   ]
  },
  {
   "cell_type": "code",
   "execution_count": 12,
   "metadata": {},
   "outputs": [],
   "source": [
    "a_b.drop('index', inplace=True, axis=1)"
   ]
  },
  {
   "cell_type": "code",
   "execution_count": 13,
   "metadata": {},
   "outputs": [
    {
     "data": {
      "text/html": [
       "<div>\n",
       "<style scoped>\n",
       "    .dataframe tbody tr th:only-of-type {\n",
       "        vertical-align: middle;\n",
       "    }\n",
       "\n",
       "    .dataframe tbody tr th {\n",
       "        vertical-align: top;\n",
       "    }\n",
       "\n",
       "    .dataframe thead th {\n",
       "        text-align: right;\n",
       "    }\n",
       "</style>\n",
       "<table border=\"1\" class=\"dataframe\">\n",
       "  <thead>\n",
       "    <tr style=\"text-align: right;\">\n",
       "      <th></th>\n",
       "      <th>Date</th>\n",
       "      <th>Location</th>\n",
       "      <th>medium</th>\n",
       "      <th>Samples</th>\n",
       "      <th>Sampling_Notes</th>\n",
       "      <th>Water_temp</th>\n",
       "      <th>Plating_notes</th>\n",
       "      <th>Temp_incubation</th>\n",
       "      <th>P1_qty_sample</th>\n",
       "      <th>P1_fluo_halo_colonies</th>\n",
       "      <th>...</th>\n",
       "      <th>P3_qty_sample</th>\n",
       "      <th>P3_fluo_halo_colonies</th>\n",
       "      <th>Plate_three_48h_image</th>\n",
       "      <th>P3_48h_big_blue</th>\n",
       "      <th>P3_48h_med_blue</th>\n",
       "      <th>P3_48h_green</th>\n",
       "      <th>P3_48h_turq</th>\n",
       "      <th>P3_48h_pink</th>\n",
       "      <th>P3_48h_other</th>\n",
       "      <th>Comments_p3_48h</th>\n",
       "    </tr>\n",
       "  </thead>\n",
       "  <tbody>\n",
       "    <tr>\n",
       "      <th>43</th>\n",
       "      <td>2017-07-24</td>\n",
       "      <td>MRD</td>\n",
       "      <td>easy_gel</td>\n",
       "      <td>3</td>\n",
       "      <td>Waves at sight, sampling not effective</td>\n",
       "      <td>0</td>\n",
       "      <td>No comments</td>\n",
       "      <td>37</td>\n",
       "      <td>4.0</td>\n",
       "      <td>0</td>\n",
       "      <td>...</td>\n",
       "      <td>4.0</td>\n",
       "      <td>0.0</td>\n",
       "      <td>none</td>\n",
       "      <td>0.0</td>\n",
       "      <td>0.0</td>\n",
       "      <td>0.0</td>\n",
       "      <td>0.0</td>\n",
       "      <td>0.0</td>\n",
       "      <td>0.0</td>\n",
       "      <td>No comments</td>\n",
       "    </tr>\n",
       "  </tbody>\n",
       "</table>\n",
       "<p>1 rows × 38 columns</p>\n",
       "</div>"
      ],
      "text/plain": [
       "         Date Location    medium  Samples  \\\n",
       "43 2017-07-24      MRD  easy_gel        3   \n",
       "\n",
       "                            Sampling_Notes  Water_temp Plating_notes  \\\n",
       "43  Waves at sight, sampling not effective           0   No comments   \n",
       "\n",
       "    Temp_incubation  P1_qty_sample  P1_fluo_halo_colonies       ...         \\\n",
       "43               37            4.0                      0       ...          \n",
       "\n",
       "   P3_qty_sample  P3_fluo_halo_colonies  Plate_three_48h_image  \\\n",
       "43           4.0                    0.0                   none   \n",
       "\n",
       "    P3_48h_big_blue  P3_48h_med_blue  P3_48h_green  P3_48h_turq P3_48h_pink  \\\n",
       "43              0.0              0.0           0.0          0.0         0.0   \n",
       "\n",
       "   P3_48h_other  Comments_p3_48h  \n",
       "43          0.0      No comments  \n",
       "\n",
       "[1 rows x 38 columns]"
      ]
     },
     "execution_count": 13,
     "metadata": {},
     "output_type": "execute_result"
    }
   ],
   "source": [
    "a_b[(a_b.Location == 'MRD') & (a_b.Date == '2017-07-24')]\n",
    "# this record needs to go or we need to reset the sample number\n",
    "# check the sampling notes to see why\n",
    "# so even though the sampling was ineffective there is still a value in the samples column"
   ]
  },
  {
   "cell_type": "code",
   "execution_count": 14,
   "metadata": {
    "scrolled": true
   },
   "outputs": [
    {
     "data": {
      "text/html": [
       "<div>\n",
       "<style scoped>\n",
       "    .dataframe tbody tr th:only-of-type {\n",
       "        vertical-align: middle;\n",
       "    }\n",
       "\n",
       "    .dataframe tbody tr th {\n",
       "        vertical-align: top;\n",
       "    }\n",
       "\n",
       "    .dataframe thead th {\n",
       "        text-align: right;\n",
       "    }\n",
       "</style>\n",
       "<table border=\"1\" class=\"dataframe\">\n",
       "  <thead>\n",
       "    <tr style=\"text-align: right;\">\n",
       "      <th></th>\n",
       "      <th>Date</th>\n",
       "      <th>Location</th>\n",
       "      <th>medium</th>\n",
       "      <th>Samples</th>\n",
       "      <th>Sampling_Notes</th>\n",
       "      <th>Water_temp</th>\n",
       "      <th>Plating_notes</th>\n",
       "      <th>Temp_incubation</th>\n",
       "      <th>P1_qty_sample</th>\n",
       "      <th>P1_fluo_halo_colonies</th>\n",
       "      <th>...</th>\n",
       "      <th>P3_qty_sample</th>\n",
       "      <th>P3_fluo_halo_colonies</th>\n",
       "      <th>Plate_three_48h_image</th>\n",
       "      <th>P3_48h_big_blue</th>\n",
       "      <th>P3_48h_med_blue</th>\n",
       "      <th>P3_48h_green</th>\n",
       "      <th>P3_48h_turq</th>\n",
       "      <th>P3_48h_pink</th>\n",
       "      <th>P3_48h_other</th>\n",
       "      <th>Comments_p3_48h</th>\n",
       "    </tr>\n",
       "  </thead>\n",
       "  <tbody>\n",
       "    <tr>\n",
       "      <th>43</th>\n",
       "      <td>2017-07-24</td>\n",
       "      <td>MRD</td>\n",
       "      <td>easy_gel</td>\n",
       "      <td>0</td>\n",
       "      <td>Waves at sight, sampling not effective</td>\n",
       "      <td>0</td>\n",
       "      <td>No comments</td>\n",
       "      <td>37</td>\n",
       "      <td>4.0</td>\n",
       "      <td>0</td>\n",
       "      <td>...</td>\n",
       "      <td>4.0</td>\n",
       "      <td>0.0</td>\n",
       "      <td>none</td>\n",
       "      <td>0.0</td>\n",
       "      <td>0.0</td>\n",
       "      <td>0.0</td>\n",
       "      <td>0.0</td>\n",
       "      <td>0.0</td>\n",
       "      <td>0.0</td>\n",
       "      <td>No comments</td>\n",
       "    </tr>\n",
       "  </tbody>\n",
       "</table>\n",
       "<p>1 rows × 38 columns</p>\n",
       "</div>"
      ],
      "text/plain": [
       "         Date Location    medium  Samples  \\\n",
       "43 2017-07-24      MRD  easy_gel        0   \n",
       "\n",
       "                            Sampling_Notes  Water_temp Plating_notes  \\\n",
       "43  Waves at sight, sampling not effective           0   No comments   \n",
       "\n",
       "    Temp_incubation  P1_qty_sample  P1_fluo_halo_colonies       ...         \\\n",
       "43               37            4.0                      0       ...          \n",
       "\n",
       "   P3_qty_sample  P3_fluo_halo_colonies  Plate_three_48h_image  \\\n",
       "43           4.0                    0.0                   none   \n",
       "\n",
       "    P3_48h_big_blue  P3_48h_med_blue  P3_48h_green  P3_48h_turq P3_48h_pink  \\\n",
       "43              0.0              0.0           0.0          0.0         0.0   \n",
       "\n",
       "   P3_48h_other  Comments_p3_48h  \n",
       "43          0.0      No comments  \n",
       "\n",
       "[1 rows x 38 columns]"
      ]
     },
     "execution_count": 14,
     "metadata": {},
     "output_type": "execute_result"
    }
   ],
   "source": [
    "# go ahead and change that now\n",
    "a_b.iloc[43, 3] = 0\n",
    "a_b[(a_b.Location == 'MRD') & (a_b.Date == '2017-07-24')]"
   ]
  },
  {
   "cell_type": "markdown",
   "metadata": {},
   "source": [
    "### 24 hour results"
   ]
  },
  {
   "cell_type": "code",
   "execution_count": 15,
   "metadata": {},
   "outputs": [],
   "source": [
    "a_24 = ['Date', 'Location', 'medium', 'Samples', 'Sampling_Notes', 'Water_temp', 'Plating_notes', 'Temp_incubation', 'P1_qty_sample', 'P1_fluo_halo_colonies', 'Plate_one_24h_image', 'P1_24h_big_blue', 'P1_24h_med_blue', 'P1_24h_green', 'P1_24h_turq', 'P1_24h_pink', 'P1_24h_other', 'Comments_p1_24h','P2_qty_sample','P2_fluo_halo_colonies', 'Plate_two_24h_image', 'P2_24h_big_blue', 'P2_24h_med_blue', 'P2_24h_green', 'P2_24h_turq', 'P2_24h_pink', 'P2_24h_other', 'Comments_p2_24h', 'P3_qty_sample', 'p3_fluo_halo_colonies', 'Plate_three_24h_image', 'P3_24h_big_blue', 'P3_24h_med_blue', 'P3_24h_green', 'P3_24h_turq', 'P3_24h_pink', 'P3_24h_other', 'Comments_p3_24h']"
   ]
  },
  {
   "cell_type": "code",
   "execution_count": 16,
   "metadata": {},
   "outputs": [],
   "source": [
    "a24 = a[a_24].copy()"
   ]
  },
  {
   "cell_type": "code",
   "execution_count": 17,
   "metadata": {},
   "outputs": [],
   "source": [
    "# plate three 'fluo colony' does not match the others\n",
    "# fix that and export the CSV\n",
    "a24.rename(columns={'p3_fluo_halo_colonies':'P3_fluo_halo_colonies'}, inplace=True)\n",
    "a24.to_csv('data/fluo_24h.csv')"
   ]
  },
  {
   "cell_type": "code",
   "execution_count": 18,
   "metadata": {},
   "outputs": [],
   "source": [
    "a24.reset_index(inplace=True)"
   ]
  },
  {
   "cell_type": "code",
   "execution_count": 19,
   "metadata": {},
   "outputs": [],
   "source": [
    "a24.drop('index', inplace=True, axis=1)"
   ]
  },
  {
   "cell_type": "code",
   "execution_count": 20,
   "metadata": {},
   "outputs": [
    {
     "data": {
      "text/html": [
       "<div>\n",
       "<style scoped>\n",
       "    .dataframe tbody tr th:only-of-type {\n",
       "        vertical-align: middle;\n",
       "    }\n",
       "\n",
       "    .dataframe tbody tr th {\n",
       "        vertical-align: top;\n",
       "    }\n",
       "\n",
       "    .dataframe thead th {\n",
       "        text-align: right;\n",
       "    }\n",
       "</style>\n",
       "<table border=\"1\" class=\"dataframe\">\n",
       "  <thead>\n",
       "    <tr style=\"text-align: right;\">\n",
       "      <th></th>\n",
       "      <th>Date</th>\n",
       "      <th>Location</th>\n",
       "      <th>medium</th>\n",
       "      <th>Samples</th>\n",
       "      <th>Sampling_Notes</th>\n",
       "      <th>Water_temp</th>\n",
       "      <th>Plating_notes</th>\n",
       "      <th>Temp_incubation</th>\n",
       "      <th>P1_qty_sample</th>\n",
       "      <th>P1_fluo_halo_colonies</th>\n",
       "      <th>...</th>\n",
       "      <th>P3_qty_sample</th>\n",
       "      <th>P3_fluo_halo_colonies</th>\n",
       "      <th>Plate_three_24h_image</th>\n",
       "      <th>P3_24h_big_blue</th>\n",
       "      <th>P3_24h_med_blue</th>\n",
       "      <th>P3_24h_green</th>\n",
       "      <th>P3_24h_turq</th>\n",
       "      <th>P3_24h_pink</th>\n",
       "      <th>P3_24h_other</th>\n",
       "      <th>Comments_p3_24h</th>\n",
       "    </tr>\n",
       "  </thead>\n",
       "  <tbody>\n",
       "    <tr>\n",
       "      <th>43</th>\n",
       "      <td>2017-07-24</td>\n",
       "      <td>MRD</td>\n",
       "      <td>easy_gel</td>\n",
       "      <td>3</td>\n",
       "      <td>Waves at sight, sampling not effective</td>\n",
       "      <td>0</td>\n",
       "      <td>No comments</td>\n",
       "      <td>37</td>\n",
       "      <td>4.0</td>\n",
       "      <td>0</td>\n",
       "      <td>...</td>\n",
       "      <td>4.0</td>\n",
       "      <td>0.0</td>\n",
       "      <td>none</td>\n",
       "      <td>0.0</td>\n",
       "      <td>0.0</td>\n",
       "      <td>0.0</td>\n",
       "      <td>0.0</td>\n",
       "      <td>0.0</td>\n",
       "      <td>0.0</td>\n",
       "      <td>No comments</td>\n",
       "    </tr>\n",
       "  </tbody>\n",
       "</table>\n",
       "<p>1 rows × 38 columns</p>\n",
       "</div>"
      ],
      "text/plain": [
       "         Date Location    medium  Samples  \\\n",
       "43 2017-07-24      MRD  easy_gel        3   \n",
       "\n",
       "                            Sampling_Notes  Water_temp Plating_notes  \\\n",
       "43  Waves at sight, sampling not effective           0   No comments   \n",
       "\n",
       "    Temp_incubation  P1_qty_sample  P1_fluo_halo_colonies       ...         \\\n",
       "43               37            4.0                      0       ...          \n",
       "\n",
       "   P3_qty_sample  P3_fluo_halo_colonies  Plate_three_24h_image  \\\n",
       "43           4.0                    0.0                   none   \n",
       "\n",
       "    P3_24h_big_blue  P3_24h_med_blue  P3_24h_green  P3_24h_turq P3_24h_pink  \\\n",
       "43              0.0              0.0           0.0          0.0         0.0   \n",
       "\n",
       "   P3_24h_other  Comments_p3_24h  \n",
       "43          0.0      No comments  \n",
       "\n",
       "[1 rows x 38 columns]"
      ]
     },
     "execution_count": 20,
     "metadata": {},
     "output_type": "execute_result"
    }
   ],
   "source": [
    "a24[(a24.Location == 'MRD') & (a24.Date == '2017-07-24')]"
   ]
  },
  {
   "cell_type": "code",
   "execution_count": 21,
   "metadata": {},
   "outputs": [
    {
     "data": {
      "text/html": [
       "<div>\n",
       "<style scoped>\n",
       "    .dataframe tbody tr th:only-of-type {\n",
       "        vertical-align: middle;\n",
       "    }\n",
       "\n",
       "    .dataframe tbody tr th {\n",
       "        vertical-align: top;\n",
       "    }\n",
       "\n",
       "    .dataframe thead th {\n",
       "        text-align: right;\n",
       "    }\n",
       "</style>\n",
       "<table border=\"1\" class=\"dataframe\">\n",
       "  <thead>\n",
       "    <tr style=\"text-align: right;\">\n",
       "      <th></th>\n",
       "      <th>Date</th>\n",
       "      <th>Location</th>\n",
       "      <th>medium</th>\n",
       "      <th>Samples</th>\n",
       "      <th>Sampling_Notes</th>\n",
       "      <th>Water_temp</th>\n",
       "      <th>Plating_notes</th>\n",
       "      <th>Temp_incubation</th>\n",
       "      <th>P1_qty_sample</th>\n",
       "      <th>P1_fluo_halo_colonies</th>\n",
       "      <th>...</th>\n",
       "      <th>P3_qty_sample</th>\n",
       "      <th>P3_fluo_halo_colonies</th>\n",
       "      <th>Plate_three_24h_image</th>\n",
       "      <th>P3_24h_big_blue</th>\n",
       "      <th>P3_24h_med_blue</th>\n",
       "      <th>P3_24h_green</th>\n",
       "      <th>P3_24h_turq</th>\n",
       "      <th>P3_24h_pink</th>\n",
       "      <th>P3_24h_other</th>\n",
       "      <th>Comments_p3_24h</th>\n",
       "    </tr>\n",
       "  </thead>\n",
       "  <tbody>\n",
       "    <tr>\n",
       "      <th>43</th>\n",
       "      <td>2017-07-24</td>\n",
       "      <td>MRD</td>\n",
       "      <td>easy_gel</td>\n",
       "      <td>0</td>\n",
       "      <td>Waves at sight, sampling not effective</td>\n",
       "      <td>0</td>\n",
       "      <td>No comments</td>\n",
       "      <td>37</td>\n",
       "      <td>4.0</td>\n",
       "      <td>0</td>\n",
       "      <td>...</td>\n",
       "      <td>4.0</td>\n",
       "      <td>0.0</td>\n",
       "      <td>none</td>\n",
       "      <td>0.0</td>\n",
       "      <td>0.0</td>\n",
       "      <td>0.0</td>\n",
       "      <td>0.0</td>\n",
       "      <td>0.0</td>\n",
       "      <td>0.0</td>\n",
       "      <td>No comments</td>\n",
       "    </tr>\n",
       "  </tbody>\n",
       "</table>\n",
       "<p>1 rows × 38 columns</p>\n",
       "</div>"
      ],
      "text/plain": [
       "         Date Location    medium  Samples  \\\n",
       "43 2017-07-24      MRD  easy_gel        0   \n",
       "\n",
       "                            Sampling_Notes  Water_temp Plating_notes  \\\n",
       "43  Waves at sight, sampling not effective           0   No comments   \n",
       "\n",
       "    Temp_incubation  P1_qty_sample  P1_fluo_halo_colonies       ...         \\\n",
       "43               37            4.0                      0       ...          \n",
       "\n",
       "   P3_qty_sample  P3_fluo_halo_colonies  Plate_three_24h_image  \\\n",
       "43           4.0                    0.0                   none   \n",
       "\n",
       "    P3_24h_big_blue  P3_24h_med_blue  P3_24h_green  P3_24h_turq P3_24h_pink  \\\n",
       "43              0.0              0.0           0.0          0.0         0.0   \n",
       "\n",
       "   P3_24h_other  Comments_p3_24h  \n",
       "43          0.0      No comments  \n",
       "\n",
       "[1 rows x 38 columns]"
      ]
     },
     "execution_count": 21,
     "metadata": {},
     "output_type": "execute_result"
    }
   ],
   "source": [
    "# go ahead and change that now\n",
    "a24.iloc[43, 3] = 0\n",
    "a24[(a24.Location == 'MRD') & (a24.Date == '2017-07-24')]"
   ]
  },
  {
   "cell_type": "markdown",
   "metadata": {},
   "source": [
    "### Need to be able to group results by date, location, plate number, color, medium and (time)\n",
    "### Create indexes that can be called in a function"
   ]
  },
  {
   "cell_type": "markdown",
   "metadata": {},
   "source": [
    "#### Date groupings, by week 2017"
   ]
  },
  {
   "cell_type": "code",
   "execution_count": 22,
   "metadata": {},
   "outputs": [
    {
     "data": {
      "text/plain": [
       "[Timestamp('2017-06-12 00:00:00'),\n",
       " Timestamp('2017-06-19 00:00:00'),\n",
       " Timestamp('2017-06-26 00:00:00'),\n",
       " Timestamp('2017-07-03 00:00:00'),\n",
       " Timestamp('2017-07-10 00:00:00'),\n",
       " Timestamp('2017-07-17 00:00:00'),\n",
       " Timestamp('2017-07-24 00:00:00'),\n",
       " Timestamp('2017-07-31 00:00:00')]"
      ]
     },
     "execution_count": 22,
     "metadata": {},
     "output_type": "execute_result"
    }
   ],
   "source": [
    "# group the dates by week number\n",
    "# first get a sorted list by date\n",
    "# any way you do it there is a transformation to happen\n",
    "b = a['Date'].copy()\n",
    "b = pd.to_datetime(b, format='%Y/%m/%d')\n",
    "b = list(set(b))#<---------- change from previous\n",
    "b.sort()\n",
    "#b = list(set(b))\n",
    "#b.sort()\n",
    "b\n",
    "# the time stamp works here but it is a hassel in js\n",
    "# the value will be kept but I will also asign a week #"
   ]
  },
  {
   "cell_type": "code",
   "execution_count": 23,
   "metadata": {},
   "outputs": [
    {
     "name": "stdout",
     "output_type": "stream",
     "text": [
      "{'Week one': Timestamp('2017-06-12 00:00:00'), 'Week two': Timestamp('2017-06-19 00:00:00'), 'Week three': Timestamp('2017-06-26 00:00:00'), 'Week four': Timestamp('2017-07-03 00:00:00'), 'Week five': Timestamp('2017-07-10 00:00:00'), 'Week six': Timestamp('2017-07-17 00:00:00'), 'Week seven': Timestamp('2017-07-24 00:00:00'), 'Week eight': Timestamp('2017-07-31 00:00:00')} [Timestamp('2017-06-12 00:00:00'), Timestamp('2017-06-19 00:00:00'), Timestamp('2017-06-26 00:00:00'), Timestamp('2017-07-03 00:00:00'), Timestamp('2017-07-10 00:00:00'), Timestamp('2017-07-17 00:00:00'), Timestamp('2017-07-24 00:00:00'), Timestamp('2017-07-31 00:00:00')]\n"
     ]
    }
   ],
   "source": [
    "weeks_l = ['Week one', 'Week two', 'Week three', 'Week four', 'Week five', 'Week six', 'Week seven', 'Week eight']\n",
    "weeks = dict(zip(weeks_l, b))\n",
    "print(weeks, b)#<------ this still looks good"
   ]
  },
  {
   "cell_type": "code",
   "execution_count": 24,
   "metadata": {},
   "outputs": [],
   "source": [
    "# weeks has the key type 'Week one', 'Week two'....\n",
    "# Will need to call the week be by date\n",
    "# so weeks 2 has the key type Timestamp('2017-06-12 00:00:00')\n",
    "weeks_2 = dict(zip(b, weeks_l))#<---------- this is still makes sense"
   ]
  },
  {
   "cell_type": "markdown",
   "metadata": {},
   "source": [
    "#### Date groupings, by week 2016"
   ]
  },
  {
   "cell_type": "code",
   "execution_count": 25,
   "metadata": {},
   "outputs": [
    {
     "data": {
      "text/plain": [
       "[Timestamp('2016-06-21 00:00:00'),\n",
       " Timestamp('2016-06-28 00:00:00'),\n",
       " Timestamp('2016-07-05 00:00:00'),\n",
       " Timestamp('2016-07-12 00:00:00'),\n",
       " Timestamp('2016-07-19 00:00:00'),\n",
       " Timestamp('2016-07-26 00:00:00'),\n",
       " Timestamp('2016-08-02 00:00:00'),\n",
       " Timestamp('2016-08-09 00:00:00')]"
      ]
     },
     "execution_count": 25,
     "metadata": {},
     "output_type": "execute_result"
    }
   ],
   "source": [
    "b_2016 = a16['Date'].copy()\n",
    "b_2016 = pd.to_datetime(b_2016,format='%Y-%m-%d' )\n",
    "b_2016 = list(set(b_2016))#<----------- change from previous\n",
    "b_2016.sort()\n",
    "#b_2016 = list(set(b_2016))\n",
    "#b_2016.sort()\n",
    "b_2016"
   ]
  },
  {
   "cell_type": "code",
   "execution_count": 26,
   "metadata": {},
   "outputs": [],
   "source": [
    "weeks_2016 = dict(zip(weeks_l, b_2016))\n",
    "dates_2016 = dict(zip(b_2016, weeks_l))"
   ]
  },
  {
   "cell_type": "markdown",
   "metadata": {},
   "source": [
    "#### Mediums used to culture bacteria"
   ]
  },
  {
   "cell_type": "code",
   "execution_count": 27,
   "metadata": {},
   "outputs": [
    {
     "data": {
      "text/plain": [
       "['easy_gel', 'micrology_card', 'unil_kitchen', 'levine']"
      ]
     },
     "execution_count": 27,
     "metadata": {},
     "output_type": "execute_result"
    }
   ],
   "source": [
    "# a list of mediums is important\n",
    "mediums = list(a['medium'].unique().copy())\n",
    "mediums"
   ]
  },
  {
   "cell_type": "markdown",
   "metadata": {},
   "source": [
    "#### Locations of interest"
   ]
  },
  {
   "cell_type": "code",
   "execution_count": 28,
   "metadata": {},
   "outputs": [],
   "source": [
    "places_48 = ['MRD', 'VNX', 'SVT']"
   ]
  },
  {
   "cell_type": "markdown",
   "metadata": {},
   "source": [
    "#### Group by plate number, this is  also used when the number of samples equals the number of plates\n",
    "#### example: one sample = plate one ... \n",
    "#### 48 hour groups"
   ]
  },
  {
   "cell_type": "code",
   "execution_count": 29,
   "metadata": {},
   "outputs": [],
   "source": [
    "# create plate variables\n",
    "p_one_48 = ['P1_fluo_halo_colonies','P1_48h_big_blue','P1_48h_med_blue','P1_48h_green',\n",
    "            'P1_48h_turq','P1_48h_pink','P1_48h_other']\n",
    "p_two_48 = ['P2_fluo_halo_colonies','P2_48h_big_blue','P2_48h_med_blue',\n",
    "            'P2_48h_green','P2_48h_turq','P2_48h_pink','P2_48h_other']\n",
    "p_three_48 = ['P3_fluo_halo_colonies','P3_48h_big_blue','P3_48h_med_blue',\n",
    "              'P3_48h_green','P3_48h_turq','P3_48h_pink','P3_48h_other']\n",
    "# create key for charting\n",
    "import re\n",
    "q = re.compile('fluo_halo', re.IGNORECASE)\n",
    "def make_keys(a):\n",
    "    f={}\n",
    "    for h in a:\n",
    "        for b, c in enumerate(h):\n",
    "            if q.search(h[b]):\n",
    "                d = 'UV Fluo'\n",
    "                e = {h[0]:d}\n",
    "                f.update(e)\n",
    "            else:\n",
    "                d = h[b][7:]\n",
    "                e = {h[b]:d}\n",
    "                f.update(e)\n",
    "    return f\n",
    "colony_map = make_keys([p_one_48, p_two_48, p_three_48])        \n",
    "# this may come in handy later"
   ]
  },
  {
   "cell_type": "markdown",
   "metadata": {},
   "source": [
    "#### Create user friendly names mapped to orignal dataframe column names"
   ]
  },
  {
   "cell_type": "code",
   "execution_count": 30,
   "metadata": {},
   "outputs": [
    {
     "data": {
      "text/plain": [
       "'big_blue'"
      ]
     },
     "execution_count": 30,
     "metadata": {},
     "output_type": "execute_result"
    }
   ],
   "source": [
    "# the 'map' can be used to convert\n",
    "# column names to something more concise\n",
    "# can use index location or counts to call labels\n",
    "# so that means that\n",
    "colony_map[p_two_48[1]]#< ------- this is still good"
   ]
  },
  {
   "cell_type": "markdown",
   "metadata": {},
   "source": [
    "#### Test that the same index number calls the same color group across all plates"
   ]
  },
  {
   "cell_type": "code",
   "execution_count": 31,
   "metadata": {},
   "outputs": [
    {
     "name": "stdout",
     "output_type": "stream",
     "text": [
      "P1_48h_med_blue\n",
      "P2_48h_med_blue\n",
      "P3_48h_med_blue\n",
      "loop\n"
     ]
    }
   ],
   "source": [
    "# to check that the same color group is called for each plate\n",
    "# grab a random number and use it to\n",
    "# index the lists created from the columns\n",
    "# these will be used as lables later to call data out\n",
    "# the out pt should be the same for all values x[i] where i = np.random.choice(6)\n",
    "plates_four_eight =  [p_one_48, p_two_48, p_three_48]\n",
    "plates_2four_eight = [p_one_48, p_two_48]\n",
    "plates_1four_eight = [p_one_48]\n",
    "def check_indexes(a):\n",
    "    n = 0\n",
    "    i = np.random.choice(len(a[0]))#<-------- cahnge from previous\n",
    "    if n <= 4:        \n",
    "        for x in a:\n",
    "            print(x[i])\n",
    "        print('loop')\n",
    "        n += 1\n",
    "        \n",
    "check_indexes(plates_four_eight)\n",
    "# okay this function can run forever and i get the same color output from each plate     "
   ]
  },
  {
   "cell_type": "markdown",
   "metadata": {},
   "source": [
    "#### 48 hour color groups,\n",
    "#### Ensure taht with one index call all the results for a particular species can be collected"
   ]
  },
  {
   "cell_type": "code",
   "execution_count": 32,
   "metadata": {},
   "outputs": [
    {
     "data": {
      "text/plain": [
       "['P1_48h_pink', 'P2_48h_pink', 'P3_48h_pink']"
      ]
     },
     "execution_count": 32,
     "metadata": {},
     "output_type": "execute_result"
    }
   ],
   "source": [
    "# use the above property to make color groups\n",
    "# each color represents a type/family of bacteria\n",
    "# we need two calculate the results per color group\n",
    "# in the preceding step they are grouped by plate\n",
    "a_number = np.arange(len(plates_four_eight[0]))\n",
    "def make_groups(x, q):\n",
    "    b=[]\n",
    "    for s in x:\n",
    "        a = []\n",
    "        for y in q:\n",
    "            a.append(y[s])\n",
    "        b.append(a)\n",
    "    return b\n",
    "three_plate_48 = make_groups(a_number, plates_four_eight)\n",
    "two_plate_48 = make_groups(np.arange(len(plates_2four_eight[0])), plates_2four_eight)\n",
    "one_plate_48 = make_groups(np.arange(len(plates_1four_eight[0])), plates_1four_eight)\n",
    "\n",
    "# take a look\n",
    "# they should all be the same group:\n",
    "three_plate_48[5]#< ---------- this is still good\n",
    "# perfect now I can call a color group by the number of samples\n",
    "\n"
   ]
  },
  {
   "cell_type": "markdown",
   "metadata": {},
   "source": [
    "### 24 hour groups\n",
    "### Re-use the functions from the 48 hour group"
   ]
  },
  {
   "cell_type": "code",
   "execution_count": 33,
   "metadata": {},
   "outputs": [],
   "source": [
    "p_one_24 = ['P1_fluo_halo_colonies', 'P1_24h_big_blue','P1_24h_med_blue',\n",
    "            'P1_24h_green', 'P1_24h_turq', 'P1_24h_pink', 'P1_24h_other']\n",
    "p_two_24 = ['P2_fluo_halo_colonies','P2_24h_big_blue','P2_24h_med_blue',\n",
    "            'P2_24h_green', 'P2_24h_turq', 'P2_24h_pink','P2_24h_other',]\n",
    "p_three_24 = ['P3_fluo_halo_colonies', 'P3_24h_big_blue', 'P3_24h_med_blue',\n",
    "              'P3_24h_green', 'P3_24h_turq', 'P3_24h_pink','P3_24h_other']\n",
    "\n",
    "colony_map_24 = make_keys([p_one_24, p_two_24, p_three_24] )\n"
   ]
  },
  {
   "cell_type": "code",
   "execution_count": 34,
   "metadata": {},
   "outputs": [
    {
     "name": "stdout",
     "output_type": "stream",
     "text": [
      "P1_24h_med_blue\n",
      "P2_24h_med_blue\n",
      "P3_24h_med_blue\n",
      "loop\n"
     ]
    }
   ],
   "source": [
    "plates_two_four = [p_one_24, p_two_24, p_three_24]\n",
    "plates_2four_four = [p_one_24, p_two_24]\n",
    "plates_1four_four = [p_one_24]\n",
    "check_indexes(plates_two_four)"
   ]
  },
  {
   "cell_type": "code",
   "execution_count": 35,
   "metadata": {},
   "outputs": [
    {
     "data": {
      "text/plain": [
       "['P1_24h_big_blue', 'P2_24h_big_blue', 'P3_24h_big_blue']"
      ]
     },
     "execution_count": 35,
     "metadata": {},
     "output_type": "execute_result"
    }
   ],
   "source": [
    "three_plate_24 = make_groups(np.arange(len(plates_two_four[0])), plates_two_four)\n",
    "two_plate_24 = make_groups(np.arange(len(plates_2four_four[0])), plates_2four_four)\n",
    "one_plate_24 = make_groups(np.arange(len(plates_1four_four[0])), plates_1four_four)\n",
    "\n",
    "# take a look\n",
    "# they should all be the same group:\n",
    "three_plate_24[1]\n",
    "# perfect now I can call a color group by the number of samples"
   ]
  },
  {
   "cell_type": "markdown",
   "metadata": {},
   "source": [
    "### 2016 groups"
   ]
  },
  {
   "cell_type": "code",
   "execution_count": 36,
   "metadata": {},
   "outputs": [],
   "source": [
    "p_one_2016 = ['P1_24h_big_blue','P1_24h_med_blue','P1_24h_turq', 'P1_24h_pink', 'P1_24h_other']\n",
    "p_two_2016 = ['P2_24h_big_blue','P2_24h_med_blue','P2_24h_turq', 'P2_24h_pink','P2_24h_other',]\n",
    "p_three_2016 = ['P3_24h_big_blue', 'P3_24h_med_blue','P3_24h_turq', 'P3_24h_pink','P3_24h_other']"
   ]
  },
  {
   "cell_type": "code",
   "execution_count": 37,
   "metadata": {},
   "outputs": [],
   "source": [
    "# make some keys for the 2016 data\n",
    "# there is no fluo\n",
    "def make_keys_16(a):\n",
    "    f={}\n",
    "    for h in a:\n",
    "        for b, c in enumerate(h):\n",
    "            d = h[b][7:]\n",
    "            e = {h[b]:d}\n",
    "            f.update(e)\n",
    "    return f"
   ]
  },
  {
   "cell_type": "code",
   "execution_count": 38,
   "metadata": {},
   "outputs": [],
   "source": [
    "colony_map_16 = make_keys_16([p_one_2016, p_two_2016, p_three_2016])"
   ]
  },
  {
   "cell_type": "code",
   "execution_count": 39,
   "metadata": {},
   "outputs": [],
   "source": [
    "plates_16 = [p_one_2016, p_two_2016, p_three_2016]\n",
    "three_plate_16 = make_groups(np.arange(len(plates_16[0])), plates_16)"
   ]
  },
  {
   "cell_type": "code",
   "execution_count": 40,
   "metadata": {},
   "outputs": [
    {
     "data": {
      "text/plain": [
       "'med_blue'"
      ]
     },
     "execution_count": 40,
     "metadata": {},
     "output_type": "execute_result"
    }
   ],
   "source": [
    "colony_map_16[p_two_2016[1]]"
   ]
  },
  {
   "cell_type": "code",
   "execution_count": 41,
   "metadata": {},
   "outputs": [
    {
     "data": {
      "text/plain": [
       "['P1_24h_med_blue', 'P2_24h_med_blue', 'P3_24h_med_blue']"
      ]
     },
     "execution_count": 41,
     "metadata": {},
     "output_type": "execute_result"
    }
   ],
   "source": [
    "three_plate_16[1] "
   ]
  },
  {
   "cell_type": "code",
   "execution_count": 42,
   "metadata": {},
   "outputs": [],
   "source": [
    "# okay good to go"
   ]
  },
  {
   "cell_type": "markdown",
   "metadata": {},
   "source": [
    "## Rain data 2017"
   ]
  },
  {
   "cell_type": "code",
   "execution_count": 43,
   "metadata": {},
   "outputs": [
    {
     "data": {
      "text/html": [
       "<div>\n",
       "<style scoped>\n",
       "    .dataframe tbody tr th:only-of-type {\n",
       "        vertical-align: middle;\n",
       "    }\n",
       "\n",
       "    .dataframe tbody tr th {\n",
       "        vertical-align: top;\n",
       "    }\n",
       "\n",
       "    .dataframe thead th {\n",
       "        text-align: right;\n",
       "    }\n",
       "</style>\n",
       "<table border=\"1\" class=\"dataframe\">\n",
       "  <thead>\n",
       "    <tr style=\"text-align: right;\">\n",
       "      <th></th>\n",
       "      <th>06/01/18</th>\n",
       "      <th>76°/58°</th>\n",
       "      <th>0 IN</th>\n",
       "      <th>0 IN.1</th>\n",
       "      <th></th>\n",
       "    </tr>\n",
       "  </thead>\n",
       "  <tbody>\n",
       "    <tr>\n",
       "      <th>0</th>\n",
       "      <td>06/02/18</td>\n",
       "      <td>78°/56°</td>\n",
       "      <td>0 IN</td>\n",
       "      <td>0 IN</td>\n",
       "      <td></td>\n",
       "    </tr>\n",
       "    <tr>\n",
       "      <th>1</th>\n",
       "      <td>06/03/18</td>\n",
       "      <td>78°/58°</td>\n",
       "      <td>0.42 IN</td>\n",
       "      <td>0 IN</td>\n",
       "      <td></td>\n",
       "    </tr>\n",
       "  </tbody>\n",
       "</table>\n",
       "</div>"
      ],
      "text/plain": [
       "   06/01/18  76°/58°     0 IN 0 IN.1   \n",
       "0  06/02/18  78°/56°     0 IN   0 IN   \n",
       "1  06/03/18  78°/58°  0.42 IN   0 IN   "
      ]
     },
     "execution_count": 43,
     "metadata": {},
     "output_type": "execute_result"
    }
   ],
   "source": [
    "# we need to add rain values for the sampling period\n",
    "# let's see what we got from the CSO\n",
    "aa = pd.read_csv('data/rainfall.csv')\n",
    "aa.iloc[:2]\n",
    "# actually this came as a table embedded in a word doc\n",
    "# try incorporating that into you analysis"
   ]
  },
  {
   "cell_type": "code",
   "execution_count": 44,
   "metadata": {},
   "outputs": [
    {
     "data": {
      "text/html": [
       "<div>\n",
       "<style scoped>\n",
       "    .dataframe tbody tr th:only-of-type {\n",
       "        vertical-align: middle;\n",
       "    }\n",
       "\n",
       "    .dataframe tbody tr th {\n",
       "        vertical-align: top;\n",
       "    }\n",
       "\n",
       "    .dataframe thead th {\n",
       "        text-align: right;\n",
       "    }\n",
       "</style>\n",
       "<table border=\"1\" class=\"dataframe\">\n",
       "  <thead>\n",
       "    <tr style=\"text-align: right;\">\n",
       "      <th></th>\n",
       "      <th>0</th>\n",
       "      <th>1</th>\n",
       "      <th>2</th>\n",
       "      <th>3</th>\n",
       "      <th>4</th>\n",
       "    </tr>\n",
       "  </thead>\n",
       "  <tbody>\n",
       "    <tr>\n",
       "      <th>0</th>\n",
       "      <td>06/01/18</td>\n",
       "      <td>76°/58°</td>\n",
       "      <td>0 IN</td>\n",
       "      <td>0 IN</td>\n",
       "      <td></td>\n",
       "    </tr>\n",
       "    <tr>\n",
       "      <th>1</th>\n",
       "      <td>06/02/18</td>\n",
       "      <td>78°/56°</td>\n",
       "      <td>0 IN</td>\n",
       "      <td>0 IN</td>\n",
       "      <td></td>\n",
       "    </tr>\n",
       "  </tbody>\n",
       "</table>\n",
       "</div>"
      ],
      "text/plain": [
       "          0        1     2     3  4\n",
       "0  06/01/18  76°/58°  0 IN  0 IN   \n",
       "1  06/02/18  78°/56°  0 IN  0 IN   "
      ]
     },
     "execution_count": 44,
     "metadata": {},
     "output_type": "execute_result"
    }
   ],
   "source": [
    "# either way this won't work\n",
    "aa = pd.read_csv('data/rainfall.csv', header=None)\n",
    "aa.iloc[:2]"
   ]
  },
  {
   "cell_type": "code",
   "execution_count": 45,
   "metadata": {},
   "outputs": [],
   "source": [
    "# the columns are in string format\n",
    "# can't do math with that (the dates maybe)\n",
    "# drop what we don't need\n",
    "# this may not be the fastest way, but it is a direct route\n",
    "bb = aa[[0, 2]].copy()"
   ]
  },
  {
   "cell_type": "code",
   "execution_count": 46,
   "metadata": {},
   "outputs": [],
   "source": [
    "# type(bb[2][0]) ---> string\n",
    "# so will split and catch only the number\n",
    "cc = bb[2].str.split(expand=True)\n",
    "# only need the first column of this new df\n",
    "cc.rename(columns={0:'Rain'}, inplace=True)"
   ]
  },
  {
   "cell_type": "code",
   "execution_count": 47,
   "metadata": {},
   "outputs": [],
   "source": [
    "dd = pd.concat([bb, cc], axis=1)"
   ]
  },
  {
   "cell_type": "code",
   "execution_count": 48,
   "metadata": {},
   "outputs": [],
   "source": [
    "dd.drop([2,1], axis=1, inplace=True)"
   ]
  },
  {
   "cell_type": "code",
   "execution_count": 49,
   "metadata": {},
   "outputs": [
    {
     "name": "stdout",
     "output_type": "stream",
     "text": [
      "          0  Rain\n",
      "0  06/01/18  0.00\n",
      "1  06/02/18  0.00\n",
      "2  06/03/18  0.42 <class 'numpy.float64'> <class 'str'>\n"
     ]
    }
   ],
   "source": [
    "dd['Rain'] = dd['Rain'].astype(float)\n",
    "print(dd.iloc[:3], type(dd['Rain'][0]), type(dd[0][0]))\n",
    "# okay the date column is all that is left to do\n",
    "# notice the dates are given as 2018\n",
    "# that is because the original file has the dates as day/month\n",
    "# the spreadsheet software defaults to the current year"
   ]
  },
  {
   "cell_type": "code",
   "execution_count": 50,
   "metadata": {},
   "outputs": [
    {
     "data": {
      "text/plain": [
       "'06/01/18'"
      ]
     },
     "execution_count": 50,
     "metadata": {},
     "output_type": "execute_result"
    }
   ],
   "source": [
    "# first rename the column\n",
    "dd.rename(columns={0:'Date'}, inplace=True)\n",
    "# check again before we go down some long road\n",
    "dd['Date'][0]"
   ]
  },
  {
   "cell_type": "code",
   "execution_count": 51,
   "metadata": {},
   "outputs": [
    {
     "data": {
      "text/plain": [
       "Timestamp('2018-06-01 00:00:00')"
      ]
     },
     "execution_count": 51,
     "metadata": {},
     "output_type": "execute_result"
    }
   ],
   "source": [
    "# see how this converts using datetime method\n",
    "pd.to_datetime(dd['Date'][0])\n",
    "# if i am lucky it will give me the year"
   ]
  },
  {
   "cell_type": "code",
   "execution_count": 52,
   "metadata": {},
   "outputs": [],
   "source": [
    "dd['Date'] = pd.to_datetime(dd['Date'])\n",
    "# so there are a couple of methods i can use\n",
    "dd['real_date'] = dd['Date'] - pd.Timedelta(days=365)"
   ]
  },
  {
   "cell_type": "code",
   "execution_count": 53,
   "metadata": {},
   "outputs": [
    {
     "data": {
      "text/plain": [
       "Timestamp('2017-06-01 00:00:00')"
      ]
     },
     "execution_count": 53,
     "metadata": {},
     "output_type": "execute_result"
    }
   ],
   "source": [
    "dd['real_date'][0]\n",
    "# yay it is done"
   ]
  },
  {
   "cell_type": "code",
   "execution_count": 54,
   "metadata": {},
   "outputs": [],
   "source": [
    "# now i can get the dates i need for the study\n",
    "# first get rid of some columns\n",
    "dd.drop('Date', axis=1, inplace=True)"
   ]
  },
  {
   "cell_type": "code",
   "execution_count": 55,
   "metadata": {},
   "outputs": [
    {
     "data": {
      "text/plain": [
       "Index(['Rain', 'real_date'], dtype='object')"
      ]
     },
     "execution_count": 55,
     "metadata": {},
     "output_type": "execute_result"
    }
   ],
   "source": [
    "dd.columns"
   ]
  },
  {
   "cell_type": "code",
   "execution_count": 56,
   "metadata": {},
   "outputs": [
    {
     "data": {
      "text/html": [
       "<div>\n",
       "<style scoped>\n",
       "    .dataframe tbody tr th:only-of-type {\n",
       "        vertical-align: middle;\n",
       "    }\n",
       "\n",
       "    .dataframe tbody tr th {\n",
       "        vertical-align: top;\n",
       "    }\n",
       "\n",
       "    .dataframe thead th {\n",
       "        text-align: right;\n",
       "    }\n",
       "</style>\n",
       "<table border=\"1\" class=\"dataframe\">\n",
       "  <thead>\n",
       "    <tr style=\"text-align: right;\">\n",
       "      <th></th>\n",
       "      <th>real_date</th>\n",
       "      <th>Rain</th>\n",
       "    </tr>\n",
       "  </thead>\n",
       "  <tbody>\n",
       "    <tr>\n",
       "      <th>4</th>\n",
       "      <td>2017-06-05</td>\n",
       "      <td>0.00</td>\n",
       "    </tr>\n",
       "    <tr>\n",
       "      <th>5</th>\n",
       "      <td>2017-06-06</td>\n",
       "      <td>0.57</td>\n",
       "    </tr>\n",
       "    <tr>\n",
       "      <th>6</th>\n",
       "      <td>2017-06-07</td>\n",
       "      <td>0.00</td>\n",
       "    </tr>\n",
       "    <tr>\n",
       "      <th>7</th>\n",
       "      <td>2017-06-08</td>\n",
       "      <td>0.00</td>\n",
       "    </tr>\n",
       "  </tbody>\n",
       "</table>\n",
       "</div>"
      ],
      "text/plain": [
       "   real_date  Rain\n",
       "4 2017-06-05  0.00\n",
       "5 2017-06-06  0.57\n",
       "6 2017-06-07  0.00\n",
       "7 2017-06-08  0.00"
      ]
     },
     "execution_count": 56,
     "metadata": {},
     "output_type": "execute_result"
    }
   ],
   "source": [
    "# use the date list created at the begining\n",
    "# to define the date range\n",
    "dd_d = 'real_date'\n",
    "# give this a shot\n",
    "# dd[(dd[dd_d] >= b[0]) & (dd[dd_d] <= b[7])]\n",
    "# that will work\n",
    "# therefore\n",
    "d_rain = dd[(dd[dd_d] >= '2017-06-05') & (dd[dd_d] <= b[7])]\n",
    "# move the columns around\n",
    "d_rain = d_rain[[dd_d, 'Rain']]\n",
    "# take a look\n",
    "d_rain.iloc[:4]\n",
    "# we are in business"
   ]
  },
  {
   "cell_type": "markdown",
   "metadata": {},
   "source": [
    "### 2016 rain data"
   ]
  },
  {
   "cell_type": "code",
   "execution_count": 57,
   "metadata": {},
   "outputs": [],
   "source": [
    "rain_2016 = pd.read_csv('data/rainfall2016.csv', header=None)"
   ]
  },
  {
   "cell_type": "code",
   "execution_count": 58,
   "metadata": {},
   "outputs": [],
   "source": [
    "rain_2016.rename(columns={0:'Date', 1:'Rain'}, inplace=True)"
   ]
  },
  {
   "cell_type": "code",
   "execution_count": 59,
   "metadata": {},
   "outputs": [
    {
     "data": {
      "text/html": [
       "<div>\n",
       "<style scoped>\n",
       "    .dataframe tbody tr th:only-of-type {\n",
       "        vertical-align: middle;\n",
       "    }\n",
       "\n",
       "    .dataframe tbody tr th {\n",
       "        vertical-align: top;\n",
       "    }\n",
       "\n",
       "    .dataframe thead th {\n",
       "        text-align: right;\n",
       "    }\n",
       "</style>\n",
       "<table border=\"1\" class=\"dataframe\">\n",
       "  <thead>\n",
       "    <tr style=\"text-align: right;\">\n",
       "      <th></th>\n",
       "      <th>Date</th>\n",
       "      <th>Rain</th>\n",
       "    </tr>\n",
       "  </thead>\n",
       "  <tbody>\n",
       "    <tr>\n",
       "      <th>0</th>\n",
       "      <td>2016-6-21</td>\n",
       "      <td>0.00</td>\n",
       "    </tr>\n",
       "    <tr>\n",
       "      <th>1</th>\n",
       "      <td>2016-06-22</td>\n",
       "      <td>0.00</td>\n",
       "    </tr>\n",
       "    <tr>\n",
       "      <th>2</th>\n",
       "      <td>2016-06-23</td>\n",
       "      <td>0.00</td>\n",
       "    </tr>\n",
       "    <tr>\n",
       "      <th>3</th>\n",
       "      <td>2016-06-24</td>\n",
       "      <td>1.66</td>\n",
       "    </tr>\n",
       "    <tr>\n",
       "      <th>4</th>\n",
       "      <td>2016-06-25</td>\n",
       "      <td>7.36</td>\n",
       "    </tr>\n",
       "  </tbody>\n",
       "</table>\n",
       "</div>"
      ],
      "text/plain": [
       "         Date  Rain\n",
       "0   2016-6-21  0.00\n",
       "1  2016-06-22  0.00\n",
       "2  2016-06-23  0.00\n",
       "3  2016-06-24  1.66\n",
       "4  2016-06-25  7.36"
      ]
     },
     "execution_count": 59,
     "metadata": {},
     "output_type": "execute_result"
    }
   ],
   "source": [
    "rain_2016.iloc[:5]"
   ]
  },
  {
   "cell_type": "markdown",
   "metadata": {},
   "source": [
    "### Update 27 april\n",
    "\n",
    "1. run through this function again\n",
    "2. Makes sure that number of samples and nul samples are accounted for\n",
    "3. Account for 'Below Detectable Limit' and 'Too many to count'\n",
    "4. Print out some values\n",
    "5. Get summary stats\n",
    "6. Group results by location:week_number:color\n",
    "7. make a json string or js variable\n",
    "\n",
    "### The results of these functions get passed on to plotting functions and bar graph functions"
   ]
  },
  {
   "cell_type": "markdown",
   "metadata": {},
   "source": [
    "#### Get the log, standard mean and average for each sample-day/location"
   ]
  },
  {
   "cell_type": "code",
   "execution_count": 60,
   "metadata": {},
   "outputs": [],
   "source": [
    "# import regex to look for string entries\n",
    "# in particulat 'tmtc' --> 'to many to count'\n",
    "\n",
    "import re\n",
    "# create the variable and compile the regex\n",
    "p = re.compile('tmtc', re.IGNORECASE)\n",
    "# the fucntion\n",
    "def get_log(df, week, places, meds):\n",
    "    # holder for results\n",
    "    all_results = []\n",
    "    # get the values from the df by place name\n",
    "    # call the place from the list created prior\n",
    "    for n, place in enumerate(places):\n",
    "        # this dict will be called in the charting fucntion\n",
    "        # the place name is the dict key\n",
    "        chart_it = {place:[]}\n",
    "        # this list will hold all the results in the form of dictionairies\n",
    "        the_results = []\n",
    "        # check the results per week\n",
    "        for a, b in enumerate(week):\n",
    "            # use the date map to grab weekly results\n",
    "            # here output or selection is limited to one location, one week\n",
    "            e = df[(df.Date == weeks[week[a]]) & (df.Location == place) & (df.medium == meds)]\n",
    "            #print(e)< ---------- checked e\n",
    "            # check if a samole was taken or not\n",
    "            # if not return a string and store that in a dictionary 'no_test'\n",
    "            # if there is no row entry for e['Samples'] this statement will create the dict\n",
    "            if e['Samples'].values[0] == 0:\n",
    "                no_t = meds + ' not used'\n",
    "                no_test = {'no_test': no_t}\n",
    "                the_results.append([{weeks_2[weeks[b]]:no_test}]) \n",
    "            \n",
    "            # depending on how many samples were taken\n",
    "            # assign the appropriate list \n",
    "            # e['Samples'] has a value from one to three (if it has a value)\n",
    "            elif e['Samples'].values[0] == 1:\n",
    "                # these were defined earlier\n",
    "                samples = one_plate_48\n",
    "                num_samps = 1       \n",
    "                \n",
    "            elif e['Samples'].values[0] == 2:\n",
    "                samples = two_plate_48\n",
    "                num_samps = 2\n",
    "                            \n",
    "            elif e['Samples'].values[0] == 3:\n",
    "                samples = three_plate_48\n",
    "                num_samps = 3\n",
    "            \n",
    "            # do this only if the number of samples taken is greater than zero\n",
    "            if e['Samples'].values[0] > 0:\n",
    "                # check the comments in the df\n",
    "                # this is where 'tmtc' would be hiding\n",
    "                comments = list(e['Comments_p1_48h'])\n",
    "                # grab the number of samples for this day \n",
    "                samps = {'num samps': num_samps}\n",
    "                # grab the dilution amount from the df\n",
    "                dose = {'dilution': e['P1_qty_sample'].item()}\n",
    "                # test the comments \n",
    "                # if there is a results\n",
    "                if len(comments) ==1:\n",
    "                    # run that result against the regex\n",
    "                    # if psotive then assign as 'tmtc'\n",
    "                    # p is looking for a string of characters = 'tmtc'\n",
    "                    if p.search(comments[0]):\n",
    "                        bdl={'TMTC':''}\n",
    "                    # if not open up a dict for 'BDL'\n",
    "                    else:\n",
    "                        bdl={'BDL':''}\n",
    "                # place to store the daily numerical results\n",
    "                day_results = []\n",
    "                # place to store the resluts for 'tmtc'or 'bdl'\n",
    "                string = []\n",
    "                # check the results per color group\n",
    "                for c, d in enumerate(samples):\n",
    "                    f = e[d]\n",
    "                    #print(f, b)# < ---------- checked f\n",
    "                    # if the the sum of a color group is zero\n",
    "                    # assign it to 'bdl'\n",
    "                    if sum(f.sum()) == 0:\n",
    "                        for s in d:\n",
    "                            # using our colony map to turn column names into\n",
    "                            # user friendly labels\n",
    "                            if colony_map[s] not in string:\n",
    "                                string.append(colony_map[s])\n",
    "                    # join all the bdl into a string, seperated by commas\n",
    "                    # this will be printed on the x axis of each chart\n",
    "                    bdl[list(bdl.keys())[0]] = ', '.join(string)\n",
    "                    # e[d] is a series of values from one color group\n",
    "                    # make that a list \n",
    "                    #print(e[d])\n",
    "                    g = list(e[d].sum())\n",
    "                    #print(g)\n",
    "                    # place to store some results\n",
    "                    g_l = []\n",
    "                    # go through the results one by one\n",
    "                    for h in g:\n",
    "                        # we are taking the log, zero retruns -inf\n",
    "                        # not good so we will keep the zero\n",
    "                        if h == 0:\n",
    "                            g_l.append(h)\n",
    "                        # any number greater than zero gets transformed\n",
    "                        if h > 0:\n",
    "                            g_l.append(np.log(h))\n",
    "                    # get the average of the results\n",
    "                    # print(g_l)\n",
    "                    g_m = np.mean(g_l)\n",
    "                    # get the standard deviation\n",
    "                    g_s = np.std(g_l)\n",
    "                    # calculate the 95th and round it to something reasonbale\n",
    "                    f_95 = g_m+ g_s*1.649\n",
    "                    f_95 = np.exp(f_95).round(2)\n",
    "                    # mutliply the value times the appropriate diltution factor\n",
    "                    # this could be changed to dose['dilution'].value()\n",
    "                    if e['P1_qty_sample'].item() == 0.5:\n",
    "                        f_95 = f_95 * 200\n",
    "                    elif e['P1_qty_sample'].item() == 1:\n",
    "                        f_95 = f_95 * 100\n",
    "                    elif e['P1_qty_sample'].item() == 4:\n",
    "                        f_95 = f_95 * 25\n",
    "                    # place the result in the daily resluts list\n",
    "                    day_results.append(f_95)\n",
    "                    # do this for each color group\n",
    "                # move on to the next day\n",
    "                # but first store the daily results, number of samples, bdl string and dose\n",
    "                # for that day, indeitfy it with the date map constructed earlier\n",
    "                the_results.append([{weeks_2[weeks[b]]:day_results}, bdl, samps, dose])\n",
    "            # repeat the process for each place\n",
    "            # store the result for each place in a dict with key 'place'\n",
    "            #print(the_results)< ------------ checked\n",
    "            chart_it[place] = the_results\n",
    "        #print(chart_it)<-------------- checked\n",
    "        # put this all in an array that can be iterated\n",
    "        all_results.append(chart_it)\n",
    "    return all_results\n",
    "               \n",
    "                \n"
   ]
  },
  {
   "cell_type": "code",
   "execution_count": 61,
   "metadata": {},
   "outputs": [],
   "source": [
    "#four_eight = get_log(a_b, weeks_l, places_48, mediums[0])  "
   ]
  },
  {
   "cell_type": "markdown",
   "metadata": {},
   "source": [
    "#### Get the daily average per color group for specified location and medium"
   ]
  },
  {
   "cell_type": "code",
   "execution_count": 62,
   "metadata": {},
   "outputs": [],
   "source": [
    "# this is the same function as above except the 95th percentile was replaced by the average\n",
    "# not going to comment this out\n",
    "p = re.compile('tmtc', re.IGNORECASE)\n",
    "def forty_eight_av(df, week, places, meds, comment, one_plate, two_plate, three_plate, cmap):\n",
    "    all_results2 = []\n",
    "    for n, place in enumerate(places):\n",
    "        chart_it2 = {place:[]}\n",
    "        the_results2 = []\n",
    "        for a, b in enumerate(week):\n",
    "            e = df[(df.Date == weeks[week[a]]) & (df.Location == place) & (df.medium == meds)]\n",
    "            \n",
    "            if e['Samples'].values[0] == 0:\n",
    "                no_t = meds + ' not used'\n",
    "                no_test = {'no_test': no_t}\n",
    "                the_results2.append([{weeks_2[weeks[b]]:no_test}]) \n",
    "                \n",
    "            elif e['Samples'].values[0] == 1:\n",
    "                samples = one_plate\n",
    "                num_samps = 1       \n",
    "                \n",
    "            elif e['Samples'].values[0] == 2:\n",
    "                samples = two_plate\n",
    "                num_samps = 2\n",
    "                            \n",
    "            elif e['Samples'].values[0] == 3:\n",
    "                samples = three_plate\n",
    "                num_samps = 3\n",
    "            \n",
    "            if e['Samples'].values[0] > 0:\n",
    "                comments = list(e[comment])\n",
    "                samps = {'num samps': num_samps}\n",
    "                dose = {'dilution': e['P1_qty_sample'].item()}\n",
    "                if len(comments) ==1:\n",
    "                    \n",
    "                    if p.search(comments[0]):\n",
    "                        bdl={'TMTC':''}\n",
    "                    else:\n",
    "                        bdl={'BDL':''}\n",
    "                \n",
    "                day_results2 = []\n",
    "                string = []\n",
    "                for c, d in enumerate(samples):\n",
    "                    f = e[d]\n",
    "                    #print(f, b)<------------- checked\n",
    "                    if sum(f.sum()) == 0:\n",
    "                        for s in d:\n",
    "                            if cmap[s] not in string:\n",
    "                                string.append(cmap[s])\n",
    "                    bdl[list(bdl.keys())[0]] = ', '.join(string)\n",
    "                    g = list(e[d].sum())\n",
    "                    g_l = []\n",
    "                    # this part here is for the 95th percentile\n",
    "                    #for h in g:\n",
    "                    #    if h == 0:\n",
    "                    #        g_l.append(h)\n",
    "                    #   if h > 0:\n",
    "                    #       g_l.append(np.log(h))\n",
    "                    g_m = np.mean(g)\n",
    "                    f_95 = g_m\n",
    "                    if f_95 == 0:\n",
    "                        f_95 = f_95 +0.01\n",
    "                    if e['P1_qty_sample'].item() == 0.5:\n",
    "                        f_95 = f_95 * 200\n",
    "                    elif e['P1_qty_sample'].item() == 1:\n",
    "                        f_95 = f_95 * 100\n",
    "                    elif e['P1_qty_sample'].item() == 4:\n",
    "                        f_95 = f_95 * 25\n",
    "                    day_results2.append(f_95)\n",
    "                the_results2.append([{weeks_2[weeks[b]]:day_results2}, bdl, samps, dose])\n",
    "            chart_it2[place] = the_results2\n",
    "        #print(chart_it2)<------------- checked\n",
    "        all_results2.append(chart_it2)\n",
    "    \n",
    "   \n",
    "    return all_results2"
   ]
  },
  {
   "cell_type": "code",
   "execution_count": 63,
   "metadata": {},
   "outputs": [],
   "source": [
    "#four_eight_ave = forty_eight_av(a_b, weeks_l, places_48,mediums[0],'Comments_p1_48h', one_plate_48, two_plate_48, three_plate_48, colony_map)"
   ]
  },
  {
   "cell_type": "markdown",
   "metadata": {},
   "source": [
    "### need to make a simplified function for the 2016 data\n",
    "1. There was always three samples per location per week\n",
    "2. TMTC not stored as comments\n",
    "3. There is no UV\n"
   ]
  },
  {
   "cell_type": "code",
   "execution_count": 64,
   "metadata": {},
   "outputs": [],
   "source": [
    "def av_2016(df, week, places, three_plate, cmap):\n",
    "    all_results2 = []\n",
    "    for n, place in enumerate(places):\n",
    "        chart_it2 = {place:[]}\n",
    "        the_results2 = []\n",
    "        for a, b in enumerate(week):\n",
    "            e = df[(df.Date == weeks_2016[week[a]]) & (df.Location == place)]\n",
    "            samples = three_plate\n",
    "            num_samps = 3\n",
    "            dose = {'dilution': e['P1_qty_sample'].item()}\n",
    "            samps = {'num samps': num_samps}\n",
    "            bdl={'BDL':''}\n",
    "            day_results2 = []\n",
    "            string = []\n",
    "            for c, d in enumerate(samples):\n",
    "                f = e[d]\n",
    "                if sum(f.sum()) == 0:\n",
    "                    for s in d:\n",
    "                        if cmap[s] not in string:\n",
    "                            string.append(cmap[s])\n",
    "                bdl[list(bdl.keys())[0]] = ', '.join(string)\n",
    "                g = list(e[d].sum())\n",
    "                g_m = np.mean(g)\n",
    "                f_95 = g_m\n",
    "                if f_95 == 0:\n",
    "                    f_95 = f_95 +0.01\n",
    "                if e['P1_qty_sample'].item() == 0.4:\n",
    "                    f_95 = f_95 * 250\n",
    "                elif e['P1_qty_sample'].item() == 1:\n",
    "                    f_95 = f_95 * 100\n",
    "                elif e['P1_qty_sample'].item() == 4:\n",
    "                    f_95 = f_95 * 25\n",
    "                day_results2.append(f_95)\n",
    "            the_results2.append([{dates_2016[weeks_2016[b]]:day_results2}, bdl, samps, dose])\n",
    "        chart_it2[place] = the_results2\n",
    "        all_results2.append(chart_it2)\n",
    "    \n",
    "   \n",
    "    return all_results2"
   ]
  },
  {
   "cell_type": "markdown",
   "metadata": {},
   "source": [
    "#### call the functions"
   ]
  },
  {
   "cell_type": "code",
   "execution_count": 65,
   "metadata": {},
   "outputs": [],
   "source": [
    "two_four_2016 = av_2016(a16,weeks_l, places_48, three_plate_16, colony_map_16)\n",
    "four_eight = get_log(a_b, weeks_l, places_48, mediums[0])  \n",
    "four_eight_ave = forty_eight_av(a_b, weeks_l, places_48,mediums[0],'Comments_p1_48h', one_plate_48, two_plate_48, three_plate_48, colony_map)"
   ]
  },
  {
   "cell_type": "markdown",
   "metadata": {},
   "source": [
    "## Testing signifigance of results\n",
    "\n",
    "### There are several ways to interpret the results of these tests. Repeating the tests in triplicate (three plates per sample) is a measure of quality control.  Testing at three different sites that are subject to the same environmental pressures at the same time on the same day is another way to ensure that the results reflect the overall situation.\n",
    "\n",
    "### If the results are random (there are no environmental pressures) then:\n",
    "### What is the probability that the same color group will have the maximum value for that day at all three sites?\n",
    "\n",
    "### For example, for each site and each sample day the results look like this:\n",
    "#### {'location one','Week one': [ color1, color2, ..... color6] } ,  {'location two','Week one': [ color1, color2, ..... color6] }.... see the output in the cell below\n",
    "### Given three locations and eight weeks, what is the chance that any color group will be the max at all three sites?\n",
    "\n",
    "#### If the probility is greater than 0.05 then we will assume that it is uniikeley that environmental pressures played a signifigant role in the actual test results."
   ]
  },
  {
   "cell_type": "code",
   "execution_count": 66,
   "metadata": {},
   "outputs": [
    {
     "data": {
      "text/plain": [
       "{'Week one': [25.0, 25.0, 25.0, 25.0, 25.0, 25.0, 25.0]}"
      ]
     },
     "execution_count": 66,
     "metadata": {},
     "output_type": "execute_result"
    }
   ],
   "source": [
    "four_eight[2]['SVT'][0][0]#['Week one']#<----this is a list of values\n",
    "# form [x0...x6] where xi is equal to log(np.mean([color group daily results all plates]))*the dilution multiplier"
   ]
  },
  {
   "cell_type": "markdown",
   "metadata": {},
   "source": [
    "### To better understand the signfigance of the results.  The actual results will be compared to sets of random samples with the same range as the actual results"
   ]
  },
  {
   "cell_type": "code",
   "execution_count": 67,
   "metadata": {},
   "outputs": [],
   "source": [
    "### So we want to catch the daily total cfu for each color at each site site\n",
    "#### that is a dict that looks like this\n",
    "#### {'big_blue_totals:[a list of all the possible values for big blue],... do the same for all colors}\n",
    "#### sample from each distibution to create sample results\n",
    "\n",
    "### Catch the sample average daily total per site per day, per color\n",
    "### Test the condition = on week four all locations have big blue as max\n",
    "### Condition = the number of time that min big blue is on day one or >= day 6\n",
    "### Check the probilities of that happeining"
   ]
  },
  {
   "cell_type": "markdown",
   "metadata": {},
   "source": [
    "### Some assumptions:\n",
    "1. That one and only one result out of six will be a maximum value.\n",
    "2. That there may be mutilple results out of six that can be at the minimum.\n",
    "3. That there is no effect on colony counts by rainfall, sudden increases in population density,  or  increases in economic activity.\n",
    "\n",
    "#### here we are just asking the question what happens if we assume that the presence and quantity of certain types of bacteria in 100mL of lake water is completley random and there is no correlation with any other variable."
   ]
  },
  {
   "cell_type": "markdown",
   "metadata": {},
   "source": [
    "### Define some variables: \n",
    "\n",
    "1. make this easier to type: c_ct = colony count\n",
    "2. asign colors to an index (the index was created awhile ago 'three_plate_48'). This allows us to call the colors by a number\n",
    "\n",
    "#### for example I want all the results c_cts for 'big_blue' from all locations"
   ]
  },
  {
   "cell_type": "code",
   "execution_count": 68,
   "metadata": {},
   "outputs": [
    {
     "data": {
      "text/html": [
       "<div>\n",
       "<style scoped>\n",
       "    .dataframe tbody tr th:only-of-type {\n",
       "        vertical-align: middle;\n",
       "    }\n",
       "\n",
       "    .dataframe tbody tr th {\n",
       "        vertical-align: top;\n",
       "    }\n",
       "\n",
       "    .dataframe thead th {\n",
       "        text-align: right;\n",
       "    }\n",
       "</style>\n",
       "<table border=\"1\" class=\"dataframe\">\n",
       "  <thead>\n",
       "    <tr style=\"text-align: right;\">\n",
       "      <th></th>\n",
       "      <th>P1_48h_big_blue</th>\n",
       "      <th>P2_48h_big_blue</th>\n",
       "      <th>P3_48h_big_blue</th>\n",
       "    </tr>\n",
       "  </thead>\n",
       "  <tbody>\n",
       "    <tr>\n",
       "      <th>0</th>\n",
       "      <td>0.0</td>\n",
       "      <td>0.0</td>\n",
       "      <td>0.0</td>\n",
       "    </tr>\n",
       "    <tr>\n",
       "      <th>1</th>\n",
       "      <td>0.0</td>\n",
       "      <td>0.0</td>\n",
       "      <td>0.0</td>\n",
       "    </tr>\n",
       "    <tr>\n",
       "      <th>2</th>\n",
       "      <td>0.0</td>\n",
       "      <td>0.0</td>\n",
       "      <td>0.0</td>\n",
       "    </tr>\n",
       "  </tbody>\n",
       "</table>\n",
       "</div>"
      ],
      "text/plain": [
       "   P1_48h_big_blue  P2_48h_big_blue  P3_48h_big_blue\n",
       "0              0.0              0.0              0.0\n",
       "1              0.0              0.0              0.0\n",
       "2              0.0              0.0              0.0"
      ]
     },
     "execution_count": 68,
     "metadata": {},
     "output_type": "execute_result"
    }
   ],
   "source": [
    "c_ct_b_blue = three_plate_48[1]\n",
    "a_b[c_ct_b_blue][:3]"
   ]
  },
  {
   "cell_type": "markdown",
   "metadata": {},
   "source": [
    "### But the colony counts do not reflect the actual quantity, there is a multiplier based on how much of the sample was plated.\n",
    "\n",
    "1. In the df that number is represented by the column 'P1_qty_sample'\n",
    "2. So buid a function that takes all values from a color group and multiplies that by the appropriate factor in 'P1_qty_sample'\n",
    "3. put all the results for a color group in an array\n",
    "4. call that array color_values\n",
    "\n",
    "### the resulting list will be used to generate a distribution that describes the range of possible values for a particular color group.  Because I am assuming that this is all random, then the following do not enter into consideration when constructing the list of values per color group:\n",
    "\n",
    "1. ignore plate number as a variable\n",
    "2. ignore location as a a variable\n",
    "\n",
    "### The UV fluo was only used in 2017, so those values will also be excluded, because we are comparing the results from 2016 and 2017"
   ]
  },
  {
   "cell_type": "code",
   "execution_count": 69,
   "metadata": {},
   "outputs": [
    {
     "data": {
      "text/plain": [
       "['P1_48h_big_blue', 'P2_48h_big_blue', 'P3_48h_big_blue']"
      ]
     },
     "execution_count": 69,
     "metadata": {},
     "output_type": "execute_result"
    }
   ],
   "source": [
    "# remove uv fluo from the index\n",
    "c_ct = three_plate_48[1:]\n",
    "c_ct[0]#<---- the new index starts at zero"
   ]
  },
  {
   "cell_type": "code",
   "execution_count": 70,
   "metadata": {},
   "outputs": [
    {
     "data": {
      "text/plain": [
       "array(['easy_gel'], dtype=object)"
      ]
     },
     "execution_count": 70,
     "metadata": {},
     "output_type": "execute_result"
    }
   ],
   "source": [
    "# only using ez-gel results\n",
    "a_c = a_b[a_b.medium == 'easy_gel'].copy()\n",
    "# check to to make sure\n",
    "a_c['medium'].unique()\n",
    "# good"
   ]
  },
  {
   "cell_type": "code",
   "execution_count": 71,
   "metadata": {},
   "outputs": [
    {
     "name": "stdout",
     "output_type": "stream",
     "text": [
      "[0 1 2] [0 1 2 3 4 5]\n"
     ]
    }
   ],
   "source": [
    "# write a function that applies multipler to each plate and color group\n",
    "# store those resluts in a list\n",
    "# need some index values:\n",
    "color_number = np.arange(len(c_ct))\n",
    "plate_number = np.arange(len(c_ct[0]))\n",
    "print(plate_number, color_number)"
   ]
  },
  {
   "cell_type": "code",
   "execution_count": 72,
   "metadata": {},
   "outputs": [
    {
     "data": {
      "text/html": [
       "<div>\n",
       "<style scoped>\n",
       "    .dataframe tbody tr th:only-of-type {\n",
       "        vertical-align: middle;\n",
       "    }\n",
       "\n",
       "    .dataframe tbody tr th {\n",
       "        vertical-align: top;\n",
       "    }\n",
       "\n",
       "    .dataframe thead th {\n",
       "        text-align: right;\n",
       "    }\n",
       "</style>\n",
       "<table border=\"1\" class=\"dataframe\">\n",
       "  <thead>\n",
       "    <tr style=\"text-align: right;\">\n",
       "      <th></th>\n",
       "      <th>P1_qty_sample</th>\n",
       "      <th>P2_48h_big_blue</th>\n",
       "    </tr>\n",
       "  </thead>\n",
       "  <tbody>\n",
       "    <tr>\n",
       "      <th>0</th>\n",
       "      <td>0.5</td>\n",
       "      <td>0.0</td>\n",
       "    </tr>\n",
       "    <tr>\n",
       "      <th>1</th>\n",
       "      <td>4.0</td>\n",
       "      <td>0.0</td>\n",
       "    </tr>\n",
       "    <tr>\n",
       "      <th>2</th>\n",
       "      <td>4.0</td>\n",
       "      <td>0.0</td>\n",
       "    </tr>\n",
       "  </tbody>\n",
       "</table>\n",
       "</div>"
      ],
      "text/plain": [
       "   P1_qty_sample  P2_48h_big_blue\n",
       "0            0.5              0.0\n",
       "1            4.0              0.0\n",
       "2            4.0              0.0"
      ]
     },
     "execution_count": 72,
     "metadata": {},
     "output_type": "execute_result"
    }
   ],
   "source": [
    "# then something like this should work:\n",
    "a_c[['P1_qty_sample', c_ct[0][1]]][:3]#<---- this should give qty sample and plate 2 big-blue\n",
    "# perfect"
   ]
  },
  {
   "cell_type": "code",
   "execution_count": 73,
   "metadata": {},
   "outputs": [],
   "source": [
    "# need to conver qty sample to a valid multiplier\n",
    "# 4mL = 25, 1mL = 100, 0.5 = 200\n",
    "# simple test function\n",
    "def how_many():\n",
    "    e = []\n",
    "    for n in color_number:\n",
    "        a = [] #<---- place to store values\n",
    "        for i in plate_number:\n",
    "            for b, c in a_c[['P1_qty_sample', c_ct[n][i]]].iterrows():\n",
    "                #print(c_ct[0][i])\n",
    "                if c['P1_qty_sample'] == 4:\n",
    "                    d = c[c_ct[n][i]]*25\n",
    "                elif c['P1_qty_sample'] == 1:\n",
    "                    d = c[c_ct[n][i]]*100\n",
    "                elif c['P1_qty_sample'] == 0.5:\n",
    "                    d = c[c_ct[n][i]]*200\n",
    "                a.append(d)\n",
    "        e.append(a)\n",
    "    return(e)\n",
    "rand_samples = how_many()\n",
    "#print(len(rand_samples))\n"
   ]
  },
  {
   "cell_type": "markdown",
   "metadata": {},
   "source": [
    "### Assume that with enough samples I would get a a normal distribution\n",
    "#### Construct a normal distritbution for each color group using the mean and sigma from the results\n",
    "#### Sample from that as many time as you want to create a list of possible values for each color group\n"
   ]
  },
  {
   "cell_type": "code",
   "execution_count": 74,
   "metadata": {},
   "outputs": [
    {
     "data": {
      "text/plain": [
       "6"
      ]
     },
     "execution_count": 74,
     "metadata": {},
     "output_type": "execute_result"
    }
   ],
   "source": [
    "# get the location and shape of the distribution from the actual values for each color group\n",
    "# sample from a random normal disttibution of the same shape\n",
    "# ensure that index calls from color_number index the same color values\n",
    "\n",
    "def normal_dists():\n",
    "    d = []\n",
    "    for values in rand_samples:\n",
    "        a = np.mean(values)\n",
    "        b = np.std(values)\n",
    "        c = np.random.normal(a, b, 1000)\n",
    "        d.append(c)\n",
    "    return d\n",
    "rand_samps = normal_dists()\n",
    "len(rand_samps)     "
   ]
  },
  {
   "cell_type": "code",
   "execution_count": 75,
   "metadata": {},
   "outputs": [],
   "source": [
    "# simulate one days results for three plates of all colors, from all locations\n",
    "# reuse the places_48 and weeks_l variables to keep evertyhing indexed\n",
    "# use the color_number to index colors and plate_number to index the plates per color\n",
    "# take random samples from the appropriate distibution \n",
    "# indentify when big_blue (index [0] in color_number) is the max value for the day at any location\n",
    "# make a dictionary of that result : {('location', 'week no'):value}, store that in a list\n",
    "# renew that list every iteration of the function\n",
    "\n",
    "def get_samples(a_dist):\n",
    "    f=[]\n",
    "    e=[]\n",
    "    h=[]\n",
    "    k=[]\n",
    "    for place in places_48:\n",
    "        d = []\n",
    "        for week in weeks_l:\n",
    "            c = []\n",
    "            for color in color_number:\n",
    "                a = []\n",
    "                for i in plate_number:\n",
    "                    rand_sample = np.random.choice(a_dist[color])# <--- grab a random number from the random counts\n",
    "                    #print(rand_sample)\n",
    "                    a.append(rand_sample)\n",
    "                b = np.mean(a)#<--- this is the average of the three numbers\n",
    "                c.append(b)\n",
    "            d.append({week:c})\n",
    "            if week == 'Week four':\n",
    "                # c is a list of the average results for each color group\n",
    "                # if c[0], the first color group == to big blue\n",
    "                # is the max for that day and location note the location and put it aside\n",
    "                if c[0] == max(c):\n",
    "                    f.append({(place, week):c[0]})\n",
    "            if week == 'Week five':\n",
    "                # repeat for week five\n",
    "                if c[0] == max(c):\n",
    "                    h.append({(place, week):c[0]})\n",
    "        #print(h)\n",
    "        e.append(d)\n",
    "       \n",
    "    g, m =0, 0\n",
    "    if len(f) == 3:\n",
    "        print(f)\n",
    "        g += 1\n",
    "    if len(h) == 3:\n",
    "        print(h)\n",
    "        m += 1\n",
    "    return e, g, m"
   ]
  },
  {
   "cell_type": "markdown",
   "metadata": {},
   "source": [
    "### The results from get_samples() should be structured the same as four_eight_ave()\n",
    "1. nested lists\n",
    "2. the first list has length 3\n",
    "3. the second is a list of dictionaries labeled by week\n",
    "4. the third has length 6\n",
    "\n",
    "#### List one is the number of locations under consideration (MRD, SVT, VNX)\n",
    "#### List two is a list of dictionaries with dict key 'Week one', 'Week two' .....\n",
    "#### List three is the daily results -- random values that represents outcome per color group"
   ]
  },
  {
   "cell_type": "code",
   "execution_count": 76,
   "metadata": {},
   "outputs": [],
   "source": [
    "averages = get_samples(rand_samples)"
   ]
  },
  {
   "cell_type": "code",
   "execution_count": 77,
   "metadata": {},
   "outputs": [
    {
     "data": {
      "text/plain": [
       "{'Week one': [0.0, 91.66666666666667, 0.0, 0.0, 83.33333333333333, 0.0]}"
      ]
     },
     "execution_count": 77,
     "metadata": {},
     "output_type": "execute_result"
    }
   ],
   "source": [
    "averages[0][0][0]#<---- this is good output"
   ]
  },
  {
   "cell_type": "code",
   "execution_count": 78,
   "metadata": {},
   "outputs": [],
   "source": [
    "### Run the simulation 1000 times"
   ]
  },
  {
   "cell_type": "markdown",
   "metadata": {},
   "source": [
    "### Sample from the list of actual values for each color group"
   ]
  },
  {
   "cell_type": "code",
   "execution_count": 79,
   "metadata": {},
   "outputs": [
    {
     "name": "stdout",
     "output_type": "stream",
     "text": [
      "[{('MRD', 'Week four'): 608.3333333333334}, {('VNX', 'Week four'): 300.0}, {('SVT', 'Week four'): 900.0}]\n",
      "[{('MRD', 'Week five'): 1083.3333333333333}, {('VNX', 'Week five'): 308.3333333333333}, {('SVT', 'Week five'): 933.3333333333334}]\n",
      "[{('MRD', 'Week five'): 8.333333333333334}, {('VNX', 'Week five'): 133.33333333333334}, {('SVT', 'Week five'): 308.3333333333333}]\n",
      "[{('MRD', 'Week five'): 666.6666666666666}, {('VNX', 'Week five'): 300.0}, {('SVT', 'Week five'): 66.66666666666667}]\n",
      "[{('MRD', 'Week four'): 83.33333333333333}, {('VNX', 'Week four'): 0.0}, {('SVT', 'Week four'): 25.0}]\n",
      "[{('MRD', 'Week four'): 1000.0}, {('VNX', 'Week four'): 200.0}, {('SVT', 'Week four'): 666.6666666666666}]\n",
      "[{('MRD', 'Week four'): 25.0}, {('VNX', 'Week four'): 600.0}, {('SVT', 'Week four'): 1000.0}]\n",
      "[{('MRD', 'Week four'): 666.6666666666666}, {('VNX', 'Week four'): 91.66666666666667}, {('SVT', 'Week four'): 300.0}]\n",
      "5 3\n"
     ]
    }
   ],
   "source": [
    "def test_p(s,t):\n",
    "    trials = np.arange(s)\n",
    "    c,e = 0,0\n",
    "    for i in trials:\n",
    "        a, b, f = get_samples(t)\n",
    "        c += b#<--- every time all three locations have b_blue as daily max these go up by one\n",
    "        e += f#<-------------\n",
    "    print(c,e)\n",
    "    d = c/s\n",
    "    g = e/s\n",
    "    return d,g\n",
    "week_four, week_five = test_p(1000, rand_samples)  "
   ]
  },
  {
   "cell_type": "markdown",
   "metadata": {},
   "source": [
    "#### If alpha is set to 0.05 then we can reject the null hypothesis using this method:"
   ]
  },
  {
   "cell_type": "code",
   "execution_count": 80,
   "metadata": {},
   "outputs": [
    {
     "name": "stdout",
     "output_type": "stream",
     "text": [
      "0.005 0.003\n"
     ]
    }
   ],
   "source": [
    "print(week_four, week_five)"
   ]
  },
  {
   "cell_type": "markdown",
   "metadata": {},
   "source": [
    "### Sample from the actual values (with replacement) for each color group"
   ]
  },
  {
   "cell_type": "code",
   "execution_count": 81,
   "metadata": {},
   "outputs": [
    {
     "name": "stdout",
     "output_type": "stream",
     "text": [
      "[{('MRD', 'Week five'): 1048.2800066822354}, {('VNX', 'Week five'): 134.33185992742324}, {('SVT', 'Week five'): 731.4573183399417}]\n",
      "[{('MRD', 'Week five'): 147.59304560085167}, {('VNX', 'Week five'): 382.2954802464872}, {('SVT', 'Week five'): 346.5985316676908}]\n",
      "[{('MRD', 'Week five'): 307.9726250089886}, {('VNX', 'Week five'): 235.82890591762109}, {('SVT', 'Week five'): 211.0520746969703}]\n",
      "[{('MRD', 'Week four'): 120.57081740018691}, {('VNX', 'Week four'): 279.77015337312486}, {('SVT', 'Week four'): 524.4775585633944}]\n",
      "[{('MRD', 'Week five'): 378.7496936389808}, {('VNX', 'Week five'): 164.24373129670536}, {('SVT', 'Week five'): 194.12063924580914}]\n",
      "1 4\n"
     ]
    }
   ],
   "source": [
    "week_fourx, week_fivex = test_p(1000, rand_samps)  "
   ]
  },
  {
   "cell_type": "markdown",
   "metadata": {},
   "source": [
    " #### If alpha is set to 0.05 then we can reject the null hypothesis using this method:"
   ]
  },
  {
   "cell_type": "code",
   "execution_count": 82,
   "metadata": {},
   "outputs": [
    {
     "name": "stdout",
     "output_type": "stream",
     "text": [
      "0.001 0.004\n"
     ]
    }
   ],
   "source": [
    "print(week_fourx, week_fivex)"
   ]
  },
  {
   "cell_type": "code",
   "execution_count": 97,
   "metadata": {},
   "outputs": [],
   "source": [
    "# will need this for the x axis labels\n",
    "from textwrap import wrap\n",
    "# start the function\n",
    "def plot_ez_totals(x, svgtitle, pngtitle):\n",
    "    # number of rows depends on the number of weeks\n",
    "    rows = len(weeks_l)\n",
    "    # the number of columns depends on the number of locations\n",
    "    cols = len(x) +1\n",
    "    # this is the number of bars in each chart\n",
    "    # this depends on the number of color groups\n",
    "    ind = np.arange(7)#<--- this can be made a variable\n",
    "    # the width of each bar\n",
    "    # width one means there is no space between bars\n",
    "    width = 1\n",
    "    # assign appropriate colors per grop\n",
    "    # note the index number of each color matches the index number of the values from the first fucntion\n",
    "    colss = ['darkviolet','darkblue', 'dodgerblue', 'green', 'turquoise', 'pink', 'lightslategray']\n",
    "    # set up the figure and the array of charts\n",
    "    f, axar = plt.subplots(rows, cols, figsize=(18,20))\n",
    "    # create some space in between the rows for x axis labels, and titles\n",
    "    f.subplots_adjust(hspace=0.9, wspace=0.3)\n",
    "    # run through the results generated by the previous fucntion\n",
    "    for i, n in enumerate(x):\n",
    "        # indentify the first column\n",
    "        # assign a special value 'week number'\n",
    "        if i == 0:\n",
    "            # the values are stored in a list of dicts\n",
    "            # so calling x[i] gives a dict\n",
    "            for key, value in x[i].items():\n",
    "                # the key is the place name\n",
    "                # the value is the list of results\n",
    "                # run through the list of results\n",
    "                for j, k in enumerate(value):\n",
    "                    # if i is zero (the first set of results)\n",
    "                    # then the week number needs to be printed first\n",
    "                    # because the first column is the week indentifier\n",
    "                    axar[j, i].text(0, 0.5, weeks_l[j], fontsize=14)\n",
    "                    axar[j, i].set_axis_off()\n",
    "                    # if object in value is a dict then print it out\n",
    "                    # numerical values were stored in a list\n",
    "                    if type(k[0][weeks_l[j]]) == dict:\n",
    "                        axar[j, i+1].text(0.2, 0.5, k[0][weeks_l[j]]['no_test'], fontsize=10)\n",
    "                        axar[j, i+1].set_title(key)\n",
    "                        \n",
    "                    # plot the numercal values in a bar chart\n",
    "                    else:\n",
    "                        # the i+1 shifts the column over..\n",
    "                        # notice the values are called using the same variable as the week number column\n",
    "                        # k[0][weeks_l[j]] <---- this is the list of color group averages per day\n",
    "                        axar[j, i+1].bar(ind, k[0][weeks_l[j]], width, color=colss)\n",
    "                        # the variable key is the place name,\n",
    "                        # str(list(k[2].values())[0]) <--- this is the number of samples\n",
    "                        # str(list(k[3].values())[0]) < ---- this is the dose \n",
    "                        axar[j, i+1].set_title(key + ', samples: ' + str(list(k[2].values())[0]) + ', ' + str(list(k[3].values())[0]) + 'mL')\n",
    "                        # set the xaxis lable by calling any resluts below detectable limit\n",
    "                        # list(k[1].values())[0] < ---- this the 'bdl' string\n",
    "                        axis_label = '\\n'.join(wrap(list(k[1].values())[0], 33))\n",
    "                        axar[j, i+1].set_xlabel(list(k[1].keys())[0] +': '+ axis_label)\n",
    "                        # set the max and the ming for the axis\n",
    "                        if max(k[0][weeks_l[j]]) == 25:\n",
    "                            axar[j, i+1].set_ylim(0, max(k[0][weeks_l[j]]) + 75)\n",
    "                        else:\n",
    "                            axar[j, i+1].set_ylim(0, max(k[0][weeks_l[j]]) + 10)\n",
    "        # rinse and repeat for column values not equal to zero\n",
    "        else:\n",
    "            for key, value in x[i].items():\n",
    "                for j, k in enumerate(value):\n",
    "                    if type(k[0][weeks_l[j]]) == dict:\n",
    "                        axar[j, i+1].text(0.2, 0.5, k[0][weeks_l[j]]['no_test'], fontsize=10)\n",
    "                        axar[j, i+1].set_title(key)\n",
    "                       \n",
    "                    else:\n",
    "                        axar[j, i+1].bar(ind,  k[0][weeks_l[j]],width, color=colss)\n",
    "                        axar[j, i+1].set_title(key + ', samples: ' + str(list(k[2].values())[0]) + ', ' + str(list(k[3].values())[0]) +'mL')\n",
    "                        axis_label = '\\n'.join(wrap(list(k[1].values())[0], 33))\n",
    "                        axar[j, i+1].set_xlabel(list(k[1].keys())[0] +': '+ axis_label)\n",
    "                        if max(k[0][weeks_l[j]]) == 25:\n",
    "                            axar[j, i+1].set_ylim(0, max(k[0][weeks_l[j]]) + 75)\n",
    "                        else:\n",
    "                            axar[j, i+1].set_ylim(0, max(k[0][weeks_l[j]]) + 10)\n",
    "                  \n",
    "    plt.savefig(svgtitle)\n",
    "    plt.savefig(pngtitle)\n",
    "    plt.show()"
   ]
  },
  {
   "cell_type": "markdown",
   "metadata": {},
   "source": [
    "### The grid needs to be modified for the 2016 data\n",
    "### There are less color variants in 2016 : no UV and the turq/green were combined\n",
    "#### regret not inputting colors as variables!"
   ]
  },
  {
   "cell_type": "code",
   "execution_count": 95,
   "metadata": {},
   "outputs": [],
   "source": [
    "# will need this for the x axis labels\n",
    "from textwrap import wrap\n",
    "# start the function\n",
    "def plot_ez_totals_2016(x, svgtitle, pngtitle):\n",
    "    # number of rows depends on the number of weeks\n",
    "    rows = len(weeks_l)\n",
    "    # the number of columns depends on the number of locations\n",
    "    cols = len(x) +1\n",
    "    # this is the number of bars in each chart\n",
    "    # this depends on the number of color groups\n",
    "    ind = np.arange(5)#<--- this can be made a variable\n",
    "    # the width of each bar\n",
    "    # width one means there is no space between bars\n",
    "    width = 1\n",
    "    # assign appropriate colors per grop\n",
    "    # note the index number of each color matches the index number of the values from the first fucntion\n",
    "    colss = ['darkblue', 'dodgerblue', 'turquoise', 'pink', 'lightslategray']\n",
    "    # set up the figure and the array of charts\n",
    "    f, axar = plt.subplots(rows, cols, figsize=(18,20))\n",
    "    # create some space in between the rows for x axis labels, and titles\n",
    "    f.subplots_adjust(hspace=0.9, wspace=0.3)\n",
    "    # run through the results generated by the previous fucntion\n",
    "    for i, n in enumerate(x):\n",
    "        # indentify the first column\n",
    "        # assign a special value 'week number'\n",
    "        if i == 0:\n",
    "            # the values are stored in a list of dicts\n",
    "            # so calling x[i] gives a dict\n",
    "            for key, value in x[i].items():\n",
    "                # the key is the place name\n",
    "                # the value is the list of results\n",
    "                # run through the list of results\n",
    "                for j, k in enumerate(value):\n",
    "                    # if i is zero (the first set of results)\n",
    "                    # then the week number needs to be printed first\n",
    "                    # because the first column is the week indentifier\n",
    "                    axar[j, i].text(0, 0.5, weeks_l[j], fontsize=14)\n",
    "                    axar[j, i].set_axis_off()\n",
    "                    # if object in value is a dict then print it out\n",
    "                    # numerical values were stored in a list\n",
    "                    if type(k[0][weeks_l[j]]) == dict:\n",
    "                        axar[j, i+1].text(0.2, 0.5, k[0][weeks_l[j]]['no_test'], fontsize=10)\n",
    "                        axar[j, i+1].set_title(key)\n",
    "                        \n",
    "                    # plot the numercal values in a bar chart\n",
    "                    else:\n",
    "                        # the i+1 shifts the column over..\n",
    "                        # notice the values are called using the same variable as the week number column\n",
    "                        # k[0][weeks_l[j]] <---- this is the list of color group averages per day\n",
    "                        axar[j, i+1].bar(ind, k[0][weeks_l[j]], width, color=colss)\n",
    "                        # the variable key is the place name,\n",
    "                        # str(list(k[2].values())[0]) <--- this is the number of samples\n",
    "                        # str(list(k[3].values())[0]) < ---- this is the dose \n",
    "                        axar[j, i+1].set_title(key + ', samples: ' + str(list(k[2].values())[0]) + ', ' + str(list(k[3].values())[0]) + 'mL')\n",
    "                        # set the xaxis lable by calling any resluts below detectable limit\n",
    "                        # list(k[1].values())[0] < ---- this the 'bdl' string\n",
    "                        axis_label = '\\n'.join(wrap(list(k[1].values())[0], 33))\n",
    "                        axar[j, i+1].set_xlabel(list(k[1].keys())[0] +': '+ axis_label)\n",
    "                        # set the max and the ming for the axis\n",
    "                        if max(k[0][weeks_l[j]]) == 25:\n",
    "                            axar[j, i+1].set_ylim(0, max(k[0][weeks_l[j]]) + 75)\n",
    "                        else:\n",
    "                            axar[j, i+1].set_ylim(0, max(k[0][weeks_l[j]]) + 10)\n",
    "        # rinse and repeat for column values not equal to zero\n",
    "        else:\n",
    "            for key, value in x[i].items():\n",
    "                for j, k in enumerate(value):\n",
    "                    if type(k[0][weeks_l[j]]) == dict:\n",
    "                        axar[j, i+1].text(0.2, 0.5, k[0][weeks_l[j]]['no_test'], fontsize=10)\n",
    "                        axar[j, i+1].set_title(key)\n",
    "                       \n",
    "                    else:\n",
    "                        axar[j, i+1].bar(ind,  k[0][weeks_l[j]],width, color=colss)\n",
    "                        axar[j, i+1].set_title(key + ', samples: ' + str(list(k[2].values())[0]) + ', ' + str(list(k[3].values())[0]) +'mL')\n",
    "                        axis_label = '\\n'.join(wrap(list(k[1].values())[0], 33))\n",
    "                        axar[j, i+1].set_xlabel(list(k[1].keys())[0] +': '+ axis_label)\n",
    "                        if max(k[0][weeks_l[j]]) == 25:\n",
    "                            axar[j, i+1].set_ylim(0, max(k[0][weeks_l[j]]) + 75)\n",
    "                        else:\n",
    "                            axar[j, i+1].set_ylim(0, max(k[0][weeks_l[j]]) + 10)\n",
    "                    \n",
    "    plt.figure(figsize=(8.5, 11))\n",
    "    plt.savefig(svgtitle)\n",
    "    plt.savefig(pngtitle)\n",
    "    plt.show()"
   ]
  },
  {
   "cell_type": "markdown",
   "metadata": {},
   "source": [
    "## 2017 EZ Gel 95th percentile, 48hr inlcuding UV fluo\n",
    "### This is the 95th percentile caluculated as P95 = mean + std*1.649\n",
    "### The UV is the violet bar at the begining --- this is a 24 hour count for fluo only\n",
    "### BDL = 'Below detectable limit', TMTC = 'Too many to count'"
   ]
  },
  {
   "cell_type": "code",
   "execution_count": 85,
   "metadata": {
    "scrolled": false
   },
   "outputs": [
    {
     "data": {
      "image/png": "[encoded data removed]",
      "text/plain": [
       "<matplotlib.figure.Figure at 0x7fdf1e89b2b0>"
      ]
     },
     "metadata": {},
     "output_type": "display_data"
    }
   ],
   "source": [
    "plot_ez_totals(four_eight, 'flu_grid_95.svg', 'flu_grid_95.png')"
   ]
  },
  {
   "cell_type": "markdown",
   "metadata": {},
   "source": [
    "## 2017 EZ Gel AVERAGE colony counts, 48hr including UV fluo\n",
    "\n",
    "### The UV is the violet bar at the begining\n",
    "### BDL = 'Below detectable limit', TMTC = 'Too many to count'"
   ]
  },
  {
   "cell_type": "code",
   "execution_count": 98,
   "metadata": {},
   "outputs": [
    {
     "data": {
      "image/png": "[encoded data removed]",
      "text/plain": [
       "<matplotlib.figure.Figure at 0x7fdf1467f4e0>"
      ]
     },
     "metadata": {},
     "output_type": "display_data"
    }
   ],
   "source": [
    "plot_ez_totals(four_eight_ave, 'x.svg','x.png' )"
   ]
  },
  {
   "cell_type": "markdown",
   "metadata": {},
   "source": [
    "## 2016 EZ Gel AVERAGE colony counts, 24hr \n",
    "\n",
    "### BDL = 'Below detectable limit', TMTC = 'Too many to count'"
   ]
  },
  {
   "cell_type": "code",
   "execution_count": 87,
   "metadata": {},
   "outputs": [
    {
     "data": {
      "image/png": "[encoded data removed]",
      "text/plain": [
       "<matplotlib.figure.Figure at 0x7fdf1504d908>"
      ]
     },
     "metadata": {},
     "output_type": "display_data"
    }
   ],
   "source": [
    "plot_ez_totals_2016(two_four_2016, 'grid_2016.png', 'grid_2016.svg')"
   ]
  },
  {
   "cell_type": "markdown",
   "metadata": {},
   "source": [
    "### Format the output to plot combined weekly averages, total coliforms and total E.coli"
   ]
  },
  {
   "cell_type": "markdown",
   "metadata": {},
   "source": [
    "#### Format for total combined colony counts"
   ]
  },
  {
   "cell_type": "code",
   "execution_count": 88,
   "metadata": {},
   "outputs": [],
   "source": [
    "# so to get the average weekly total of all colony foriming units\n",
    "# I will add up the averages of the individual colors(already calculated to make the average grid)\n",
    "# and we will grab only the coliforms --- using UV for big_blue\n",
    "\n",
    "def total_cfu(c, v, q):\n",
    "    # c = list of the weeks of the study 'Week one', 'Week two' ....\n",
    "    # v = list of the locations indentified for summary\n",
    "    # q = the results from the grid layout fundtion\n",
    "    # place to store the results\n",
    "    b = {}\n",
    "    # go through the locations one after another\n",
    "    for n, x in enumerate(v):\n",
    "        # place to store interim results\n",
    "        e = []\n",
    "        # go through the results of each location, week by week\n",
    "        for i, w in enumerate(c):\n",
    "            # q[n][v[n]][i][0][w] translates to\n",
    "            # four_eight_ave[0][places_48[0][0][0]['Week one']]\n",
    "            # if this was the first location through the function\n",
    "            a = q[n][v[n]][i][0][w]\n",
    "            if type(a) == dict:\n",
    "                # if there is no value or it is 'bdl'\n",
    "                # take the average of the current results and append to e\n",
    "                # uneasonable to think that the result would be zero\n",
    "                d=np.mean(e)\n",
    "            else:\n",
    "                # if the result is anything else sum it up\n",
    "                # this is the list of results for the bar charts\n",
    "                d = sum(a)\n",
    "            # take d and put it in e\n",
    "            e.append(d)\n",
    "        # get the standard deviation\n",
    "        f = np.std(e)\n",
    "        # make a string to indentify the std\n",
    "        # this will be component of the error bars\n",
    "        string = x + '_std'\n",
    "        # put all of that in a dict so it acan be called in a plotting function\n",
    "        b.update({x:e, string:f})\n",
    "    \n",
    "    return b\n"
   ]
  },
  {
   "cell_type": "markdown",
   "metadata": {},
   "source": [
    "#### Format the data for total coliforms"
   ]
  },
  {
   "cell_type": "code",
   "execution_count": 89,
   "metadata": {},
   "outputs": [],
   "source": [
    "# will have to modify the fucntion a little to grab the 1st (uv) and 3rd element of the list\n",
    "# something like this:\n",
    "# four_eight_ave[2]['SVT'][3][0][weeks_l[3]][0:3:2]\n",
    "# [0:3:2] <-- this last bit means from items 0:3 grab every other item (not including 3)\n",
    "# and we have to account for the fact that whate ever is coming down may not be a list\n",
    "def total_coli(c, v, q):\n",
    "    b = {}\n",
    "    for n, x in enumerate(v):\n",
    "        e = []\n",
    "        for i, w in enumerate(c):        \n",
    "            if type(q[n][v[n]][i][0][w]) == list:\n",
    "                a = q[n][v[n]][i][0][w][1:3]\n",
    "                d = sum(a)\n",
    "            elif type(q[n][v[n]][i][0][w]) == dict:\n",
    "                d=np.mean(e)\n",
    "            e.append(d)\n",
    "        f = np.std(e)\n",
    "        string = x + '_std'\n",
    "        b.update({x:e, string:f})\n",
    "        #print(b)\n",
    "    \n",
    "    return b\n"
   ]
  },
  {
   "cell_type": "markdown",
   "metadata": {},
   "source": [
    "#### Format the data for total e.coli"
   ]
  },
  {
   "cell_type": "code",
   "execution_count": 90,
   "metadata": {},
   "outputs": [],
   "source": [
    "# will have to modify the fucntion a little to grab the 1st (uv) and 3rd element of the list\n",
    "# something like this:\n",
    "# four_eight_ave[2]['SVT'][3][0][weeks_l[3]][0:3:2]\n",
    "# [0:3:2] <-- this last bit means from items 0:3 grab every other item (not including 3)\n",
    "# and we have to account for the fact that whate ever is coming down may not be a list\n",
    "def total_ecoli(c, v, q):\n",
    "    b = {}\n",
    "    for n, x in enumerate(v):\n",
    "        e = []\n",
    "        for i, w in enumerate(c):        \n",
    "            if type(q[n][v[n]][i][0][w]) == list:\n",
    "                a = q[n][v[n]][i][0][w][:1]#<---- changed\n",
    "                #print(a)\n",
    "                d = np.sum(a)\n",
    "            elif type(q[n][v[n]][i][0][w]) == dict:\n",
    "                d=np.mean(e)\n",
    "            e.append(d)\n",
    "        f = np.std(e)\n",
    "        string = x + '_std'\n",
    "        b.update({x:e, string:f})\n",
    "        #print(b)\n",
    "    \n",
    "    return b"
   ]
  },
  {
   "cell_type": "markdown",
   "metadata": {},
   "source": [
    "#### Format the data for total E.coli 2016\n",
    "#### The 2016 data does not have UV so need to change the index call"
   ]
  },
  {
   "cell_type": "code",
   "execution_count": null,
   "metadata": {},
   "outputs": [],
   "source": [
    "def total_ecoli_16(c, v, q):\n",
    "    b = {}\n",
    "    for n, x in enumerate(v):\n",
    "        e = []\n",
    "        for i, w in enumerate(c):        \n",
    "            if type(q[n][v[n]][i][0][w]) == list:\n",
    "                a = q[n][v[n]][i][0][w][:1]#<---- changed\n",
    "                d = np.mean(a)\n",
    "            elif type(q[n][v[n]][i][0][w]) == dict:\n",
    "                d=np.mean(e)\n",
    "            e.append(d)\n",
    "        f = np.std(e)\n",
    "        string = x + '_std'\n",
    "        b.update({x:e, string:f})\n",
    "        #print(b)\n",
    "    \n",
    "    return b"
   ]
  },
  {
   "cell_type": "markdown",
   "metadata": {},
   "source": [
    "#### Format the 24 hour data to be plotted, by running it through fn(forty_eight_av)"
   ]
  },
  {
   "cell_type": "code",
   "execution_count": null,
   "metadata": {},
   "outputs": [],
   "source": [
    "two_four_ave = forty_eight_av(a24, weeks_l, places_48, mediums[0],'Comments_p1_24h', one_plate_24, two_plate_24, three_plate_24, colony_map_24)"
   ]
  },
  {
   "cell_type": "markdown",
   "metadata": {},
   "source": [
    "#### Format the data to run through the plot functions"
   ]
  },
  {
   "cell_type": "code",
   "execution_count": null,
   "metadata": {},
   "outputs": [],
   "source": [
    "cfus_week=total_cfu(weeks_l, places_48,four_eight_ave)"
   ]
  },
  {
   "cell_type": "code",
   "execution_count": null,
   "metadata": {},
   "outputs": [],
   "source": [
    "coliforms_week=total_coli(weeks_l, places_48,four_eight_ave)"
   ]
  },
  {
   "cell_type": "code",
   "execution_count": null,
   "metadata": {},
   "outputs": [],
   "source": [
    "ecoli_24 = total_ecoli(weeks_l, places_48, two_four_ave)"
   ]
  },
  {
   "cell_type": "code",
   "execution_count": null,
   "metadata": {},
   "outputs": [],
   "source": [
    "e_coli_2016 = total_ecoli_16(weeks_l, places_48,two_four_2016 )"
   ]
  },
  {
   "cell_type": "code",
   "execution_count": null,
   "metadata": {},
   "outputs": [],
   "source": [
    "cfu_week_2016 = total_cfu(weeks_l, places_48,two_four_2016)"
   ]
  },
  {
   "cell_type": "code",
   "execution_count": null,
   "metadata": {},
   "outputs": [],
   "source": [
    "#e_coli_2016 "
   ]
  },
  {
   "cell_type": "markdown",
   "metadata": {},
   "source": [
    "#### make a simple plotter"
   ]
  },
  {
   "cell_type": "code",
   "execution_count": null,
   "metadata": {},
   "outputs": [],
   "source": [
    "def simple_plot(arange, values, places, xtiks):\n",
    "    fig, ax = plt.subplots(figsize=(9,5))\n",
    "    x = np.arange(arange)\n",
    "    y = values\n",
    "    for i, n in enumerate(places):\n",
    "        string = n + '_std'\n",
    "        std = y[string]\n",
    "        ratio = std/max(y[n])\n",
    "        for j, o in enumerate(x):\n",
    "            ax.errorbar(x[j], y[n][j], yerr=y[n][j]*ratio )\n",
    "        ax.plot(x, y[n])\n",
    "        plt.xticks(x, xtiks)\n",
    "    plt.show()"
   ]
  },
  {
   "cell_type": "code",
   "execution_count": null,
   "metadata": {},
   "outputs": [],
   "source": [
    "som_col=['darkviolet','darkblue', 'dodgerblue', 'green', 'forestgreen', 'springgreen' ]\n",
    "def simple_plot_2(arange, values, values2, places, xtiks, color):\n",
    "    fig, ax = plt.subplots(figsize=(9,5))\n",
    "    x = np.arange(arange)\n",
    "    y = values\n",
    "    yi = values2\n",
    "    for i, n in enumerate(places):\n",
    "        ax.plot(x, y[n], label = n + ' 2016', color=color[i])\n",
    "    for j, o in enumerate(places):\n",
    "        ax.plot(x, yi[o], label = o + ' 2017', color=color[j+3])\n",
    "        ax.scatter(1.5, 300)\n",
    "    ax.axvline(1.42, color='red', alpha=1)\n",
    "    ax.axvline(3.7,color='red', alpha=1 )\n",
    "    ax.axvline(2.4,color='blue', alpha=1)\n",
    "    ax.axvline(4.58,color='blue', alpha=1 )\n",
    "    ax.set_xticks(x, xtiks)\n",
    "    fig.legend()\n",
    "    plt.xticks(x, xtiks)\n",
    "    plt.show()"
   ]
  },
  {
   "cell_type": "code",
   "execution_count": null,
   "metadata": {},
   "outputs": [],
   "source": [
    "# july 1 2016 - july 16 2016 - 0628\n",
    "# june 30 2017 - july 15 2017 - 0626"
   ]
  },
  {
   "cell_type": "code",
   "execution_count": null,
   "metadata": {},
   "outputs": [],
   "source": [
    "#b"
   ]
  },
  {
   "cell_type": "code",
   "execution_count": null,
   "metadata": {},
   "outputs": [],
   "source": [
    "#b_2016"
   ]
  },
  {
   "cell_type": "code",
   "execution_count": null,
   "metadata": {},
   "outputs": [],
   "source": [
    "simple_plot_2(8, e_coli_2016, ecoli_24,places_48, weeks_l, som_col )"
   ]
  },
  {
   "cell_type": "markdown",
   "metadata": {},
   "source": [
    "## Plots of weekly averages, CFU and Coliforms\n",
    "### Using the standard deiviation alone would cause error bars that are greater than some daily averages\n",
    "### There are a couple reasons:\n",
    "1. There is a lot of error\n",
    "2. Pulling the standard deviation from a dist that is not normalluy distributed\n",
    "3. *Pulling the standard deviation from a small sample\n",
    "3. Two options: transform to normal(log, sqrt...), use the ratio of std dev/max value as a ration\n",
    "\n",
    "### example: take the max value for a given location divide the standard deviation by the max value, see lines 6, 7 and 8 in the function above\n",
    "### That gives you a ratio of error proportional to the reslults... this is appropriate\n",
    "### The assumption is that as the value gets greater so does the error, so catch it at its greatest value\n"
   ]
  },
  {
   "cell_type": "markdown",
   "metadata": {},
   "source": [
    "## Start with some simple plots to get the geometry right:"
   ]
  },
  {
   "cell_type": "code",
   "execution_count": null,
   "metadata": {},
   "outputs": [],
   "source": [
    "#<------- Average total coliforms per week ----------->\n",
    "simple_plot(8, coliforms_week,places_48,weeks_l )"
   ]
  },
  {
   "cell_type": "markdown",
   "metadata": {},
   "source": [
    "### This is where the rain data needs to be integrated\n",
    "### The dates serve two purposes one: \n",
    "1. The xaxis value for rain\n",
    "2. The date group for average values\n",
    "3. The data is grouped by 1-Location, 2-Week number\n",
    "4. So we need the dates in a form to locate the values on the xaxis\n",
    "5. And call the appropriate data from our previous function calls\n",
    "\n",
    "#### good thing that the dates are mapped to week number already\n",
    "#### in sum:\n",
    "1. put it in a form that can be use by the plot functions below\n",
    "2. or (worst case) modify the plot functions to incorporate the rain data\n"
   ]
  },
  {
   "cell_type": "code",
   "execution_count": null,
   "metadata": {},
   "outputs": [],
   "source": [
    "# take a look at the data that is being out put\n",
    "#coliforms_week\n",
    "# there is no date in the output\n",
    "# the data grouping was set in the prep fucntion\n",
    "# we know that each value in the list is equal to a day\n",
    "# so maybe something like this:\n",
    "# so we should be bale to map date to value using some previously defined variables\n",
    "print(len(coliforms_week['MRD']), len(b))\n",
    "# at least the there are an equal amount of daily results as there are days"
   ]
  },
  {
   "cell_type": "markdown",
   "metadata": {},
   "source": [
    "### 2017 Rain data"
   ]
  },
  {
   "cell_type": "markdown",
   "metadata": {},
   "source": [
    "#### make a list of all the dates in the rain data"
   ]
  },
  {
   "cell_type": "code",
   "execution_count": null,
   "metadata": {},
   "outputs": [],
   "source": [
    "date_list = list(d_rain['real_date'].dt.strftime('%Y-%m-%d'))"
   ]
  },
  {
   "cell_type": "markdown",
   "metadata": {},
   "source": [
    "#### from the seventh day on the list, grab every seven days"
   ]
  },
  {
   "cell_type": "code",
   "execution_count": null,
   "metadata": {},
   "outputs": [],
   "source": [
    "print(date_list[7::7])"
   ]
  },
  {
   "cell_type": "markdown",
   "metadata": {},
   "source": [
    "#### get only the date range we need from the rain data"
   ]
  },
  {
   "cell_type": "code",
   "execution_count": null,
   "metadata": {},
   "outputs": [],
   "source": [
    "d_rain_x = d_rain.iloc[7:].copy()\n",
    "d_rain_x['Rain'] = d_rain_x['Rain']*2.54\n",
    "d_rain_x.rename(columns ={'real_date':'Date'}, inplace=True)\n",
    "#d_rain_x.iloc[:10]"
   ]
  },
  {
   "cell_type": "markdown",
   "metadata": {},
   "source": [
    "### 2016 Rain data"
   ]
  },
  {
   "cell_type": "code",
   "execution_count": null,
   "metadata": {},
   "outputs": [],
   "source": [
    "rain_2016.iloc[:5]\n",
    "rain_2016['Date'] = pd.to_datetime(rain_2016['Date'])"
   ]
  },
  {
   "cell_type": "code",
   "execution_count": null,
   "metadata": {},
   "outputs": [],
   "source": [
    "date_list_2016 = [x.strftime('%Y-%m-%d') for x in b_2016]\n",
    "#date_list_2016"
   ]
  },
  {
   "cell_type": "markdown",
   "metadata": {},
   "source": [
    "#### integrate into the simple plot"
   ]
  },
  {
   "cell_type": "code",
   "execution_count": null,
   "metadata": {},
   "outputs": [],
   "source": [
    "def rain_plot():\n",
    "    collss = ['r', 'g', 'b']\n",
    "    locs = date_list[7::7]\n",
    "    labels = weeks_l\n",
    "    fig, ax1 = plt.subplots(figsize=(10,5))\n",
    "    x_one = d_rain_x['Date']\n",
    "    y_one = d_rain_x['Rain']\n",
    "    ax1.bar(x_one, y_one.values*2.54, width=1, color='black', alpha=0.3)\n",
    "    ax2 = ax1.twinx()\n",
    "    for i, n in enumerate(places_48):\n",
    "        x_two = b\n",
    "        y_two = coliforms_week[n]\n",
    "        ax2.plot(x_two, y_two, color=collss[i])\n",
    "\n",
    "    plt.xticks(locs, labels)   \n",
    "    plt.show()\n",
    "rain_plot()"
   ]
  },
  {
   "cell_type": "code",
   "execution_count": null,
   "metadata": {},
   "outputs": [],
   "source": [
    "# notice how the zero on the yaxis does not line up\n",
    "# fix that by changing the order the data is called and\n",
    "# setting ylim to zero ... see below"
   ]
  },
  {
   "cell_type": "markdown",
   "metadata": {},
   "source": [
    "## Okay the CSO is good with the output, now we can prettify\n",
    "1. Take care of the legend\n",
    "2. Assign colors to location\n",
    "3. Format the plot lines and error bars\n",
    "4. Format the grid\n",
    "5. Make x and y axis labels\n",
    "6. Title, subtitle\n",
    "7. Annotations\n",
    "\n"
   ]
  },
  {
   "cell_type": "code",
   "execution_count": null,
   "metadata": {},
   "outputs": [],
   "source": [
    "import matplotlib.ticker\n",
    "def not_simple_plot(arange, values, datelist, ticklocs, places,rain, xtiks,sup_title, title, filename):\n",
    "    collss=['darkred', 'darkslategray', 'teal']\n",
    "    nticks = 8\n",
    "    fig, ax2 = plt.subplots(figsize=(10,6), edgecolor='midnightblue')\n",
    "    x = datelist\n",
    "    y = values\n",
    "    locs = ticklocs\n",
    "    labels = weeks_l\n",
    "    x_one = rain['Date']\n",
    "    y_one = rain['Rain']\n",
    "    ylim = [1]\n",
    "    for i, n in enumerate(places):\n",
    "        string = n + '_std'\n",
    "        std = y[string]\n",
    "        ratio = std/max(y[n])\n",
    "        for j, o in enumerate(x):\n",
    "            t, c, j = ax2.errorbar(x[j], y[n][j], yerr=y[n][j]*ratio, capsize=2, alpha=0.4, ecolor='magenta',)\n",
    "            for k in j:\n",
    "                k.set_linestyle('--')\n",
    "            for cap in c:\n",
    "                cap.set_marker(\"o\")\n",
    "        ax2.plot(x, y[n], label=n, color=collss[i], linewidth=3)\n",
    "        if max(y[n]) > max(ylim):\n",
    "            ylim.append(max(y[n]))\n",
    "        ax2.set_ylim(bottom=0, top=max(ylim)+100)\n",
    "    ax1 = ax2.twinx() \n",
    "    ax1.bar(x_one, y_one.values, width=1, color='b', alpha=0.2, label=\"cm of rain\")\n",
    "      \n",
    "    ax1.spines['bottom'].set_color('midnightblue')\n",
    "    ax1.spines['top'].set_color('midnightblue')\n",
    "    ax1.spines['left'].set_color('midnightblue')\n",
    "    ax1.spines['right'].set_color('midnightblue')\n",
    "    ax1.grid(which='major', color='midnightblue', linestyle='--', alpha=0.2, axis='y')\n",
    "    ax1.tick_params(axis='both', which='both', color='midnightblue')\n",
    "    ax1.set_ylabel('Centimeters of rain per day', labelpad=10, fontsize=14)\n",
    "    #ax1.set_ylim(top=max(ylim))\n",
    "    \n",
    "    ax2.set_ylabel('Colony forming units per 100mL', labelpad=10, fontsize=14)\n",
    "    fig.legend( loc=(0.74, 0.55), frameon=True, fontsize=12, edgecolor='midnightblue', framealpha=0.8 )\n",
    "    \n",
    "    #plt.ylim(ymax=max(ylim))    \n",
    "    plt.xticks(locs, labels, fontsize=11, )\n",
    "    plt.suptitle(sup_title, fontsize=16, family='sans')\n",
    "    plt.title(title, fontsize=16, family='sans', y=1.03)\n",
    "    plt.subplots_adjust(top=0.85)\n",
    "    plt.savefig(filename)\n",
    "    \n",
    "    \n",
    "    plt.show()"
   ]
  },
  {
   "cell_type": "code",
   "execution_count": null,
   "metadata": {},
   "outputs": [],
   "source": [
    "not_simple_plot(8, cfus_week,b,  date_list[7::7], places_48,d_rain_x, weeks_l, 'Average total colony forming units (CFU/100mL) per week', 'June - July 2017; medium: Easygel+, 48hrs, n=69', 'cfu_week.png')"
   ]
  },
  {
   "cell_type": "code",
   "execution_count": null,
   "metadata": {
    "scrolled": false
   },
   "outputs": [],
   "source": [
    "not_simple_plot(8,  coliforms_week,b, date_list[7::7], places_48,d_rain_x, weeks_l, 'Average total COLIFORMS per week (CFU/100mL)','June - July 2017; medium: Easygel+, 48hrs, n=69', 'coli_form_week.png' )"
   ]
  },
  {
   "cell_type": "code",
   "execution_count": null,
   "metadata": {},
   "outputs": [],
   "source": [
    "not_simple_plot(8,  ecoli_24,b, date_list[7::7], places_48, d_rain_x, weeks_l, 'Average total UV Fluo per week (CFU/100mL)','June - July 2017; medium: Easygel+, 24hrs, n=69', 'e_coli_week.png')"
   ]
  },
  {
   "cell_type": "code",
   "execution_count": null,
   "metadata": {},
   "outputs": [],
   "source": [
    "not_simple_plot(8, cfu_week_2016,b_2016, date_list_2016, places_48, rain_2016, weeks_l, 'Average total colony forming units per week (CFU/100mL)','June - August 2016; medium: Easygel, 24hrs, n=72', 'total_cfu_2016.png')"
   ]
  },
  {
   "cell_type": "code",
   "execution_count": null,
   "metadata": {
    "scrolled": false
   },
   "outputs": [],
   "source": [
    "not_simple_plot(8, e_coli_2016,b_2016, date_list_2016, places_48, rain_2016, weeks_l, 'Average Big Blue colony forming units per week (CFU/100mL)','June - August 2016; medium: Easygel, 24hrs, n=72', 'total_ecoli_2016.png')"
   ]
  },
  {
   "cell_type": "markdown",
   "metadata": {},
   "source": [
    "## ------------------ Legacy code before meeting with the CSO ----------------------------------\n",
    "### Below are  the charts and grids created before meeting with cso\n",
    "#### The idea is to give a vision of all the results to the CSO, discuss the results and help choose the best option for reporting\n",
    "#### This is also the first 'run' at consolidating the information and identifying errors\n"
   ]
  },
  {
   "cell_type": "code",
   "execution_count": null,
   "metadata": {},
   "outputs": [],
   "source": [
    "# So there are alot of columns here\n",
    "# index will be\n",
    "# 'Date', 'Location', 'medium', 'Samples', 'Sampling_Notes', 'Water_temp', 'Plating_notes', 'Temp_incubation',\n",
    "# I want that with each record for now\n",
    "\n",
    "plate_one = ['P1_qty_sample',\n",
    "             'Image_24h_fluo_plate_one',\n",
    "             'P1_fluo_halo_colonies',\n",
    "             'P1_fluo_other',\n",
    "             'Plate_one_24h_image',\n",
    "             'P1_24h_big_blue',\n",
    "             'P1_24h_med_blue',\n",
    "             'P1_24h_green',\n",
    "             'P1_24h_turq',\n",
    "             'P1_24h_pink',\n",
    "             'P1_24h_other',\n",
    "             'Comments_p1_24h',\n",
    "             'Plate_one_48h_image',\n",
    "             'P1_48h_big_blue',\n",
    "             'P1_48h_med_blue',\n",
    "             'P1_48h_green',\n",
    "             'P1_48h_turq',\n",
    "             'P1_48h_pink',\n",
    "             'P1_48h_other',\n",
    "             'Comments_p1_48h']"
   ]
  },
  {
   "cell_type": "code",
   "execution_count": null,
   "metadata": {},
   "outputs": [],
   "source": [
    "plate_two = ['P2_qty_sample',\n",
    "             'Image_24h_fluo_plate_two',\n",
    "             'P2_fluo_halo_colonies',\n",
    "             'P2_fluo_other',\n",
    "             'Plate_two_24h_image',\n",
    "             'P2_24h_big_blue',\n",
    "             'P2_24h_med_blue',\n",
    "             'P2_24h_green',\n",
    "             'P2_24h_turq',\n",
    "             'P2_24h_pink',\n",
    "             'P2_24h_other',\n",
    "             'Comments_p2_24h',\n",
    "             'Plate_two_48h_image',\n",
    "             'P2_48h_big_blue',\n",
    "             'P2_48h_med_blue',             \n",
    "             'P2_48h_green',\n",
    "             'P2_48h_turq',\n",
    "             'P2_48h_pink',\n",
    "             'P2_48h_other',\n",
    "             'Comments_p2_48h']"
   ]
  },
  {
   "cell_type": "code",
   "execution_count": null,
   "metadata": {},
   "outputs": [],
   "source": [
    "plate_three = ['P3_qty_sample',\n",
    "               'Image_24h_fluo_plate_three',\n",
    "               'p3_fluo_halo_colonies',\n",
    "               'p3_fluo_other',\n",
    "               'Plate_three_24h_image',\n",
    "               'P3_24h_big_blue',\n",
    "               'P3_24h_med_blue',\n",
    "               'P3_24h_green',\n",
    "               'P3_24h_turq',\n",
    "               'P3_24h_pink',\n",
    "               'P3_24h_other',\n",
    "               'Comments_p3_24h',\n",
    "               'Plate_three_48h_image',\n",
    "               'P3_48h_big_blue',\n",
    "               'P3_48h_med_blue',\n",
    "               'P3_48h_green',\n",
    "               'P3_48h_turq',\n",
    "               'P3_48h_pink',\n",
    "               'P3_48h_other',\n",
    "               'Comments_p3_48h'] "
   ]
  },
  {
   "cell_type": "code",
   "execution_count": null,
   "metadata": {},
   "outputs": [],
   "source": [
    "map_it = ['Location','latitude', 'longitude']"
   ]
  },
  {
   "cell_type": "code",
   "execution_count": null,
   "metadata": {},
   "outputs": [],
   "source": [
    "index = ['Date',\n",
    "         'Location',\n",
    "         'medium',\n",
    "         'Samples',\n",
    "         'Sampling_Notes',\n",
    "         'Water_temp',\n",
    "         'Plating_notes',\n",
    "         'Temp_incubation',]"
   ]
  },
  {
   "cell_type": "code",
   "execution_count": null,
   "metadata": {},
   "outputs": [],
   "source": [
    "# so the info repeats it self for each plate\n",
    "# set up lists and variables to keep track of all that\n",
    "# make sure that all the column names are accounted for\n",
    "# we have yet to account for 'location_image'\n",
    "def count_it(a):\n",
    "    n = 0\n",
    "    for x in a:\n",
    "        a = len(x)\n",
    "        n += a\n",
    "    return n\n",
    "groups = [index, map_it, plate_one, plate_two, plate_three]\n",
    "print(count_it(groups), len(a_cols))\n",
    "# the count works because the column 'location image' is not included"
   ]
  },
  {
   "cell_type": "code",
   "execution_count": null,
   "metadata": {},
   "outputs": [],
   "source": [
    "loc_image = ['Date', 'Location', 'Location_Image']\n",
    "groups.append(loc_image)\n",
    "print(count_it(groups), len(a_cols))\n",
    "#should be plus three"
   ]
  },
  {
   "cell_type": "code",
   "execution_count": null,
   "metadata": {},
   "outputs": [],
   "source": [
    "# okay onwards\n",
    "# break the results into time scale (beacuase i can)\n",
    "# the info repeats it self\n",
    "# this should get dwon to a series of lists\n",
    "# if executed in right sequence as variables \n",
    "# will extract all possible combinations of the data provided\n",
    "plate_one_24 = ['P1_qty_sample',\n",
    "                'Plate_one_24h_image',\n",
    "                'P1_24h_big_blue',\n",
    "                'P1_24h_med_blue',\n",
    "                'P1_24h_green',\n",
    "                'P1_24h_turq',\n",
    "                'P1_24h_pink',\n",
    "                'P1_24h_other',\n",
    "                'Comments_p1_24h',]\n",
    "             \n",
    "plate_one_48 = ['P1_qty_sample',\n",
    "                'Plate_one_48h_image',\n",
    "                'P1_48h_big_blue',\n",
    "                'P1_48h_med_blue',\n",
    "                'P1_48h_green',\n",
    "                'P1_48h_turq',\n",
    "                'P1_48h_pink',\n",
    "                'P1_48h_other',\n",
    "                'Comments_p1_48h']\n"
   ]
  },
  {
   "cell_type": "code",
   "execution_count": null,
   "metadata": {},
   "outputs": [],
   "source": [
    "# these can also be constructed using a list index method\n",
    "plate_two_24 = ['P2_qty_sample',\n",
    "                'Plate_two_24h_image',\n",
    "                'P2_24h_big_blue',\n",
    "                'P2_24h_med_blue',\n",
    "                'P2_24h_green',\n",
    "                'P2_24h_turq',\n",
    "                'P2_24h_pink',\n",
    "                'P2_24h_other',\n",
    "                'Comments_p2_24h']\n",
    "\n",
    "plate_two_48 = ['P2_qty_sample',\n",
    "                'Plate_two_48h_image',\n",
    "                'P2_48h_big_blue',\n",
    "                'P2_48h_med_blue',             \n",
    "                'P2_48h_green',\n",
    "                'P2_48h_turq',\n",
    "                'P2_48h_pink',\n",
    "                'P2_48h_other',\n",
    "                'Comments_p2_48h']"
   ]
  },
  {
   "cell_type": "code",
   "execution_count": null,
   "metadata": {},
   "outputs": [],
   "source": [
    "plate_three_24 = ['P3_qty_sample',\n",
    "                  'Plate_three_24h_image',\n",
    "                  'P3_24h_big_blue',\n",
    "                  'P3_24h_med_blue',\n",
    "                  'P3_24h_green',\n",
    "                  'P3_24h_turq',\n",
    "                  'P3_24h_pink',\n",
    "                  'P3_24h_other',\n",
    "                  'Comments_p3_24h',]\n",
    "               \n",
    "plate_three_48 = ['P3_qty_sample',\n",
    "                  'Plate_three_48h_image',\n",
    "                  'P3_48h_big_blue',\n",
    "                  'P3_48h_med_blue',\n",
    "                  'P3_48h_green',\n",
    "                  'P3_48h_turq',\n",
    "                  'P3_48h_pink',\n",
    "                  'P3_48h_other',\n",
    "                  'Comments_p3_48h']"
   ]
  },
  {
   "cell_type": "code",
   "execution_count": null,
   "metadata": {},
   "outputs": [],
   "source": [
    "plate_one_fluo = ['Image_24h_fluo_plate_one',\n",
    "                  'P1_fluo_halo_colonies',\n",
    "                  'P1_fluo_other']\n",
    "plate_two_fluo = ['Image_24h_fluo_plate_two',\n",
    "                  'P2_fluo_halo_colonies',\n",
    "                  'P2_fluo_other']\n",
    "plate_three_fluo = ['Image_24h_fluo_plate_three',\n",
    "                    'p3_fluo_halo_colonies',\n",
    "                    'p3_fluo_other']"
   ]
  },
  {
   "cell_type": "code",
   "execution_count": null,
   "metadata": {},
   "outputs": [],
   "source": [
    "# this data can be seen as a whole (the sum of all the xs or seperated by incubation time)\n",
    "plate_groups = [plate_one_24, plate_two_24, plate_three_24, plate_one_48, plate_two_48, plate_three_48]\n",
    "plate_24 = plate_groups[:3]\n",
    "plate_48 = plate_groups[3:]"
   ]
  },
  {
   "cell_type": "code",
   "execution_count": null,
   "metadata": {},
   "outputs": [],
   "source": [
    "# the output should be the same color group from each plate for all values x[i] where i = np.random.choice(9)\n",
    "check_indexes(plate_groups)\n",
    "# okay this function can run forever and i get the same output from each group"
   ]
  },
  {
   "cell_type": "code",
   "execution_count": null,
   "metadata": {},
   "outputs": [],
   "source": [
    "# makesure the orignal df is up to speed\n",
    "a['Date'] = pd.to_datetime(a['Date'],format='%Y/%m/%d' )"
   ]
  },
  {
   "cell_type": "code",
   "execution_count": null,
   "metadata": {},
   "outputs": [],
   "source": [
    "# create a list of place names\n",
    "places = list(a['Location'].copy())\n",
    "places = set(places)\n",
    "place = list(places)\n",
    "place"
   ]
  },
  {
   "cell_type": "code",
   "execution_count": null,
   "metadata": {},
   "outputs": [],
   "source": [
    "mediums = list(a['medium'].unique().copy())\n",
    "mediums[0]"
   ]
  },
  {
   "cell_type": "code",
   "execution_count": null,
   "metadata": {},
   "outputs": [],
   "source": [
    "c = a[(a.Location == 'SVT') & (a.medium == 'unil_kitchen')]\n",
    "c"
   ]
  },
  {
   "cell_type": "code",
   "execution_count": null,
   "metadata": {},
   "outputs": [],
   "source": [
    "place = ['Echandens',\n",
    "         'SVT',\n",
    "         'VNX',\n",
    "         'MRD',\n",
    "         'Nernier',\n",
    "         'Hackuarium tap',\n",
    "         'Hackuarium toilet']\n",
    "\n",
    "# so now I should get a table of values\n",
    "# corresponding to plate number and color for one date, and one location\n",
    "# check to see what happens if use 1 of each list to slice the data-frame\n",
    "c = a[(a.Location == place[4]) & (a.Date == weeks['Week one'])][[plate_one_24[2], plate_two_24[2], plate_three_24[2]]]\n",
    "c"
   ]
  },
  {
   "cell_type": "code",
   "execution_count": null,
   "metadata": {},
   "outputs": [],
   "source": [
    "print(type(c))\n",
    "# that output looks good\n",
    "# create a list index for the plate counts\n",
    "bugs = [2, 3, 4, 5, 6, 7]\n",
    "# this is temporary and will be replaced with a list derived from the column names\n",
    "# this information down here is good to know"
   ]
  },
  {
   "cell_type": "code",
   "execution_count": null,
   "metadata": {},
   "outputs": [],
   "source": [
    "# there is already some pandas functionality here\n",
    "a_sum = c.sum()\n",
    "b_sum = sum(a_sum)\n",
    "c_sum = sum(c.sum())\n",
    "\n",
    "print(c_sum)\n",
    "print(a_sum)"
   ]
  },
  {
   "cell_type": "code",
   "execution_count": null,
   "metadata": {},
   "outputs": [],
   "source": [
    "plate_48 = [plate_one_48, plate_two_48, plate_three_48]"
   ]
  },
  {
   "cell_type": "code",
   "execution_count": null,
   "metadata": {},
   "outputs": [],
   "source": [
    "cc = [plate_24, plate_48]\n",
    "big_blue, med_blue, green, turq, pink, other = [], [], [], [], [], []\n",
    "for x in cc:\n",
    "    for plate in x:        \n",
    "        big_blue.append(plate[2])\n",
    "        med_blue.append(plate[3])\n",
    "        green.append(plate[4])\n",
    "        turq.append(plate[5])\n",
    "        pink.append(plate[6])\n",
    "        other.append(plate[7])\n",
    "#big_blue         "
   ]
  },
  {
   "cell_type": "code",
   "execution_count": null,
   "metadata": {},
   "outputs": [],
   "source": [
    "#b is our list of dates\n",
    "dates = b\n",
    "all_colors = [big_blue, med_blue, green, turq, pink, other]"
   ]
  },
  {
   "cell_type": "code",
   "execution_count": null,
   "metadata": {},
   "outputs": [],
   "source": [
    "one_s = [0,3]\n",
    "two_s = [0,1,3,4]\n",
    "second_s = [1,4]\n",
    "third_s = [2, 5]"
   ]
  },
  {
   "cell_type": "code",
   "execution_count": null,
   "metadata": {},
   "outputs": [],
   "source": [
    "def make_samples(x,y):\n",
    "    d = []\n",
    "    for i, a in enumerate(x):\n",
    "        color = []\n",
    "        for n, b in enumerate(y):\n",
    "            c = x[i][b]\n",
    "            color.append(c)\n",
    "        d.append(color)\n",
    "    return d\n",
    "one_sample = make_samples(all_colors, one_s)\n",
    "two_sample = make_samples(all_colors, two_s)\n",
    "second_sample = make_samples(all_colors, second_s)\n",
    "third_sample = make_samples(all_colors, third_s)\n",
    "# all_colors is for three samples\n",
    "#samp_one   "
   ]
  },
  {
   "cell_type": "code",
   "execution_count": null,
   "metadata": {},
   "outputs": [],
   "source": [
    "# will go ahead and make dictionaries for the variables\n",
    "# easier to use than remembering abbreviations\n",
    "#mediums\n",
    "med_keys = ['ez', 'card', 'unil', 'lev']\n",
    "medium = dict(zip(med_keys, mediums))\n",
    "place_keys = ['ech', 'svt', 'vnx', 'mrd', 'ner', 'tap', 'toilet']\n",
    "places = dict(zip(place_keys, place))"
   ]
  },
  {
   "cell_type": "code",
   "execution_count": null,
   "metadata": {},
   "outputs": [],
   "source": [
    "# so should be able to call the row week two, for one sample(plate one), any place, any plate number\n",
    "a[(a.Date == weeks['Week five']) & (a.Location == places['vnx']) & (a.medium == medium['card'])][all_colors[5]]"
   ]
  },
  {
   "cell_type": "code",
   "execution_count": null,
   "metadata": {},
   "outputs": [],
   "source": [
    "#all_colors"
   ]
  },
  {
   "cell_type": "code",
   "execution_count": null,
   "metadata": {},
   "outputs": [],
   "source": [
    "import re\n",
    "p = re.compile('tmtc', re.IGNORECASE)\n",
    "def weekly_results(df, week, places, meds):\n",
    "    all_results2 = []\n",
    "    for n, place in enumerate(places):\n",
    "        print(place)\n",
    "        chart_it2 = {place:[]}\n",
    "        the_results2 = []\n",
    "        for a, b in enumerate(week):\n",
    "            e = df[(df.Date == weeks[week[a]]) & (df.Location == place) & (df.medium == medium[meds])]\n",
    "            \n",
    "            if e['Samples'].values.size == 0:\n",
    "                no_t = medium[meds] + ' not used'\n",
    "                no_test = {'no_test': no_t}\n",
    "                the_results2.append([{weeks_2[weeks[b]]:no_test}]) \n",
    "                \n",
    "            elif e['Samples'].values[0] == 1:\n",
    "                samples = one_sample\n",
    "                num_samps = 1       \n",
    "                \n",
    "            elif e['Samples'].values[0] == 2:\n",
    "                samples = two_sample\n",
    "                num_samps = 2\n",
    "                            \n",
    "            elif e['Samples'].values[0] == 3:\n",
    "                samples = all_colors\n",
    "                num_samps = 3\n",
    "            \n",
    "            if e['Samples'].values.size > 0:\n",
    "                comments = list(e['Comments_p1_24h'])\n",
    "                samps = {'num samps': num_samps}\n",
    "                dose = {'dilution': e[plate_one[0]].item()}\n",
    "                if len(comments) ==1:\n",
    "                    \n",
    "                    if p.search(comments[0]):\n",
    "                        bdl={'TMTC':''}\n",
    "                    else:\n",
    "                        bdl={'BDL':''}\n",
    "                \n",
    "                day_results2 = []\n",
    "                string = []\n",
    "                for c, d in enumerate(samples):\n",
    "                    f = e[d]\n",
    "                    \n",
    "                    if sum(f.sum()) == 0:\n",
    "                        for s in d:\n",
    "                            if d[0][7:] not in string:\n",
    "                                string.append(d[0][7:])\n",
    "                    \n",
    "                    bdl[list(bdl.keys())[0]] = ', '.join(string)\n",
    "                    g = list(e[d].sum())\n",
    "                    g_l = []\n",
    "                    for h in g:\n",
    "                        if h == 0:\n",
    "                            g_l.append(h)\n",
    "                        if h > 0:\n",
    "                            g_l.append(np.log(h))\n",
    "                    g_m = np.mean(g_l)\n",
    "                    g_s = np.std(g_l)\n",
    "                    f_95 = g_m+ g_s*1.649\n",
    "                    f_95 = np.exp(f_95).round(2)\n",
    "                    if e[plate_one[0]].item() == 0.5:\n",
    "                        f_95 = f_95 * 200\n",
    "                    elif e[plate_one[0]].item() == 1:\n",
    "                        f_95 = f_95 * 100\n",
    "                    elif e[plate_one[0]].item() == 4:\n",
    "                        f_95 = f_95 * 25\n",
    "                    day_results2.append(f_95)\n",
    "                the_results2.append([{weeks_2[weeks[b]]:day_results2}, bdl, samps, dose])\n",
    "            chart_it2[place] = the_results2\n",
    "        all_results2.append(chart_it2)\n",
    "    \n",
    "    return all_results2\n",
    "               \n",
    "                \n",
    "all_s = weekly_results(a, weeks_l, place[:4], 'ez')  "
   ]
  },
  {
   "cell_type": "code",
   "execution_count": null,
   "metadata": {},
   "outputs": [],
   "source": [
    "from textwrap import wrap\n",
    "def plot_weekly_totals(x, pngtitle, svgtitle):\n",
    "    rows = len(weeks_l)\n",
    "    cols = len(x) +1\n",
    "    ind = np.arange(6)\n",
    "    width = 1\n",
    "    colss = ['darkblue', 'dodgerblue', 'green', 'turquoise', 'pink', 'lightslategray']\n",
    "\n",
    "    f, axar = plt.subplots(rows, cols, figsize=(18,20))\n",
    "    f.subplots_adjust(hspace=0.9, wspace=0.3)\n",
    "\n",
    "    for i, n in enumerate(x):\n",
    "        if i == 0:\n",
    "            for key, value in x[i].items():\n",
    "                for j, k in enumerate(value):\n",
    "                    axar[j, i].text(0, 0.5, weeks_l[j], fontsize=14)\n",
    "                    axar[j, i].set_axis_off()\n",
    "                    if type(k[0][weeks_l[j]]) == dict:\n",
    "                        axar[j, i+1].text(0.2, 0.5, k[0][weeks_l[j]]['no_test'], fontsize=10)\n",
    "                        axar[j, i+1].set_title(key)\n",
    "                        \n",
    "                    else:\n",
    "                        axar[j, i+1].bar(ind, k[0][weeks_l[j]], width, color=colss)\n",
    "                        axar[j, i+1].set_title(key + ', samples: ' + str(list(k[2].values())[0]) + ', ' + str(list(k[3].values())[0]) + 'mL')\n",
    "                        axis_label = '\\n'.join(wrap(list(k[1].values())[0], 24))\n",
    "                        axar[j, i+1].set_xlabel(list(k[1].keys())[0] +': '+ axis_label)\n",
    "                        if max(k[0][weeks_l[j]]) == 25:\n",
    "                            axar[j, i+1].set_ylim(0, max(k[0][weeks_l[j]]) + 75)\n",
    "                        else:\n",
    "                            axar[j, i+1].set_ylim(0, max(k[0][weeks_l[j]]) + 10)\n",
    "        else:\n",
    "            for key, value in x[i].items():\n",
    "                for j, k in enumerate(value):\n",
    "                    if type(k[0][weeks_l[j]]) == dict:\n",
    "                        axar[j, i+1].text(0.2, 0.5, k[0][weeks_l[j]]['no_test'], fontsize=10)\n",
    "                        axar[j, i+1].set_title(key)\n",
    "                       \n",
    "                    else:\n",
    "                        axar[j, i+1].bar(ind,  k[0][weeks_l[j]],width, color=colss)\n",
    "                        axar[j, i+1].set_title(key + ', samples: ' + str(list(k[2].values())[0]) + ', ' + str(list(k[3].values())[0]) +'mL')\n",
    "                        axis_label = '\\n'.join(wrap(list(k[1].values())[0], 24))\n",
    "                        axar[j, i+1].set_xlabel(list(k[1].keys())[0] +': '+ axis_label)\n",
    "                        if max(k[0][weeks_l[j]]) == 25:\n",
    "                            axar[j, i+1].set_ylim(0, max(k[0][weeks_l[j]]) + 75)\n",
    "                        else:\n",
    "                            axar[j, i+1].set_ylim(0, max(k[0][weeks_l[j]]) + 10)\n",
    "                    \n",
    "    plt.savefig(pngtitle)\n",
    "    plt.savefig(svgtitle)\n",
    "    plt.show()"
   ]
  },
  {
   "cell_type": "code",
   "execution_count": null,
   "metadata": {},
   "outputs": [],
   "source": [
    "plot_weekly_totals(all_s, 'all_locs_95.png', 'all_locs_95.svg')"
   ]
  },
  {
   "cell_type": "code",
   "execution_count": null,
   "metadata": {},
   "outputs": [],
   "source": [
    "all_results = []\n",
    "import re\n",
    "p = re.compile('tmtc', re.IGNORECASE)\n",
    "for n, beach in enumerate(place[:4]):\n",
    "    chart_it = {beach:[]}\n",
    "    the_results = []\n",
    "    for i, date in enumerate(dates):        \n",
    "        zz = a[(a.Date == date) & (a.Location == beach ) & (a.medium == 'easy_gel')]\n",
    "        comments = list(zz['Comments_p1_24h'])\n",
    "        if len(comments) ==1:\n",
    "            if p.search(comments[0]):\n",
    "                bdl={'TMTC':''}\n",
    "            else:\n",
    "                bdl={'BDL':''}\n",
    "        day_results = []\n",
    "        string = []\n",
    "        for n, sample in enumerate(all_colors):\n",
    "            qi = zz[sample]\n",
    "            if sum(qi.sum()) == 0:\n",
    "                for s in sample:\n",
    "                    if sample[0][7:] not in string:\n",
    "                        string.append(sample[0][7:])\n",
    "            bdl[list(bdl.keys())[0]] = ', '.join(string)\n",
    "            yy = list(zz[sample].sum())\n",
    "            yr = []\n",
    "            for d in yy:\n",
    "                if d == 0:\n",
    "                    yr.append(d)\n",
    "                if d > 0:\n",
    "                    yr.append(np.log(d))\n",
    "            yg = np.mean(yr)\n",
    "            yh = np.std(yr)\n",
    "            f_95 = yg+yh*1.649\n",
    "            f_95 = np.exp(f_95).round(2)\n",
    "            if zz[plate_one[0]].item() == 0.5:\n",
    "                f_95 = f_95 * 200\n",
    "            elif zz[plate_one[0]].item() == 1:\n",
    "                f_95 = f_95 * 100\n",
    "            elif zz[plate_one[0]].item() == 4:\n",
    "                f_95 = f_95 * 25\n",
    "            day_results.append(f_95) \n",
    "        the_results.append([{weeks_2[date]:day_results}, bdl])        \n",
    "    chart_it[beach] = the_results\n",
    "    all_results.append(chart_it)"
   ]
  },
  {
   "cell_type": "code",
   "execution_count": null,
   "metadata": {},
   "outputs": [],
   "source": [
    "from textwrap import wrap\n",
    "def plot_weekly_totals_2(x):\n",
    "    rows = len(weeks_l)\n",
    "    cols = len(x) +1\n",
    "    ind = np.arange(6)\n",
    "    width = 1\n",
    "    colss = ['darkblue', 'dodgerblue', 'green', 'turquoise', 'pink', 'lightslategray']\n",
    "\n",
    "    f, axar = plt.subplots(rows, cols, figsize=(18,20))\n",
    "    f.subplots_adjust(hspace=0.9, wspace=0.3)\n",
    "\n",
    "    for i, n in enumerate(x):\n",
    "        if i == 0:\n",
    "            for key, value in x[i].items():\n",
    "                for j, k in enumerate(value):\n",
    "                    axar[j, i].text(0, 0.5, weeks_l[j], fontsize=14)\n",
    "                    axar[j, i].set_axis_off()\n",
    "                    axar[j, i+1].bar(ind, k[0][weeks_l[j]], width, color=colss)\n",
    "                    axar[j, i+1].set_title(key)\n",
    "                    axis_label = '\\n'.join(wrap(list(k[1].values())[0], 24))\n",
    "                    axar[j, i+1].set_xlabel(list(k[1].keys())[0] +': '+ axis_label)\n",
    "                    if max(k[0][weeks_l[j]]) == 25:\n",
    "                        axar[j, i+1].set_ylim(0, max(k[0][weeks_l[j]]) + 75)\n",
    "                    else:\n",
    "                        axar[j, i+1].set_ylim(0, max(k[0][weeks_l[j]]) + 10)\n",
    "        else:\n",
    "            for key, value in x[i].items():\n",
    "                for j, k in enumerate(value):\n",
    "                    axar[j, i+1].bar(ind,  k[0][weeks_l[j]],width, color=colss)\n",
    "                    axar[j, i+1].set_title(key)\n",
    "                    axis_label = '\\n'.join(wrap(list(k[1].values())[0], 24))\n",
    "                    axar[j, i+1].set_xlabel(list(k[1].keys())[0] +': '+ axis_label)\n",
    "                    if max(k[0][weeks_l[j]]) == 25:\n",
    "                        axar[j, i+1].set_ylim(0, max(k[0][weeks_l[j]]) + 75)\n",
    "                    else:\n",
    "                        axar[j, i+1].set_ylim(0, max(k[0][weeks_l[j]]) + 10)\n",
    "                    \n",
    "plt.show()"
   ]
  },
  {
   "cell_type": "markdown",
   "metadata": {},
   "source": [
    "## Results aggregated easy gel -- all plates\n",
    "### 95th percentile -- P95 = mean + std*1.649\n",
    "#### if a chart is bumped up against a limit that means the results are less than the detectable limit ie... week one: (SVT,VNX,MRD) for that dilution or TMTC ie.. week eight Echandens --- the reslult was given as zero in the file\n",
    "\n",
    "\n",
    "### BDL = 'Below detectable limit', TMTC = 'Too many to count'\n",
    "#### The color and whether BDL or TMTC  is noted on the X-Axis label\n",
    "\n"
   ]
  },
  {
   "cell_type": "code",
   "execution_count": null,
   "metadata": {},
   "outputs": [],
   "source": [
    "plot_weekly_totals_2(all_results)"
   ]
  }
 ],
 "metadata": {
  "kernelspec": {
   "display_name": "Python 3",
   "language": "python",
   "name": "python3"
  },
  "language_info": {
   "codemirror_mode": {
    "name": "ipython",
    "version": 3
   },
   "file_extension": ".py",
   "mimetype": "text/x-python",
   "name": "python",
   "nbconvert_exporter": "python",
   "pygments_lexer": "ipython3",
   "version": "3.6.4"
  }
 },
 "nbformat": 4,
 "nbformat_minor": 1
}
