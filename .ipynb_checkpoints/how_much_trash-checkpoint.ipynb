{
 "cells": [
  {
   "cell_type": "markdown",
   "metadata": {},
   "source": [
    "### Question: How many pieces of trash are on the shores of Swiss lakes and rivers ?"
   ]
  },
  {
   "cell_type": "markdown",
   "metadata": {},
   "source": [
    "#### The results from the Swiss Litter Report can be used to generate an aproximate number. (very approximate)\n",
    "#### First we need to make a few assumptions\n",
    "1. That the results from the SLR are representative of the rest of Switzerland\n",
    "2. That the data was collected in accordance with the protocol\n",
    "3. That the maximum density in the results is probably the max that we would find"
   ]
  },
  {
   "cell_type": "markdown",
   "metadata": {},
   "source": [
    "##### Then we need to import a few librairies from python"
   ]
  },
  {
   "cell_type": "code",
   "execution_count": 1,
   "metadata": {},
   "outputs": [],
   "source": [
    "import pandas as pd\n",
    "import numpy as np\n",
    "import scipy.stats as stats\n"
   ]
  },
  {
   "cell_type": "markdown",
   "metadata": {},
   "source": [
    "#### Then we need to get some data:"
   ]
  },
  {
   "cell_type": "code",
   "execution_count": 3,
   "metadata": {},
   "outputs": [],
   "source": [
    "a = pd.read_csv('SLR_Density.csv')"
   ]
  },
  {
   "cell_type": "code",
   "execution_count": 4,
   "metadata": {},
   "outputs": [
    {
     "data": {
      "text/html": [
       "<div>\n",
       "<style scoped>\n",
       "    .dataframe tbody tr th:only-of-type {\n",
       "        vertical-align: middle;\n",
       "    }\n",
       "\n",
       "    .dataframe tbody tr th {\n",
       "        vertical-align: top;\n",
       "    }\n",
       "\n",
       "    .dataframe thead th {\n",
       "        text-align: right;\n",
       "    }\n",
       "</style>\n",
       "<table border=\"1\" class=\"dataframe\">\n",
       "  <thead>\n",
       "    <tr style=\"text-align: right;\">\n",
       "      <th></th>\n",
       "      <th>location</th>\n",
       "      <th>date</th>\n",
       "      <th>sample</th>\n",
       "      <th>density</th>\n",
       "      <th>quantity</th>\n",
       "    </tr>\n",
       "  </thead>\n",
       "  <tbody>\n",
       "    <tr>\n",
       "      <th>0</th>\n",
       "      <td>Aare_Bern_CaveltiN</td>\n",
       "      <td>2017-04-02</td>\n",
       "      <td>1.0</td>\n",
       "      <td>1.679</td>\n",
       "      <td>47.0</td>\n",
       "    </tr>\n",
       "    <tr>\n",
       "      <th>1</th>\n",
       "      <td>Aare_Bern_CaveltiN</td>\n",
       "      <td>2017-05-06</td>\n",
       "      <td>2.0</td>\n",
       "      <td>1.536</td>\n",
       "      <td>43.0</td>\n",
       "    </tr>\n",
       "    <tr>\n",
       "      <th>2</th>\n",
       "      <td>Aare_bern_gerberm</td>\n",
       "      <td>2017-04-14</td>\n",
       "      <td>1.0</td>\n",
       "      <td>1.730</td>\n",
       "      <td>154.0</td>\n",
       "    </tr>\n",
       "    <tr>\n",
       "      <th>3</th>\n",
       "      <td>Aare_bern_gerberm</td>\n",
       "      <td>2017-05-21</td>\n",
       "      <td>2.0</td>\n",
       "      <td>0.225</td>\n",
       "      <td>20.0</td>\n",
       "    </tr>\n",
       "    <tr>\n",
       "      <th>4</th>\n",
       "      <td>Aare_bern_gerberm</td>\n",
       "      <td>2017-06-26</td>\n",
       "      <td>3.0</td>\n",
       "      <td>0.798</td>\n",
       "      <td>71.0</td>\n",
       "    </tr>\n",
       "    <tr>\n",
       "      <th>5</th>\n",
       "      <td>Aare_bern_gerberm</td>\n",
       "      <td>2017-07-31</td>\n",
       "      <td>4.0</td>\n",
       "      <td>1.258</td>\n",
       "      <td>112.0</td>\n",
       "    </tr>\n",
       "    <tr>\n",
       "      <th>6</th>\n",
       "      <td>Aare_bern_gerberm</td>\n",
       "      <td>2017-08-29</td>\n",
       "      <td>5.0</td>\n",
       "      <td>1.966</td>\n",
       "      <td>175.0</td>\n",
       "    </tr>\n",
       "    <tr>\n",
       "      <th>7</th>\n",
       "      <td>Aare_bern_gerberm</td>\n",
       "      <td>2017-09-26</td>\n",
       "      <td>6.0</td>\n",
       "      <td>2.326</td>\n",
       "      <td>207.0</td>\n",
       "    </tr>\n",
       "    <tr>\n",
       "      <th>8</th>\n",
       "      <td>Aare_bern_gerberm</td>\n",
       "      <td>2017-10-31</td>\n",
       "      <td>7.0</td>\n",
       "      <td>1.213</td>\n",
       "      <td>108.0</td>\n",
       "    </tr>\n",
       "    <tr>\n",
       "      <th>9</th>\n",
       "      <td>Aare_bern_gerberm</td>\n",
       "      <td>2017-11-17</td>\n",
       "      <td>8.0</td>\n",
       "      <td>0.742</td>\n",
       "      <td>66.0</td>\n",
       "    </tr>\n",
       "  </tbody>\n",
       "</table>\n",
       "</div>"
      ],
      "text/plain": [
       "             location        date  sample  density  quantity\n",
       "0  Aare_Bern_CaveltiN  2017-04-02     1.0    1.679      47.0\n",
       "1  Aare_Bern_CaveltiN  2017-05-06     2.0    1.536      43.0\n",
       "2   Aare_bern_gerberm  2017-04-14     1.0    1.730     154.0\n",
       "3   Aare_bern_gerberm  2017-05-21     2.0    0.225      20.0\n",
       "4   Aare_bern_gerberm  2017-06-26     3.0    0.798      71.0\n",
       "5   Aare_bern_gerberm  2017-07-31     4.0    1.258     112.0\n",
       "6   Aare_bern_gerberm  2017-08-29     5.0    1.966     175.0\n",
       "7   Aare_bern_gerberm  2017-09-26     6.0    2.326     207.0\n",
       "8   Aare_bern_gerberm  2017-10-31     7.0    1.213     108.0\n",
       "9   Aare_bern_gerberm  2017-11-17     8.0    0.742      66.0"
      ]
     },
     "execution_count": 4,
     "metadata": {},
     "output_type": "execute_result"
    }
   ],
   "source": [
    "# take a look at the first few rows:\n",
    "a.iloc[:10]"
   ]
  },
  {
   "cell_type": "markdown",
   "metadata": {},
   "source": [
    "##### Okay that looks good, in this case there is no use for the date, sample number, or quantity.  I will hold on to location and density."
   ]
  },
  {
   "cell_type": "code",
   "execution_count": 5,
   "metadata": {},
   "outputs": [],
   "source": [
    "b = a[['location', 'density']].copy()\n",
    "# if these values are used then the distribution will be skewed right\n",
    "# which means any calculations from the average and standard deviation will be skewed\n",
    "# here is an example of how the histogram looks:\n",
    "import matplotlib\n",
    "matplotlib.use(\"Agg\")\n",
    "import matplotlib.pyplot as plt"
   ]
  },
  {
   "cell_type": "code",
   "execution_count": 37,
   "metadata": {},
   "outputs": [],
   "source": [
    "def make_hist(x, bin_s, ran,  color):\n",
    "    f, ax_one = plt.subplots(figsize=(4,5))\n",
    "    a, b, c = plt.hist(x, bins=bin_s, range=ran, stacked=True, density=None, facecolor=color, alpha=0.8)\n",
    "    plt.xlabel('pcs/m of trash')\n",
    "    plt.ylabel('frequency')\n",
    "    plt.show()"
   ]
  },
  {
   "cell_type": "code",
   "execution_count": 38,
   "metadata": {},
   "outputs": [],
   "source": [
    "z = list(b['density'])\n",
    "z_ange = (min(z), max(z))\n",
    "z = [x for x in z if x> 0]"
   ]
  },
  {
   "cell_type": "code",
   "execution_count": 39,
   "metadata": {},
   "outputs": [
    {
     "data": {
      "image/png": "[encoded data removed]",
      "text/plain": [
       "<matplotlib.figure.Figure at 0x7fa2c7e336a0>"
      ]
     },
     "metadata": {},
     "output_type": "display_data"
    }
   ],
   "source": [
    "make_hist(z,20, z_ange, 'b')"
   ]
  },
  {
   "cell_type": "markdown",
   "metadata": {},
   "source": [
    "#### For this to work we need a normal distribution (or something very close), so take the ln of density and see how that works:"
   ]
  },
  {
   "cell_type": "code",
   "execution_count": 41,
   "metadata": {},
   "outputs": [],
   "source": [
    "ln = [np.log(x) for x in z]\n",
    "l_ange = (min(ln), max(ln))"
   ]
  },
  {
   "cell_type": "code",
   "execution_count": 42,
   "metadata": {},
   "outputs": [
    {
     "data": {
      "image/png": "[encoded data removed]",
      "text/plain": [
       "<matplotlib.figure.Figure at 0x7fa2c7e27da0>"
      ]
     },
     "metadata": {},
     "output_type": "display_data"
    }
   ],
   "source": [
    "make_hist(ln, 40, l_ange, 'b')"
   ]
  },
  {
   "cell_type": "markdown",
   "metadata": {},
   "source": [
    "#### Ok that is not too bad, see how this fits to a probaiity mass function and a normal curve\n"
   ]
  },
  {
   "cell_type": "code",
   "execution_count": 56,
   "metadata": {},
   "outputs": [],
   "source": [
    "# getting what we need to build a distribution\n",
    "ln_mean = np.mean(ln)\n",
    "ln_std = np.std(ln)\n",
    "ln_x = sorted(ln)\n",
    "ln_y = [stats.norm.pdf(x, loc=ln_mean, scale=ln_std) for x in ln_x]\n",
    "\n",
    "def make_hist_dist(x, bin_s, ran,  color):\n",
    "    f, ax_one = plt.subplots(figsize=(4,5))\n",
    "    a, b, c = plt.hist(x, bins=bin_s, range=ran, stacked=True, density=None, facecolor=color, alpha=0.8)\n",
    "    ax_two = ax_one.twinx()\n",
    "    ax_two.plot(ln_x, ln_y)\n",
    "    plt.xlabel('pcs/m of trash')\n",
    "    plt.ylabel('Frequency')\n",
    "    plt.title('Defining the results as a distribution')\n",
    "    f.savefig('how_much.svg')\n",
    "    plt.show()"
   ]
  },
  {
   "cell_type": "code",
   "execution_count": 57,
   "metadata": {},
   "outputs": [
    {
     "data": {
      "image/png": "[encoded data removed]",
      "text/plain": [
       "<matplotlib.figure.Figure at 0x7fa2c7f1df28>"
      ]
     },
     "metadata": {},
     "output_type": "display_data"
    }
   ],
   "source": [
    "make_hist_dist(ln, 40, l_ange, 'b')"
   ]
  },
  {
   "cell_type": "code",
   "execution_count": 50,
   "metadata": {},
   "outputs": [
    {
     "data": {
      "image/png": "[encoded data removed]",
      "text/plain": [
       "<matplotlib.figure.Figure at 0x7f7c2bade208>"
      ]
     },
     "metadata": {},
     "output_type": "display_data"
    }
   ],
   "source": [
    "g = list(b['log_of'])\n",
    "g = sorted(g) #<---- these are the x values \n",
    "h = np.mean(g)\n",
    "i = np.std(g)\n",
    "\n",
    "freq = [stats.norm.pdf(x, loc=h, scale=i) for x in g] #<---- these are the y values\n",
    "\n",
    "\n",
    "plt.plot(g, freq, linestyle='dashed', color='b')\n",
    "plt.show()"
   ]
  },
  {
   "cell_type": "markdown",
   "metadata": {},
   "source": [
    "#### Okay looking better to summarize up to this point, we have taken the daily quantities as reported by volunteers, divided those by length to get a unit of 'pieces of trash/per meter'.  Then we grouped them according to density (the first chart).  That was skewed right (which is normal for this type of data).\n",
    "#### Took the natural log of density and did a histogram of that.  At this point it fits a normal distribution."
   ]
  },
  {
   "cell_type": "markdown",
   "metadata": {},
   "source": [
    "### Why did we do all that? Because normal distributions are good for this type of calculation\n",
    "##### Because now we can figure out what the probability is of finding a range of values within given the results of the SLR\n",
    "##### The chart below makes this more clear"
   ]
  },
  {
   "cell_type": "code",
   "execution_count": 51,
   "metadata": {},
   "outputs": [
    {
     "data": {
      "image/png": "[encoded data removed]",
      "text/plain": [
       "<matplotlib.figure.Figure at 0x7f7c2bb138d0>"
      ]
     },
     "metadata": {},
     "output_type": "display_data"
    }
   ],
   "source": [
    "### Take the standard deviation and the average\n",
    "### ~ 68% of all values fall within one standard deviation(variable i) of the average (variable h)\n",
    "### so we can add and substract the i from h and define where roughly 68% of the density values lie\n",
    "\n",
    "sixteenth = h + (-1*i)\n",
    "thirtytwo = h + i\n",
    "x = linspace(min(g), max(g), len(g))\n",
    "\n",
    "plt.plot(g, freq, linestyle='dashed', color='b')\n",
    "plt.fill_between(x, stats.norm.pdf(x, loc=h, scale=i),where=(x < sixteenth), color='g', alpha=1)\n",
    "plt.fill_between(x, stats.norm.pdf(x, loc=h, scale=i),where=(x >thirtytwo), color='r', alpha=1)\n",
    "plt.fill_between(x, stats.norm.pdf(x, loc=h, scale=i),where=(x > sixteenth) & (x <thirtytwo), color='y', alpha=1)\n",
    "plt.show()\n",
    "\n",
    "### The yellow section represents roughly 68% of all the reported density values"
   ]
  },
  {
   "cell_type": "markdown",
   "metadata": {},
   "source": [
    "#### Now all we need to know is how many meters of river and lake shore there are in Switzerland\n",
    "#### HTTP please https://fr.wikipedia.org/wiki/Hydrologie_de_la_Suisse  this says there are 65'000 kilometers of water ways in switzerland."
   ]
  },
  {
   "cell_type": "code",
   "execution_count": 52,
   "metadata": {
    "collapsed": true
   },
   "outputs": [],
   "source": [
    "# so thee are 1000 meters in a kilometer\n",
    "meters = 1000 * 65000\n",
    "# but some of those rivers are way up in the mountains and I heard that there was 40'000 kms\n",
    "meters_l = 35000 * 1000"
   ]
  },
  {
   "cell_type": "markdown",
   "metadata": {},
   "source": [
    "### But wait a minute there is a difference between lakes and rivers so we can't use the same distribution for both, we have to reapeat the exercise for both distributions."
   ]
  },
  {
   "cell_type": "code",
   "execution_count": 53,
   "metadata": {},
   "outputs": [],
   "source": [
    "# lets sort that out now\n",
    "# this has the information we need\n",
    "l_R = pd.read_csv('csvs_for_db/SLR_Beaches.csv')\n",
    "l_k = l_R[l_R.water == 'lake']\n",
    "l_r = l_R[l_R.water == 'river']"
   ]
  },
  {
   "cell_type": "code",
   "execution_count": 54,
   "metadata": {},
   "outputs": [],
   "source": [
    "# now take them out seperateley\n",
    "lakes = list(l_k['location'])\n",
    "rivers = list(l_r['location'])\n",
    "# create a column the original database\n",
    "b['water'] = 'none'\n",
    "# reset the index(this has to happen if you want to assign new values in a columnd)\n",
    "b.reset_index(inplace=True)"
   ]
  },
  {
   "cell_type": "code",
   "execution_count": 55,
   "metadata": {},
   "outputs": [],
   "source": [
    "# go over these row by row and match location to water type\n",
    "# then assign the column value\n",
    "for i, row in b.iterrows():\n",
    "    if b.loc[i, 'location'] in rivers:\n",
    "        b.loc[i, 'water'] = 'river'\n",
    "    if b.loc[i, 'location'] in lakes:\n",
    "        b.loc[i, 'water'] = 'lake'"
   ]
  },
  {
   "cell_type": "code",
   "execution_count": 56,
   "metadata": {
    "collapsed": true
   },
   "outputs": [],
   "source": [
    "# not really necsary but it is neater that way\n",
    "dfLake = b[b.water == 'lake'].copy()\n",
    "dfRiver = b[b.water == 'river'].copy()"
   ]
  },
  {
   "cell_type": "code",
   "execution_count": 57,
   "metadata": {
    "collapsed": true
   },
   "outputs": [],
   "source": [
    "# get the standard devaition and average from each category\n",
    "\n",
    "l_log = list(dfLake['log_of'])\n",
    "r_log = list(dfRiver['log_of'])\n",
    "r_std, r_mean = np.std(r_log), np.mean(r_log)\n",
    "l_std, l_mean = np.std(l_log), np.mean(l_log)"
   ]
  },
  {
   "cell_type": "code",
   "execution_count": 72,
   "metadata": {},
   "outputs": [],
   "source": [
    "lower = (min(r_log) + r_mean)#<---- this is the lower bound of the proposed distribtution \n",
    "upper = (max(r_log)-r_mean)/r_std #<---- this is the upper bound of the proposed distribution\n",
    "l_lower = (min(l_log) + l_mean) #<---- this get as close to zero as possible without messing up the distribution \n",
    "l_upper = (max(l_log)-h)/i #<---- this is the upper bound of the proposed distribution"
   ]
  },
  {
   "cell_type": "code",
   "execution_count": 73,
   "metadata": {},
   "outputs": [],
   "source": [
    "# make some simulated beach lengths\n",
    "# if we count just the meters and sample 35000000 times into our distribution\n",
    "# the number will be high---- each value in the orignal list is the average of many meters\n",
    "# so we want to replicate that ---- as best as we can\n",
    "aa = np.arange(10, 80, 2, dtype=int)"
   ]
  },
  {
   "cell_type": "code",
   "execution_count": 74,
   "metadata": {},
   "outputs": [],
   "source": [
    "def take_samples(o,p, high, low, mean, std):\n",
    "    t = []\n",
    "    n = 0\n",
    "    while n < p:\n",
    "        r = np.random.choice(o)\n",
    "        #print('this is '+ str(r))\n",
    "        q = stats.truncnorm.rvs(low, high, loc= mean, scale= std,size=r)\n",
    "        sub_tot = []\n",
    "        n += r\n",
    "        for s in q:\n",
    "            v = np.exp(s)\n",
    "            sub_tot.append(v)\n",
    "        #print(sub_tot)\n",
    "        t.append(sum(sub_tot))\n",
    "    #print(n,r)\n",
    "    return t\n",
    "r_samps = take_samples(aa, 1000000,upper, lower, r_mean, r_std)\n",
    "l_samps = take_samples(aa, 1000000,l_upper, l_lower, l_mean, l_std)"
   ]
  },
  {
   "cell_type": "code",
   "execution_count": 75,
   "metadata": {},
   "outputs": [
    {
     "name": "stdout",
     "output_type": "stream",
     "text": [
      "For every 1'000'000 meters (1k km) of river-bank, you can expect to find 1580335.0 pieces of trash.\n",
      "For every 1'000'000 meters (1k km) of lake-shore, you can expect to find 873111.0 pieces of trash.\n"
     ]
    }
   ],
   "source": [
    "sum_r = sum(r_samps).round(0)\n",
    "sum_l = sum(l_samps).round(0)\n",
    "print(\"For every 1'000'000 meters (1k km) of river-bank, you can expect to find \" + str(sum_r) + \" pieces of trash.\")\n",
    "print(\"For every 1'000'000 meters (1k km) of lake-shore, you can expect to find \" + str(sum_l) + \" pieces of trash.\")\n"
   ]
  },
  {
   "cell_type": "code",
   "execution_count": 62,
   "metadata": {},
   "outputs": [
    {
     "data": {
      "image/png": "[encoded data removed]",
      "text/plain": [
       "<matplotlib.figure.Figure at 0x7f7c2b9b46a0>"
      ]
     },
     "metadata": {},
     "output_type": "display_data"
    }
   ],
   "source": [
    "l_sorted = sorted(l_log)\n",
    "r_sorted = sorted(r_log)\n",
    "\n",
    "freq_l = [stats.norm.pdf(x, loc=l_mean, scale=l_std) for x in l_sorted] #<---- these are the y values\n",
    "freq_r = [stats.norm.pdf(x, loc=r_mean, scale=r_std) for x in r_sorted]\n",
    "\n",
    "plt.plot(l_sorted, freq_l, linestyle='dashed', color='b')\n",
    "plt.plot(r_sorted, freq_r, linestyle='dashed', color='y')\n",
    "plt.show()"
   ]
  },
  {
   "cell_type": "markdown",
   "metadata": {},
   "source": [
    "### Yellow is the river distribution"
   ]
  },
  {
   "cell_type": "code",
   "execution_count": null,
   "metadata": {
    "collapsed": true
   },
   "outputs": [],
   "source": []
  }
 ],
 "metadata": {
  "kernelspec": {
   "display_name": "Python 3",
   "language": "python",
   "name": "python3"
  },
  "language_info": {
   "codemirror_mode": {
    "name": "ipython",
    "version": 3
   },
   "file_extension": ".py",
   "mimetype": "text/x-python",
   "name": "python",
   "nbconvert_exporter": "python",
   "pygments_lexer": "ipython3",
   "version": "3.6.4"
  }
 },
 "nbformat": 4,
 "nbformat_minor": 1
}
