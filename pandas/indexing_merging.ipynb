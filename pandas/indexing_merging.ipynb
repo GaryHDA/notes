{
 "cells": [
  {
   "cell_type": "markdown",
   "metadata": {},
   "source": [
    "### Review and \"mise à jour\" before moving on to micro-bio module\n",
    "\n",
    "1. Do some basics \n",
    "2. Develop some advanced applications"
   ]
  },
  {
   "cell_type": "markdown",
   "metadata": {},
   "source": [
    "#### References\n",
    "1. Python for data analysis\n",
    "2. Think stats: exploratory data analysis\n",
    "3. https://pandas.pydata,org"
   ]
  },
  {
   "cell_type": "markdown",
   "metadata": {},
   "source": [
    "#### Purpose\n",
    "1. Work in the abstract (its good for the brain)\n",
    "2. Keep up to date with changes in the library\n",
    "3. Explore new ways of doing common tasks --- get better\n"
   ]
  },
  {
   "cell_type": "code",
   "execution_count": 1,
   "metadata": {
    "collapsed": true
   },
   "outputs": [],
   "source": [
    "import pandas as pd\n",
    "import numpy as np\n"
   ]
  },
  {
   "cell_type": "code",
   "execution_count": 2,
   "metadata": {
    "collapsed": false
   },
   "outputs": [
    {
     "name": "stdout",
     "output_type": "stream",
     "text": [
      "t ((4, 5, 6), (7, 8)) (1, 2, 3)\n"
     ]
    }
   ],
   "source": [
    "# start with the start\n",
    "# tuples\n",
    "tup = 4, 5, 6\n",
    "nested_tup = (4, 5, 6), (7, 8)\n",
    "# call tuple on a list\n",
    "a = [1, 2, 3]\n",
    "b = tuple(a)\n",
    "tup_string = tuple('string')\n",
    "print(tup_string[1], nested_tup, b)\n"
   ]
  },
  {
   "cell_type": "code",
   "execution_count": 3,
   "metadata": {
    "collapsed": false
   },
   "outputs": [
    {
     "data": {
      "text/plain": [
       "5"
      ]
     },
     "execution_count": 3,
     "metadata": {},
     "output_type": "execute_result"
    }
   ],
   "source": [
    "# unpacking tuples\n",
    "tup = (4,5,6)\n",
    "a, b, c = tup\n",
    "b"
   ]
  },
  {
   "cell_type": "code",
   "execution_count": 4,
   "metadata": {
    "collapsed": false
   },
   "outputs": [
    {
     "data": {
      "text/plain": [
       "7"
      ]
     },
     "execution_count": 4,
     "metadata": {},
     "output_type": "execute_result"
    }
   ],
   "source": [
    "# unpacking nested tuples\n",
    "tup = 4, 5, (6, 7)\n",
    "a, b, (c, d) = tup\n",
    "d"
   ]
  },
  {
   "cell_type": "code",
   "execution_count": 5,
   "metadata": {
    "collapsed": false
   },
   "outputs": [
    {
     "data": {
      "text/plain": [
       "1"
      ]
     },
     "execution_count": 5,
     "metadata": {},
     "output_type": "execute_result"
    }
   ],
   "source": [
    "# swapping variables\n",
    "a, b = 1, 2\n",
    "b, a = a, b\n",
    "b"
   ]
  },
  {
   "cell_type": "code",
   "execution_count": 6,
   "metadata": {
    "collapsed": false
   },
   "outputs": [
    {
     "name": "stdout",
     "output_type": "stream",
     "text": [
      "a=1, b=2, c=3\n",
      "a=4, b=5, c=6\n",
      "a=7, b=8, c=9\n"
     ]
    }
   ],
   "source": [
    "# iterating over sequences of tuples (or lists)\n",
    "seq = [(1, 2, 3,), (4,5,6), (7,8,9)]\n",
    "def iter_print(s):\n",
    "    for a, b, c in s:\n",
    "        print('a={0}, b={1}, c={2}'.format(a, b, c))\n",
    "iter_print(seq)\n",
    "# check how each letter is assigned a postion in the list index"
   ]
  },
  {
   "cell_type": "code",
   "execution_count": 7,
   "metadata": {
    "collapsed": false
   },
   "outputs": [
    {
     "name": "stdout",
     "output_type": "stream",
     "text": [
      "(1, 2) [3, 4, 5, 6]\n"
     ]
    }
   ],
   "source": [
    "# more or less new feature for python (the reason I do this)\n",
    "# *rest to pick a out just a few element from a list\n",
    "\n",
    "values = 1, 2, 3, 4, 5, 6\n",
    "a, b, *rest = values\n",
    "print((a,b), rest)"
   ]
  },
  {
   "cell_type": "code",
   "execution_count": 8,
   "metadata": {
    "collapsed": false
   },
   "outputs": [
    {
     "data": {
      "text/plain": [
       "['ham', 'spam', 'coffee', 'eggs', 'butter', 'toast', 'jelly', 'bacon']"
      ]
     },
     "execution_count": 8,
     "metadata": {},
     "output_type": "execute_result"
    }
   ],
   "source": [
    "# lists adding and removing elements\n",
    "a_string = ['ham', 'spam', 'eggs', 'butter', 'toast', 'jelly']\n",
    "a_sequence = [1, 2, 3, 4, 5, 6, 7, 8]\n",
    "a_string.append('bacon')\n",
    "a_string.insert(2, 'coffee')\n",
    "a_string"
   ]
  },
  {
   "cell_type": "code",
   "execution_count": 9,
   "metadata": {
    "collapsed": false
   },
   "outputs": [
    {
     "data": {
      "text/plain": [
       "4"
      ]
     },
     "execution_count": 9,
     "metadata": {},
     "output_type": "execute_result"
    }
   ],
   "source": [
    "# pop\n",
    "a_sequence.pop(3)"
   ]
  },
  {
   "cell_type": "code",
   "execution_count": 10,
   "metadata": {
    "collapsed": false
   },
   "outputs": [
    {
     "data": {
      "text/plain": [
       "['ham', 'coffee', 'eggs', 'butter', 'toast', 'jelly', 'bacon']"
      ]
     },
     "execution_count": 10,
     "metadata": {},
     "output_type": "execute_result"
    }
   ],
   "source": [
    "# remove\n",
    "a_string.remove('spam')\n",
    "a_string"
   ]
  },
  {
   "cell_type": "code",
   "execution_count": 11,
   "metadata": {
    "collapsed": false
   },
   "outputs": [
    {
     "data": {
      "text/plain": [
       "['ham',\n",
       " 'coffee',\n",
       " 'eggs',\n",
       " 'butter',\n",
       " 'toast',\n",
       " 'jelly',\n",
       " 'bacon',\n",
       " 1,\n",
       " 2,\n",
       " 3,\n",
       " 5,\n",
       " 6,\n",
       " 7,\n",
       " 8,\n",
       " 'f',\n",
       " 4,\n",
       " 6,\n",
       " 9]"
      ]
     },
     "execution_count": 11,
     "metadata": {},
     "output_type": "execute_result"
    }
   ],
   "source": [
    "# concatenating and combining lists\n",
    "two_lists = a_string + a_sequence\n",
    "c = ['f', 4, 6, 9]\n",
    "two_lists.extend(c)\n",
    "two_lists\n",
    "# see the difference between + and append next cell"
   ]
  },
  {
   "cell_type": "code",
   "execution_count": 12,
   "metadata": {
    "collapsed": false
   },
   "outputs": [
    {
     "data": {
      "text/plain": [
       "['ham',\n",
       " 'coffee',\n",
       " 'eggs',\n",
       " 'butter',\n",
       " 'toast',\n",
       " 'jelly',\n",
       " 'bacon',\n",
       " [1, 2, 3, 5, 6, 7, 8]]"
      ]
     },
     "execution_count": 12,
     "metadata": {},
     "output_type": "execute_result"
    }
   ],
   "source": [
    "a_string.append(a_sequence)\n",
    "a_string"
   ]
  },
  {
   "cell_type": "code",
   "execution_count": 13,
   "metadata": {
    "collapsed": false
   },
   "outputs": [
    {
     "data": {
      "text/plain": [
       "[1, 2, 3, 5, 6, 7, 8]"
      ]
     },
     "execution_count": 13,
     "metadata": {},
     "output_type": "execute_result"
    }
   ],
   "source": [
    "# see how the list is just stuck on to the end\n",
    "# calling \n",
    "a_string[-1]\n",
    "# gives another list"
   ]
  },
  {
   "cell_type": "code",
   "execution_count": 14,
   "metadata": {
    "collapsed": false
   },
   "outputs": [
    {
     "data": {
      "text/plain": [
       "[1, 2, 3, 5, 6, 7, 8]"
      ]
     },
     "execution_count": 14,
     "metadata": {},
     "output_type": "execute_result"
    }
   ],
   "source": [
    "# sorting lists\n",
    "# first get rid of the hanging list\n",
    "a_string.pop(-1)"
   ]
  },
  {
   "cell_type": "code",
   "execution_count": 15,
   "metadata": {
    "collapsed": false
   },
   "outputs": [
    {
     "data": {
      "text/plain": [
       "['ham', 'coffee', 'eggs', 'butter', 'toast', 'jelly', 'bacon']"
      ]
     },
     "execution_count": 15,
     "metadata": {},
     "output_type": "execute_result"
    }
   ],
   "source": [
    "a_string"
   ]
  },
  {
   "cell_type": "code",
   "execution_count": 16,
   "metadata": {
    "collapsed": false
   },
   "outputs": [
    {
     "data": {
      "text/plain": [
       "['bacon', 'butter', 'coffee', 'eggs', 'ham', 'jelly', 'toast']"
      ]
     },
     "execution_count": 16,
     "metadata": {},
     "output_type": "execute_result"
    }
   ],
   "source": [
    "# okay onwards\n",
    "# sort this in place\n",
    "a_string.sort()\n",
    "a_string"
   ]
  },
  {
   "cell_type": "code",
   "execution_count": 17,
   "metadata": {
    "collapsed": false
   },
   "outputs": [
    {
     "data": {
      "text/plain": [
       "['ham', 'eggs', 'bacon', 'jelly', 'toast', 'butter', 'coffee']"
      ]
     },
     "execution_count": 17,
     "metadata": {},
     "output_type": "execute_result"
    }
   ],
   "source": [
    "# sort it by a key\n",
    "a_string.sort(key=len)\n",
    "a_string"
   ]
  },
  {
   "cell_type": "code",
   "execution_count": 18,
   "metadata": {
    "collapsed": false
   },
   "outputs": [
    {
     "data": {
      "text/plain": [
       "3"
      ]
     },
     "execution_count": 18,
     "metadata": {},
     "output_type": "execute_result"
    }
   ],
   "source": [
    "# good to know stuff on lists\n",
    "import bisect\n",
    "bisect.bisect(a_string, 'eggs')"
   ]
  },
  {
   "cell_type": "code",
   "execution_count": 19,
   "metadata": {
    "collapsed": false
   },
   "outputs": [
    {
     "data": {
      "text/plain": [
       "0"
      ]
     },
     "execution_count": 19,
     "metadata": {},
     "output_type": "execute_result"
    }
   ],
   "source": [
    "bisect.bisect(a_string, 'bacon')"
   ]
  },
  {
   "cell_type": "code",
   "execution_count": 20,
   "metadata": {
    "collapsed": false
   },
   "outputs": [
    {
     "data": {
      "text/plain": [
       "7"
      ]
     },
     "execution_count": 20,
     "metadata": {},
     "output_type": "execute_result"
    }
   ],
   "source": [
    "# bisect is assuming that the list is sorted alphabetically\n",
    "# test the theory\n",
    "bisect.bisect(a_string, 'toast')\n",
    "# should outpt 7"
   ]
  },
  {
   "cell_type": "code",
   "execution_count": 21,
   "metadata": {
    "collapsed": false
   },
   "outputs": [
    {
     "data": {
      "text/plain": [
       "['h', 'a', 'm', 'm', 'e', 'r', 'd', 'i', 'r', 't']"
      ]
     },
     "execution_count": 21,
     "metadata": {},
     "output_type": "execute_result"
    }
   ],
   "source": [
    "# or whatever the last element\n",
    "# slicing and notation always good to review this stuff\n",
    "d = list('hammerdirt')\n",
    "d"
   ]
  },
  {
   "cell_type": "code",
   "execution_count": 22,
   "metadata": {
    "collapsed": false
   },
   "outputs": [
    {
     "name": "stdout",
     "output_type": "stream",
     "text": [
      "['m', 'm', 'e', 'r', 'd'] ['h', 'a', 'w', 'o', 'r', 'k', 's', 'i', 'r', 't']\n"
     ]
    }
   ],
   "source": [
    "# okay here we go\n",
    "a_slice = d[2:7]\n",
    "# insert some stuff\n",
    "d[2:7] = ['w', 'o', 'r', 'k','s']\n",
    "print(a_slice, d)"
   ]
  },
  {
   "cell_type": "code",
   "execution_count": 23,
   "metadata": {
    "collapsed": false
   },
   "outputs": [
    {
     "data": {
      "text/plain": [
       "['k', 's', 'i', 'r']"
      ]
     },
     "execution_count": 23,
     "metadata": {},
     "output_type": "execute_result"
    }
   ],
   "source": [
    "# index from the end\n",
    "d[-5:-1]\n",
    "# notice how the last element is not included"
   ]
  },
  {
   "cell_type": "code",
   "execution_count": 24,
   "metadata": {
    "collapsed": false
   },
   "outputs": [
    {
     "data": {
      "text/plain": [
       "['h', 'm', 'e', 'd', 'r']"
      ]
     },
     "execution_count": 24,
     "metadata": {},
     "output_type": "execute_result"
    }
   ],
   "source": [
    "# get back to orignal\n",
    "e = list('hammerdirt')\n",
    "# getting every second element\n",
    "e[::2]"
   ]
  },
  {
   "cell_type": "code",
   "execution_count": 25,
   "metadata": {
    "collapsed": false
   },
   "outputs": [
    {
     "data": {
      "text/plain": [
       "['h', 'm', 'd', 't']"
      ]
     },
     "execution_count": 25,
     "metadata": {},
     "output_type": "execute_result"
    }
   ],
   "source": [
    "# getting every third element\n",
    "e[::3]"
   ]
  },
  {
   "cell_type": "code",
   "execution_count": 26,
   "metadata": {
    "collapsed": false
   },
   "outputs": [
    {
     "data": {
      "text/plain": [
       "['t', 'r', 'i', 'd', 'r', 'e', 'm', 'm', 'a', 'h']"
      ]
     },
     "execution_count": 26,
     "metadata": {},
     "output_type": "execute_result"
    }
   ],
   "source": [
    "#write it backwards\n",
    "e[::-1]"
   ]
  },
  {
   "cell_type": "code",
   "execution_count": 27,
   "metadata": {
    "collapsed": false
   },
   "outputs": [
    {
     "data": {
      "text/plain": [
       "{'a': 1, 'd': 6, 'e': 4, 'h': 0, 'i': 7, 'm': 3, 'r': 8, 't': 9}"
      ]
     },
     "execution_count": 27,
     "metadata": {},
     "output_type": "execute_result"
    }
   ],
   "source": [
    "# mapping values to position \n",
    "# will not go over the enumerate method\n",
    "def map_it(e):\n",
    "    mapping = {}\n",
    "    for i, l in enumerate(e):\n",
    "        mapping[l] = i\n",
    "    return mapping\n",
    "map_it(e)\n",
    "# spits our a dict that correlates list element to list position"
   ]
  },
  {
   "cell_type": "code",
   "execution_count": 28,
   "metadata": {
    "collapsed": false
   },
   "outputs": [
    {
     "data": {
      "text/plain": [
       "['h', 'a', 'm', 'm', 'e', 'r', 'd', 'i', 'r', 't']"
      ]
     },
     "execution_count": 28,
     "metadata": {},
     "output_type": "execute_result"
    }
   ],
   "source": [
    "e"
   ]
  },
  {
   "cell_type": "code",
   "execution_count": 29,
   "metadata": {
    "collapsed": true
   },
   "outputs": [],
   "source": [
    "# difference between sorted and sort\n",
    "# sort is in place sorted return a new list\n",
    "# observe\n",
    "a_string.sort()\n",
    "# no output"
   ]
  },
  {
   "cell_type": "code",
   "execution_count": 30,
   "metadata": {
    "collapsed": false
   },
   "outputs": [
    {
     "data": {
      "text/plain": [
       "['a', 'd', 'e', 'h', 'i', 'm', 'm', 'r', 'r', 't']"
      ]
     },
     "execution_count": 30,
     "metadata": {},
     "output_type": "execute_result"
    }
   ],
   "source": [
    "sorted(e)\n",
    "# output"
   ]
  },
  {
   "cell_type": "code",
   "execution_count": 31,
   "metadata": {
    "collapsed": false
   },
   "outputs": [
    {
     "data": {
      "text/plain": [
       "['h', 'a', 'm', 'm', 'e', 'r', 'd', 'i', 'r', 't']"
      ]
     },
     "execution_count": 31,
     "metadata": {},
     "output_type": "execute_result"
    }
   ],
   "source": [
    "e\n",
    "# original list is untouched"
   ]
  },
  {
   "cell_type": "code",
   "execution_count": 32,
   "metadata": {
    "collapsed": false
   },
   "outputs": [
    {
     "data": {
      "text/plain": [
       "[('a', 1), ('b', 2), ('c', 3), ('d', 4), ('e', 5)]"
      ]
     },
     "execution_count": 32,
     "metadata": {},
     "output_type": "execute_result"
    }
   ],
   "source": [
    "# zip \n",
    "seq_1 = ['a', 'b', 'c', 'd', 'e']\n",
    "seq_2 = [1, 2, 3, 4, 5]\n",
    "seq_3 = zip(seq_1, seq_2)\n",
    "list(seq_3)"
   ]
  },
  {
   "cell_type": "code",
   "execution_count": 33,
   "metadata": {
    "collapsed": false
   },
   "outputs": [
    {
     "name": "stdout",
     "output_type": "stream",
     "text": [
      "this is 0\n",
      "this is 1\n",
      "this is 2\n",
      "this is 3\n",
      "this is 4\n"
     ]
    },
    {
     "data": {
      "text/plain": [
       "{0: ('a', 1), 1: ('b', 2), 2: ('c', 3), 3: ('d', 4), 4: ('e', 5)}"
      ]
     },
     "execution_count": 33,
     "metadata": {},
     "output_type": "execute_result"
    }
   ],
   "source": [
    "# unpacking zipped elements\n",
    "mapping ={}\n",
    "for b, (c, d) in enumerate(zip(seq_1, seq_2)):\n",
    "    print('this is '+ str(b))\n",
    "    mapping[b] = c, d\n",
    "  \n",
    "mapping"
   ]
  },
  {
   "cell_type": "code",
   "execution_count": 34,
   "metadata": {
    "collapsed": false
   },
   "outputs": [
    {
     "name": "stdout",
     "output_type": "stream",
     "text": [
      "('ham', 'eggs', 'hash') ('toast', 'jelly', 'butter')\n"
     ]
    }
   ],
   "source": [
    "# this is a good one if you recieve data in pairs but you want to group element wise\n",
    "# for example you want to put eggs, ham and hash in one group and toast, butter, jelly in another \n",
    "\n",
    "break_fast = [('ham', 'toast'), ('eggs', 'jelly'), ('hash', 'butter')]\n",
    "eggs, toast = zip(*break_fast)\n",
    "print(eggs, toast)"
   ]
  },
  {
   "cell_type": "code",
   "execution_count": 35,
   "metadata": {
    "collapsed": false
   },
   "outputs": [
    {
     "data": {
      "text/plain": [
       "{'abrupt': 'a',\n",
       " 'debonair': 'd',\n",
       " 'excellent': 'e',\n",
       " 'happy': 'h',\n",
       " 'idealistic': 'i',\n",
       " 'manic': 'm',\n",
       " 'messy': 'm',\n",
       " 'radical': 'r',\n",
       " 'rigorous': 'r',\n",
       " 'tasty': 't'}"
      ]
     },
     "execution_count": 35,
     "metadata": {},
     "output_type": "execute_result"
    }
   ],
   "source": [
    "# dicts\n",
    "empty = {}\n",
    "# use what we know to fill it :\n",
    "g = ['happy', 'abrupt', 'messy', 'manic', 'excellent', 'rigorous', 'debonair', 'idealistic', 'radical', 'tasty']\n",
    "for i, (f, h) in enumerate(zip(e, g)):\n",
    "    empty[h]=f\n",
    "empty\n",
    "# if the variables are reversed on the constructor then we would be missing\n",
    "# some keys in the dict--- only unique values are allowed on a dicr"
   ]
  },
  {
   "cell_type": "code",
   "execution_count": 36,
   "metadata": {
    "collapsed": false
   },
   "outputs": [
    {
     "data": {
      "text/plain": [
       "False"
      ]
     },
     "execution_count": 36,
     "metadata": {},
     "output_type": "execute_result"
    }
   ],
   "source": [
    "'h' in empty"
   ]
  },
  {
   "cell_type": "code",
   "execution_count": 37,
   "metadata": {
    "collapsed": false
   },
   "outputs": [
    {
     "data": {
      "text/plain": [
       "True"
      ]
     },
     "execution_count": 37,
     "metadata": {},
     "output_type": "execute_result"
    }
   ],
   "source": [
    "'happy' in empty"
   ]
  },
  {
   "cell_type": "code",
   "execution_count": 38,
   "metadata": {
    "collapsed": false
   },
   "outputs": [
    {
     "name": "stdout",
     "output_type": "stream",
     "text": [
      "h\n"
     ]
    }
   ],
   "source": [
    "# you can boolean search for keys in a dict but not in values\n",
    "# then you could follow up with something like this\n",
    "if 'happy' in empty:\n",
    "    print(empty['happy'])"
   ]
  },
  {
   "cell_type": "code",
   "execution_count": 39,
   "metadata": {
    "collapsed": true
   },
   "outputs": [],
   "source": [
    "# there you get the value of 'happy'\n",
    "# change the value of happy by setting it\n",
    "empty['happy'] = 'H'"
   ]
  },
  {
   "cell_type": "code",
   "execution_count": 40,
   "metadata": {
    "collapsed": false
   },
   "outputs": [
    {
     "name": "stdout",
     "output_type": "stream",
     "text": [
      "H\n"
     ]
    }
   ],
   "source": [
    "if 'happy' in empty:\n",
    "    print(empty['happy'])"
   ]
  },
  {
   "cell_type": "code",
   "execution_count": 41,
   "metadata": {
    "collapsed": true
   },
   "outputs": [],
   "source": [
    "# pop or delete to remove key/value pairs from a dict\n",
    "empty['add_me'] = 'A'\n",
    "empty['add_me2'] = 'B'"
   ]
  },
  {
   "cell_type": "code",
   "execution_count": 42,
   "metadata": {
    "collapsed": false
   },
   "outputs": [
    {
     "data": {
      "text/plain": [
       "{'abrupt': 'a',\n",
       " 'add_me': 'A',\n",
       " 'add_me2': 'B',\n",
       " 'debonair': 'd',\n",
       " 'excellent': 'e',\n",
       " 'happy': 'H',\n",
       " 'idealistic': 'i',\n",
       " 'manic': 'm',\n",
       " 'messy': 'm',\n",
       " 'radical': 'r',\n",
       " 'rigorous': 'r',\n",
       " 'tasty': 't'}"
      ]
     },
     "execution_count": 42,
     "metadata": {},
     "output_type": "execute_result"
    }
   ],
   "source": [
    "empty"
   ]
  },
  {
   "cell_type": "code",
   "execution_count": 43,
   "metadata": {
    "collapsed": false
   },
   "outputs": [
    {
     "name": "stdout",
     "output_type": "stream",
     "text": [
      "What did you remove? A\n"
     ]
    }
   ],
   "source": [
    "# use pop to remove a value and store it for later\n",
    "gone = empty.pop('add_me')\n",
    "del empty['add_me2']\n",
    "print('What did you remove? ' + gone)"
   ]
  },
  {
   "cell_type": "code",
   "execution_count": 44,
   "metadata": {
    "collapsed": false
   },
   "outputs": [
    {
     "data": {
      "text/plain": [
       "{'abrupt': 'a',\n",
       " 'debonair': 'd',\n",
       " 'excellent': 'e',\n",
       " 'happy': 'h',\n",
       " 'idealistic': 'i',\n",
       " 'manic': 'm',\n",
       " 'messy': 'm',\n",
       " 'radical': 'r',\n",
       " 'rigorous': 'r',\n",
       " 'tasty': 't'}"
      ]
     },
     "execution_count": 44,
     "metadata": {},
     "output_type": "execute_result"
    }
   ],
   "source": [
    "# another way to make a dict from two lists\n",
    "# faster than the for loop in block 35\n",
    "empty = dict(zip(g,e))\n",
    "empty"
   ]
  },
  {
   "cell_type": "code",
   "execution_count": 45,
   "metadata": {
    "collapsed": true
   },
   "outputs": [],
   "source": [
    "# getting a list of dict keys is a common oepration\n",
    "# there is built in method for that (we have seen it before)\n",
    "# one way to do it:\n",
    "empty_keys = list(empty.keys())"
   ]
  },
  {
   "cell_type": "code",
   "execution_count": 46,
   "metadata": {
    "collapsed": true
   },
   "outputs": [],
   "source": [
    "# another way, save some typing\n",
    "empty_keys_2 = [*empty]"
   ]
  },
  {
   "cell_type": "code",
   "execution_count": 47,
   "metadata": {
    "collapsed": false
   },
   "outputs": [
    {
     "name": "stdout",
     "output_type": "stream",
     "text": [
      "['happy', 'abrupt', 'messy', 'manic', 'excellent', 'rigorous', 'debonair', 'idealistic', 'radical', 'tasty'] ['happy', 'abrupt', 'messy', 'manic', 'excellent', 'rigorous', 'debonair', 'idealistic', 'radical', 'tasty']\n"
     ]
    }
   ],
   "source": [
    "print(empty_keys_2, empty_keys)\n",
    "# same output"
   ]
  },
  {
   "cell_type": "code",
   "execution_count": 48,
   "metadata": {
    "collapsed": false
   },
   "outputs": [
    {
     "data": {
      "text/plain": [
       "{'a': ['abrupt'],\n",
       " 'd': ['debonair'],\n",
       " 'e': ['excellent'],\n",
       " 'h': ['happy'],\n",
       " 'i': ['idealistic'],\n",
       " 'm': ['messy', 'manic'],\n",
       " 'r': ['rigorous', 'radical'],\n",
       " 't': ['tasty']}"
      ]
     },
     "execution_count": 48,
     "metadata": {},
     "output_type": "execute_result"
    }
   ],
   "source": [
    "# put this back to a dict there are several options:\n",
    "# write a function\n",
    "def make_dict(a):\n",
    "    e_3 = {}\n",
    "    for word in a:\n",
    "        letter = word[0]\n",
    "        if letter not in e_3:\n",
    "            e_3[letter] = [word]\n",
    "        else:\n",
    "            e_3[letter].append(word)\n",
    "    return e_3\n",
    "make_dict(empty_keys_2)"
   ]
  },
  {
   "cell_type": "code",
   "execution_count": 49,
   "metadata": {
    "collapsed": false
   },
   "outputs": [
    {
     "data": {
      "text/plain": [
       "{'a': ['abrupt'],\n",
       " 'd': ['debonair'],\n",
       " 'e': ['excellent'],\n",
       " 'h': ['happy'],\n",
       " 'i': ['idealistic'],\n",
       " 'm': ['messy', 'manic'],\n",
       " 'r': ['rigorous', 'radical'],\n",
       " 't': ['tasty']}"
      ]
     },
     "execution_count": 49,
     "metadata": {},
     "output_type": "execute_result"
    }
   ],
   "source": [
    "# another way  to is to set the default\n",
    "def make_dict_two(a):\n",
    "    e_4 = {}\n",
    "    for word in a:\n",
    "        letter = word[0]\n",
    "        e_4.setdefault(letter, []).append(word)\n",
    "    return e_4\n",
    "make_dict_two(empty_keys_2)\n",
    "# same result we save a few lines"
   ]
  },
  {
   "cell_type": "code",
   "execution_count": 50,
   "metadata": {
    "collapsed": false
   },
   "outputs": [
    {
     "data": {
      "text/plain": [
       "defaultdict(list,\n",
       "            {'a': ['abrupt'],\n",
       "             'd': ['debonair'],\n",
       "             'e': ['excellent'],\n",
       "             'h': ['happy'],\n",
       "             'i': ['idealistic'],\n",
       "             'm': ['messy', 'manic'],\n",
       "             'r': ['rigorous', 'radical'],\n",
       "             't': ['tasty']})"
      ]
     },
     "execution_count": 50,
     "metadata": {},
     "output_type": "execute_result"
    }
   ],
   "source": [
    "# finally use an import\n",
    "from collections import defaultdict\n",
    "def make_dict_three(a):\n",
    "    e_5 = defaultdict(list)\n",
    "    for s in a:\n",
    "        e_5[s[0]].append(s)\n",
    "    return e_5\n",
    "make_dict_three(empty_keys)"
   ]
  },
  {
   "cell_type": "code",
   "execution_count": 51,
   "metadata": {
    "collapsed": false
   },
   "outputs": [
    {
     "data": {
      "text/plain": [
       "{2, 3, 5, 9}"
      ]
     },
     "execution_count": 51,
     "metadata": {},
     "output_type": "execute_result"
    }
   ],
   "source": [
    "# sets are one way to remove duplicates from a list\n",
    "h = [2, 3, 3, 2, 5, 9, 5]\n",
    "set(h)"
   ]
  },
  {
   "cell_type": "code",
   "execution_count": 52,
   "metadata": {
    "collapsed": false
   },
   "outputs": [
    {
     "data": {
      "text/plain": [
       "{'a', 'd', 'e', 'h', 'i', 'm', 'r', 't'}"
      ]
     },
     "execution_count": 52,
     "metadata": {},
     "output_type": "execute_result"
    }
   ],
   "source": [
    "# the union of two sets\n",
    "i = {'h', 'a', 'm', 'm', 'e', 'r', 'd', 'i', 'r', 't'}\n",
    "j = {'h', 'a', 'm', 'e', 'r', 'd', 'i', 't'}\n",
    "i.union(j)"
   ]
  },
  {
   "cell_type": "code",
   "execution_count": 53,
   "metadata": {
    "collapsed": false
   },
   "outputs": [
    {
     "data": {
      "text/plain": [
       "{'a', 'd', 'e', 'h', 'i', 'm', 'r', 't'}"
      ]
     },
     "execution_count": 53,
     "metadata": {},
     "output_type": "execute_result"
    }
   ],
   "source": [
    "# the binary operator works also\n",
    "i|j"
   ]
  },
  {
   "cell_type": "code",
   "execution_count": 54,
   "metadata": {
    "collapsed": false
   },
   "outputs": [
    {
     "data": {
      "text/plain": [
       "{'a', 'd', 'e', 'h', 'i', 'm', 'r', 't'}"
      ]
     },
     "execution_count": 54,
     "metadata": {},
     "output_type": "execute_result"
    }
   ],
   "source": [
    "# the intersection\n",
    "i.intersection(j)"
   ]
  },
  {
   "cell_type": "code",
   "execution_count": 55,
   "metadata": {
    "collapsed": false
   },
   "outputs": [
    {
     "data": {
      "text/plain": [
       "{'a', 'd', 'e', 'h', 'i', 'm', 'r', 't'}"
      ]
     },
     "execution_count": 55,
     "metadata": {},
     "output_type": "execute_result"
    }
   ],
   "source": [
    "# or the & works also\n",
    "i & j"
   ]
  },
  {
   "cell_type": "code",
   "execution_count": null,
   "metadata": {
    "collapsed": true
   },
   "outputs": [],
   "source": []
  }
 ],
 "metadata": {
  "kernelspec": {
   "display_name": "Python 3.6",
   "language": "python",
   "name": "python3.6"
  },
  "language_info": {
   "codemirror_mode": {
    "name": "ipython",
    "version": 3
   },
   "file_extension": ".py",
   "mimetype": "text/x-python",
   "name": "python",
   "nbconvert_exporter": "python",
   "pygments_lexer": "ipython3",
   "version": "3.6.0"
  }
 },
 "nbformat": 4,
 "nbformat_minor": 0
}
