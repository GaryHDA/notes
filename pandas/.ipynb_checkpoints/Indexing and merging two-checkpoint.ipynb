{
 "cells": [
  {
   "cell_type": "markdown",
   "metadata": {},
   "source": [
    "### Indexing and merging two"
   ]
  },
  {
   "cell_type": "markdown",
   "metadata": {},
   "source": [
    "#### References\n",
    "1. Python for data analysis\n",
    "2. Think stats: exploratory data analysis\n",
    "3. https://pandas.pydata,org"
   ]
  },
  {
   "cell_type": "markdown",
   "metadata": {},
   "source": [
    "#### Purpose\n",
    "1. Work in the abstract (its good for the brain)\n",
    "2. Keep up to date with changes in the library\n",
    "3. Explore new ways of doing common tasks --- get better"
   ]
  },
  {
   "cell_type": "code",
   "execution_count": 1,
   "metadata": {},
   "outputs": [],
   "source": [
    "import pandas as pd\n",
    "import numpy as np\n"
   ]
  },
  {
   "cell_type": "code",
   "execution_count": 2,
   "metadata": {},
   "outputs": [],
   "source": [
    "# create some data frames\n",
    "index = ['a', 'b', 'c', 'd', 'e']\n",
    "index_2 = ['f', 'g', 'h', 'i', 'j']\n",
    "columns = ['bacon', 'eggs', 'ham', 'spam', 'hash']\n",
    "columns_2 = ['toast', 'jelly', 'butter', 'wheat', 'white']\n",
    "index_3 = ['k', 'l', 'm']\n",
    "columns_3 = ['pancakes', 'waffles', 'crepes']\n",
    "index_4 = pd.date_range('04/01/2017', periods=30, freq='D')\n",
    "columns_4 = ['Waffle house', 'Dennys', 'Panera']\n",
    "names = ['Sheila', 'Dave', 'Pat']\n",
    "resto = columns_4\n",
    "\n",
    "\n",
    "a = pd.DataFrame(np.random.randint(6, size=(5,5)), index=index, columns=columns)\n",
    "b = pd.DataFrame(np.random.randint(4, size=(5,5)), index=index_2, columns=columns_2)\n",
    "c = pd.DataFrame(np.random.randint(4, size=(3,3)), index=index_3, columns=columns_3)\n",
    "d = pd.DataFrame(6 * np.random.random_sample((30, 3)) + 3.99, dtype='float64', index=index_4, columns=columns_4)\n",
    "e = pd.DataFrame(np.random.choice(resto,(30,3)), columns = names)\n",
    "d[columns_4]=d[columns_4].round(2)"
   ]
  },
  {
   "cell_type": "code",
   "execution_count": 3,
   "metadata": {},
   "outputs": [],
   "source": [
    "#print(a)\n",
    "#print(b)\n",
    "#print(c)\n",
    "#print(d)\n",
    "#print(e)"
   ]
  },
  {
   "cell_type": "code",
   "execution_count": 4,
   "metadata": {},
   "outputs": [],
   "source": [
    "# switch the columns so that Dave = Pat and Pat = Sheila and Sheila = Dave\n",
    "e.loc[:, ['Pat', 'Sheila', 'Dave']] = e[names].values"
   ]
  },
  {
   "cell_type": "code",
   "execution_count": 5,
   "metadata": {},
   "outputs": [
    {
     "data": {
      "text/html": [
       "<div>\n",
       "<style scoped>\n",
       "    .dataframe tbody tr th:only-of-type {\n",
       "        vertical-align: middle;\n",
       "    }\n",
       "\n",
       "    .dataframe tbody tr th {\n",
       "        vertical-align: top;\n",
       "    }\n",
       "\n",
       "    .dataframe thead th {\n",
       "        text-align: right;\n",
       "    }\n",
       "</style>\n",
       "<table border=\"1\" class=\"dataframe\">\n",
       "  <thead>\n",
       "    <tr style=\"text-align: right;\">\n",
       "      <th></th>\n",
       "      <th>Sheila</th>\n",
       "      <th>Dave</th>\n",
       "      <th>Pat</th>\n",
       "    </tr>\n",
       "  </thead>\n",
       "  <tbody>\n",
       "    <tr>\n",
       "      <th>0</th>\n",
       "      <td>Dennys</td>\n",
       "      <td>Waffle house</td>\n",
       "      <td>Waffle house</td>\n",
       "    </tr>\n",
       "    <tr>\n",
       "      <th>1</th>\n",
       "      <td>Dennys</td>\n",
       "      <td>Panera</td>\n",
       "      <td>Waffle house</td>\n",
       "    </tr>\n",
       "    <tr>\n",
       "      <th>2</th>\n",
       "      <td>Panera</td>\n",
       "      <td>Panera</td>\n",
       "      <td>Panera</td>\n",
       "    </tr>\n",
       "    <tr>\n",
       "      <th>3</th>\n",
       "      <td>Panera</td>\n",
       "      <td>Waffle house</td>\n",
       "      <td>Waffle house</td>\n",
       "    </tr>\n",
       "  </tbody>\n",
       "</table>\n",
       "</div>"
      ],
      "text/plain": [
       "   Sheila          Dave           Pat\n",
       "0  Dennys  Waffle house  Waffle house\n",
       "1  Dennys        Panera  Waffle house\n",
       "2  Panera        Panera        Panera\n",
       "3  Panera  Waffle house  Waffle house"
      ]
     },
     "execution_count": 5,
     "metadata": {},
     "output_type": "execute_result"
    }
   ],
   "source": [
    "e.iloc[:4]"
   ]
  },
  {
   "cell_type": "code",
   "execution_count": 6,
   "metadata": {},
   "outputs": [
    {
     "data": {
      "text/plain": [
       "0    Waffle house\n",
       "1          Panera\n",
       "2          Panera\n",
       "3    Waffle house\n",
       "Name: Dave, dtype: object"
      ]
     },
     "execution_count": 6,
     "metadata": {},
     "output_type": "execute_result"
    }
   ],
   "source": [
    "# can acces columns as attributes\n",
    "e_sheila, e_dave, e_pat = e.Sheila, e.Dave, e.Pat\n",
    "e_dave[:4]"
   ]
  },
  {
   "cell_type": "code",
   "execution_count": 7,
   "metadata": {},
   "outputs": [
    {
     "data": {
      "text/plain": [
       "pandas.core.series.Series"
      ]
     },
     "execution_count": 7,
     "metadata": {},
     "output_type": "execute_result"
    }
   ],
   "source": [
    "type(e_dave)"
   ]
  },
  {
   "cell_type": "code",
   "execution_count": 8,
   "metadata": {},
   "outputs": [
    {
     "data": {
      "text/plain": [
       "0     Waffle house\n",
       "5     Waffle house\n",
       "10          Dennys\n",
       "15          Panera\n",
       "20    Waffle house\n",
       "25    Waffle house\n",
       "Name: Dave, dtype: object"
      ]
     },
     "execution_count": 8,
     "metadata": {},
     "output_type": "execute_result"
    }
   ],
   "source": [
    "# so that means all series slicing syntax works here\n",
    "e_dave[::5]\n",
    "# start from the back and get every fifth element"
   ]
  },
  {
   "cell_type": "code",
   "execution_count": 9,
   "metadata": {},
   "outputs": [
    {
     "data": {
      "text/plain": [
       "29          Dennys\n",
       "28          Panera\n",
       "27          Dennys\n",
       "26          Panera\n",
       "25    Waffle house\n",
       "24          Dennys\n",
       "23          Panera\n",
       "22    Waffle house\n",
       "21          Panera\n",
       "20    Waffle house\n",
       "19          Panera\n",
       "18          Dennys\n",
       "17    Waffle house\n",
       "16    Waffle house\n",
       "15          Panera\n",
       "14          Panera\n",
       "13    Waffle house\n",
       "12          Panera\n",
       "11          Panera\n",
       "10          Dennys\n",
       "9           Dennys\n",
       "8           Dennys\n",
       "7           Dennys\n",
       "6           Panera\n",
       "5     Waffle house\n",
       "4           Panera\n",
       "3     Waffle house\n",
       "2           Panera\n",
       "1           Panera\n",
       "0     Waffle house\n",
       "Name: Dave, dtype: object"
      ]
     },
     "execution_count": 9,
     "metadata": {},
     "output_type": "execute_result"
    }
   ],
   "source": [
    "# get the whole thing in reverse\n",
    "e_dave[::-1]\n",
    "# notice the index value is valid, here we start at 29"
   ]
  },
  {
   "cell_type": "code",
   "execution_count": 10,
   "metadata": {},
   "outputs": [],
   "source": [
    "# dave says that he ate at Waffle house on the third\n",
    "e_dave[2] = \"Waffle house\""
   ]
  },
  {
   "cell_type": "code",
   "execution_count": 11,
   "metadata": {},
   "outputs": [
    {
     "data": {
      "text/plain": [
       "0    Waffle house\n",
       "1          Panera\n",
       "2    Waffle house\n",
       "3    Waffle house\n",
       "4          Panera\n",
       "Name: Dave, dtype: object"
      ]
     },
     "execution_count": 11,
     "metadata": {},
     "output_type": "execute_result"
    }
   ],
   "source": [
    "e_dave[:5]\n",
    "# changed from Dennys to Waffle house"
   ]
  },
  {
   "cell_type": "code",
   "execution_count": 12,
   "metadata": {},
   "outputs": [
    {
     "data": {
      "text/html": [
       "<div>\n",
       "<style scoped>\n",
       "    .dataframe tbody tr th:only-of-type {\n",
       "        vertical-align: middle;\n",
       "    }\n",
       "\n",
       "    .dataframe tbody tr th {\n",
       "        vertical-align: top;\n",
       "    }\n",
       "\n",
       "    .dataframe thead th {\n",
       "        text-align: right;\n",
       "    }\n",
       "</style>\n",
       "<table border=\"1\" class=\"dataframe\">\n",
       "  <thead>\n",
       "    <tr style=\"text-align: right;\">\n",
       "      <th></th>\n",
       "      <th>Sheila</th>\n",
       "      <th>Dave</th>\n",
       "      <th>Pat</th>\n",
       "    </tr>\n",
       "  </thead>\n",
       "  <tbody>\n",
       "    <tr>\n",
       "      <th>0</th>\n",
       "      <td>Dennys</td>\n",
       "      <td>Waffle house</td>\n",
       "      <td>Waffle house</td>\n",
       "    </tr>\n",
       "    <tr>\n",
       "      <th>1</th>\n",
       "      <td>Dennys</td>\n",
       "      <td>Panera</td>\n",
       "      <td>Waffle house</td>\n",
       "    </tr>\n",
       "    <tr>\n",
       "      <th>2</th>\n",
       "      <td>Panera</td>\n",
       "      <td>Waffle house</td>\n",
       "      <td>Panera</td>\n",
       "    </tr>\n",
       "  </tbody>\n",
       "</table>\n",
       "</div>"
      ],
      "text/plain": [
       "   Sheila          Dave           Pat\n",
       "0  Dennys  Waffle house  Waffle house\n",
       "1  Dennys        Panera  Waffle house\n",
       "2  Panera  Waffle house        Panera"
      ]
     },
     "execution_count": 12,
     "metadata": {},
     "output_type": "execute_result"
    }
   ],
   "source": [
    "# this works on data frames too\n",
    "e[:3]"
   ]
  },
  {
   "cell_type": "code",
   "execution_count": 13,
   "metadata": {},
   "outputs": [
    {
     "data": {
      "text/html": [
       "<div>\n",
       "<style scoped>\n",
       "    .dataframe tbody tr th:only-of-type {\n",
       "        vertical-align: middle;\n",
       "    }\n",
       "\n",
       "    .dataframe tbody tr th {\n",
       "        vertical-align: top;\n",
       "    }\n",
       "\n",
       "    .dataframe thead th {\n",
       "        text-align: right;\n",
       "    }\n",
       "</style>\n",
       "<table border=\"1\" class=\"dataframe\">\n",
       "  <thead>\n",
       "    <tr style=\"text-align: right;\">\n",
       "      <th></th>\n",
       "      <th>Sheila</th>\n",
       "      <th>Dave</th>\n",
       "      <th>Pat</th>\n",
       "    </tr>\n",
       "  </thead>\n",
       "  <tbody>\n",
       "    <tr>\n",
       "      <th>0</th>\n",
       "      <td>Dennys</td>\n",
       "      <td>Waffle house</td>\n",
       "      <td>Waffle house</td>\n",
       "    </tr>\n",
       "    <tr>\n",
       "      <th>5</th>\n",
       "      <td>Dennys</td>\n",
       "      <td>Waffle house</td>\n",
       "      <td>Waffle house</td>\n",
       "    </tr>\n",
       "    <tr>\n",
       "      <th>10</th>\n",
       "      <td>Waffle house</td>\n",
       "      <td>Dennys</td>\n",
       "      <td>Dennys</td>\n",
       "    </tr>\n",
       "    <tr>\n",
       "      <th>15</th>\n",
       "      <td>Dennys</td>\n",
       "      <td>Panera</td>\n",
       "      <td>Waffle house</td>\n",
       "    </tr>\n",
       "    <tr>\n",
       "      <th>20</th>\n",
       "      <td>Dennys</td>\n",
       "      <td>Waffle house</td>\n",
       "      <td>Panera</td>\n",
       "    </tr>\n",
       "    <tr>\n",
       "      <th>25</th>\n",
       "      <td>Dennys</td>\n",
       "      <td>Waffle house</td>\n",
       "      <td>Panera</td>\n",
       "    </tr>\n",
       "  </tbody>\n",
       "</table>\n",
       "</div>"
      ],
      "text/plain": [
       "          Sheila          Dave           Pat\n",
       "0         Dennys  Waffle house  Waffle house\n",
       "5         Dennys  Waffle house  Waffle house\n",
       "10  Waffle house        Dennys        Dennys\n",
       "15        Dennys        Panera  Waffle house\n",
       "20        Dennys  Waffle house        Panera\n",
       "25        Dennys  Waffle house        Panera"
      ]
     },
     "execution_count": 13,
     "metadata": {},
     "output_type": "execute_result"
    }
   ],
   "source": [
    "e[::5]"
   ]
  },
  {
   "cell_type": "code",
   "execution_count": 14,
   "metadata": {},
   "outputs": [
    {
     "data": {
      "text/plain": [
       "0    Waffle house\n",
       "1          Panera\n",
       "2    Waffle house\n",
       "3    Waffle house\n",
       "4          Panera\n",
       "Name: Dave, dtype: object"
      ]
     },
     "execution_count": 14,
     "metadata": {},
     "output_type": "execute_result"
    }
   ],
   "source": [
    "# selection by label is the same\n",
    "e['Dave'][:5]"
   ]
  },
  {
   "cell_type": "code",
   "execution_count": 15,
   "metadata": {},
   "outputs": [],
   "source": [
    "# with dates it is a little different\n",
    "# ---- > d.loc[2:7] this will throw an error\n",
    "# TypeError: cannot do slice indexing on <class 'pandas.core.indexes.datetimes.DatetimeIndex'> \n",
    "# with these indexers [2] of <class 'int'>"
   ]
  },
  {
   "cell_type": "code",
   "execution_count": 16,
   "metadata": {},
   "outputs": [
    {
     "data": {
      "text/html": [
       "<div>\n",
       "<style scoped>\n",
       "    .dataframe tbody tr th:only-of-type {\n",
       "        vertical-align: middle;\n",
       "    }\n",
       "\n",
       "    .dataframe tbody tr th {\n",
       "        vertical-align: top;\n",
       "    }\n",
       "\n",
       "    .dataframe thead th {\n",
       "        text-align: right;\n",
       "    }\n",
       "</style>\n",
       "<table border=\"1\" class=\"dataframe\">\n",
       "  <thead>\n",
       "    <tr style=\"text-align: right;\">\n",
       "      <th></th>\n",
       "      <th>Waffle house</th>\n",
       "      <th>Dennys</th>\n",
       "      <th>Panera</th>\n",
       "    </tr>\n",
       "  </thead>\n",
       "  <tbody>\n",
       "    <tr>\n",
       "      <th>2017-04-10</th>\n",
       "      <td>6.68</td>\n",
       "      <td>6.47</td>\n",
       "      <td>7.73</td>\n",
       "    </tr>\n",
       "    <tr>\n",
       "      <th>2017-04-11</th>\n",
       "      <td>4.36</td>\n",
       "      <td>7.92</td>\n",
       "      <td>8.93</td>\n",
       "    </tr>\n",
       "    <tr>\n",
       "      <th>2017-04-12</th>\n",
       "      <td>4.36</td>\n",
       "      <td>5.86</td>\n",
       "      <td>4.00</td>\n",
       "    </tr>\n",
       "    <tr>\n",
       "      <th>2017-04-13</th>\n",
       "      <td>4.52</td>\n",
       "      <td>4.55</td>\n",
       "      <td>5.14</td>\n",
       "    </tr>\n",
       "    <tr>\n",
       "      <th>2017-04-14</th>\n",
       "      <td>6.61</td>\n",
       "      <td>8.45</td>\n",
       "      <td>6.70</td>\n",
       "    </tr>\n",
       "  </tbody>\n",
       "</table>\n",
       "</div>"
      ],
      "text/plain": [
       "            Waffle house  Dennys  Panera\n",
       "2017-04-10          6.68    6.47    7.73\n",
       "2017-04-11          4.36    7.92    8.93\n",
       "2017-04-12          4.36    5.86    4.00\n",
       "2017-04-13          4.52    4.55    5.14\n",
       "2017-04-14          6.61    8.45    6.70"
      ]
     },
     "execution_count": 16,
     "metadata": {},
     "output_type": "execute_result"
    }
   ],
   "source": [
    "# you need to use the value or a convertible 'like'string\n",
    "d.loc['20170410': '20170414']\n",
    "# notice the endpoint is included..."
   ]
  },
  {
   "cell_type": "code",
   "execution_count": 17,
   "metadata": {},
   "outputs": [
    {
     "data": {
      "text/html": [
       "<div>\n",
       "<style scoped>\n",
       "    .dataframe tbody tr th:only-of-type {\n",
       "        vertical-align: middle;\n",
       "    }\n",
       "\n",
       "    .dataframe tbody tr th {\n",
       "        vertical-align: top;\n",
       "    }\n",
       "\n",
       "    .dataframe thead th {\n",
       "        text-align: right;\n",
       "    }\n",
       "</style>\n",
       "<table border=\"1\" class=\"dataframe\">\n",
       "  <thead>\n",
       "    <tr style=\"text-align: right;\">\n",
       "      <th></th>\n",
       "      <th>toast</th>\n",
       "      <th>jelly</th>\n",
       "      <th>butter</th>\n",
       "      <th>wheat</th>\n",
       "      <th>white</th>\n",
       "    </tr>\n",
       "  </thead>\n",
       "  <tbody>\n",
       "  </tbody>\n",
       "</table>\n",
       "</div>"
      ],
      "text/plain": [
       "Empty DataFrame\n",
       "Columns: [toast, jelly, butter, wheat, white]\n",
       "Index: []"
      ]
     },
     "execution_count": 17,
     "metadata": {},
     "output_type": "execute_result"
    }
   ],
   "source": [
    "# here we can slice with labels\n",
    "b.loc['b':'d']\n",
    "# returns empy"
   ]
  },
  {
   "cell_type": "code",
   "execution_count": 18,
   "metadata": {},
   "outputs": [
    {
     "data": {
      "text/plain": [
       "array(['f', 'g', 'h', 'i', 'j'], dtype=object)"
      ]
     },
     "execution_count": 18,
     "metadata": {},
     "output_type": "execute_result"
    }
   ],
   "source": [
    "# whats in the index then\n",
    "b.index.values"
   ]
  },
  {
   "cell_type": "code",
   "execution_count": 19,
   "metadata": {},
   "outputs": [
    {
     "data": {
      "text/plain": [
       "'i'"
      ]
     },
     "execution_count": 19,
     "metadata": {},
     "output_type": "execute_result"
    }
   ],
   "source": [
    "# so do this:\n",
    "b_index = b.index.values\n",
    "b_index[3]"
   ]
  },
  {
   "cell_type": "code",
   "execution_count": 20,
   "metadata": {},
   "outputs": [
    {
     "data": {
      "text/html": [
       "<div>\n",
       "<style scoped>\n",
       "    .dataframe tbody tr th:only-of-type {\n",
       "        vertical-align: middle;\n",
       "    }\n",
       "\n",
       "    .dataframe tbody tr th {\n",
       "        vertical-align: top;\n",
       "    }\n",
       "\n",
       "    .dataframe thead th {\n",
       "        text-align: right;\n",
       "    }\n",
       "</style>\n",
       "<table border=\"1\" class=\"dataframe\">\n",
       "  <thead>\n",
       "    <tr style=\"text-align: right;\">\n",
       "      <th></th>\n",
       "      <th>toast</th>\n",
       "      <th>jelly</th>\n",
       "      <th>butter</th>\n",
       "      <th>wheat</th>\n",
       "      <th>white</th>\n",
       "    </tr>\n",
       "  </thead>\n",
       "  <tbody>\n",
       "    <tr>\n",
       "      <th>h</th>\n",
       "      <td>2</td>\n",
       "      <td>3</td>\n",
       "      <td>2</td>\n",
       "      <td>0</td>\n",
       "      <td>3</td>\n",
       "    </tr>\n",
       "    <tr>\n",
       "      <th>i</th>\n",
       "      <td>2</td>\n",
       "      <td>0</td>\n",
       "      <td>0</td>\n",
       "      <td>1</td>\n",
       "      <td>3</td>\n",
       "    </tr>\n",
       "  </tbody>\n",
       "</table>\n",
       "</div>"
      ],
      "text/plain": [
       "   toast  jelly  butter  wheat  white\n",
       "h      2      3       2      0      3\n",
       "i      2      0       0      1      3"
      ]
     },
     "execution_count": 20,
     "metadata": {},
     "output_type": "execute_result"
    }
   ],
   "source": [
    "# use the list and pass your index range as a slice value\n",
    "b.loc[b_index[2:4]]"
   ]
  },
  {
   "cell_type": "code",
   "execution_count": 21,
   "metadata": {},
   "outputs": [],
   "source": [
    "# these will come in handy\n",
    "# yes we could have used the list to create the df\n",
    "# but what if you don't have that list?\n",
    "a_index = a.index.values\n",
    "c_index = c.index.values\n"
   ]
  },
  {
   "cell_type": "code",
   "execution_count": 22,
   "metadata": {},
   "outputs": [
    {
     "data": {
      "text/html": [
       "<div>\n",
       "<style scoped>\n",
       "    .dataframe tbody tr th:only-of-type {\n",
       "        vertical-align: middle;\n",
       "    }\n",
       "\n",
       "    .dataframe tbody tr th {\n",
       "        vertical-align: top;\n",
       "    }\n",
       "\n",
       "    .dataframe thead th {\n",
       "        text-align: right;\n",
       "    }\n",
       "</style>\n",
       "<table border=\"1\" class=\"dataframe\">\n",
       "  <thead>\n",
       "    <tr style=\"text-align: right;\">\n",
       "      <th></th>\n",
       "      <th>pancakes</th>\n",
       "      <th>waffles</th>\n",
       "      <th>crepes</th>\n",
       "    </tr>\n",
       "  </thead>\n",
       "  <tbody>\n",
       "    <tr>\n",
       "      <th>k</th>\n",
       "      <td>2</td>\n",
       "      <td>2</td>\n",
       "      <td>2</td>\n",
       "    </tr>\n",
       "    <tr>\n",
       "      <th>l</th>\n",
       "      <td>3</td>\n",
       "      <td>1</td>\n",
       "      <td>0</td>\n",
       "    </tr>\n",
       "    <tr>\n",
       "      <th>m</th>\n",
       "      <td>1</td>\n",
       "      <td>1</td>\n",
       "      <td>2</td>\n",
       "    </tr>\n",
       "  </tbody>\n",
       "</table>\n",
       "</div>"
      ],
      "text/plain": [
       "   pancakes  waffles  crepes\n",
       "k         2        2       2\n",
       "l         3        1       0\n",
       "m         1        1       2"
      ]
     },
     "execution_count": 22,
     "metadata": {},
     "output_type": "execute_result"
    }
   ],
   "source": [
    "# so labels can be used just like integers(almost)\n",
    "c.loc['k':]"
   ]
  },
  {
   "cell_type": "code",
   "execution_count": 23,
   "metadata": {},
   "outputs": [
    {
     "data": {
      "text/html": [
       "<div>\n",
       "<style scoped>\n",
       "    .dataframe tbody tr th:only-of-type {\n",
       "        vertical-align: middle;\n",
       "    }\n",
       "\n",
       "    .dataframe tbody tr th {\n",
       "        vertical-align: top;\n",
       "    }\n",
       "\n",
       "    .dataframe thead th {\n",
       "        text-align: right;\n",
       "    }\n",
       "</style>\n",
       "<table border=\"1\" class=\"dataframe\">\n",
       "  <thead>\n",
       "    <tr style=\"text-align: right;\">\n",
       "      <th></th>\n",
       "      <th>pancakes</th>\n",
       "      <th>waffles</th>\n",
       "      <th>crepes</th>\n",
       "    </tr>\n",
       "  </thead>\n",
       "  <tbody>\n",
       "    <tr>\n",
       "      <th>k</th>\n",
       "      <td>2</td>\n",
       "      <td>2</td>\n",
       "      <td>2</td>\n",
       "    </tr>\n",
       "    <tr>\n",
       "      <th>l</th>\n",
       "      <td>3</td>\n",
       "      <td>1</td>\n",
       "      <td>0</td>\n",
       "    </tr>\n",
       "    <tr>\n",
       "      <th>m</th>\n",
       "      <td>1</td>\n",
       "      <td>1</td>\n",
       "      <td>2</td>\n",
       "    </tr>\n",
       "  </tbody>\n",
       "</table>\n",
       "</div>"
      ],
      "text/plain": [
       "   pancakes  waffles  crepes\n",
       "k         2        2       2\n",
       "l         3        1       0\n",
       "m         1        1       2"
      ]
     },
     "execution_count": 23,
     "metadata": {},
     "output_type": "execute_result"
    }
   ],
   "source": [
    "#or\n",
    "c.loc[:'m']"
   ]
  },
  {
   "cell_type": "code",
   "execution_count": 24,
   "metadata": {},
   "outputs": [
    {
     "data": {
      "text/html": [
       "<div>\n",
       "<style scoped>\n",
       "    .dataframe tbody tr th:only-of-type {\n",
       "        vertical-align: middle;\n",
       "    }\n",
       "\n",
       "    .dataframe tbody tr th {\n",
       "        vertical-align: top;\n",
       "    }\n",
       "\n",
       "    .dataframe thead th {\n",
       "        text-align: right;\n",
       "    }\n",
       "</style>\n",
       "<table border=\"1\" class=\"dataframe\">\n",
       "  <thead>\n",
       "    <tr style=\"text-align: right;\">\n",
       "      <th></th>\n",
       "      <th>ham</th>\n",
       "      <th>spam</th>\n",
       "      <th>hash</th>\n",
       "    </tr>\n",
       "  </thead>\n",
       "  <tbody>\n",
       "    <tr>\n",
       "      <th>b</th>\n",
       "      <td>4</td>\n",
       "      <td>4</td>\n",
       "      <td>3</td>\n",
       "    </tr>\n",
       "    <tr>\n",
       "      <th>c</th>\n",
       "      <td>4</td>\n",
       "      <td>0</td>\n",
       "      <td>2</td>\n",
       "    </tr>\n",
       "    <tr>\n",
       "      <th>d</th>\n",
       "      <td>0</td>\n",
       "      <td>3</td>\n",
       "      <td>5</td>\n",
       "    </tr>\n",
       "    <tr>\n",
       "      <th>e</th>\n",
       "      <td>5</td>\n",
       "      <td>2</td>\n",
       "      <td>2</td>\n",
       "    </tr>\n",
       "  </tbody>\n",
       "</table>\n",
       "</div>"
      ],
      "text/plain": [
       "   ham  spam  hash\n",
       "b    4     4     3\n",
       "c    4     0     2\n",
       "d    0     3     5\n",
       "e    5     2     2"
      ]
     },
     "execution_count": 24,
     "metadata": {},
     "output_type": "execute_result"
    }
   ],
   "source": [
    "# grab a mix of rows:\n",
    "a.loc['b':, 'ham':'hash']"
   ]
  },
  {
   "cell_type": "code",
   "execution_count": 25,
   "metadata": {},
   "outputs": [
    {
     "data": {
      "text/html": [
       "<div>\n",
       "<style scoped>\n",
       "    .dataframe tbody tr th:only-of-type {\n",
       "        vertical-align: middle;\n",
       "    }\n",
       "\n",
       "    .dataframe tbody tr th {\n",
       "        vertical-align: top;\n",
       "    }\n",
       "\n",
       "    .dataframe thead th {\n",
       "        text-align: right;\n",
       "    }\n",
       "</style>\n",
       "<table border=\"1\" class=\"dataframe\">\n",
       "  <thead>\n",
       "    <tr style=\"text-align: right;\">\n",
       "      <th></th>\n",
       "      <th>ham</th>\n",
       "      <th>spam</th>\n",
       "    </tr>\n",
       "  </thead>\n",
       "  <tbody>\n",
       "    <tr>\n",
       "      <th>c</th>\n",
       "      <td>4</td>\n",
       "      <td>0</td>\n",
       "    </tr>\n",
       "    <tr>\n",
       "      <th>d</th>\n",
       "      <td>0</td>\n",
       "      <td>3</td>\n",
       "    </tr>\n",
       "    <tr>\n",
       "      <th>e</th>\n",
       "      <td>5</td>\n",
       "      <td>2</td>\n",
       "    </tr>\n",
       "  </tbody>\n",
       "</table>\n",
       "</div>"
      ],
      "text/plain": [
       "   ham  spam\n",
       "c    4     0\n",
       "d    0     3\n",
       "e    5     2"
      ]
     },
     "execution_count": 25,
     "metadata": {},
     "output_type": "execute_result"
    }
   ],
   "source": [
    "# or \n",
    "a.loc['c':'e', 'ham':'spam']"
   ]
  },
  {
   "cell_type": "code",
   "execution_count": 26,
   "metadata": {},
   "outputs": [
    {
     "data": {
      "text/plain": [
       "bacon    5\n",
       "eggs     0\n",
       "ham      0\n",
       "spam     3\n",
       "hash     5\n",
       "Name: d, dtype: int64"
      ]
     },
     "execution_count": 26,
     "metadata": {},
     "output_type": "execute_result"
    }
   ],
   "source": [
    "# cross section of one row\n",
    "a.loc['d']"
   ]
  },
  {
   "cell_type": "code",
   "execution_count": 27,
   "metadata": {},
   "outputs": [
    {
     "data": {
      "text/plain": [
       "6.61"
      ]
     },
     "execution_count": 27,
     "metadata": {},
     "output_type": "execute_result"
    }
   ],
   "source": [
    "# get a specific value:\n",
    "# for example how much was spent at 'Waffle house' on April 13\n",
    "d.loc['20170414', 'Waffle house']"
   ]
  },
  {
   "cell_type": "code",
   "execution_count": 28,
   "metadata": {},
   "outputs": [
    {
     "data": {
      "text/plain": [
       "6.61"
      ]
     },
     "execution_count": 28,
     "metadata": {},
     "output_type": "execute_result"
    }
   ],
   "source": [
    "# if you know the index number\n",
    "d.iloc[13]['Waffle house']"
   ]
  },
  {
   "cell_type": "code",
   "execution_count": 29,
   "metadata": {},
   "outputs": [
    {
     "data": {
      "text/plain": [
       "Waffle house    6.61\n",
       "Dennys          8.45\n",
       "Panera          6.70\n",
       "Name: 2017-04-14 00:00:00, dtype: float64"
      ]
     },
     "execution_count": 29,
     "metadata": {},
     "output_type": "execute_result"
    }
   ],
   "source": [
    "d.loc['20170414']"
   ]
  },
  {
   "cell_type": "code",
   "execution_count": 30,
   "metadata": {},
   "outputs": [
    {
     "data": {
      "text/html": [
       "<div>\n",
       "<style scoped>\n",
       "    .dataframe tbody tr th:only-of-type {\n",
       "        vertical-align: middle;\n",
       "    }\n",
       "\n",
       "    .dataframe tbody tr th {\n",
       "        vertical-align: top;\n",
       "    }\n",
       "\n",
       "    .dataframe thead th {\n",
       "        text-align: right;\n",
       "    }\n",
       "</style>\n",
       "<table border=\"1\" class=\"dataframe\">\n",
       "  <thead>\n",
       "    <tr style=\"text-align: right;\">\n",
       "      <th></th>\n",
       "      <th>Sheila</th>\n",
       "      <th>Dave</th>\n",
       "      <th>Pat</th>\n",
       "    </tr>\n",
       "  </thead>\n",
       "  <tbody>\n",
       "    <tr>\n",
       "      <th>0</th>\n",
       "      <td>Dennys</td>\n",
       "      <td>Waffle house</td>\n",
       "      <td>Waffle house</td>\n",
       "    </tr>\n",
       "    <tr>\n",
       "      <th>1</th>\n",
       "      <td>Dennys</td>\n",
       "      <td>Panera</td>\n",
       "      <td>Waffle house</td>\n",
       "    </tr>\n",
       "    <tr>\n",
       "      <th>2</th>\n",
       "      <td>Panera</td>\n",
       "      <td>Waffle house</td>\n",
       "      <td>Panera</td>\n",
       "    </tr>\n",
       "    <tr>\n",
       "      <th>3</th>\n",
       "      <td>Panera</td>\n",
       "      <td>Waffle house</td>\n",
       "      <td>Waffle house</td>\n",
       "    </tr>\n",
       "    <tr>\n",
       "      <th>4</th>\n",
       "      <td>Waffle house</td>\n",
       "      <td>Panera</td>\n",
       "      <td>Panera</td>\n",
       "    </tr>\n",
       "  </tbody>\n",
       "</table>\n",
       "</div>"
      ],
      "text/plain": [
       "         Sheila          Dave           Pat\n",
       "0        Dennys  Waffle house  Waffle house\n",
       "1        Dennys        Panera  Waffle house\n",
       "2        Panera  Waffle house        Panera\n",
       "3        Panera  Waffle house  Waffle house\n",
       "4  Waffle house        Panera        Panera"
      ]
     },
     "execution_count": 30,
     "metadata": {},
     "output_type": "execute_result"
    }
   ],
   "source": [
    "# return to iloc\n",
    "e.iloc[:5]\n",
    "# iloc is like numpy or python.... the upper bound is excluded"
   ]
  },
  {
   "cell_type": "code",
   "execution_count": 31,
   "metadata": {},
   "outputs": [
    {
     "data": {
      "text/html": [
       "<div>\n",
       "<style scoped>\n",
       "    .dataframe tbody tr th:only-of-type {\n",
       "        vertical-align: middle;\n",
       "    }\n",
       "\n",
       "    .dataframe tbody tr th {\n",
       "        vertical-align: top;\n",
       "    }\n",
       "\n",
       "    .dataframe thead th {\n",
       "        text-align: right;\n",
       "    }\n",
       "</style>\n",
       "<table border=\"1\" class=\"dataframe\">\n",
       "  <thead>\n",
       "    <tr style=\"text-align: right;\">\n",
       "      <th></th>\n",
       "      <th>Dennys</th>\n",
       "      <th>Panera</th>\n",
       "    </tr>\n",
       "  </thead>\n",
       "  <tbody>\n",
       "    <tr>\n",
       "      <th>2017-04-12</th>\n",
       "      <td>5.86</td>\n",
       "      <td>4.00</td>\n",
       "    </tr>\n",
       "    <tr>\n",
       "      <th>2017-04-13</th>\n",
       "      <td>4.55</td>\n",
       "      <td>5.14</td>\n",
       "    </tr>\n",
       "    <tr>\n",
       "      <th>2017-04-14</th>\n",
       "      <td>8.45</td>\n",
       "      <td>6.70</td>\n",
       "    </tr>\n",
       "    <tr>\n",
       "      <th>2017-04-15</th>\n",
       "      <td>4.35</td>\n",
       "      <td>5.16</td>\n",
       "    </tr>\n",
       "    <tr>\n",
       "      <th>2017-04-16</th>\n",
       "      <td>8.30</td>\n",
       "      <td>4.56</td>\n",
       "    </tr>\n",
       "    <tr>\n",
       "      <th>2017-04-17</th>\n",
       "      <td>5.77</td>\n",
       "      <td>9.37</td>\n",
       "    </tr>\n",
       "    <tr>\n",
       "      <th>2017-04-18</th>\n",
       "      <td>9.34</td>\n",
       "      <td>4.39</td>\n",
       "    </tr>\n",
       "    <tr>\n",
       "      <th>2017-04-19</th>\n",
       "      <td>4.07</td>\n",
       "      <td>5.59</td>\n",
       "    </tr>\n",
       "  </tbody>\n",
       "</table>\n",
       "</div>"
      ],
      "text/plain": [
       "            Dennys  Panera\n",
       "2017-04-12    5.86    4.00\n",
       "2017-04-13    4.55    5.14\n",
       "2017-04-14    8.45    6.70\n",
       "2017-04-15    4.35    5.16\n",
       "2017-04-16    8.30    4.56\n",
       "2017-04-17    5.77    9.37\n",
       "2017-04-18    9.34    4.39\n",
       "2017-04-19    4.07    5.59"
      ]
     },
     "execution_count": 31,
     "metadata": {},
     "output_type": "execute_result"
    }
   ],
   "source": [
    "# get rows 11-18 for Dennys and panera\n",
    "d.iloc[11:19, 1:]"
   ]
  },
  {
   "cell_type": "code",
   "execution_count": 32,
   "metadata": {},
   "outputs": [],
   "source": [
    "# this will not work ---> d.iloc[11:19, resto[1:]]\n",
    "# canont put a string indexer with iloc\n",
    "# TypeError: cannot perform reduce with flexible type"
   ]
  },
  {
   "cell_type": "markdown",
   "metadata": {},
   "source": [
    "#### Selection by callable"
   ]
  },
  {
   "cell_type": "code",
   "execution_count": 33,
   "metadata": {},
   "outputs": [
    {
     "data": {
      "text/html": [
       "<div>\n",
       "<style scoped>\n",
       "    .dataframe tbody tr th:only-of-type {\n",
       "        vertical-align: middle;\n",
       "    }\n",
       "\n",
       "    .dataframe tbody tr th {\n",
       "        vertical-align: top;\n",
       "    }\n",
       "\n",
       "    .dataframe thead th {\n",
       "        text-align: right;\n",
       "    }\n",
       "</style>\n",
       "<table border=\"1\" class=\"dataframe\">\n",
       "  <thead>\n",
       "    <tr style=\"text-align: right;\">\n",
       "      <th></th>\n",
       "      <th>Dennys</th>\n",
       "      <th>Panera</th>\n",
       "    </tr>\n",
       "  </thead>\n",
       "  <tbody>\n",
       "    <tr>\n",
       "      <th>2017-04-14</th>\n",
       "      <td>8.45</td>\n",
       "      <td>6.70</td>\n",
       "    </tr>\n",
       "    <tr>\n",
       "      <th>2017-04-15</th>\n",
       "      <td>4.35</td>\n",
       "      <td>5.16</td>\n",
       "    </tr>\n",
       "    <tr>\n",
       "      <th>2017-04-16</th>\n",
       "      <td>8.30</td>\n",
       "      <td>4.56</td>\n",
       "    </tr>\n",
       "    <tr>\n",
       "      <th>2017-04-17</th>\n",
       "      <td>5.77</td>\n",
       "      <td>9.37</td>\n",
       "    </tr>\n",
       "    <tr>\n",
       "      <th>2017-04-18</th>\n",
       "      <td>9.34</td>\n",
       "      <td>4.39</td>\n",
       "    </tr>\n",
       "    <tr>\n",
       "      <th>2017-04-19</th>\n",
       "      <td>4.07</td>\n",
       "      <td>5.59</td>\n",
       "    </tr>\n",
       "    <tr>\n",
       "      <th>2017-04-20</th>\n",
       "      <td>6.60</td>\n",
       "      <td>5.88</td>\n",
       "    </tr>\n",
       "  </tbody>\n",
       "</table>\n",
       "</div>"
      ],
      "text/plain": [
       "            Dennys  Panera\n",
       "2017-04-14    8.45    6.70\n",
       "2017-04-15    4.35    5.16\n",
       "2017-04-16    8.30    4.56\n",
       "2017-04-17    5.77    9.37\n",
       "2017-04-18    9.34    4.39\n",
       "2017-04-19    4.07    5.59\n",
       "2017-04-20    6.60    5.88"
      ]
     },
     "execution_count": 33,
     "metadata": {},
     "output_type": "execute_result"
    }
   ],
   "source": [
    "d.iloc[13:20, lambda q: [1,2]]"
   ]
  },
  {
   "cell_type": "code",
   "execution_count": 34,
   "metadata": {},
   "outputs": [
    {
     "data": {
      "text/html": [
       "<div>\n",
       "<style scoped>\n",
       "    .dataframe tbody tr th:only-of-type {\n",
       "        vertical-align: middle;\n",
       "    }\n",
       "\n",
       "    .dataframe tbody tr th {\n",
       "        vertical-align: top;\n",
       "    }\n",
       "\n",
       "    .dataframe thead th {\n",
       "        text-align: right;\n",
       "    }\n",
       "</style>\n",
       "<table border=\"1\" class=\"dataframe\">\n",
       "  <thead>\n",
       "    <tr style=\"text-align: right;\">\n",
       "      <th></th>\n",
       "      <th>Panera</th>\n",
       "    </tr>\n",
       "  </thead>\n",
       "  <tbody>\n",
       "    <tr>\n",
       "      <th>2017-04-07</th>\n",
       "      <td>4.79</td>\n",
       "    </tr>\n",
       "    <tr>\n",
       "      <th>2017-04-08</th>\n",
       "      <td>7.73</td>\n",
       "    </tr>\n",
       "    <tr>\n",
       "      <th>2017-04-09</th>\n",
       "      <td>5.23</td>\n",
       "    </tr>\n",
       "    <tr>\n",
       "      <th>2017-04-10</th>\n",
       "      <td>7.73</td>\n",
       "    </tr>\n",
       "    <tr>\n",
       "      <th>2017-04-11</th>\n",
       "      <td>8.93</td>\n",
       "    </tr>\n",
       "    <tr>\n",
       "      <th>2017-04-12</th>\n",
       "      <td>4.00</td>\n",
       "    </tr>\n",
       "    <tr>\n",
       "      <th>2017-04-13</th>\n",
       "      <td>5.14</td>\n",
       "    </tr>\n",
       "  </tbody>\n",
       "</table>\n",
       "</div>"
      ],
      "text/plain": [
       "            Panera\n",
       "2017-04-07    4.79\n",
       "2017-04-08    7.73\n",
       "2017-04-09    5.23\n",
       "2017-04-10    7.73\n",
       "2017-04-11    8.93\n",
       "2017-04-12    4.00\n",
       "2017-04-13    5.14"
      ]
     },
     "execution_count": 34,
     "metadata": {},
     "output_type": "execute_result"
    }
   ],
   "source": [
    "d.loc['20170407':'20170413', lambda q: [resto[2]]]"
   ]
  },
  {
   "cell_type": "code",
   "execution_count": 35,
   "metadata": {},
   "outputs": [
    {
     "name": "stdout",
     "output_type": "stream",
     "text": [
      "Waffle house    5.02\n",
      "Dennys          6.60\n",
      "Panera          5.88\n",
      "Name: 2017-04-20 00:00:00, dtype: float64\n",
      "Waffle house\n"
     ]
    }
   ],
   "source": [
    "# how much did sheila pay for breakfast on april 20th and where did she eat?\n",
    "# so where everybody ate is given as a df in ascendo-ng order with no dates\n",
    "# what was paid and what restauraunt is given by date\n",
    "\n",
    "# we know this\n",
    "cost = d.loc['20170420']\n",
    "where = e.iloc[19, 0]\n",
    "print(cost)\n",
    "print(where)"
   ]
  },
  {
   "cell_type": "code",
   "execution_count": 36,
   "metadata": {},
   "outputs": [
    {
     "data": {
      "text/plain": [
       "5.02"
      ]
     },
     "execution_count": 36,
     "metadata": {},
     "output_type": "execute_result"
    }
   ],
   "source": [
    "# so combined that would be\n",
    "d.loc['20170420', e.iloc[19,0]]"
   ]
  },
  {
   "cell_type": "code",
   "execution_count": 37,
   "metadata": {},
   "outputs": [],
   "source": [
    "rest = dict(zip(d.columns, np.arange(3)))"
   ]
  },
  {
   "cell_type": "code",
   "execution_count": 38,
   "metadata": {},
   "outputs": [
    {
     "data": {
      "text/plain": [
       "{'Dennys': 1, 'Panera': 2, 'Waffle house': 0}"
      ]
     },
     "execution_count": 38,
     "metadata": {},
     "output_type": "execute_result"
    }
   ],
   "source": [
    "rest"
   ]
  },
  {
   "cell_type": "code",
   "execution_count": 39,
   "metadata": {},
   "outputs": [
    {
     "data": {
      "text/plain": [
       "[8.02, 6.86, 5.62, 4.41, 6.4]"
      ]
     },
     "execution_count": 39,
     "metadata": {},
     "output_type": "execute_result"
    }
   ],
   "source": [
    "def get_cost(x,y):\n",
    "    a = []\n",
    "    for i, n in enumerate(list(e[x])):\n",
    "        b = d.iloc[i, y[n]]\n",
    "        a.append(b)\n",
    "    return(a)\n",
    "cost_sheila = get_cost('Sheila', rest)\n",
    "cost_sheila[:5]\n"
   ]
  },
  {
   "cell_type": "code",
   "execution_count": 40,
   "metadata": {},
   "outputs": [
    {
     "data": {
      "text/plain": [
       "(RangeIndex(start=0, stop=30, step=1),\n",
       " DatetimeIndex(['2017-04-01', '2017-04-02', '2017-04-03', '2017-04-04',\n",
       "                '2017-04-05', '2017-04-06', '2017-04-07', '2017-04-08',\n",
       "                '2017-04-09', '2017-04-10', '2017-04-11', '2017-04-12',\n",
       "                '2017-04-13', '2017-04-14', '2017-04-15', '2017-04-16',\n",
       "                '2017-04-17', '2017-04-18', '2017-04-19', '2017-04-20',\n",
       "                '2017-04-21', '2017-04-22', '2017-04-23', '2017-04-24',\n",
       "                '2017-04-25', '2017-04-26', '2017-04-27', '2017-04-28',\n",
       "                '2017-04-29', '2017-04-30'],\n",
       "               dtype='datetime64[ns]', freq='D'))"
      ]
     },
     "execution_count": 40,
     "metadata": {},
     "output_type": "execute_result"
    }
   ],
   "source": [
    "# okay so we can get the the location and the price for sheila\n",
    "# but it is not in a df\n",
    "# join dfs and see what that gives\n",
    "e.index, d.index\n",
    "# normally the len should match, and the data in e is given chronologically\n",
    "# so we'ell check"
   ]
  },
  {
   "cell_type": "code",
   "execution_count": 41,
   "metadata": {},
   "outputs": [
    {
     "data": {
      "text/plain": [
       "(30, 30)"
      ]
     },
     "execution_count": 41,
     "metadata": {},
     "output_type": "execute_result"
    }
   ],
   "source": [
    "len(d.index), len(e.index)"
   ]
  },
  {
   "cell_type": "code",
   "execution_count": 42,
   "metadata": {},
   "outputs": [
    {
     "data": {
      "text/plain": [
       "DatetimeIndex(['2017-04-01', '2017-04-02', '2017-04-03', '2017-04-04',\n",
       "               '2017-04-05', '2017-04-06', '2017-04-07', '2017-04-08',\n",
       "               '2017-04-09', '2017-04-10', '2017-04-11', '2017-04-12',\n",
       "               '2017-04-13', '2017-04-14', '2017-04-15', '2017-04-16',\n",
       "               '2017-04-17', '2017-04-18', '2017-04-19', '2017-04-20',\n",
       "               '2017-04-21', '2017-04-22', '2017-04-23', '2017-04-24',\n",
       "               '2017-04-25', '2017-04-26', '2017-04-27', '2017-04-28',\n",
       "               '2017-04-29', '2017-04-30'],\n",
       "              dtype='datetime64[ns]', freq='D')"
      ]
     },
     "execution_count": 42,
     "metadata": {},
     "output_type": "execute_result"
    }
   ],
   "source": [
    "e_i = d.index\n",
    "e_i"
   ]
  },
  {
   "cell_type": "code",
   "execution_count": 43,
   "metadata": {},
   "outputs": [
    {
     "data": {
      "text/html": [
       "<div>\n",
       "<style scoped>\n",
       "    .dataframe tbody tr th:only-of-type {\n",
       "        vertical-align: middle;\n",
       "    }\n",
       "\n",
       "    .dataframe tbody tr th {\n",
       "        vertical-align: top;\n",
       "    }\n",
       "\n",
       "    .dataframe thead th {\n",
       "        text-align: right;\n",
       "    }\n",
       "</style>\n",
       "<table border=\"1\" class=\"dataframe\">\n",
       "  <thead>\n",
       "    <tr style=\"text-align: right;\">\n",
       "      <th></th>\n",
       "      <th>Sheila</th>\n",
       "      <th>Dave</th>\n",
       "      <th>Pat</th>\n",
       "    </tr>\n",
       "  </thead>\n",
       "  <tbody>\n",
       "    <tr>\n",
       "      <th>2017-04-01</th>\n",
       "      <td>Dennys</td>\n",
       "      <td>Waffle house</td>\n",
       "      <td>Waffle house</td>\n",
       "    </tr>\n",
       "    <tr>\n",
       "      <th>2017-04-02</th>\n",
       "      <td>Dennys</td>\n",
       "      <td>Panera</td>\n",
       "      <td>Waffle house</td>\n",
       "    </tr>\n",
       "    <tr>\n",
       "      <th>2017-04-03</th>\n",
       "      <td>Panera</td>\n",
       "      <td>Waffle house</td>\n",
       "      <td>Panera</td>\n",
       "    </tr>\n",
       "    <tr>\n",
       "      <th>2017-04-04</th>\n",
       "      <td>Panera</td>\n",
       "      <td>Waffle house</td>\n",
       "      <td>Waffle house</td>\n",
       "    </tr>\n",
       "    <tr>\n",
       "      <th>2017-04-05</th>\n",
       "      <td>Waffle house</td>\n",
       "      <td>Panera</td>\n",
       "      <td>Panera</td>\n",
       "    </tr>\n",
       "  </tbody>\n",
       "</table>\n",
       "</div>"
      ],
      "text/plain": [
       "                  Sheila          Dave           Pat\n",
       "2017-04-01        Dennys  Waffle house  Waffle house\n",
       "2017-04-02        Dennys        Panera  Waffle house\n",
       "2017-04-03        Panera  Waffle house        Panera\n",
       "2017-04-04        Panera  Waffle house  Waffle house\n",
       "2017-04-05  Waffle house        Panera        Panera"
      ]
     },
     "execution_count": 43,
     "metadata": {},
     "output_type": "execute_result"
    }
   ],
   "source": [
    "e.set_index(e_i, inplace=True)\n",
    "e.iloc[:5]"
   ]
  },
  {
   "cell_type": "code",
   "execution_count": 44,
   "metadata": {},
   "outputs": [
    {
     "data": {
      "text/html": [
       "<div>\n",
       "<style scoped>\n",
       "    .dataframe tbody tr th:only-of-type {\n",
       "        vertical-align: middle;\n",
       "    }\n",
       "\n",
       "    .dataframe tbody tr th {\n",
       "        vertical-align: top;\n",
       "    }\n",
       "\n",
       "    .dataframe thead th {\n",
       "        text-align: right;\n",
       "    }\n",
       "</style>\n",
       "<table border=\"1\" class=\"dataframe\">\n",
       "  <thead>\n",
       "    <tr style=\"text-align: right;\">\n",
       "      <th></th>\n",
       "      <th>Waffle house</th>\n",
       "      <th>Dennys</th>\n",
       "      <th>Panera</th>\n",
       "      <th>Sheila</th>\n",
       "      <th>Dave</th>\n",
       "      <th>Pat</th>\n",
       "    </tr>\n",
       "  </thead>\n",
       "  <tbody>\n",
       "    <tr>\n",
       "      <th>2017-04-01</th>\n",
       "      <td>5.57</td>\n",
       "      <td>8.02</td>\n",
       "      <td>6.40</td>\n",
       "      <td>Dennys</td>\n",
       "      <td>Waffle house</td>\n",
       "      <td>Waffle house</td>\n",
       "    </tr>\n",
       "    <tr>\n",
       "      <th>2017-04-02</th>\n",
       "      <td>9.16</td>\n",
       "      <td>6.86</td>\n",
       "      <td>4.76</td>\n",
       "      <td>Dennys</td>\n",
       "      <td>Panera</td>\n",
       "      <td>Waffle house</td>\n",
       "    </tr>\n",
       "    <tr>\n",
       "      <th>2017-04-03</th>\n",
       "      <td>7.34</td>\n",
       "      <td>4.82</td>\n",
       "      <td>5.62</td>\n",
       "      <td>Panera</td>\n",
       "      <td>Waffle house</td>\n",
       "      <td>Panera</td>\n",
       "    </tr>\n",
       "    <tr>\n",
       "      <th>2017-04-04</th>\n",
       "      <td>8.51</td>\n",
       "      <td>5.95</td>\n",
       "      <td>4.41</td>\n",
       "      <td>Panera</td>\n",
       "      <td>Waffle house</td>\n",
       "      <td>Waffle house</td>\n",
       "    </tr>\n",
       "    <tr>\n",
       "      <th>2017-04-05</th>\n",
       "      <td>6.40</td>\n",
       "      <td>7.03</td>\n",
       "      <td>6.87</td>\n",
       "      <td>Waffle house</td>\n",
       "      <td>Panera</td>\n",
       "      <td>Panera</td>\n",
       "    </tr>\n",
       "  </tbody>\n",
       "</table>\n",
       "</div>"
      ],
      "text/plain": [
       "            Waffle house  Dennys  Panera        Sheila          Dave  \\\n",
       "2017-04-01          5.57    8.02    6.40        Dennys  Waffle house   \n",
       "2017-04-02          9.16    6.86    4.76        Dennys        Panera   \n",
       "2017-04-03          7.34    4.82    5.62        Panera  Waffle house   \n",
       "2017-04-04          8.51    5.95    4.41        Panera  Waffle house   \n",
       "2017-04-05          6.40    7.03    6.87  Waffle house        Panera   \n",
       "\n",
       "                     Pat  \n",
       "2017-04-01  Waffle house  \n",
       "2017-04-02  Waffle house  \n",
       "2017-04-03        Panera  \n",
       "2017-04-04  Waffle house  \n",
       "2017-04-05        Panera  "
      ]
     },
     "execution_count": 44,
     "metadata": {},
     "output_type": "execute_result"
    }
   ],
   "source": [
    "#okay so this should work\n",
    "d_e = pd.concat([d,e], axis=1)\n",
    "d_e.iloc[:5]"
   ]
  },
  {
   "cell_type": "code",
   "execution_count": 45,
   "metadata": {},
   "outputs": [],
   "source": [
    "# so now set a value for the cost of sheilas breakfast\n",
    "d_e['cost_sheila'] = cost_sheila"
   ]
  },
  {
   "cell_type": "code",
   "execution_count": 46,
   "metadata": {},
   "outputs": [],
   "source": [
    "#d_e.iloc[:10]"
   ]
  },
  {
   "cell_type": "code",
   "execution_count": 47,
   "metadata": {},
   "outputs": [],
   "source": [
    "# okay!\n",
    "# the function could ne abstracted a little more to incoroporate all the players\n",
    "# by taking a list of names and outputting directly to the df\n",
    "# becasue now the df is combined\n",
    "\n",
    "def get_cost(df_cost, x, y):\n",
    "    d ={}\n",
    "    # x is a list of names:\n",
    "    for i, n in enumerate(x):\n",
    "        a = []\n",
    "        b = list(df_cost[n])\n",
    "        name = n + '_cost'\n",
    "        #print(b)\n",
    "        for j, o in enumerate(b):\n",
    "            c = df_cost.iloc[j, y[o]]\n",
    "            a.append(c)\n",
    "        d.update({name:a})\n",
    "    for key, value in d.items():\n",
    "        \n",
    "        d_e[key] = value\n",
    "    return(d)\n",
    "try_this = get_cost(d_e, ['Sheila', 'Dave', 'Pat'], rest)"
   ]
  },
  {
   "cell_type": "code",
   "execution_count": 48,
   "metadata": {},
   "outputs": [
    {
     "data": {
      "text/html": [
       "<div>\n",
       "<style scoped>\n",
       "    .dataframe tbody tr th:only-of-type {\n",
       "        vertical-align: middle;\n",
       "    }\n",
       "\n",
       "    .dataframe tbody tr th {\n",
       "        vertical-align: top;\n",
       "    }\n",
       "\n",
       "    .dataframe thead th {\n",
       "        text-align: right;\n",
       "    }\n",
       "</style>\n",
       "<table border=\"1\" class=\"dataframe\">\n",
       "  <thead>\n",
       "    <tr style=\"text-align: right;\">\n",
       "      <th></th>\n",
       "      <th>Waffle house</th>\n",
       "      <th>Dennys</th>\n",
       "      <th>Panera</th>\n",
       "      <th>Sheila</th>\n",
       "      <th>Dave</th>\n",
       "      <th>Pat</th>\n",
       "      <th>cost_sheila</th>\n",
       "      <th>Sheila_cost</th>\n",
       "      <th>Dave_cost</th>\n",
       "      <th>Pat_cost</th>\n",
       "    </tr>\n",
       "  </thead>\n",
       "  <tbody>\n",
       "    <tr>\n",
       "      <th>2017-04-01</th>\n",
       "      <td>5.57</td>\n",
       "      <td>8.02</td>\n",
       "      <td>6.40</td>\n",
       "      <td>Dennys</td>\n",
       "      <td>Waffle house</td>\n",
       "      <td>Waffle house</td>\n",
       "      <td>8.02</td>\n",
       "      <td>8.02</td>\n",
       "      <td>5.57</td>\n",
       "      <td>5.57</td>\n",
       "    </tr>\n",
       "    <tr>\n",
       "      <th>2017-04-02</th>\n",
       "      <td>9.16</td>\n",
       "      <td>6.86</td>\n",
       "      <td>4.76</td>\n",
       "      <td>Dennys</td>\n",
       "      <td>Panera</td>\n",
       "      <td>Waffle house</td>\n",
       "      <td>6.86</td>\n",
       "      <td>6.86</td>\n",
       "      <td>4.76</td>\n",
       "      <td>9.16</td>\n",
       "    </tr>\n",
       "    <tr>\n",
       "      <th>2017-04-03</th>\n",
       "      <td>7.34</td>\n",
       "      <td>4.82</td>\n",
       "      <td>5.62</td>\n",
       "      <td>Panera</td>\n",
       "      <td>Waffle house</td>\n",
       "      <td>Panera</td>\n",
       "      <td>5.62</td>\n",
       "      <td>5.62</td>\n",
       "      <td>7.34</td>\n",
       "      <td>5.62</td>\n",
       "    </tr>\n",
       "    <tr>\n",
       "      <th>2017-04-04</th>\n",
       "      <td>8.51</td>\n",
       "      <td>5.95</td>\n",
       "      <td>4.41</td>\n",
       "      <td>Panera</td>\n",
       "      <td>Waffle house</td>\n",
       "      <td>Waffle house</td>\n",
       "      <td>4.41</td>\n",
       "      <td>4.41</td>\n",
       "      <td>8.51</td>\n",
       "      <td>8.51</td>\n",
       "    </tr>\n",
       "    <tr>\n",
       "      <th>2017-04-05</th>\n",
       "      <td>6.40</td>\n",
       "      <td>7.03</td>\n",
       "      <td>6.87</td>\n",
       "      <td>Waffle house</td>\n",
       "      <td>Panera</td>\n",
       "      <td>Panera</td>\n",
       "      <td>6.40</td>\n",
       "      <td>6.40</td>\n",
       "      <td>6.87</td>\n",
       "      <td>6.87</td>\n",
       "    </tr>\n",
       "  </tbody>\n",
       "</table>\n",
       "</div>"
      ],
      "text/plain": [
       "            Waffle house  Dennys  Panera        Sheila          Dave  \\\n",
       "2017-04-01          5.57    8.02    6.40        Dennys  Waffle house   \n",
       "2017-04-02          9.16    6.86    4.76        Dennys        Panera   \n",
       "2017-04-03          7.34    4.82    5.62        Panera  Waffle house   \n",
       "2017-04-04          8.51    5.95    4.41        Panera  Waffle house   \n",
       "2017-04-05          6.40    7.03    6.87  Waffle house        Panera   \n",
       "\n",
       "                     Pat  cost_sheila  Sheila_cost  Dave_cost  Pat_cost  \n",
       "2017-04-01  Waffle house         8.02         8.02       5.57      5.57  \n",
       "2017-04-02  Waffle house         6.86         6.86       4.76      9.16  \n",
       "2017-04-03        Panera         5.62         5.62       7.34      5.62  \n",
       "2017-04-04  Waffle house         4.41         4.41       8.51      8.51  \n",
       "2017-04-05        Panera         6.40         6.40       6.87      6.87  "
      ]
     },
     "execution_count": 48,
     "metadata": {},
     "output_type": "execute_result"
    }
   ],
   "source": [
    "d_e.iloc[:5]"
   ]
  },
  {
   "cell_type": "code",
   "execution_count": 49,
   "metadata": {},
   "outputs": [],
   "source": [
    "# clean that up real quick \n",
    "d_e.drop('cost_sheila', axis=1, inplace=True)"
   ]
  },
  {
   "cell_type": "code",
   "execution_count": 52,
   "metadata": {},
   "outputs": [
    {
     "data": {
      "text/plain": [
       "Pat_cost     6.18\n",
       "Dave_cost    4.58\n",
       "Name: 2017-04-21 00:00:00, dtype: object"
      ]
     },
     "execution_count": 52,
     "metadata": {},
     "output_type": "execute_result"
    }
   ],
   "source": [
    "# so now getting the cost for one person or all three on any day would look like this:\n",
    "d_e.loc['20170421', ['Pat_cost', 'Dave_cost']]"
   ]
  },
  {
   "cell_type": "code",
   "execution_count": 54,
   "metadata": {},
   "outputs": [
    {
     "data": {
      "text/html": [
       "<div>\n",
       "<style scoped>\n",
       "    .dataframe tbody tr th:only-of-type {\n",
       "        vertical-align: middle;\n",
       "    }\n",
       "\n",
       "    .dataframe tbody tr th {\n",
       "        vertical-align: top;\n",
       "    }\n",
       "\n",
       "    .dataframe thead th {\n",
       "        text-align: right;\n",
       "    }\n",
       "</style>\n",
       "<table border=\"1\" class=\"dataframe\">\n",
       "  <thead>\n",
       "    <tr style=\"text-align: right;\">\n",
       "      <th></th>\n",
       "      <th>Sheila</th>\n",
       "      <th>Sheila_cost</th>\n",
       "    </tr>\n",
       "  </thead>\n",
       "  <tbody>\n",
       "    <tr>\n",
       "      <th>2017-04-15</th>\n",
       "      <td>Waffle house</td>\n",
       "      <td>6.94</td>\n",
       "    </tr>\n",
       "    <tr>\n",
       "      <th>2017-04-16</th>\n",
       "      <td>Dennys</td>\n",
       "      <td>8.30</td>\n",
       "    </tr>\n",
       "    <tr>\n",
       "      <th>2017-04-17</th>\n",
       "      <td>Dennys</td>\n",
       "      <td>5.77</td>\n",
       "    </tr>\n",
       "    <tr>\n",
       "      <th>2017-04-18</th>\n",
       "      <td>Dennys</td>\n",
       "      <td>9.34</td>\n",
       "    </tr>\n",
       "    <tr>\n",
       "      <th>2017-04-19</th>\n",
       "      <td>Panera</td>\n",
       "      <td>5.59</td>\n",
       "    </tr>\n",
       "    <tr>\n",
       "      <th>2017-04-20</th>\n",
       "      <td>Waffle house</td>\n",
       "      <td>5.02</td>\n",
       "    </tr>\n",
       "    <tr>\n",
       "      <th>2017-04-21</th>\n",
       "      <td>Dennys</td>\n",
       "      <td>9.02</td>\n",
       "    </tr>\n",
       "    <tr>\n",
       "      <th>2017-04-22</th>\n",
       "      <td>Panera</td>\n",
       "      <td>9.10</td>\n",
       "    </tr>\n",
       "    <tr>\n",
       "      <th>2017-04-23</th>\n",
       "      <td>Waffle house</td>\n",
       "      <td>8.11</td>\n",
       "    </tr>\n",
       "  </tbody>\n",
       "</table>\n",
       "</div>"
      ],
      "text/plain": [
       "                  Sheila  Sheila_cost\n",
       "2017-04-15  Waffle house         6.94\n",
       "2017-04-16        Dennys         8.30\n",
       "2017-04-17        Dennys         5.77\n",
       "2017-04-18        Dennys         9.34\n",
       "2017-04-19        Panera         5.59\n",
       "2017-04-20  Waffle house         5.02\n",
       "2017-04-21        Dennys         9.02\n",
       "2017-04-22        Panera         9.10\n",
       "2017-04-23  Waffle house         8.11"
      ]
     },
     "execution_count": 54,
     "metadata": {},
     "output_type": "execute_result"
    }
   ],
   "source": [
    "# and if want to know when, where and how much:\n",
    "d_e.loc['20170415':'20170423', ['Sheila', 'Sheila_cost']]"
   ]
  },
  {
   "cell_type": "code",
   "execution_count": null,
   "metadata": {},
   "outputs": [],
   "source": [
    "# new note book time will continue with this one"
   ]
  }
 ],
 "metadata": {
  "kernelspec": {
   "display_name": "Python 3",
   "language": "python",
   "name": "python3"
  },
  "language_info": {
   "codemirror_mode": {
    "name": "ipython",
    "version": 3
   },
   "file_extension": ".py",
   "mimetype": "text/x-python",
   "name": "python",
   "nbconvert_exporter": "python",
   "pygments_lexer": "ipython3",
   "version": "3.6.4"
  }
 },
 "nbformat": 4,
 "nbformat_minor": 2
}
