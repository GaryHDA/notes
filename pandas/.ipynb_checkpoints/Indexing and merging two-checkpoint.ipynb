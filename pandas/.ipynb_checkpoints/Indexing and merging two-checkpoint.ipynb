{
 "cells": [
  {
   "cell_type": "markdown",
   "metadata": {},
   "source": [
    "### Indexing and merging two"
   ]
  },
  {
   "cell_type": "markdown",
   "metadata": {},
   "source": [
    "#### References\n",
    "1. Python for data analysis\n",
    "2. Think stats: exploratory data analysis\n",
    "3. https://pandas.pydata,org"
   ]
  },
  {
   "cell_type": "markdown",
   "metadata": {},
   "source": [
    "#### Purpose\n",
    "1. Work in the abstract (its good for the brain)\n",
    "2. Keep up to date with changes in the library\n",
    "3. Explore new ways of doing common tasks --- get better"
   ]
  },
  {
   "cell_type": "code",
   "execution_count": 1,
   "metadata": {},
   "outputs": [],
   "source": [
    "import pandas as pd\n",
    "import numpy as np\n"
   ]
  },
  {
   "cell_type": "code",
   "execution_count": 2,
   "metadata": {},
   "outputs": [],
   "source": [
    "# create some data frames\n",
    "index = ['a', 'b', 'c', 'd', 'e']\n",
    "index_2 = ['f', 'g', 'h', 'i', 'j']\n",
    "columns = ['bacon', 'eggs', 'ham', 'spam', 'hash']\n",
    "columns_2 = ['toast', 'jelly', 'butter', 'wheat', 'white']\n",
    "index_3 = ['k', 'l', 'm']\n",
    "columns_3 = ['pancakes', 'waffles', 'crepes']\n",
    "index_4 = pd.date_range('04/01/2017', periods=30, freq='D')\n",
    "columns_4 = ['Waffle house', 'Dennys', 'Panera']\n",
    "names = ['Sheila', 'Dave', 'Pat']\n",
    "resto = columns_4\n",
    "\n",
    "\n",
    "a = pd.DataFrame(np.random.randint(6, size=(5,5)), index=index, columns=columns)\n",
    "b = pd.DataFrame(np.random.randint(4, size=(5,5)), index=index_2, columns=columns_2)\n",
    "c = pd.DataFrame(np.random.randint(4, size=(3,3)), index=index_3, columns=columns_3)\n",
    "d = pd.DataFrame(6 * np.random.random_sample((30, 3)) + 3.99, dtype='float64', index=index_4, columns=columns_4)\n",
    "e = pd.DataFrame(np.random.choice(resto,(30,3)), columns = names)\n",
    "d[columns_4]=d[columns_4].round(2)"
   ]
  },
  {
   "cell_type": "code",
   "execution_count": 3,
   "metadata": {},
   "outputs": [
    {
     "name": "stdout",
     "output_type": "stream",
     "text": [
      "   bacon  eggs  ham  spam  hash\n",
      "a      2     4    1     4     0\n",
      "b      1     2    3     0     3\n",
      "c      3     5    4     3     2\n",
      "d      5     1    3     4     2\n",
      "e      4     3    5     4     4\n",
      "   toast  jelly  butter  wheat  white\n",
      "f      1      1       3      1      0\n",
      "g      0      1       2      2      2\n",
      "h      2      2       2      3      2\n",
      "i      3      2       1      0      2\n",
      "j      2      3       0      0      1\n",
      "   pancakes  waffles  crepes\n",
      "k         3        1       1\n",
      "l         1        1       0\n",
      "m         2        0       3\n",
      "            Waffle house  Dennys  Panera\n",
      "2017-04-01          4.67    6.81    7.65\n",
      "2017-04-02          6.09    5.85    6.08\n",
      "2017-04-03          8.29    9.73    8.98\n",
      "2017-04-04          5.25    5.75    7.94\n",
      "2017-04-05          5.23    8.49    9.39\n",
      "2017-04-06          9.09    6.92    8.94\n",
      "2017-04-07          8.43    4.78    4.59\n",
      "2017-04-08          8.42    7.48    5.46\n",
      "2017-04-09          6.65    6.38    6.47\n",
      "2017-04-10          6.72    4.69    4.94\n",
      "2017-04-11          6.37    6.96    7.32\n",
      "2017-04-12          5.63    6.48    8.47\n",
      "2017-04-13          7.36    5.19    9.41\n",
      "2017-04-14          7.99    5.67    5.15\n",
      "2017-04-15          6.33    8.77    8.61\n",
      "2017-04-16          7.51    5.65    4.23\n",
      "2017-04-17          7.64    4.51    6.04\n",
      "2017-04-18          5.23    9.53    6.11\n",
      "2017-04-19          7.61    4.17    7.28\n",
      "2017-04-20          6.15    6.07    4.66\n",
      "2017-04-21          6.72    6.32    6.38\n",
      "2017-04-22          9.46    8.64    5.22\n",
      "2017-04-23          9.58    8.29    5.57\n",
      "2017-04-24          7.28    5.60    5.57\n",
      "2017-04-25          4.95    6.01    7.52\n",
      "2017-04-26          6.30    5.69    6.70\n",
      "2017-04-27          8.65    7.48    7.83\n",
      "2017-04-28          5.82    7.98    6.58\n",
      "2017-04-29          8.19    6.93    8.91\n",
      "2017-04-30          7.58    6.72    6.38\n",
      "          Sheila          Dave           Pat\n",
      "0   Waffle house        Panera  Waffle house\n",
      "1   Waffle house  Waffle house        Dennys\n",
      "2         Panera  Waffle house  Waffle house\n",
      "3   Waffle house        Dennys        Panera\n",
      "4         Panera  Waffle house        Panera\n",
      "5         Dennys  Waffle house        Panera\n",
      "6         Panera        Dennys        Panera\n",
      "7         Panera        Panera  Waffle house\n",
      "8         Panera        Panera        Panera\n",
      "9         Panera        Dennys        Panera\n",
      "10        Panera        Dennys  Waffle house\n",
      "11        Panera        Panera        Dennys\n",
      "12        Panera        Dennys  Waffle house\n",
      "13  Waffle house        Panera        Dennys\n",
      "14        Panera        Panera        Dennys\n",
      "15        Dennys  Waffle house        Dennys\n",
      "16  Waffle house        Panera  Waffle house\n",
      "17        Dennys        Dennys  Waffle house\n",
      "18        Panera        Panera        Dennys\n",
      "19  Waffle house        Panera        Panera\n",
      "20  Waffle house  Waffle house        Panera\n",
      "21        Dennys  Waffle house        Dennys\n",
      "22  Waffle house        Dennys        Panera\n",
      "23  Waffle house        Panera  Waffle house\n",
      "24        Panera  Waffle house        Panera\n",
      "25        Panera  Waffle house        Dennys\n",
      "26  Waffle house  Waffle house        Dennys\n",
      "27        Panera  Waffle house        Dennys\n",
      "28        Dennys        Panera        Dennys\n",
      "29        Panera        Dennys        Panera\n"
     ]
    }
   ],
   "source": [
    "print(a)\n",
    "print(b)\n",
    "print(c)\n",
    "print(d)\n",
    "print(e)"
   ]
  },
  {
   "cell_type": "code",
   "execution_count": 4,
   "metadata": {},
   "outputs": [],
   "source": [
    "# switch the columns so that Dave = Pat and Pat = Sheila and Sheila = Dave\n",
    "e.loc[:, ['Pat', 'Sheila', 'Dave']] = e[names].values"
   ]
  },
  {
   "cell_type": "code",
   "execution_count": 5,
   "metadata": {},
   "outputs": [
    {
     "data": {
      "text/html": [
       "<div>\n",
       "<style scoped>\n",
       "    .dataframe tbody tr th:only-of-type {\n",
       "        vertical-align: middle;\n",
       "    }\n",
       "\n",
       "    .dataframe tbody tr th {\n",
       "        vertical-align: top;\n",
       "    }\n",
       "\n",
       "    .dataframe thead th {\n",
       "        text-align: right;\n",
       "    }\n",
       "</style>\n",
       "<table border=\"1\" class=\"dataframe\">\n",
       "  <thead>\n",
       "    <tr style=\"text-align: right;\">\n",
       "      <th></th>\n",
       "      <th>Sheila</th>\n",
       "      <th>Dave</th>\n",
       "      <th>Pat</th>\n",
       "    </tr>\n",
       "  </thead>\n",
       "  <tbody>\n",
       "    <tr>\n",
       "      <th>0</th>\n",
       "      <td>Panera</td>\n",
       "      <td>Waffle house</td>\n",
       "      <td>Waffle house</td>\n",
       "    </tr>\n",
       "    <tr>\n",
       "      <th>1</th>\n",
       "      <td>Waffle house</td>\n",
       "      <td>Dennys</td>\n",
       "      <td>Waffle house</td>\n",
       "    </tr>\n",
       "    <tr>\n",
       "      <th>2</th>\n",
       "      <td>Waffle house</td>\n",
       "      <td>Waffle house</td>\n",
       "      <td>Panera</td>\n",
       "    </tr>\n",
       "    <tr>\n",
       "      <th>3</th>\n",
       "      <td>Dennys</td>\n",
       "      <td>Panera</td>\n",
       "      <td>Waffle house</td>\n",
       "    </tr>\n",
       "  </tbody>\n",
       "</table>\n",
       "</div>"
      ],
      "text/plain": [
       "         Sheila          Dave           Pat\n",
       "0        Panera  Waffle house  Waffle house\n",
       "1  Waffle house        Dennys  Waffle house\n",
       "2  Waffle house  Waffle house        Panera\n",
       "3        Dennys        Panera  Waffle house"
      ]
     },
     "execution_count": 5,
     "metadata": {},
     "output_type": "execute_result"
    }
   ],
   "source": [
    "e.iloc[:4]"
   ]
  },
  {
   "cell_type": "code",
   "execution_count": 6,
   "metadata": {},
   "outputs": [
    {
     "data": {
      "text/plain": [
       "0    Waffle house\n",
       "1          Dennys\n",
       "2    Waffle house\n",
       "3          Panera\n",
       "Name: Dave, dtype: object"
      ]
     },
     "execution_count": 6,
     "metadata": {},
     "output_type": "execute_result"
    }
   ],
   "source": [
    "# can acces columns as attributes\n",
    "e_sheila, e_dave, e_pat = e.Sheila, e.Dave, e.Pat\n",
    "e_dave[:4]"
   ]
  },
  {
   "cell_type": "code",
   "execution_count": 7,
   "metadata": {},
   "outputs": [
    {
     "data": {
      "text/plain": [
       "pandas.core.series.Series"
      ]
     },
     "execution_count": 7,
     "metadata": {},
     "output_type": "execute_result"
    }
   ],
   "source": [
    "type(e_dave)"
   ]
  },
  {
   "cell_type": "code",
   "execution_count": 8,
   "metadata": {},
   "outputs": [
    {
     "data": {
      "text/plain": [
       "0     Waffle house\n",
       "5           Panera\n",
       "10    Waffle house\n",
       "15          Dennys\n",
       "20          Panera\n",
       "25          Dennys\n",
       "Name: Dave, dtype: object"
      ]
     },
     "execution_count": 8,
     "metadata": {},
     "output_type": "execute_result"
    }
   ],
   "source": [
    "# so that means all series slicing syntax works here\n",
    "e_dave[::5]\n",
    "# start from the back and get every fifth element"
   ]
  },
  {
   "cell_type": "code",
   "execution_count": 9,
   "metadata": {},
   "outputs": [
    {
     "data": {
      "text/plain": [
       "29          Panera\n",
       "28          Dennys\n",
       "27          Dennys\n",
       "26          Dennys\n",
       "25          Dennys\n",
       "24          Panera\n",
       "23    Waffle house\n",
       "22          Panera\n",
       "21          Dennys\n",
       "20          Panera\n",
       "19          Panera\n",
       "18          Dennys\n",
       "17    Waffle house\n",
       "16    Waffle house\n",
       "15          Dennys\n",
       "14          Dennys\n",
       "13          Dennys\n",
       "12    Waffle house\n",
       "11          Dennys\n",
       "10    Waffle house\n",
       "9           Panera\n",
       "8           Panera\n",
       "7     Waffle house\n",
       "6           Panera\n",
       "5           Panera\n",
       "4           Panera\n",
       "3           Panera\n",
       "2     Waffle house\n",
       "1           Dennys\n",
       "0     Waffle house\n",
       "Name: Dave, dtype: object"
      ]
     },
     "execution_count": 9,
     "metadata": {},
     "output_type": "execute_result"
    }
   ],
   "source": [
    "# get the whole thing in reverse\n",
    "e_dave[::-1]\n",
    "# notice the index value is valid, here we start at 29"
   ]
  },
  {
   "cell_type": "code",
   "execution_count": 10,
   "metadata": {},
   "outputs": [],
   "source": [
    "# dave says that he ate at Waffle house on the third\n",
    "e_dave[2] = \"Waffle house\""
   ]
  },
  {
   "cell_type": "code",
   "execution_count": 11,
   "metadata": {},
   "outputs": [
    {
     "data": {
      "text/plain": [
       "0    Waffle house\n",
       "1          Dennys\n",
       "2    Waffle house\n",
       "3          Panera\n",
       "4          Panera\n",
       "Name: Dave, dtype: object"
      ]
     },
     "execution_count": 11,
     "metadata": {},
     "output_type": "execute_result"
    }
   ],
   "source": [
    "e_dave[:5]\n",
    "# changed from Dennys to Waffle house"
   ]
  },
  {
   "cell_type": "code",
   "execution_count": 12,
   "metadata": {},
   "outputs": [
    {
     "data": {
      "text/html": [
       "<div>\n",
       "<style scoped>\n",
       "    .dataframe tbody tr th:only-of-type {\n",
       "        vertical-align: middle;\n",
       "    }\n",
       "\n",
       "    .dataframe tbody tr th {\n",
       "        vertical-align: top;\n",
       "    }\n",
       "\n",
       "    .dataframe thead th {\n",
       "        text-align: right;\n",
       "    }\n",
       "</style>\n",
       "<table border=\"1\" class=\"dataframe\">\n",
       "  <thead>\n",
       "    <tr style=\"text-align: right;\">\n",
       "      <th></th>\n",
       "      <th>Sheila</th>\n",
       "      <th>Dave</th>\n",
       "      <th>Pat</th>\n",
       "    </tr>\n",
       "  </thead>\n",
       "  <tbody>\n",
       "    <tr>\n",
       "      <th>0</th>\n",
       "      <td>Panera</td>\n",
       "      <td>Waffle house</td>\n",
       "      <td>Waffle house</td>\n",
       "    </tr>\n",
       "    <tr>\n",
       "      <th>1</th>\n",
       "      <td>Waffle house</td>\n",
       "      <td>Dennys</td>\n",
       "      <td>Waffle house</td>\n",
       "    </tr>\n",
       "    <tr>\n",
       "      <th>2</th>\n",
       "      <td>Waffle house</td>\n",
       "      <td>Waffle house</td>\n",
       "      <td>Panera</td>\n",
       "    </tr>\n",
       "  </tbody>\n",
       "</table>\n",
       "</div>"
      ],
      "text/plain": [
       "         Sheila          Dave           Pat\n",
       "0        Panera  Waffle house  Waffle house\n",
       "1  Waffle house        Dennys  Waffle house\n",
       "2  Waffle house  Waffle house        Panera"
      ]
     },
     "execution_count": 12,
     "metadata": {},
     "output_type": "execute_result"
    }
   ],
   "source": [
    "# this works on data frames too\n",
    "e[:3]"
   ]
  },
  {
   "cell_type": "code",
   "execution_count": 13,
   "metadata": {},
   "outputs": [
    {
     "data": {
      "text/html": [
       "<div>\n",
       "<style scoped>\n",
       "    .dataframe tbody tr th:only-of-type {\n",
       "        vertical-align: middle;\n",
       "    }\n",
       "\n",
       "    .dataframe tbody tr th {\n",
       "        vertical-align: top;\n",
       "    }\n",
       "\n",
       "    .dataframe thead th {\n",
       "        text-align: right;\n",
       "    }\n",
       "</style>\n",
       "<table border=\"1\" class=\"dataframe\">\n",
       "  <thead>\n",
       "    <tr style=\"text-align: right;\">\n",
       "      <th></th>\n",
       "      <th>Sheila</th>\n",
       "      <th>Dave</th>\n",
       "      <th>Pat</th>\n",
       "    </tr>\n",
       "  </thead>\n",
       "  <tbody>\n",
       "    <tr>\n",
       "      <th>0</th>\n",
       "      <td>Panera</td>\n",
       "      <td>Waffle house</td>\n",
       "      <td>Waffle house</td>\n",
       "    </tr>\n",
       "    <tr>\n",
       "      <th>5</th>\n",
       "      <td>Waffle house</td>\n",
       "      <td>Panera</td>\n",
       "      <td>Dennys</td>\n",
       "    </tr>\n",
       "    <tr>\n",
       "      <th>10</th>\n",
       "      <td>Dennys</td>\n",
       "      <td>Waffle house</td>\n",
       "      <td>Panera</td>\n",
       "    </tr>\n",
       "    <tr>\n",
       "      <th>15</th>\n",
       "      <td>Waffle house</td>\n",
       "      <td>Dennys</td>\n",
       "      <td>Dennys</td>\n",
       "    </tr>\n",
       "    <tr>\n",
       "      <th>20</th>\n",
       "      <td>Waffle house</td>\n",
       "      <td>Panera</td>\n",
       "      <td>Waffle house</td>\n",
       "    </tr>\n",
       "    <tr>\n",
       "      <th>25</th>\n",
       "      <td>Waffle house</td>\n",
       "      <td>Dennys</td>\n",
       "      <td>Panera</td>\n",
       "    </tr>\n",
       "  </tbody>\n",
       "</table>\n",
       "</div>"
      ],
      "text/plain": [
       "          Sheila          Dave           Pat\n",
       "0         Panera  Waffle house  Waffle house\n",
       "5   Waffle house        Panera        Dennys\n",
       "10        Dennys  Waffle house        Panera\n",
       "15  Waffle house        Dennys        Dennys\n",
       "20  Waffle house        Panera  Waffle house\n",
       "25  Waffle house        Dennys        Panera"
      ]
     },
     "execution_count": 13,
     "metadata": {},
     "output_type": "execute_result"
    }
   ],
   "source": [
    "e[::5]"
   ]
  },
  {
   "cell_type": "code",
   "execution_count": 14,
   "metadata": {},
   "outputs": [
    {
     "data": {
      "text/plain": [
       "0    Waffle house\n",
       "1          Dennys\n",
       "2    Waffle house\n",
       "3          Panera\n",
       "4          Panera\n",
       "Name: Dave, dtype: object"
      ]
     },
     "execution_count": 14,
     "metadata": {},
     "output_type": "execute_result"
    }
   ],
   "source": [
    "# selection by label is the same\n",
    "e['Dave'][:5]"
   ]
  },
  {
   "cell_type": "code",
   "execution_count": 15,
   "metadata": {},
   "outputs": [],
   "source": [
    "# with dates it is a little different\n",
    "# ---- > d.loc[2:7] this will throw an error\n",
    "# TypeError: cannot do slice indexing on <class 'pandas.core.indexes.datetimes.DatetimeIndex'> \n",
    "# with these indexers [2] of <class 'int'>"
   ]
  },
  {
   "cell_type": "code",
   "execution_count": 16,
   "metadata": {},
   "outputs": [
    {
     "data": {
      "text/html": [
       "<div>\n",
       "<style scoped>\n",
       "    .dataframe tbody tr th:only-of-type {\n",
       "        vertical-align: middle;\n",
       "    }\n",
       "\n",
       "    .dataframe tbody tr th {\n",
       "        vertical-align: top;\n",
       "    }\n",
       "\n",
       "    .dataframe thead th {\n",
       "        text-align: right;\n",
       "    }\n",
       "</style>\n",
       "<table border=\"1\" class=\"dataframe\">\n",
       "  <thead>\n",
       "    <tr style=\"text-align: right;\">\n",
       "      <th></th>\n",
       "      <th>Waffle house</th>\n",
       "      <th>Dennys</th>\n",
       "      <th>Panera</th>\n",
       "    </tr>\n",
       "  </thead>\n",
       "  <tbody>\n",
       "    <tr>\n",
       "      <th>2017-04-10</th>\n",
       "      <td>6.72</td>\n",
       "      <td>4.69</td>\n",
       "      <td>4.94</td>\n",
       "    </tr>\n",
       "    <tr>\n",
       "      <th>2017-04-11</th>\n",
       "      <td>6.37</td>\n",
       "      <td>6.96</td>\n",
       "      <td>7.32</td>\n",
       "    </tr>\n",
       "    <tr>\n",
       "      <th>2017-04-12</th>\n",
       "      <td>5.63</td>\n",
       "      <td>6.48</td>\n",
       "      <td>8.47</td>\n",
       "    </tr>\n",
       "    <tr>\n",
       "      <th>2017-04-13</th>\n",
       "      <td>7.36</td>\n",
       "      <td>5.19</td>\n",
       "      <td>9.41</td>\n",
       "    </tr>\n",
       "    <tr>\n",
       "      <th>2017-04-14</th>\n",
       "      <td>7.99</td>\n",
       "      <td>5.67</td>\n",
       "      <td>5.15</td>\n",
       "    </tr>\n",
       "  </tbody>\n",
       "</table>\n",
       "</div>"
      ],
      "text/plain": [
       "            Waffle house  Dennys  Panera\n",
       "2017-04-10          6.72    4.69    4.94\n",
       "2017-04-11          6.37    6.96    7.32\n",
       "2017-04-12          5.63    6.48    8.47\n",
       "2017-04-13          7.36    5.19    9.41\n",
       "2017-04-14          7.99    5.67    5.15"
      ]
     },
     "execution_count": 16,
     "metadata": {},
     "output_type": "execute_result"
    }
   ],
   "source": [
    "# you need to use the value or a convertible 'like'string\n",
    "d.loc['20170410': '20170414']\n",
    "# notice the endpoint is included..."
   ]
  },
  {
   "cell_type": "code",
   "execution_count": 17,
   "metadata": {},
   "outputs": [
    {
     "data": {
      "text/html": [
       "<div>\n",
       "<style scoped>\n",
       "    .dataframe tbody tr th:only-of-type {\n",
       "        vertical-align: middle;\n",
       "    }\n",
       "\n",
       "    .dataframe tbody tr th {\n",
       "        vertical-align: top;\n",
       "    }\n",
       "\n",
       "    .dataframe thead th {\n",
       "        text-align: right;\n",
       "    }\n",
       "</style>\n",
       "<table border=\"1\" class=\"dataframe\">\n",
       "  <thead>\n",
       "    <tr style=\"text-align: right;\">\n",
       "      <th></th>\n",
       "      <th>toast</th>\n",
       "      <th>jelly</th>\n",
       "      <th>butter</th>\n",
       "      <th>wheat</th>\n",
       "      <th>white</th>\n",
       "    </tr>\n",
       "  </thead>\n",
       "  <tbody>\n",
       "  </tbody>\n",
       "</table>\n",
       "</div>"
      ],
      "text/plain": [
       "Empty DataFrame\n",
       "Columns: [toast, jelly, butter, wheat, white]\n",
       "Index: []"
      ]
     },
     "execution_count": 17,
     "metadata": {},
     "output_type": "execute_result"
    }
   ],
   "source": [
    "# here we can slice with labels\n",
    "b.loc['b':'d']\n",
    "# returns empy"
   ]
  },
  {
   "cell_type": "code",
   "execution_count": 18,
   "metadata": {},
   "outputs": [
    {
     "data": {
      "text/plain": [
       "array(['f', 'g', 'h', 'i', 'j'], dtype=object)"
      ]
     },
     "execution_count": 18,
     "metadata": {},
     "output_type": "execute_result"
    }
   ],
   "source": [
    "# whats in the index then\n",
    "b.index.values"
   ]
  },
  {
   "cell_type": "code",
   "execution_count": 19,
   "metadata": {},
   "outputs": [
    {
     "data": {
      "text/plain": [
       "'i'"
      ]
     },
     "execution_count": 19,
     "metadata": {},
     "output_type": "execute_result"
    }
   ],
   "source": [
    "# so do this:\n",
    "b_index = b.index.values\n",
    "b_index[3]"
   ]
  },
  {
   "cell_type": "code",
   "execution_count": 20,
   "metadata": {},
   "outputs": [
    {
     "data": {
      "text/html": [
       "<div>\n",
       "<style scoped>\n",
       "    .dataframe tbody tr th:only-of-type {\n",
       "        vertical-align: middle;\n",
       "    }\n",
       "\n",
       "    .dataframe tbody tr th {\n",
       "        vertical-align: top;\n",
       "    }\n",
       "\n",
       "    .dataframe thead th {\n",
       "        text-align: right;\n",
       "    }\n",
       "</style>\n",
       "<table border=\"1\" class=\"dataframe\">\n",
       "  <thead>\n",
       "    <tr style=\"text-align: right;\">\n",
       "      <th></th>\n",
       "      <th>toast</th>\n",
       "      <th>jelly</th>\n",
       "      <th>butter</th>\n",
       "      <th>wheat</th>\n",
       "      <th>white</th>\n",
       "    </tr>\n",
       "  </thead>\n",
       "  <tbody>\n",
       "    <tr>\n",
       "      <th>h</th>\n",
       "      <td>2</td>\n",
       "      <td>2</td>\n",
       "      <td>2</td>\n",
       "      <td>3</td>\n",
       "      <td>2</td>\n",
       "    </tr>\n",
       "    <tr>\n",
       "      <th>i</th>\n",
       "      <td>3</td>\n",
       "      <td>2</td>\n",
       "      <td>1</td>\n",
       "      <td>0</td>\n",
       "      <td>2</td>\n",
       "    </tr>\n",
       "  </tbody>\n",
       "</table>\n",
       "</div>"
      ],
      "text/plain": [
       "   toast  jelly  butter  wheat  white\n",
       "h      2      2       2      3      2\n",
       "i      3      2       1      0      2"
      ]
     },
     "execution_count": 20,
     "metadata": {},
     "output_type": "execute_result"
    }
   ],
   "source": [
    "# use the list and pass your index range as a slice value\n",
    "b.loc[b_index[2:4]]"
   ]
  },
  {
   "cell_type": "code",
   "execution_count": 21,
   "metadata": {},
   "outputs": [],
   "source": [
    "# these will come in handy\n",
    "# yes we could have used the list to create the df\n",
    "# but what if you don't have that list?\n",
    "a_index = a.index.values\n",
    "c_index = c.index.values\n"
   ]
  },
  {
   "cell_type": "code",
   "execution_count": 22,
   "metadata": {},
   "outputs": [
    {
     "data": {
      "text/html": [
       "<div>\n",
       "<style scoped>\n",
       "    .dataframe tbody tr th:only-of-type {\n",
       "        vertical-align: middle;\n",
       "    }\n",
       "\n",
       "    .dataframe tbody tr th {\n",
       "        vertical-align: top;\n",
       "    }\n",
       "\n",
       "    .dataframe thead th {\n",
       "        text-align: right;\n",
       "    }\n",
       "</style>\n",
       "<table border=\"1\" class=\"dataframe\">\n",
       "  <thead>\n",
       "    <tr style=\"text-align: right;\">\n",
       "      <th></th>\n",
       "      <th>pancakes</th>\n",
       "      <th>waffles</th>\n",
       "      <th>crepes</th>\n",
       "    </tr>\n",
       "  </thead>\n",
       "  <tbody>\n",
       "    <tr>\n",
       "      <th>k</th>\n",
       "      <td>3</td>\n",
       "      <td>1</td>\n",
       "      <td>1</td>\n",
       "    </tr>\n",
       "    <tr>\n",
       "      <th>l</th>\n",
       "      <td>1</td>\n",
       "      <td>1</td>\n",
       "      <td>0</td>\n",
       "    </tr>\n",
       "    <tr>\n",
       "      <th>m</th>\n",
       "      <td>2</td>\n",
       "      <td>0</td>\n",
       "      <td>3</td>\n",
       "    </tr>\n",
       "  </tbody>\n",
       "</table>\n",
       "</div>"
      ],
      "text/plain": [
       "   pancakes  waffles  crepes\n",
       "k         3        1       1\n",
       "l         1        1       0\n",
       "m         2        0       3"
      ]
     },
     "execution_count": 22,
     "metadata": {},
     "output_type": "execute_result"
    }
   ],
   "source": [
    "# so labels can be used just like integers(almost)\n",
    "c.loc['k':]"
   ]
  },
  {
   "cell_type": "code",
   "execution_count": 23,
   "metadata": {},
   "outputs": [
    {
     "data": {
      "text/html": [
       "<div>\n",
       "<style scoped>\n",
       "    .dataframe tbody tr th:only-of-type {\n",
       "        vertical-align: middle;\n",
       "    }\n",
       "\n",
       "    .dataframe tbody tr th {\n",
       "        vertical-align: top;\n",
       "    }\n",
       "\n",
       "    .dataframe thead th {\n",
       "        text-align: right;\n",
       "    }\n",
       "</style>\n",
       "<table border=\"1\" class=\"dataframe\">\n",
       "  <thead>\n",
       "    <tr style=\"text-align: right;\">\n",
       "      <th></th>\n",
       "      <th>pancakes</th>\n",
       "      <th>waffles</th>\n",
       "      <th>crepes</th>\n",
       "    </tr>\n",
       "  </thead>\n",
       "  <tbody>\n",
       "    <tr>\n",
       "      <th>k</th>\n",
       "      <td>3</td>\n",
       "      <td>1</td>\n",
       "      <td>1</td>\n",
       "    </tr>\n",
       "    <tr>\n",
       "      <th>l</th>\n",
       "      <td>1</td>\n",
       "      <td>1</td>\n",
       "      <td>0</td>\n",
       "    </tr>\n",
       "    <tr>\n",
       "      <th>m</th>\n",
       "      <td>2</td>\n",
       "      <td>0</td>\n",
       "      <td>3</td>\n",
       "    </tr>\n",
       "  </tbody>\n",
       "</table>\n",
       "</div>"
      ],
      "text/plain": [
       "   pancakes  waffles  crepes\n",
       "k         3        1       1\n",
       "l         1        1       0\n",
       "m         2        0       3"
      ]
     },
     "execution_count": 23,
     "metadata": {},
     "output_type": "execute_result"
    }
   ],
   "source": [
    "#or\n",
    "c.loc[:'m']"
   ]
  },
  {
   "cell_type": "code",
   "execution_count": 24,
   "metadata": {},
   "outputs": [
    {
     "data": {
      "text/html": [
       "<div>\n",
       "<style scoped>\n",
       "    .dataframe tbody tr th:only-of-type {\n",
       "        vertical-align: middle;\n",
       "    }\n",
       "\n",
       "    .dataframe tbody tr th {\n",
       "        vertical-align: top;\n",
       "    }\n",
       "\n",
       "    .dataframe thead th {\n",
       "        text-align: right;\n",
       "    }\n",
       "</style>\n",
       "<table border=\"1\" class=\"dataframe\">\n",
       "  <thead>\n",
       "    <tr style=\"text-align: right;\">\n",
       "      <th></th>\n",
       "      <th>ham</th>\n",
       "      <th>spam</th>\n",
       "      <th>hash</th>\n",
       "    </tr>\n",
       "  </thead>\n",
       "  <tbody>\n",
       "    <tr>\n",
       "      <th>b</th>\n",
       "      <td>3</td>\n",
       "      <td>0</td>\n",
       "      <td>3</td>\n",
       "    </tr>\n",
       "    <tr>\n",
       "      <th>c</th>\n",
       "      <td>4</td>\n",
       "      <td>3</td>\n",
       "      <td>2</td>\n",
       "    </tr>\n",
       "    <tr>\n",
       "      <th>d</th>\n",
       "      <td>3</td>\n",
       "      <td>4</td>\n",
       "      <td>2</td>\n",
       "    </tr>\n",
       "    <tr>\n",
       "      <th>e</th>\n",
       "      <td>5</td>\n",
       "      <td>4</td>\n",
       "      <td>4</td>\n",
       "    </tr>\n",
       "  </tbody>\n",
       "</table>\n",
       "</div>"
      ],
      "text/plain": [
       "   ham  spam  hash\n",
       "b    3     0     3\n",
       "c    4     3     2\n",
       "d    3     4     2\n",
       "e    5     4     4"
      ]
     },
     "execution_count": 24,
     "metadata": {},
     "output_type": "execute_result"
    }
   ],
   "source": [
    "# grab a mix of rows:\n",
    "a.loc['b':, 'ham':'hash']"
   ]
  },
  {
   "cell_type": "code",
   "execution_count": 25,
   "metadata": {},
   "outputs": [
    {
     "data": {
      "text/html": [
       "<div>\n",
       "<style scoped>\n",
       "    .dataframe tbody tr th:only-of-type {\n",
       "        vertical-align: middle;\n",
       "    }\n",
       "\n",
       "    .dataframe tbody tr th {\n",
       "        vertical-align: top;\n",
       "    }\n",
       "\n",
       "    .dataframe thead th {\n",
       "        text-align: right;\n",
       "    }\n",
       "</style>\n",
       "<table border=\"1\" class=\"dataframe\">\n",
       "  <thead>\n",
       "    <tr style=\"text-align: right;\">\n",
       "      <th></th>\n",
       "      <th>ham</th>\n",
       "      <th>spam</th>\n",
       "    </tr>\n",
       "  </thead>\n",
       "  <tbody>\n",
       "    <tr>\n",
       "      <th>c</th>\n",
       "      <td>4</td>\n",
       "      <td>3</td>\n",
       "    </tr>\n",
       "    <tr>\n",
       "      <th>d</th>\n",
       "      <td>3</td>\n",
       "      <td>4</td>\n",
       "    </tr>\n",
       "    <tr>\n",
       "      <th>e</th>\n",
       "      <td>5</td>\n",
       "      <td>4</td>\n",
       "    </tr>\n",
       "  </tbody>\n",
       "</table>\n",
       "</div>"
      ],
      "text/plain": [
       "   ham  spam\n",
       "c    4     3\n",
       "d    3     4\n",
       "e    5     4"
      ]
     },
     "execution_count": 25,
     "metadata": {},
     "output_type": "execute_result"
    }
   ],
   "source": [
    "# or \n",
    "a.loc['c':'e', 'ham':'spam']"
   ]
  },
  {
   "cell_type": "code",
   "execution_count": 26,
   "metadata": {},
   "outputs": [
    {
     "data": {
      "text/plain": [
       "bacon    5\n",
       "eggs     1\n",
       "ham      3\n",
       "spam     4\n",
       "hash     2\n",
       "Name: d, dtype: int64"
      ]
     },
     "execution_count": 26,
     "metadata": {},
     "output_type": "execute_result"
    }
   ],
   "source": [
    "# cross section of one row\n",
    "a.loc['d']"
   ]
  },
  {
   "cell_type": "code",
   "execution_count": 27,
   "metadata": {},
   "outputs": [
    {
     "data": {
      "text/plain": [
       "7.99"
      ]
     },
     "execution_count": 27,
     "metadata": {},
     "output_type": "execute_result"
    }
   ],
   "source": [
    "# get a specific value:\n",
    "# for example how much was spent at 'Waffle house' on April 13\n",
    "d.loc['20170414', 'Waffle house']"
   ]
  },
  {
   "cell_type": "code",
   "execution_count": 28,
   "metadata": {},
   "outputs": [
    {
     "data": {
      "text/plain": [
       "7.99"
      ]
     },
     "execution_count": 28,
     "metadata": {},
     "output_type": "execute_result"
    }
   ],
   "source": [
    "# if you know the index number\n",
    "d.iloc[13]['Waffle house']"
   ]
  },
  {
   "cell_type": "code",
   "execution_count": 29,
   "metadata": {},
   "outputs": [
    {
     "data": {
      "text/plain": [
       "Waffle house    7.99\n",
       "Dennys          5.67\n",
       "Panera          5.15\n",
       "Name: 2017-04-14 00:00:00, dtype: float64"
      ]
     },
     "execution_count": 29,
     "metadata": {},
     "output_type": "execute_result"
    }
   ],
   "source": [
    "d.loc['20170414']"
   ]
  },
  {
   "cell_type": "code",
   "execution_count": 30,
   "metadata": {},
   "outputs": [
    {
     "data": {
      "text/html": [
       "<div>\n",
       "<style scoped>\n",
       "    .dataframe tbody tr th:only-of-type {\n",
       "        vertical-align: middle;\n",
       "    }\n",
       "\n",
       "    .dataframe tbody tr th {\n",
       "        vertical-align: top;\n",
       "    }\n",
       "\n",
       "    .dataframe thead th {\n",
       "        text-align: right;\n",
       "    }\n",
       "</style>\n",
       "<table border=\"1\" class=\"dataframe\">\n",
       "  <thead>\n",
       "    <tr style=\"text-align: right;\">\n",
       "      <th></th>\n",
       "      <th>Sheila</th>\n",
       "      <th>Dave</th>\n",
       "      <th>Pat</th>\n",
       "    </tr>\n",
       "  </thead>\n",
       "  <tbody>\n",
       "    <tr>\n",
       "      <th>0</th>\n",
       "      <td>Panera</td>\n",
       "      <td>Waffle house</td>\n",
       "      <td>Waffle house</td>\n",
       "    </tr>\n",
       "    <tr>\n",
       "      <th>1</th>\n",
       "      <td>Waffle house</td>\n",
       "      <td>Dennys</td>\n",
       "      <td>Waffle house</td>\n",
       "    </tr>\n",
       "    <tr>\n",
       "      <th>2</th>\n",
       "      <td>Waffle house</td>\n",
       "      <td>Waffle house</td>\n",
       "      <td>Panera</td>\n",
       "    </tr>\n",
       "    <tr>\n",
       "      <th>3</th>\n",
       "      <td>Dennys</td>\n",
       "      <td>Panera</td>\n",
       "      <td>Waffle house</td>\n",
       "    </tr>\n",
       "    <tr>\n",
       "      <th>4</th>\n",
       "      <td>Waffle house</td>\n",
       "      <td>Panera</td>\n",
       "      <td>Panera</td>\n",
       "    </tr>\n",
       "  </tbody>\n",
       "</table>\n",
       "</div>"
      ],
      "text/plain": [
       "         Sheila          Dave           Pat\n",
       "0        Panera  Waffle house  Waffle house\n",
       "1  Waffle house        Dennys  Waffle house\n",
       "2  Waffle house  Waffle house        Panera\n",
       "3        Dennys        Panera  Waffle house\n",
       "4  Waffle house        Panera        Panera"
      ]
     },
     "execution_count": 30,
     "metadata": {},
     "output_type": "execute_result"
    }
   ],
   "source": [
    "# return to iloc\n",
    "e.iloc[:5]\n",
    "# iloc is like numpy or python.... the upper bound is excluded"
   ]
  },
  {
   "cell_type": "code",
   "execution_count": 31,
   "metadata": {},
   "outputs": [
    {
     "data": {
      "text/html": [
       "<div>\n",
       "<style scoped>\n",
       "    .dataframe tbody tr th:only-of-type {\n",
       "        vertical-align: middle;\n",
       "    }\n",
       "\n",
       "    .dataframe tbody tr th {\n",
       "        vertical-align: top;\n",
       "    }\n",
       "\n",
       "    .dataframe thead th {\n",
       "        text-align: right;\n",
       "    }\n",
       "</style>\n",
       "<table border=\"1\" class=\"dataframe\">\n",
       "  <thead>\n",
       "    <tr style=\"text-align: right;\">\n",
       "      <th></th>\n",
       "      <th>Dennys</th>\n",
       "      <th>Panera</th>\n",
       "    </tr>\n",
       "  </thead>\n",
       "  <tbody>\n",
       "    <tr>\n",
       "      <th>2017-04-12</th>\n",
       "      <td>6.48</td>\n",
       "      <td>8.47</td>\n",
       "    </tr>\n",
       "    <tr>\n",
       "      <th>2017-04-13</th>\n",
       "      <td>5.19</td>\n",
       "      <td>9.41</td>\n",
       "    </tr>\n",
       "    <tr>\n",
       "      <th>2017-04-14</th>\n",
       "      <td>5.67</td>\n",
       "      <td>5.15</td>\n",
       "    </tr>\n",
       "    <tr>\n",
       "      <th>2017-04-15</th>\n",
       "      <td>8.77</td>\n",
       "      <td>8.61</td>\n",
       "    </tr>\n",
       "    <tr>\n",
       "      <th>2017-04-16</th>\n",
       "      <td>5.65</td>\n",
       "      <td>4.23</td>\n",
       "    </tr>\n",
       "    <tr>\n",
       "      <th>2017-04-17</th>\n",
       "      <td>4.51</td>\n",
       "      <td>6.04</td>\n",
       "    </tr>\n",
       "    <tr>\n",
       "      <th>2017-04-18</th>\n",
       "      <td>9.53</td>\n",
       "      <td>6.11</td>\n",
       "    </tr>\n",
       "    <tr>\n",
       "      <th>2017-04-19</th>\n",
       "      <td>4.17</td>\n",
       "      <td>7.28</td>\n",
       "    </tr>\n",
       "  </tbody>\n",
       "</table>\n",
       "</div>"
      ],
      "text/plain": [
       "            Dennys  Panera\n",
       "2017-04-12    6.48    8.47\n",
       "2017-04-13    5.19    9.41\n",
       "2017-04-14    5.67    5.15\n",
       "2017-04-15    8.77    8.61\n",
       "2017-04-16    5.65    4.23\n",
       "2017-04-17    4.51    6.04\n",
       "2017-04-18    9.53    6.11\n",
       "2017-04-19    4.17    7.28"
      ]
     },
     "execution_count": 31,
     "metadata": {},
     "output_type": "execute_result"
    }
   ],
   "source": [
    "# get rows 11-18 for Dennys and panera\n",
    "d.iloc[11:19, 1:]"
   ]
  },
  {
   "cell_type": "code",
   "execution_count": 32,
   "metadata": {},
   "outputs": [],
   "source": [
    "# this will not work ---> d.iloc[11:19, resto[1:]]\n",
    "# canont put a string indexer with iloc\n",
    "# TypeError: cannot perform reduce with flexible type"
   ]
  },
  {
   "cell_type": "markdown",
   "metadata": {},
   "source": [
    "#### Selection by callable"
   ]
  },
  {
   "cell_type": "code",
   "execution_count": 33,
   "metadata": {},
   "outputs": [
    {
     "data": {
      "text/html": [
       "<div>\n",
       "<style scoped>\n",
       "    .dataframe tbody tr th:only-of-type {\n",
       "        vertical-align: middle;\n",
       "    }\n",
       "\n",
       "    .dataframe tbody tr th {\n",
       "        vertical-align: top;\n",
       "    }\n",
       "\n",
       "    .dataframe thead th {\n",
       "        text-align: right;\n",
       "    }\n",
       "</style>\n",
       "<table border=\"1\" class=\"dataframe\">\n",
       "  <thead>\n",
       "    <tr style=\"text-align: right;\">\n",
       "      <th></th>\n",
       "      <th>Dennys</th>\n",
       "      <th>Panera</th>\n",
       "    </tr>\n",
       "  </thead>\n",
       "  <tbody>\n",
       "    <tr>\n",
       "      <th>2017-04-14</th>\n",
       "      <td>5.67</td>\n",
       "      <td>5.15</td>\n",
       "    </tr>\n",
       "    <tr>\n",
       "      <th>2017-04-15</th>\n",
       "      <td>8.77</td>\n",
       "      <td>8.61</td>\n",
       "    </tr>\n",
       "    <tr>\n",
       "      <th>2017-04-16</th>\n",
       "      <td>5.65</td>\n",
       "      <td>4.23</td>\n",
       "    </tr>\n",
       "    <tr>\n",
       "      <th>2017-04-17</th>\n",
       "      <td>4.51</td>\n",
       "      <td>6.04</td>\n",
       "    </tr>\n",
       "    <tr>\n",
       "      <th>2017-04-18</th>\n",
       "      <td>9.53</td>\n",
       "      <td>6.11</td>\n",
       "    </tr>\n",
       "    <tr>\n",
       "      <th>2017-04-19</th>\n",
       "      <td>4.17</td>\n",
       "      <td>7.28</td>\n",
       "    </tr>\n",
       "    <tr>\n",
       "      <th>2017-04-20</th>\n",
       "      <td>6.07</td>\n",
       "      <td>4.66</td>\n",
       "    </tr>\n",
       "  </tbody>\n",
       "</table>\n",
       "</div>"
      ],
      "text/plain": [
       "            Dennys  Panera\n",
       "2017-04-14    5.67    5.15\n",
       "2017-04-15    8.77    8.61\n",
       "2017-04-16    5.65    4.23\n",
       "2017-04-17    4.51    6.04\n",
       "2017-04-18    9.53    6.11\n",
       "2017-04-19    4.17    7.28\n",
       "2017-04-20    6.07    4.66"
      ]
     },
     "execution_count": 33,
     "metadata": {},
     "output_type": "execute_result"
    }
   ],
   "source": [
    "d.iloc[13:20, lambda q: [1,2]]"
   ]
  },
  {
   "cell_type": "code",
   "execution_count": 34,
   "metadata": {},
   "outputs": [
    {
     "data": {
      "text/html": [
       "<div>\n",
       "<style scoped>\n",
       "    .dataframe tbody tr th:only-of-type {\n",
       "        vertical-align: middle;\n",
       "    }\n",
       "\n",
       "    .dataframe tbody tr th {\n",
       "        vertical-align: top;\n",
       "    }\n",
       "\n",
       "    .dataframe thead th {\n",
       "        text-align: right;\n",
       "    }\n",
       "</style>\n",
       "<table border=\"1\" class=\"dataframe\">\n",
       "  <thead>\n",
       "    <tr style=\"text-align: right;\">\n",
       "      <th></th>\n",
       "      <th>Panera</th>\n",
       "    </tr>\n",
       "  </thead>\n",
       "  <tbody>\n",
       "    <tr>\n",
       "      <th>2017-04-07</th>\n",
       "      <td>4.59</td>\n",
       "    </tr>\n",
       "    <tr>\n",
       "      <th>2017-04-08</th>\n",
       "      <td>5.46</td>\n",
       "    </tr>\n",
       "    <tr>\n",
       "      <th>2017-04-09</th>\n",
       "      <td>6.47</td>\n",
       "    </tr>\n",
       "    <tr>\n",
       "      <th>2017-04-10</th>\n",
       "      <td>4.94</td>\n",
       "    </tr>\n",
       "    <tr>\n",
       "      <th>2017-04-11</th>\n",
       "      <td>7.32</td>\n",
       "    </tr>\n",
       "    <tr>\n",
       "      <th>2017-04-12</th>\n",
       "      <td>8.47</td>\n",
       "    </tr>\n",
       "    <tr>\n",
       "      <th>2017-04-13</th>\n",
       "      <td>9.41</td>\n",
       "    </tr>\n",
       "  </tbody>\n",
       "</table>\n",
       "</div>"
      ],
      "text/plain": [
       "            Panera\n",
       "2017-04-07    4.59\n",
       "2017-04-08    5.46\n",
       "2017-04-09    6.47\n",
       "2017-04-10    4.94\n",
       "2017-04-11    7.32\n",
       "2017-04-12    8.47\n",
       "2017-04-13    9.41"
      ]
     },
     "execution_count": 34,
     "metadata": {},
     "output_type": "execute_result"
    }
   ],
   "source": [
    "d.loc['20170407':'20170413', lambda q: [resto[2]]]"
   ]
  },
  {
   "cell_type": "code",
   "execution_count": 35,
   "metadata": {},
   "outputs": [
    {
     "name": "stdout",
     "output_type": "stream",
     "text": [
      "Waffle house    6.15\n",
      "Dennys          6.07\n",
      "Panera          4.66\n",
      "Name: 2017-04-20 00:00:00, dtype: float64\n",
      "Panera\n"
     ]
    }
   ],
   "source": [
    "# how much did sheila pay for breakfast on april 20th and where did she eat?\n",
    "# so where everybody ate is given as a df in ascendo-ng order with no dates\n",
    "# what was paid and what restauraunt is given by date\n",
    "\n",
    "# we know this\n",
    "cost = d.loc['20170420']\n",
    "where = e.iloc[19, 0]\n",
    "print(cost)\n",
    "print(where)"
   ]
  },
  {
   "cell_type": "code",
   "execution_count": 36,
   "metadata": {},
   "outputs": [
    {
     "data": {
      "text/plain": [
       "4.66"
      ]
     },
     "execution_count": 36,
     "metadata": {},
     "output_type": "execute_result"
    }
   ],
   "source": [
    "# so combined that would be\n",
    "d.loc['20170420', e.iloc[19,0]]"
   ]
  },
  {
   "cell_type": "code",
   "execution_count": 37,
   "metadata": {},
   "outputs": [],
   "source": [
    "rest = dict(zip(d.columns, np.arange(3)))"
   ]
  },
  {
   "cell_type": "code",
   "execution_count": 38,
   "metadata": {},
   "outputs": [
    {
     "data": {
      "text/plain": [
       "{'Dennys': 1, 'Panera': 2, 'Waffle house': 0}"
      ]
     },
     "execution_count": 38,
     "metadata": {},
     "output_type": "execute_result"
    }
   ],
   "source": [
    "rest"
   ]
  },
  {
   "cell_type": "code",
   "execution_count": 61,
   "metadata": {},
   "outputs": [
    {
     "data": {
      "text/plain": [
       "[7.65, 6.09, 8.29, 5.75, 5.23]"
      ]
     },
     "execution_count": 61,
     "metadata": {},
     "output_type": "execute_result"
    }
   ],
   "source": [
    "def get_cost(x,y):\n",
    "    a = []\n",
    "    for i, n in enumerate(list(e[x])):\n",
    "        b = d.iloc[i, y[n]]\n",
    "        a.append(b)\n",
    "    return(a)\n",
    "cost_sheila = get_cost('Sheila', rest)\n",
    "cost_sheila[:5]\n"
   ]
  },
  {
   "cell_type": "code",
   "execution_count": 43,
   "metadata": {},
   "outputs": [
    {
     "data": {
      "text/plain": [
       "(RangeIndex(start=0, stop=30, step=1),\n",
       " DatetimeIndex(['2017-04-01', '2017-04-02', '2017-04-03', '2017-04-04',\n",
       "                '2017-04-05', '2017-04-06', '2017-04-07', '2017-04-08',\n",
       "                '2017-04-09', '2017-04-10', '2017-04-11', '2017-04-12',\n",
       "                '2017-04-13', '2017-04-14', '2017-04-15', '2017-04-16',\n",
       "                '2017-04-17', '2017-04-18', '2017-04-19', '2017-04-20',\n",
       "                '2017-04-21', '2017-04-22', '2017-04-23', '2017-04-24',\n",
       "                '2017-04-25', '2017-04-26', '2017-04-27', '2017-04-28',\n",
       "                '2017-04-29', '2017-04-30'],\n",
       "               dtype='datetime64[ns]', freq='D'))"
      ]
     },
     "execution_count": 43,
     "metadata": {},
     "output_type": "execute_result"
    }
   ],
   "source": [
    "# okay so we can get the the location and the price for sheila\n",
    "# but it is not in a df\n",
    "# join dfs and see what that gives\n",
    "e.index, d.index\n",
    "# normally the len should match, and the data in e is given chronologically\n",
    "# so we'ell check"
   ]
  },
  {
   "cell_type": "code",
   "execution_count": 44,
   "metadata": {},
   "outputs": [
    {
     "data": {
      "text/plain": [
       "(30, 30)"
      ]
     },
     "execution_count": 44,
     "metadata": {},
     "output_type": "execute_result"
    }
   ],
   "source": [
    "len(d.index), len(e.index)"
   ]
  },
  {
   "cell_type": "code",
   "execution_count": 49,
   "metadata": {},
   "outputs": [
    {
     "data": {
      "text/plain": [
       "DatetimeIndex(['2017-04-01', '2017-04-02', '2017-04-03', '2017-04-04',\n",
       "               '2017-04-05', '2017-04-06', '2017-04-07', '2017-04-08',\n",
       "               '2017-04-09', '2017-04-10', '2017-04-11', '2017-04-12',\n",
       "               '2017-04-13', '2017-04-14', '2017-04-15', '2017-04-16',\n",
       "               '2017-04-17', '2017-04-18', '2017-04-19', '2017-04-20',\n",
       "               '2017-04-21', '2017-04-22', '2017-04-23', '2017-04-24',\n",
       "               '2017-04-25', '2017-04-26', '2017-04-27', '2017-04-28',\n",
       "               '2017-04-29', '2017-04-30'],\n",
       "              dtype='datetime64[ns]', freq='D')"
      ]
     },
     "execution_count": 49,
     "metadata": {},
     "output_type": "execute_result"
    }
   ],
   "source": [
    "e_i = d.index\n",
    "e_i"
   ]
  },
  {
   "cell_type": "code",
   "execution_count": 54,
   "metadata": {},
   "outputs": [
    {
     "data": {
      "text/html": [
       "<div>\n",
       "<style scoped>\n",
       "    .dataframe tbody tr th:only-of-type {\n",
       "        vertical-align: middle;\n",
       "    }\n",
       "\n",
       "    .dataframe tbody tr th {\n",
       "        vertical-align: top;\n",
       "    }\n",
       "\n",
       "    .dataframe thead th {\n",
       "        text-align: right;\n",
       "    }\n",
       "</style>\n",
       "<table border=\"1\" class=\"dataframe\">\n",
       "  <thead>\n",
       "    <tr style=\"text-align: right;\">\n",
       "      <th></th>\n",
       "      <th>Sheila</th>\n",
       "      <th>Dave</th>\n",
       "      <th>Pat</th>\n",
       "    </tr>\n",
       "  </thead>\n",
       "  <tbody>\n",
       "    <tr>\n",
       "      <th>2017-04-01</th>\n",
       "      <td>Panera</td>\n",
       "      <td>Waffle house</td>\n",
       "      <td>Waffle house</td>\n",
       "    </tr>\n",
       "    <tr>\n",
       "      <th>2017-04-02</th>\n",
       "      <td>Waffle house</td>\n",
       "      <td>Dennys</td>\n",
       "      <td>Waffle house</td>\n",
       "    </tr>\n",
       "    <tr>\n",
       "      <th>2017-04-03</th>\n",
       "      <td>Waffle house</td>\n",
       "      <td>Waffle house</td>\n",
       "      <td>Panera</td>\n",
       "    </tr>\n",
       "    <tr>\n",
       "      <th>2017-04-04</th>\n",
       "      <td>Dennys</td>\n",
       "      <td>Panera</td>\n",
       "      <td>Waffle house</td>\n",
       "    </tr>\n",
       "    <tr>\n",
       "      <th>2017-04-05</th>\n",
       "      <td>Waffle house</td>\n",
       "      <td>Panera</td>\n",
       "      <td>Panera</td>\n",
       "    </tr>\n",
       "  </tbody>\n",
       "</table>\n",
       "</div>"
      ],
      "text/plain": [
       "                  Sheila          Dave           Pat\n",
       "2017-04-01        Panera  Waffle house  Waffle house\n",
       "2017-04-02  Waffle house        Dennys  Waffle house\n",
       "2017-04-03  Waffle house  Waffle house        Panera\n",
       "2017-04-04        Dennys        Panera  Waffle house\n",
       "2017-04-05  Waffle house        Panera        Panera"
      ]
     },
     "execution_count": 54,
     "metadata": {},
     "output_type": "execute_result"
    }
   ],
   "source": [
    "e.set_index(e_i, inplace=True)\n",
    "e.iloc[:5]"
   ]
  },
  {
   "cell_type": "code",
   "execution_count": 56,
   "metadata": {},
   "outputs": [
    {
     "data": {
      "text/html": [
       "<div>\n",
       "<style scoped>\n",
       "    .dataframe tbody tr th:only-of-type {\n",
       "        vertical-align: middle;\n",
       "    }\n",
       "\n",
       "    .dataframe tbody tr th {\n",
       "        vertical-align: top;\n",
       "    }\n",
       "\n",
       "    .dataframe thead th {\n",
       "        text-align: right;\n",
       "    }\n",
       "</style>\n",
       "<table border=\"1\" class=\"dataframe\">\n",
       "  <thead>\n",
       "    <tr style=\"text-align: right;\">\n",
       "      <th></th>\n",
       "      <th>Waffle house</th>\n",
       "      <th>Dennys</th>\n",
       "      <th>Panera</th>\n",
       "      <th>Sheila</th>\n",
       "      <th>Dave</th>\n",
       "      <th>Pat</th>\n",
       "    </tr>\n",
       "  </thead>\n",
       "  <tbody>\n",
       "    <tr>\n",
       "      <th>2017-04-01</th>\n",
       "      <td>4.67</td>\n",
       "      <td>6.81</td>\n",
       "      <td>7.65</td>\n",
       "      <td>Panera</td>\n",
       "      <td>Waffle house</td>\n",
       "      <td>Waffle house</td>\n",
       "    </tr>\n",
       "    <tr>\n",
       "      <th>2017-04-02</th>\n",
       "      <td>6.09</td>\n",
       "      <td>5.85</td>\n",
       "      <td>6.08</td>\n",
       "      <td>Waffle house</td>\n",
       "      <td>Dennys</td>\n",
       "      <td>Waffle house</td>\n",
       "    </tr>\n",
       "    <tr>\n",
       "      <th>2017-04-03</th>\n",
       "      <td>8.29</td>\n",
       "      <td>9.73</td>\n",
       "      <td>8.98</td>\n",
       "      <td>Waffle house</td>\n",
       "      <td>Waffle house</td>\n",
       "      <td>Panera</td>\n",
       "    </tr>\n",
       "    <tr>\n",
       "      <th>2017-04-04</th>\n",
       "      <td>5.25</td>\n",
       "      <td>5.75</td>\n",
       "      <td>7.94</td>\n",
       "      <td>Dennys</td>\n",
       "      <td>Panera</td>\n",
       "      <td>Waffle house</td>\n",
       "    </tr>\n",
       "    <tr>\n",
       "      <th>2017-04-05</th>\n",
       "      <td>5.23</td>\n",
       "      <td>8.49</td>\n",
       "      <td>9.39</td>\n",
       "      <td>Waffle house</td>\n",
       "      <td>Panera</td>\n",
       "      <td>Panera</td>\n",
       "    </tr>\n",
       "    <tr>\n",
       "      <th>2017-04-06</th>\n",
       "      <td>9.09</td>\n",
       "      <td>6.92</td>\n",
       "      <td>8.94</td>\n",
       "      <td>Waffle house</td>\n",
       "      <td>Panera</td>\n",
       "      <td>Dennys</td>\n",
       "    </tr>\n",
       "    <tr>\n",
       "      <th>2017-04-07</th>\n",
       "      <td>8.43</td>\n",
       "      <td>4.78</td>\n",
       "      <td>4.59</td>\n",
       "      <td>Dennys</td>\n",
       "      <td>Panera</td>\n",
       "      <td>Panera</td>\n",
       "    </tr>\n",
       "    <tr>\n",
       "      <th>2017-04-08</th>\n",
       "      <td>8.42</td>\n",
       "      <td>7.48</td>\n",
       "      <td>5.46</td>\n",
       "      <td>Panera</td>\n",
       "      <td>Waffle house</td>\n",
       "      <td>Panera</td>\n",
       "    </tr>\n",
       "    <tr>\n",
       "      <th>2017-04-09</th>\n",
       "      <td>6.65</td>\n",
       "      <td>6.38</td>\n",
       "      <td>6.47</td>\n",
       "      <td>Panera</td>\n",
       "      <td>Panera</td>\n",
       "      <td>Panera</td>\n",
       "    </tr>\n",
       "    <tr>\n",
       "      <th>2017-04-10</th>\n",
       "      <td>6.72</td>\n",
       "      <td>4.69</td>\n",
       "      <td>4.94</td>\n",
       "      <td>Dennys</td>\n",
       "      <td>Panera</td>\n",
       "      <td>Panera</td>\n",
       "    </tr>\n",
       "  </tbody>\n",
       "</table>\n",
       "</div>"
      ],
      "text/plain": [
       "            Waffle house  Dennys  Panera        Sheila          Dave  \\\n",
       "2017-04-01          4.67    6.81    7.65        Panera  Waffle house   \n",
       "2017-04-02          6.09    5.85    6.08  Waffle house        Dennys   \n",
       "2017-04-03          8.29    9.73    8.98  Waffle house  Waffle house   \n",
       "2017-04-04          5.25    5.75    7.94        Dennys        Panera   \n",
       "2017-04-05          5.23    8.49    9.39  Waffle house        Panera   \n",
       "2017-04-06          9.09    6.92    8.94  Waffle house        Panera   \n",
       "2017-04-07          8.43    4.78    4.59        Dennys        Panera   \n",
       "2017-04-08          8.42    7.48    5.46        Panera  Waffle house   \n",
       "2017-04-09          6.65    6.38    6.47        Panera        Panera   \n",
       "2017-04-10          6.72    4.69    4.94        Dennys        Panera   \n",
       "\n",
       "                     Pat  \n",
       "2017-04-01  Waffle house  \n",
       "2017-04-02  Waffle house  \n",
       "2017-04-03        Panera  \n",
       "2017-04-04  Waffle house  \n",
       "2017-04-05        Panera  \n",
       "2017-04-06        Dennys  \n",
       "2017-04-07        Panera  \n",
       "2017-04-08        Panera  \n",
       "2017-04-09        Panera  \n",
       "2017-04-10        Panera  "
      ]
     },
     "execution_count": 56,
     "metadata": {},
     "output_type": "execute_result"
    }
   ],
   "source": [
    "#okay so this should work\n",
    "d_e = pd.concat([d,e], axis=1)\n",
    "d_e.iloc[:10]"
   ]
  },
  {
   "cell_type": "code",
   "execution_count": 62,
   "metadata": {},
   "outputs": [],
   "source": [
    "# so now set a value for the cost of sheilas breakfast\n",
    "d_e['cost_sheila'] = cost_sheila"
   ]
  },
  {
   "cell_type": "code",
   "execution_count": 63,
   "metadata": {},
   "outputs": [
    {
     "data": {
      "text/html": [
       "<div>\n",
       "<style scoped>\n",
       "    .dataframe tbody tr th:only-of-type {\n",
       "        vertical-align: middle;\n",
       "    }\n",
       "\n",
       "    .dataframe tbody tr th {\n",
       "        vertical-align: top;\n",
       "    }\n",
       "\n",
       "    .dataframe thead th {\n",
       "        text-align: right;\n",
       "    }\n",
       "</style>\n",
       "<table border=\"1\" class=\"dataframe\">\n",
       "  <thead>\n",
       "    <tr style=\"text-align: right;\">\n",
       "      <th></th>\n",
       "      <th>Waffle house</th>\n",
       "      <th>Dennys</th>\n",
       "      <th>Panera</th>\n",
       "      <th>Sheila</th>\n",
       "      <th>Dave</th>\n",
       "      <th>Pat</th>\n",
       "      <th>cost_sheila</th>\n",
       "    </tr>\n",
       "  </thead>\n",
       "  <tbody>\n",
       "    <tr>\n",
       "      <th>2017-04-01</th>\n",
       "      <td>4.67</td>\n",
       "      <td>6.81</td>\n",
       "      <td>7.65</td>\n",
       "      <td>Panera</td>\n",
       "      <td>Waffle house</td>\n",
       "      <td>Waffle house</td>\n",
       "      <td>7.65</td>\n",
       "    </tr>\n",
       "    <tr>\n",
       "      <th>2017-04-02</th>\n",
       "      <td>6.09</td>\n",
       "      <td>5.85</td>\n",
       "      <td>6.08</td>\n",
       "      <td>Waffle house</td>\n",
       "      <td>Dennys</td>\n",
       "      <td>Waffle house</td>\n",
       "      <td>6.09</td>\n",
       "    </tr>\n",
       "    <tr>\n",
       "      <th>2017-04-03</th>\n",
       "      <td>8.29</td>\n",
       "      <td>9.73</td>\n",
       "      <td>8.98</td>\n",
       "      <td>Waffle house</td>\n",
       "      <td>Waffle house</td>\n",
       "      <td>Panera</td>\n",
       "      <td>8.29</td>\n",
       "    </tr>\n",
       "    <tr>\n",
       "      <th>2017-04-04</th>\n",
       "      <td>5.25</td>\n",
       "      <td>5.75</td>\n",
       "      <td>7.94</td>\n",
       "      <td>Dennys</td>\n",
       "      <td>Panera</td>\n",
       "      <td>Waffle house</td>\n",
       "      <td>5.75</td>\n",
       "    </tr>\n",
       "    <tr>\n",
       "      <th>2017-04-05</th>\n",
       "      <td>5.23</td>\n",
       "      <td>8.49</td>\n",
       "      <td>9.39</td>\n",
       "      <td>Waffle house</td>\n",
       "      <td>Panera</td>\n",
       "      <td>Panera</td>\n",
       "      <td>5.23</td>\n",
       "    </tr>\n",
       "    <tr>\n",
       "      <th>2017-04-06</th>\n",
       "      <td>9.09</td>\n",
       "      <td>6.92</td>\n",
       "      <td>8.94</td>\n",
       "      <td>Waffle house</td>\n",
       "      <td>Panera</td>\n",
       "      <td>Dennys</td>\n",
       "      <td>9.09</td>\n",
       "    </tr>\n",
       "    <tr>\n",
       "      <th>2017-04-07</th>\n",
       "      <td>8.43</td>\n",
       "      <td>4.78</td>\n",
       "      <td>4.59</td>\n",
       "      <td>Dennys</td>\n",
       "      <td>Panera</td>\n",
       "      <td>Panera</td>\n",
       "      <td>4.78</td>\n",
       "    </tr>\n",
       "    <tr>\n",
       "      <th>2017-04-08</th>\n",
       "      <td>8.42</td>\n",
       "      <td>7.48</td>\n",
       "      <td>5.46</td>\n",
       "      <td>Panera</td>\n",
       "      <td>Waffle house</td>\n",
       "      <td>Panera</td>\n",
       "      <td>5.46</td>\n",
       "    </tr>\n",
       "    <tr>\n",
       "      <th>2017-04-09</th>\n",
       "      <td>6.65</td>\n",
       "      <td>6.38</td>\n",
       "      <td>6.47</td>\n",
       "      <td>Panera</td>\n",
       "      <td>Panera</td>\n",
       "      <td>Panera</td>\n",
       "      <td>6.47</td>\n",
       "    </tr>\n",
       "    <tr>\n",
       "      <th>2017-04-10</th>\n",
       "      <td>6.72</td>\n",
       "      <td>4.69</td>\n",
       "      <td>4.94</td>\n",
       "      <td>Dennys</td>\n",
       "      <td>Panera</td>\n",
       "      <td>Panera</td>\n",
       "      <td>4.69</td>\n",
       "    </tr>\n",
       "  </tbody>\n",
       "</table>\n",
       "</div>"
      ],
      "text/plain": [
       "            Waffle house  Dennys  Panera        Sheila          Dave  \\\n",
       "2017-04-01          4.67    6.81    7.65        Panera  Waffle house   \n",
       "2017-04-02          6.09    5.85    6.08  Waffle house        Dennys   \n",
       "2017-04-03          8.29    9.73    8.98  Waffle house  Waffle house   \n",
       "2017-04-04          5.25    5.75    7.94        Dennys        Panera   \n",
       "2017-04-05          5.23    8.49    9.39  Waffle house        Panera   \n",
       "2017-04-06          9.09    6.92    8.94  Waffle house        Panera   \n",
       "2017-04-07          8.43    4.78    4.59        Dennys        Panera   \n",
       "2017-04-08          8.42    7.48    5.46        Panera  Waffle house   \n",
       "2017-04-09          6.65    6.38    6.47        Panera        Panera   \n",
       "2017-04-10          6.72    4.69    4.94        Dennys        Panera   \n",
       "\n",
       "                     Pat  cost_sheila  \n",
       "2017-04-01  Waffle house         7.65  \n",
       "2017-04-02  Waffle house         6.09  \n",
       "2017-04-03        Panera         8.29  \n",
       "2017-04-04  Waffle house         5.75  \n",
       "2017-04-05        Panera         5.23  \n",
       "2017-04-06        Dennys         9.09  \n",
       "2017-04-07        Panera         4.78  \n",
       "2017-04-08        Panera         5.46  \n",
       "2017-04-09        Panera         6.47  \n",
       "2017-04-10        Panera         4.69  "
      ]
     },
     "execution_count": 63,
     "metadata": {},
     "output_type": "execute_result"
    }
   ],
   "source": [
    "d_e.iloc[:10]"
   ]
  },
  {
   "cell_type": "code",
   "execution_count": null,
   "metadata": {},
   "outputs": [],
   "source": [
    "# okay!"
   ]
  }
 ],
 "metadata": {
  "kernelspec": {
   "display_name": "Python 3",
   "language": "python",
   "name": "python3"
  },
  "language_info": {
   "codemirror_mode": {
    "name": "ipython",
    "version": 3
   },
   "file_extension": ".py",
   "mimetype": "text/x-python",
   "name": "python",
   "nbconvert_exporter": "python",
   "pygments_lexer": "ipython3",
   "version": "3.6.4"
  }
 },
 "nbformat": 4,
 "nbformat_minor": 2
}
