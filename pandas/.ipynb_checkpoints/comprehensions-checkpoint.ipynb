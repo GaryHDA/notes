{
 "cells": [
  {
   "cell_type": "markdown",
   "metadata": {},
   "source": [
    "### Review and \"mise à jour\" before moving on to micro-bio module\n",
    "\n",
    "1. Do some basics \n",
    "2. Develop some advanced applications"
   ]
  },
  {
   "cell_type": "markdown",
   "metadata": {},
   "source": [
    "#### References\n",
    "1. Python for data analysis\n",
    "2. Think stats: exploratory data analysis\n",
    "3. https://pandas.pydata,org"
   ]
  },
  {
   "cell_type": "markdown",
   "metadata": {},
   "source": [
    "#### Purpose\n",
    "1. Work in the abstract (its good for the brain)\n",
    "2. Keep up to date with changes in the library\n",
    "3. Explore new ways of doing common tasks --- get better"
   ]
  },
  {
   "cell_type": "code",
   "execution_count": 1,
   "metadata": {
    "collapsed": true
   },
   "outputs": [],
   "source": [
    "# list comprehensions\n",
    "# start with a list or two\n",
    "a = ['happy', 'abrupt', 'messy', 'manic', 'excellent', 'rigorous', 'debonair', 'idealistic', 'radical', 'tasty']\n",
    "b = [12, 13, 15, 18, 1, 7, 39, 81, 6, 9, 8, 10]"
   ]
  },
  {
   "cell_type": "code",
   "execution_count": 2,
   "metadata": {
    "collapsed": true
   },
   "outputs": [],
   "source": [
    "# get all the words whose length is in list b\n",
    "c = [x for x in a if len(x) in b]\n",
    "# get all the lengths that are not in list a\n",
    "d = [len(x) for x in a if len(x) not in b]"
   ]
  },
  {
   "cell_type": "code",
   "execution_count": 3,
   "metadata": {
    "collapsed": false
   },
   "outputs": [
    {
     "name": "stdout",
     "output_type": "stream",
     "text": [
      "['abrupt', 'excellent', 'rigorous', 'debonair', 'idealistic', 'radical'] [5, 5, 5, 5]\n"
     ]
    }
   ],
   "source": [
    "print(c, d)"
   ]
  },
  {
   "cell_type": "code",
   "execution_count": 4,
   "metadata": {
    "collapsed": false
   },
   "outputs": [
    {
     "data": {
      "text/plain": [
       "{5}"
      ]
     },
     "execution_count": 4,
     "metadata": {},
     "output_type": "execute_result"
    }
   ],
   "source": [
    "# we can do better than that\n",
    "# use a set comprehension\n",
    "# that way there are no duplicates\n",
    "d = {len(x) for x in a if len(x) not in b}\n",
    "d"
   ]
  },
  {
   "cell_type": "code",
   "execution_count": 5,
   "metadata": {
    "collapsed": false
   },
   "outputs": [
    {
     "name": "stdout",
     "output_type": "stream",
     "text": [
      "{'happy': 5, 'abrupt': 6, 'messy': 5, 'manic': 5, 'excellent': 9, 'rigorous': 8, 'debonair': 8, 'idealistic': 10, 'radical': 7, 'tasty': 5}\n"
     ]
    }
   ],
   "source": [
    "# tie the words to lengths with a dict\n",
    "e = {x : len(x) for x in a}\n",
    "print(e)"
   ]
  },
  {
   "cell_type": "code",
   "execution_count": 6,
   "metadata": {
    "collapsed": false
   },
   "outputs": [
    {
     "name": "stdout",
     "output_type": "stream",
     "text": [
      "{'happy': 5, 'abrupt': 6, 'messy': 5, 'manic': 5, 'radical': 7, 'tasty': 5}\n"
     ]
    }
   ],
   "source": [
    "# conditionals are of course allowed\n",
    "d = {x: len(x) for x in a if len(x) < 8}\n",
    "print(d)"
   ]
  },
  {
   "cell_type": "code",
   "execution_count": 9,
   "metadata": {
    "collapsed": false
   },
   "outputs": [
    {
     "name": "stdout",
     "output_type": "stream",
     "text": [
      "25 5\n"
     ]
    }
   ],
   "source": [
    "# functions and lambda functions\n",
    "# silly function that does nothing except to remind that output is tuple\n",
    "# tuple unpacking rules apply.... got some code to clean up\n",
    "def this_function(d):\n",
    "    for x in a:\n",
    "        b = len(x)**2\n",
    "        c = len(x)\n",
    "    return b,c\n",
    "f, g = this_function(a)\n",
    "print(f, g)"
   ]
  },
  {
   "cell_type": "code",
   "execution_count": 14,
   "metadata": {
    "collapsed": false
   },
   "outputs": [
    {
     "data": {
      "text/plain": [
       "[144, 169, 225, 324, 1, 49, 1521, 6561, 36, 81, 64, 100]"
      ]
     },
     "execution_count": 14,
     "metadata": {},
     "output_type": "execute_result"
    }
   ],
   "source": [
    "# lambda functions\n",
    "h = lambda x: x**2\n",
    "i = [h(x) for x in b]\n",
    "i"
   ]
  },
  {
   "cell_type": "code",
   "execution_count": 20,
   "metadata": {
    "collapsed": false
   },
   "outputs": [
    {
     "name": "stdout",
     "output_type": "stream",
     "text": [
      "[149, 174, 230, 329, 6, 54, 1526, 6566, 41, 86, 69, 105]\n"
     ]
    }
   ],
   "source": [
    "# use a lambda function as input for another\n",
    "add_one = lambda x: x + 5\n",
    "j = [add_one(h(x)) for x in b]\n",
    "print(j)"
   ]
  },
  {
   "cell_type": "code",
   "execution_count": null,
   "metadata": {
    "collapsed": true
   },
   "outputs": [],
   "source": []
  }
 ],
 "metadata": {
  "kernelspec": {
   "display_name": "Python 3.6",
   "language": "python",
   "name": "python3.6"
  },
  "language_info": {
   "codemirror_mode": {
    "name": "ipython",
    "version": 3
   },
   "file_extension": ".py",
   "mimetype": "text/x-python",
   "name": "python",
   "nbconvert_exporter": "python",
   "pygments_lexer": "ipython3",
   "version": "3.6.0"
  }
 },
 "nbformat": 4,
 "nbformat_minor": 0
}
