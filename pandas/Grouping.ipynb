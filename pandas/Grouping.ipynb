{
 "cells": [
  {
   "cell_type": "markdown",
   "metadata": {},
   "source": [
    "## Grouping operations "
   ]
  },
  {
   "cell_type": "markdown",
   "metadata": {},
   "source": [
    "#### References\n",
    "1. Python for data analysis\n",
    "2. Think stats: exploratory data analysis\n",
    "3. https://pandas.pydata,org\n",
    "\n",
    "#### Purpose\n",
    "1. Work in the abstract (its good for the brain)\n",
    "2. Keep up to date with changes in the library\n",
    "3. Explore new ways of doing common tasks --- get better\n",
    "\n"
   ]
  },
  {
   "cell_type": "code",
   "execution_count": 2,
   "metadata": {},
   "outputs": [],
   "source": [
    "import pandas as pd\n",
    "import numpy as np\n",
    "import matplotlib\n",
    "import matplotlib.pyplot as plt\n",
    "import pickle\n",
    "import re\n"
   ]
  },
  {
   "cell_type": "code",
   "execution_count": 3,
   "metadata": {},
   "outputs": [
    {
     "data": {
      "text/plain": [
       "'/home/mw-shovel/web/notes/pandas'"
      ]
     },
     "execution_count": 3,
     "metadata": {},
     "output_type": "execute_result"
    }
   ],
   "source": [
    "import os\n",
    "here = os.getcwd()\n",
    "data = '/home/mw-shovel/web/notes/basel/data'\n",
    "here"
   ]
  },
  {
   "cell_type": "code",
   "execution_count": 4,
   "metadata": {},
   "outputs": [],
   "source": [
    "#os.listdir(data)"
   ]
  },
  {
   "cell_type": "code",
   "execution_count": 5,
   "metadata": {},
   "outputs": [],
   "source": [
    "slr = pd.read_pickle(data + '/combined.p')\n",
    "mcb = pd.read_pickle(data + '/combined_mc.p')\n",
    "mcb_slr = pd.read_pickle(data + '/mcb_slr.p')\n",
    "g_all = pd.read_pickle(data + '/water_bodies_all.p')\n",
    "g = pd.read_pickle(data + '/water_bodies.p')\n",
    "codes = pd.read_pickle(data + '/codes.p')"
   ]
  },
  {
   "cell_type": "code",
   "execution_count": 6,
   "metadata": {},
   "outputs": [],
   "source": [
    "slr.rename(columns={'density':'pcs_m'}, inplace=True)\n",
    "mcb.rename(columns={'density':'pcs_m'}, inplace=True)"
   ]
  },
  {
   "cell_type": "code",
   "execution_count": 7,
   "metadata": {},
   "outputs": [],
   "source": [
    "code_dict = {}\n",
    "for code in codes:\n",
    "    a = {code['code']:[code['description'], code['material'], code['source']]}\n",
    "    code_dict.update(a)"
   ]
  },
  {
   "cell_type": "code",
   "execution_count": 8,
   "metadata": {},
   "outputs": [],
   "source": [
    "a = list(code_dict)\n",
    "sources = []\n",
    "for item in a:\n",
    "    c = code_dict[item][2]\n",
    "    if c not in sources:\n",
    "        sources.append(c)\n",
    "source_dict = {}\n",
    "for source in sources:\n",
    "    e = []\n",
    "    for code in a:\n",
    "        d = code_dict[code][2]\n",
    "        if d == source:\n",
    "            e.append(code)\n",
    "    source_dict.update({source:e})"
   ]
  },
  {
   "cell_type": "code",
   "execution_count": 9,
   "metadata": {},
   "outputs": [],
   "source": [
    "\n",
    "def group_codes(the_source, the_key):\n",
    "    e = {}\n",
    "    for b in the_source:\n",
    "        c = {b['code']:b[the_key]}\n",
    "        e.update(c)\n",
    "    return e\n",
    "source_group = group_codes(codes, 'source')\n",
    "material_group = group_codes(codes, 'material')"
   ]
  },
  {
   "cell_type": "code",
   "execution_count": 10,
   "metadata": {},
   "outputs": [
    {
     "data": {
      "text/plain": [
       "Index(['code_id', 'date', 'pcs_m', 'length', 'location_id', 'quantity', 'city',\n",
       "       'latitude', 'longitude', 'post', 'water', 'pop', 'area', 'pop_dens',\n",
       "       'day'],\n",
       "      dtype='object')"
      ]
     },
     "execution_count": 10,
     "metadata": {},
     "output_type": "execute_result"
    }
   ],
   "source": [
    "mcb_slr.columns"
   ]
  },
  {
   "cell_type": "code",
   "execution_count": 11,
   "metadata": {},
   "outputs": [],
   "source": [
    "dfA = mcb_slr.pivot_table('pcs_m', index=['date', 'day', 'water','city','location_id'], columns=['code_id'], fill_value=0)"
   ]
  },
  {
   "cell_type": "code",
   "execution_count": 12,
   "metadata": {},
   "outputs": [],
   "source": [
    "dfA['total'] = dfA[dfA.columns].sum(axis=1)"
   ]
  },
  {
   "cell_type": "code",
   "execution_count": 13,
   "metadata": {},
   "outputs": [],
   "source": [
    "idx = pd.IndexSlice"
   ]
  },
  {
   "cell_type": "code",
   "execution_count": 14,
   "metadata": {},
   "outputs": [
    {
     "data": {
      "text/plain": [
       "date        day  water  city           location_id               \n",
       "2017-04-02  6    river  Bern           aare_bern_scheurerk           0.022\n",
       "                                       aarezufluss_bern_scheurerk    0.503\n",
       "                        Muri bei Bern  Aare_Bern_CaveltiN            1.681\n",
       "2017-04-07  4    river  Belp           aare_kehrsatz_stolten         0.175\n",
       "2017-04-12  2    river  Brugg          Aare_Brugg_BuchiE             2.450\n",
       "2017-04-13  3    river  Aarau          aare_suhrespitz_badert        2.506\n",
       "                        Rupperswil     aare_rupperswil_badert        0.480\n",
       "2017-04-14  4    river  Bern           Aare_bern_gerberm             1.728\n",
       "2017-04-21  4    river  Solothurn      aare_solothurn_nguyena        0.351\n",
       "2017-04-23  6    river  Köniz          aare_köniz_hoppej             1.677\n",
       "Name: total, dtype: float64"
      ]
     },
     "execution_count": 14,
     "metadata": {},
     "output_type": "execute_result"
    }
   ],
   "source": [
    "dfA.loc[idx[:, :, :, :, g_all['Aare']], 'total'][:10]"
   ]
  },
  {
   "cell_type": "code",
   "execution_count": 15,
   "metadata": {},
   "outputs": [
    {
     "data": {
      "text/plain": [
       "date        day  water  city          location_id                    \n",
       "2017-04-30  6    river  Luzern        Reuss_St.Karli_LinigerS/ImhofY     8.710\n",
       "2017-05-28  6    river  Merenschwand  reuss_ottenbach_schoenenbergerl    3.365\n",
       "2017-07-09  6    river  Hünenberg     reuss_hünenberg_eberhardy          0.965\n",
       "2017-07-30  6    river  Merenschwand  reuss_ottenbach_schoenenbergerl    3.819\n",
       "2017-08-27  6    river  Merenschwand  reuss_ottenbach_schoenenbergerl    2.364\n",
       "Name: total, dtype: float64"
      ]
     },
     "execution_count": 15,
     "metadata": {},
     "output_type": "execute_result"
    }
   ],
   "source": [
    "dfA.loc[idx[:, 6, :, :,g_all['Reuss']], 'total'][:5]"
   ]
  },
  {
   "cell_type": "code",
   "execution_count": 16,
   "metadata": {},
   "outputs": [
    {
     "data": {
      "text/plain": [
       "Index(['G1', 'G10', 'G100', 'G101', 'G102', 'G11', 'G12', 'G124', 'G125',\n",
       "       'G126',\n",
       "       ...\n",
       "       'G9', 'G90', 'G91', 'G92', 'G93', 'G95', 'G96', 'G97', 'G99', 'total'],\n",
       "      dtype='object', name='code_id', length=121)"
      ]
     },
     "execution_count": 16,
     "metadata": {},
     "output_type": "execute_result"
    }
   ],
   "source": [
    "dfA.columns"
   ]
  },
  {
   "cell_type": "code",
   "execution_count": 21,
   "metadata": {},
   "outputs": [
    {
     "name": "stdout",
     "output_type": "stream",
     "text": [
      "date\n",
      "day\n",
      "water\n",
      "city\n",
      "location_id\n"
     ]
    }
   ],
   "source": [
    "def cycle_through_index(a):\n",
    "    b = a.index.names\n",
    "    for c in b:\n",
    "        print(c)\n",
    "cycle_through_index(dfA)"
   ]
  },
  {
   "cell_type": "code",
   "execution_count": 22,
   "metadata": {},
   "outputs": [],
   "source": [
    "group_source = dfA.groupby(source_group, axis=1)\n",
    "group_material = dfA.groupby(material_group, axis=1)"
   ]
  },
  {
   "cell_type": "code",
   "execution_count": 24,
   "metadata": {},
   "outputs": [],
   "source": [
    "g_s = group_source.sum()\n",
    "g_s_d = group_source.describe()"
   ]
  },
  {
   "cell_type": "code",
   "execution_count": 29,
   "metadata": {},
   "outputs": [],
   "source": [
    "frag_max = g_s_d.loc['Fragmented']['max']"
   ]
  },
  {
   "cell_type": "code",
   "execution_count": 36,
   "metadata": {},
   "outputs": [
    {
     "data": {
      "text/plain": [
       "code_id\n",
       "G124     2.808000\n",
       "G66      0.764706\n",
       "G67      6.100000\n",
       "G76      0.189189\n",
       "G79      9.823529\n",
       "G80      1.273000\n",
       "G82     13.875000\n",
       "G83      3.107143\n",
       "G89      1.575000\n",
       "G93      0.100000\n",
       "Name: max, dtype: float64"
      ]
     },
     "execution_count": 36,
     "metadata": {},
     "output_type": "execute_result"
    }
   ],
   "source": [
    "frag_max"
   ]
  },
  {
   "cell_type": "code",
   "execution_count": null,
   "metadata": {},
   "outputs": [],
   "source": [
    "# get the df:\n",
    "def city(df, x):\n",
    "    a = df[df.city == x].copy()\n",
    "    return a\n",
    "# group by piece per m (total)\n",
    "def group_pcs_m(df):\n",
    "    a = df.groupby(['date', 'location_id'])[['pcs_per_m']].sum()\n",
    "    return a\n",
    "# graph the city surveys\n",
    "def graph_city_surveys(df):\n",
    "    plt.figure(figsize=(12,5));\n",
    "    df.plot()\n",
    "    plt.show()\n",
    "# get the top ten surveys\n",
    "def top_ten_surveys(df, n=10, column='pcs_per_m'):\n",
    "    a = df.sort_values(by=column)[-n:]\n",
    "    return a\n",
    "#graph the top ten\n",
    "def graph_top(df):\n",
    "    plt.figure(figsize=(12,5));\n",
    "    df.plot.bar()\n",
    "    plt.show()\n",
    "# make a pivot table\n",
    "def make_pivot(df):\n",
    "    a = df.pivot_table(['pcs_per_m'], index=['date', 'post', 'water', 'location_id'], columns=['code_id'])\n",
    "    return a\n",
    "# get the grouping data\n",
    "def use_pickle(file):\n",
    "    a = pickle.load(open(file, 'rb'))\n",
    "# make grouping dict\n",
    "def code_desc(x):\n",
    "    a, c, f = {}, {}, {}\n",
    "    for i in x:\n",
    "        b = {i['code']:i['description']}\n",
    "        d = {i['code']:i['material']}\n",
    "        e = {i['code']:i['source']}\n",
    "        a.update(b)\n",
    "        c.update(d)\n",
    "        f.update(e)\n",
    "    return a, c, f\n",
    "dfZQ = z_pivot_q.groupby(sources, level='code_id', axis=1).sum()\n",
    "# use code_desc to group pivot table as sources or material\n",
    "def make_a_group(pivot_table, group):\n",
    "    a = pivot_table.groupby(group, level='code_id', axis=1).sum()\n",
    "    return a\n",
    "# get the index values you need\n",
    "def get_index_names(df, level):\n",
    "    a = df.index.get_level_values(level).unique()\n",
    "    return a"
   ]
  }
 ],
 "metadata": {
  "kernelspec": {
   "display_name": "Python 3",
   "language": "python",
   "name": "python3"
  },
  "language_info": {
   "codemirror_mode": {
    "name": "ipython",
    "version": 3
   },
   "file_extension": ".py",
   "mimetype": "text/x-python",
   "name": "python",
   "nbconvert_exporter": "python",
   "pygments_lexer": "ipython3",
   "version": "3.6.4"
  }
 },
 "nbformat": 4,
 "nbformat_minor": 2
}
