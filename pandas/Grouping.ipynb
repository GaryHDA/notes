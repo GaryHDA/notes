{
 "cells": [
  {
   "cell_type": "markdown",
   "metadata": {},
   "source": [
    "## Grouping operations "
   ]
  },
  {
   "cell_type": "markdown",
   "metadata": {},
   "source": [
    "#### References\n",
    "1. Python for data analysis\n",
    "2. Think stats: exploratory data analysis\n",
    "3. https://pandas.pydata,org\n",
    "\n",
    "#### Purpose\n",
    "1. Work in the abstract (its good for the brain)\n",
    "2. Keep up to date with changes in the library\n",
    "3. Explore new ways of doing common tasks --- get better\n",
    "\n"
   ]
  },
  {
   "cell_type": "code",
   "execution_count": 1,
   "metadata": {},
   "outputs": [],
   "source": [
    "import pandas as pd\n",
    "import numpy as np\n",
    "import matplotlib\n",
    "import matplotlib.pyplot as plt\n",
    "import pickle\n",
    "import re\n"
   ]
  },
  {
   "cell_type": "code",
   "execution_count": 2,
   "metadata": {},
   "outputs": [
    {
     "data": {
      "text/plain": [
       "'/home/mw-shovel/web/notes/pandas'"
      ]
     },
     "execution_count": 2,
     "metadata": {},
     "output_type": "execute_result"
    }
   ],
   "source": [
    "import os\n",
    "here = os.getcwd()\n",
    "data = '/home/mw-shovel/web/notes/basel/data'\n",
    "here"
   ]
  },
  {
   "cell_type": "code",
   "execution_count": 3,
   "metadata": {},
   "outputs": [],
   "source": [
    "#os.listdir(data)"
   ]
  },
  {
   "cell_type": "code",
   "execution_count": 4,
   "metadata": {},
   "outputs": [],
   "source": [
    "slr = pd.read_pickle(data + '/combined.p')\n",
    "mcb = pd.read_pickle(data + '/combined_mc.p')\n",
    "mcb_slr = pd.read_pickle(data + '/mcb_slr.p')\n",
    "g_all = pd.read_pickle(data + '/water_bodies_all.p')\n",
    "g = pd.read_pickle(data + '/water_bodies.p')\n",
    "codes = pd.read_pickle(data + '/codes.p')"
   ]
  },
  {
   "cell_type": "code",
   "execution_count": 5,
   "metadata": {},
   "outputs": [],
   "source": [
    "slr.rename(columns={'density':'pcs_m'}, inplace=True)\n",
    "mcb.rename(columns={'density':'pcs_m'}, inplace=True)"
   ]
  },
  {
   "cell_type": "code",
   "execution_count": 6,
   "metadata": {},
   "outputs": [],
   "source": [
    "code_dict = {}\n",
    "for code in codes:\n",
    "    a = {code['code']:[code['description'], code['material'], code['source']]}\n",
    "    code_dict.update(a)"
   ]
  },
  {
   "cell_type": "code",
   "execution_count": 7,
   "metadata": {},
   "outputs": [],
   "source": [
    "a = list(code_dict)\n",
    "sources = []\n",
    "for item in a:\n",
    "    c = code_dict[item][2]\n",
    "    if c not in sources:\n",
    "        sources.append(c)\n",
    "source_dict = {}\n",
    "for source in sources:\n",
    "    e = []\n",
    "    for code in a:\n",
    "        d = code_dict[code][2]\n",
    "        if d == source:\n",
    "            e.append(code)\n",
    "    source_dict.update({source:e})"
   ]
  },
  {
   "cell_type": "code",
   "execution_count": 8,
   "metadata": {},
   "outputs": [],
   "source": [
    "\n",
    "def group_codes(the_source, the_key):\n",
    "    e = {}\n",
    "    for b in the_source:\n",
    "        c = {b['code']:b[the_key]}\n",
    "        e.update(c)\n",
    "    return e\n",
    "source_group = group_codes(codes, 'source')\n",
    "material_group = group_codes(codes, 'material')"
   ]
  },
  {
   "cell_type": "code",
   "execution_count": 9,
   "metadata": {},
   "outputs": [
    {
     "data": {
      "text/plain": [
       "Index(['code_id', 'date', 'pcs_m', 'length', 'location_id', 'quantity', 'city',\n",
       "       'latitude', 'longitude', 'post', 'water', 'pop', 'area', 'pop_dens',\n",
       "       'day'],\n",
       "      dtype='object')"
      ]
     },
     "execution_count": 9,
     "metadata": {},
     "output_type": "execute_result"
    }
   ],
   "source": [
    "mcb_slr.columns"
   ]
  },
  {
   "cell_type": "code",
   "execution_count": 10,
   "metadata": {},
   "outputs": [],
   "source": [
    "dfA = mcb_slr.pivot_table('pcs_m', index=['date', 'day', 'water','city','location_id'], columns=['code_id'], fill_value=0)"
   ]
  },
  {
   "cell_type": "code",
   "execution_count": 11,
   "metadata": {},
   "outputs": [],
   "source": [
    "dfA['total'] = dfA[dfA.columns].sum(axis=1)"
   ]
  },
  {
   "cell_type": "code",
   "execution_count": 12,
   "metadata": {},
   "outputs": [],
   "source": [
    "idx = pd.IndexSlice"
   ]
  },
  {
   "cell_type": "code",
   "execution_count": 13,
   "metadata": {},
   "outputs": [
    {
     "data": {
      "text/plain": [
       "date        day  water  city           location_id               \n",
       "2017-04-02  6    river  Bern           aare_bern_scheurerk           0.022\n",
       "                                       aarezufluss_bern_scheurerk    0.503\n",
       "                        Muri bei Bern  Aare_Bern_CaveltiN            1.681\n",
       "2017-04-07  4    river  Belp           aare_kehrsatz_stolten         0.175\n",
       "2017-04-12  2    river  Brugg          Aare_Brugg_BuchiE             2.450\n",
       "2017-04-13  3    river  Aarau          aare_suhrespitz_badert        2.506\n",
       "                        Rupperswil     aare_rupperswil_badert        0.480\n",
       "2017-04-14  4    river  Bern           Aare_bern_gerberm             1.728\n",
       "2017-04-21  4    river  Solothurn      aare_solothurn_nguyena        0.351\n",
       "2017-04-23  6    river  Köniz          aare_köniz_hoppej             1.677\n",
       "Name: total, dtype: float64"
      ]
     },
     "execution_count": 13,
     "metadata": {},
     "output_type": "execute_result"
    }
   ],
   "source": [
    "dfA.loc[idx[:, :, :, :, g_all['Aare']], 'total'][:10]"
   ]
  },
  {
   "cell_type": "code",
   "execution_count": 14,
   "metadata": {},
   "outputs": [
    {
     "data": {
      "text/plain": [
       "date        day  water  city          location_id                    \n",
       "2017-04-30  6    river  Luzern        Reuss_St.Karli_LinigerS/ImhofY     8.710\n",
       "2017-05-28  6    river  Merenschwand  reuss_ottenbach_schoenenbergerl    3.365\n",
       "2017-07-09  6    river  Hünenberg     reuss_hünenberg_eberhardy          0.965\n",
       "2017-07-30  6    river  Merenschwand  reuss_ottenbach_schoenenbergerl    3.819\n",
       "2017-08-27  6    river  Merenschwand  reuss_ottenbach_schoenenbergerl    2.364\n",
       "Name: total, dtype: float64"
      ]
     },
     "execution_count": 14,
     "metadata": {},
     "output_type": "execute_result"
    }
   ],
   "source": [
    "dfA.loc[idx[:, 6, :, :,g_all['Reuss']], 'total'][:5]"
   ]
  },
  {
   "cell_type": "code",
   "execution_count": 15,
   "metadata": {},
   "outputs": [
    {
     "data": {
      "text/plain": [
       "Index(['G1', 'G10', 'G100', 'G101', 'G102', 'G11', 'G12', 'G124', 'G125',\n",
       "       'G126',\n",
       "       ...\n",
       "       'G9', 'G90', 'G91', 'G92', 'G93', 'G95', 'G96', 'G97', 'G99', 'total'],\n",
       "      dtype='object', name='code_id', length=121)"
      ]
     },
     "execution_count": 15,
     "metadata": {},
     "output_type": "execute_result"
    }
   ],
   "source": [
    "dfA.columns"
   ]
  },
  {
   "cell_type": "code",
   "execution_count": 16,
   "metadata": {},
   "outputs": [
    {
     "name": "stdout",
     "output_type": "stream",
     "text": [
      "date\n",
      "day\n",
      "water\n",
      "city\n",
      "location_id\n"
     ]
    }
   ],
   "source": [
    "def cycle_through_index(a):\n",
    "    b = a.index.names\n",
    "    for c in b:\n",
    "        print(c)\n",
    "cycle_through_index(dfA)"
   ]
  },
  {
   "cell_type": "code",
   "execution_count": 17,
   "metadata": {},
   "outputs": [],
   "source": [
    "group_source = dfA.groupby(source_group, axis=1)\n",
    "group_material = dfA.groupby(material_group, axis=1)"
   ]
  },
  {
   "cell_type": "code",
   "execution_count": 18,
   "metadata": {},
   "outputs": [],
   "source": [
    "g_s = group_source.sum()\n",
    "g_s_d = group_source.describe()"
   ]
  },
  {
   "cell_type": "code",
   "execution_count": 19,
   "metadata": {},
   "outputs": [],
   "source": [
    "frag_max = g_s_d.loc['Fragmented']['max']"
   ]
  },
  {
   "cell_type": "code",
   "execution_count": 20,
   "metadata": {},
   "outputs": [
    {
     "data": {
      "text/plain": [
       "code_id\n",
       "G124     2.808000\n",
       "G66      0.764706\n",
       "G67      6.100000\n",
       "G76      0.189189\n",
       "G79      9.823529\n",
       "G80      1.273000\n",
       "G82     13.875000\n",
       "G83      3.107143\n",
       "G89      1.575000\n",
       "G93      0.100000\n",
       "Name: max, dtype: float64"
      ]
     },
     "execution_count": 20,
     "metadata": {},
     "output_type": "execute_result"
    }
   ],
   "source": [
    "frag_max"
   ]
  },
  {
   "cell_type": "code",
   "execution_count": 21,
   "metadata": {},
   "outputs": [
    {
     "data": {
      "text/plain": [
       "array(['Nov-2015', 'Dec-2015', 'Jan-2016', 'Feb-2016', 'Mar-2016',\n",
       "       'Apr-2016', 'May-2016', 'Jun-2016', 'Jul-2016', 'Sep-2016',\n",
       "       'Dec-2016', 'Aug-2016', 'Oct-2016', 'Nov-2016', 'Jan-2017',\n",
       "       'Mar-2017', 'Apr-2017', 'Feb-2017', 'Jun-2017', 'Jul-2017',\n",
       "       'May-2017', 'Nov-2017', 'Sep-2017', 'Oct-2017', 'Apr-2018',\n",
       "       'Feb-2018', 'Mar-2018', 'May-2018'], dtype=object)"
      ]
     },
     "execution_count": 21,
     "metadata": {},
     "output_type": "execute_result"
    }
   ],
   "source": [
    "q_day = pd.to_datetime(mcb['date'])\n",
    "s_day = q_day.dt.strftime('%b-%Y')\n",
    "s_day = s_day.unique()\n",
    "s_day"
   ]
  },
  {
   "cell_type": "code",
   "execution_count": 22,
   "metadata": {},
   "outputs": [
    {
     "data": {
      "text/plain": [
       "['water_bodies.json', 'css', 'images', 'js']"
      ]
     },
     "execution_count": 22,
     "metadata": {},
     "output_type": "execute_result"
    }
   ],
   "source": [
    "dirt_static = '/home/mw-shovel/web/module_one/dirt/static'\n",
    "os.listdir(dirt_static)"
   ]
  },
  {
   "cell_type": "code",
   "execution_count": 23,
   "metadata": {},
   "outputs": [],
   "source": [
    "# import json\n",
    "# with open(dirt_static + \"/water_bodies.json\", \"w\") as fp:\n",
    "#     json.dump(g_all , fp) "
   ]
  },
  {
   "cell_type": "code",
   "execution_count": 24,
   "metadata": {},
   "outputs": [],
   "source": [
    "# dirt_static = '/home/mw-shovel/web/module_one/dirt/static'\n",
    "# with open(dirt_static + \"/water_bodies.json\", 'r') as f:\n",
    "#      a = json.load(f)"
   ]
  },
  {
   "cell_type": "code",
   "execution_count": 25,
   "metadata": {},
   "outputs": [],
   "source": [
    "a = dfA.copy()\n",
    "a.index.names\n",
    "a.reset_index(inplace=True)"
   ]
  },
  {
   "cell_type": "code",
   "execution_count": 26,
   "metadata": {},
   "outputs": [
    {
     "data": {
      "text/html": [
       "<div>\n",
       "<style scoped>\n",
       "    .dataframe tbody tr th:only-of-type {\n",
       "        vertical-align: middle;\n",
       "    }\n",
       "\n",
       "    .dataframe tbody tr th {\n",
       "        vertical-align: top;\n",
       "    }\n",
       "\n",
       "    .dataframe thead th {\n",
       "        text-align: right;\n",
       "    }\n",
       "</style>\n",
       "<table border=\"1\" class=\"dataframe\">\n",
       "  <thead>\n",
       "    <tr style=\"text-align: right;\">\n",
       "      <th>code_id</th>\n",
       "      <th>date</th>\n",
       "      <th>location_id</th>\n",
       "      <th>total</th>\n",
       "    </tr>\n",
       "  </thead>\n",
       "  <tbody>\n",
       "    <tr>\n",
       "      <th>0</th>\n",
       "      <td>2015-11-23</td>\n",
       "      <td>Baye de Montreux - G</td>\n",
       "      <td>5.721311</td>\n",
       "    </tr>\n",
       "    <tr>\n",
       "      <th>1</th>\n",
       "      <td>2015-11-24</td>\n",
       "      <td>Baye de Clarens</td>\n",
       "      <td>1.695652</td>\n",
       "    </tr>\n",
       "    <tr>\n",
       "      <th>2</th>\n",
       "      <td>2015-11-27</td>\n",
       "      <td>Veveyse</td>\n",
       "      <td>4.075472</td>\n",
       "    </tr>\n",
       "    <tr>\n",
       "      <th>3</th>\n",
       "      <td>2015-12-01</td>\n",
       "      <td>Veveyse</td>\n",
       "      <td>0.981132</td>\n",
       "    </tr>\n",
       "    <tr>\n",
       "      <th>4</th>\n",
       "      <td>2015-12-02</td>\n",
       "      <td>Baye de Clarens</td>\n",
       "      <td>0.681159</td>\n",
       "    </tr>\n",
       "  </tbody>\n",
       "</table>\n",
       "</div>"
      ],
      "text/plain": [
       "code_id       date           location_id     total\n",
       "0       2015-11-23  Baye de Montreux - G  5.721311\n",
       "1       2015-11-24       Baye de Clarens  1.695652\n",
       "2       2015-11-27               Veveyse  4.075472\n",
       "3       2015-12-01               Veveyse  0.981132\n",
       "4       2015-12-02       Baye de Clarens  0.681159"
      ]
     },
     "execution_count": 26,
     "metadata": {},
     "output_type": "execute_result"
    }
   ],
   "source": [
    "a = a[['date','location_id','total']].copy()\n",
    "a = a.loc[a.location_id.isin(g_all['Lac Léman'])].copy()\n",
    "a[:5]"
   ]
  },
  {
   "cell_type": "code",
   "execution_count": 27,
   "metadata": {},
   "outputs": [
    {
     "data": {
      "text/plain": [
       "Int64Index([   0,    1,    2,    3,    4,    5,    6,    7,    8,    9,\n",
       "            ...\n",
       "             903,  904,  918,  962,  970,  971,  987, 1006, 1007, 1008],\n",
       "           dtype='int64', length=140)"
      ]
     },
     "execution_count": 27,
     "metadata": {},
     "output_type": "execute_result"
    }
   ],
   "source": [
    "a.index"
   ]
  },
  {
   "cell_type": "code",
   "execution_count": 28,
   "metadata": {},
   "outputs": [],
   "source": [
    "from scipy.stats import norm\n",
    "import scipy.stats\n",
    "\n",
    "\n",
    "\n",
    "c_1 = a.loc[(a.date > \"2015-11-15\")&(a.date < \"2016-11-15\")].copy()\n",
    "c_2 = a.loc[(a.date > \"2016-11-15\") & (a.date < \"2017-11-15\")].copy()\n",
    "c_1.sort_values('total', inplace=True)\n",
    "c_2.sort_values('total', inplace=True)\n"
   ]
  },
  {
   "cell_type": "code",
   "execution_count": 29,
   "metadata": {},
   "outputs": [],
   "source": [
    "c_2['ln'] = np.log(c_2['total'])\n",
    "c_1['ln'] = np.log(c_1['total'])"
   ]
  },
  {
   "cell_type": "code",
   "execution_count": 31,
   "metadata": {},
   "outputs": [],
   "source": [
    "loc = np.mean(c_2['ln'])\n",
    "scale = np.std(c_2['ln'])\n",
    "\n",
    "c_2['y'] = norm.pdf(c_2['ln'], loc, scale)"
   ]
  },
  {
   "cell_type": "code",
   "execution_count": 32,
   "metadata": {},
   "outputs": [
    {
     "data": {
      "text/plain": [
       "419    0.022100\n",
       "605    0.042332\n",
       "687    0.046167\n",
       "91     0.068465\n",
       "728    0.068590\n",
       "501    0.104932\n",
       "87     0.250591\n",
       "93     0.333595\n",
       "721    0.341015\n",
       "569    0.341185\n",
       "118    0.383141\n",
       "650    0.385090\n",
       "86     0.386696\n",
       "679    0.387187\n",
       "641    0.387613\n",
       "465    0.387918\n",
       "85     0.388478\n",
       "718    0.388688\n",
       "90     0.388908\n",
       "98     0.388890\n",
       "380    0.388878\n",
       "445    0.378895\n",
       "89     0.376528\n",
       "680    0.375219\n",
       "83     0.372541\n",
       "94     0.366624\n",
       "551    0.360712\n",
       "663    0.344459\n",
       "192    0.336656\n",
       "771    0.329062\n",
       "88     0.326882\n",
       "327    0.306996\n",
       "265    0.304596\n",
       "240    0.252792\n",
       "266    0.242780\n",
       "258    0.239377\n",
       "84     0.197600\n",
       "92     0.175621\n",
       "467    0.154297\n",
       "241    0.146059\n",
       "309    0.088452\n",
       "Name: y, dtype: float64"
      ]
     },
     "execution_count": 32,
     "metadata": {},
     "output_type": "execute_result"
    }
   ],
   "source": [
    "c_2['y']"
   ]
  },
  {
   "cell_type": "code",
   "execution_count": 92,
   "metadata": {},
   "outputs": [],
   "source": [
    "def make_pdf(d,e):\n",
    "    loc = np.mean(e)\n",
    "    scale = np.std(e)\n",
    "    d['lN'] = norm.logpdf(e, loc, scale)\n",
    "    #d.sort_values(by='lN', axis=1, inplace=True)\n",
    "make_pdf(c_1, c_1['total'])\n",
    "make_pdf(c_2, c_2['total'])\n",
    "#c_1.sort_values(by='lN', axis=1, inplace=True)\n",
    "def make_lists(df):\n",
    "    \n",
    "    a = list(df['lN'])\n",
    "    b = list(np.log(df['total']))\n",
    "    return a, b\n",
    "d_one_y, d_one_x = make_lists(c_1)\n",
    "d_two_y, d_two_x = make_lists(c_2)"
   ]
  },
  {
   "cell_type": "code",
   "execution_count": 93,
   "metadata": {},
   "outputs": [
    {
     "name": "stdout",
     "output_type": "stream",
     "text": [
      "83 83\n"
     ]
    }
   ],
   "source": [
    "print(len(d_one_y), len(d_one_x))"
   ]
  },
  {
   "cell_type": "code",
   "execution_count": null,
   "metadata": {},
   "outputs": [],
   "source": []
  },
  {
   "cell_type": "code",
   "execution_count": 107,
   "metadata": {},
   "outputs": [
    {
     "data": {
      "image/png": "[encoded data removed]",
      "text/plain": [
       "<matplotlib.figure.Figure at 0x7f04cb6a1240>"
      ]
     },
     "metadata": {},
     "output_type": "display_data"
    }
   ],
   "source": [
    "fig, ax = plt.subplots(figsize=(8,8))\n",
    "x = list(c_2['ln'])\n",
    "x1 = list(c_1['ln'])\n",
    "loc = np.mean(x)\n",
    "scale = np.std(x)\n",
    "loc1 = np.mean(x1)\n",
    "scale1 = np.std(x1)\n",
    "ax.plot(x,  norm.pdf(x, loc, scale), color='r')\n",
    "ax.plot(x1,  norm.pdf(x1, loc1, scale1))\n",
    "plt.show()"
   ]
  },
  {
   "cell_type": "code",
   "execution_count": 21,
   "metadata": {},
   "outputs": [
    {
     "ename": "NameError",
     "evalue": "name 'z_pivot_q' is not defined",
     "output_type": "error",
     "traceback": [
      "\u001b[0;31m---------------------------------------------------------------------------\u001b[0m",
      "\u001b[0;31mNameError\u001b[0m                                 Traceback (most recent call last)",
      "\u001b[0;32m<ipython-input-21-fb9828e88f95>\u001b[0m in \u001b[0;36m<module>\u001b[0;34m()\u001b[0m\n\u001b[1;32m     39\u001b[0m         \u001b[0mf\u001b[0m\u001b[0;34m.\u001b[0m\u001b[0mupdate\u001b[0m\u001b[0;34m(\u001b[0m\u001b[0me\u001b[0m\u001b[0;34m)\u001b[0m\u001b[0;34m\u001b[0m\u001b[0m\n\u001b[1;32m     40\u001b[0m     \u001b[0;32mreturn\u001b[0m \u001b[0ma\u001b[0m\u001b[0;34m,\u001b[0m \u001b[0mc\u001b[0m\u001b[0;34m,\u001b[0m \u001b[0mf\u001b[0m\u001b[0;34m\u001b[0m\u001b[0m\n\u001b[0;32m---> 41\u001b[0;31m \u001b[0mdfZQ\u001b[0m \u001b[0;34m=\u001b[0m \u001b[0mz_pivot_q\u001b[0m\u001b[0;34m.\u001b[0m\u001b[0mgroupby\u001b[0m\u001b[0;34m(\u001b[0m\u001b[0msources\u001b[0m\u001b[0;34m,\u001b[0m \u001b[0mlevel\u001b[0m\u001b[0;34m=\u001b[0m\u001b[0;34m'code_id'\u001b[0m\u001b[0;34m,\u001b[0m \u001b[0maxis\u001b[0m\u001b[0;34m=\u001b[0m\u001b[0;36m1\u001b[0m\u001b[0;34m)\u001b[0m\u001b[0;34m.\u001b[0m\u001b[0msum\u001b[0m\u001b[0;34m(\u001b[0m\u001b[0;34m)\u001b[0m\u001b[0;34m\u001b[0m\u001b[0m\n\u001b[0m\u001b[1;32m     42\u001b[0m \u001b[0;31m# use code_desc to group pivot table as sources or material\u001b[0m\u001b[0;34m\u001b[0m\u001b[0;34m\u001b[0m\u001b[0m\n\u001b[1;32m     43\u001b[0m \u001b[0;32mdef\u001b[0m \u001b[0mmake_a_group\u001b[0m\u001b[0;34m(\u001b[0m\u001b[0mpivot_table\u001b[0m\u001b[0;34m,\u001b[0m \u001b[0mgroup\u001b[0m\u001b[0;34m)\u001b[0m\u001b[0;34m:\u001b[0m\u001b[0;34m\u001b[0m\u001b[0m\n",
      "\u001b[0;31mNameError\u001b[0m: name 'z_pivot_q' is not defined"
     ]
    }
   ],
   "source": [
    "# get the df:\n",
    "def city(df, x):\n",
    "    a = df[df.city == x].copy()\n",
    "    return a\n",
    "# group by piece per m (total)\n",
    "def group_pcs_m(df):\n",
    "    a = df.groupby(['date', 'location_id'])[['pcs_per_m']].sum()\n",
    "    return a\n",
    "# graph the city surveys\n",
    "def graph_city_surveys(df):\n",
    "    plt.figure(figsize=(12,5));\n",
    "    df.plot()\n",
    "    plt.show()\n",
    "# get the top ten surveys\n",
    "def top_ten_surveys(df, n=10, column='pcs_per_m'):\n",
    "    a = df.sort_values(by=column)[-n:]\n",
    "    return a\n",
    "#graph the top ten\n",
    "def graph_top(df):\n",
    "    plt.figure(figsize=(12,5));\n",
    "    df.plot.bar()\n",
    "    plt.show()\n",
    "# make a pivot table\n",
    "def make_pivot(df):\n",
    "    a = df.pivot_table(['pcs_per_m'], index=['date', 'post', 'water', 'location_id'], columns=['code_id'])\n",
    "    return a\n",
    "# get the grouping data\n",
    "def use_pickle(file):\n",
    "    a = pickle.load(open(file, 'rb'))\n",
    "# make grouping dict\n",
    "def code_desc(x):\n",
    "    a, c, f = {}, {}, {}\n",
    "    for i in x:\n",
    "        b = {i['code']:i['description']}\n",
    "        d = {i['code']:i['material']}\n",
    "        e = {i['code']:i['source']}\n",
    "        a.update(b)\n",
    "        c.update(d)\n",
    "        f.update(e)\n",
    "    return a, c, f\n",
    "dfZQ = z_pivot_q.groupby(sources, level='code_id', axis=1).sum()\n",
    "# use code_desc to group pivot table as sources or material\n",
    "def make_a_group(pivot_table, group):\n",
    "    a = pivot_table.groupby(group, level='code_id', axis=1).sum()\n",
    "    return a\n",
    "# get the index values you need\n",
    "def get_index_names(df, level):\n",
    "    a = df.index.get_level_values(level).unique()\n",
    "    return a"
   ]
  },
  {
   "cell_type": "code",
   "execution_count": null,
   "metadata": {},
   "outputs": [],
   "source": []
  }
 ],
 "metadata": {
  "kernelspec": {
   "display_name": "Python 3",
   "language": "python",
   "name": "python3"
  },
  "language_info": {
   "codemirror_mode": {
    "name": "ipython",
    "version": 3
   },
   "file_extension": ".py",
   "mimetype": "text/x-python",
   "name": "python",
   "nbconvert_exporter": "python",
   "pygments_lexer": "ipython3",
   "version": "3.6.4"
  }
 },
 "nbformat": 4,
 "nbformat_minor": 2
}
