{
 "cells": [
  {
   "cell_type": "markdown",
   "metadata": {},
   "source": [
    "### Indexing and merging two"
   ]
  },
  {
   "cell_type": "markdown",
   "metadata": {},
   "source": [
    "#### References\n",
    "1. Python for data analysis\n",
    "2. Think stats: exploratory data analysis\n",
    "3. https://pandas.pydata,org"
   ]
  },
  {
   "cell_type": "markdown",
   "metadata": {},
   "source": [
    "#### Purpose\n",
    "1. Work in the abstract (its good for the brain)\n",
    "2. Keep up to date with changes in the library\n",
    "3. Explore new ways of doing common tasks --- get better"
   ]
  },
  {
   "cell_type": "code",
   "execution_count": 1,
   "metadata": {},
   "outputs": [],
   "source": [
    "import pandas as pd\n",
    "import numpy as np\n"
   ]
  },
  {
   "cell_type": "code",
   "execution_count": 6,
   "metadata": {},
   "outputs": [],
   "source": [
    "# create some data frames\n",
    "index = ['a', 'b', 'c', 'd', 'e']\n",
    "index_2 = ['f', 'g', 'h', 'i', 'j']\n",
    "columns = ['bacon', 'eggs', 'ham', 'spam', 'hash']\n",
    "columns_2 = ['toast', 'jelly', 'butter', 'wheat', 'white']\n",
    "index_3 = ['k', 'l', 'm']\n",
    "columns_3 = ['pancakes', 'waffles', 'crepes']\n",
    "index_4 = pd.date_range('04/01/2017', periods=30, freq='D')\n",
    "columns_4 = ['Waffle house', 'Dennys', 'Panera']\n",
    "names = ['Sheila', 'Dave', 'Pat']\n",
    "resto = columns_4\n",
    "\n",
    "\n",
    "a = pd.DataFrame(np.random.randint(6, size=(5,5)), index=index, columns=columns)\n",
    "b = pd.DataFrame(np.random.randint(4, size=(5,5)), index=index_2, columns=columns_2)\n",
    "c = pd.DataFrame(np.random.randint(4, size=(3,3)), index=index_3, columns=columns_3)\n",
    "d = pd.DataFrame(6 * np.random.random_sample((30, 3)) + 3.99, dtype='float64', index=index_4, columns=columns_4)\n",
    "e = pd.DataFrame(np.random.choice(resto,(30,3)), columns = names)\n",
    "d[columns_4]=d[columns_4].round(2)"
   ]
  },
  {
   "cell_type": "code",
   "execution_count": 7,
   "metadata": {},
   "outputs": [
    {
     "name": "stdout",
     "output_type": "stream",
     "text": [
      "   bacon  eggs  ham  spam  hash\n",
      "a      4     1    5     3     1\n",
      "b      5     5    5     0     0\n",
      "c      0     2    1     0     4\n",
      "d      2     1    1     4     1\n",
      "e      4     0    0     4     2\n",
      "   toast  jelly  butter  wheat  white\n",
      "f      3      1       3      3      1\n",
      "g      1      2       0      0      3\n",
      "h      0      3       1      2      2\n",
      "i      0      3       0      3      1\n",
      "j      2      3       1      2      1\n",
      "   pancakes  waffles  crepes\n",
      "k         2        0       2\n",
      "l         0        1       1\n",
      "m         3        0       0\n",
      "            Waffle house  Dennys  Panera\n",
      "2017-04-01          9.07    6.09    4.79\n",
      "2017-04-02          7.92    5.66    8.50\n",
      "2017-04-03          5.82    5.79    4.72\n",
      "2017-04-04          9.60    7.00    4.44\n",
      "2017-04-05          6.95    7.41    6.32\n",
      "2017-04-06          6.39    4.31    7.95\n",
      "2017-04-07          9.03    4.93    7.34\n",
      "2017-04-08          8.12    5.06    7.01\n",
      "2017-04-09          6.66    7.52    5.89\n",
      "2017-04-10          8.03    6.01    5.72\n",
      "2017-04-11          5.67    6.56    6.31\n",
      "2017-04-12          4.26    6.34    7.96\n",
      "2017-04-13          7.30    6.34    6.52\n",
      "2017-04-14          4.65    7.89    4.67\n",
      "2017-04-15          7.24    5.05    8.12\n",
      "2017-04-16          7.52    9.51    7.86\n",
      "2017-04-17          8.71    6.83    7.98\n",
      "2017-04-18          6.03    9.92    7.90\n",
      "2017-04-19          7.65    6.55    7.43\n",
      "2017-04-20          5.52    9.40    4.75\n",
      "2017-04-21          4.34    4.25    4.01\n",
      "2017-04-22          9.88    5.70    6.47\n",
      "2017-04-23          9.11    8.45    8.58\n",
      "2017-04-24          5.82    9.17    6.38\n",
      "2017-04-25          9.46    7.85    7.19\n",
      "2017-04-26          7.73    8.60    6.07\n",
      "2017-04-27          9.34    4.30    9.58\n",
      "2017-04-28          6.12    4.99    7.71\n",
      "2017-04-29          7.40    8.74    9.87\n",
      "2017-04-30          7.36    8.99    8.94\n",
      "          Sheila          Dave           Pat\n",
      "0         Panera  Waffle house  Waffle house\n",
      "1         Dennys  Waffle house        Panera\n",
      "2   Waffle house        Panera        Dennys\n",
      "3   Waffle house  Waffle house        Panera\n",
      "4   Waffle house  Waffle house  Waffle house\n",
      "5         Panera  Waffle house        Panera\n",
      "6         Dennys        Dennys        Dennys\n",
      "7         Panera        Panera  Waffle house\n",
      "8         Dennys        Dennys        Dennys\n",
      "9   Waffle house        Panera  Waffle house\n",
      "10        Panera        Dennys        Dennys\n",
      "11  Waffle house  Waffle house  Waffle house\n",
      "12        Dennys        Panera        Panera\n",
      "13        Dennys        Dennys        Dennys\n",
      "14  Waffle house  Waffle house  Waffle house\n",
      "15        Dennys        Panera  Waffle house\n",
      "16        Panera        Dennys  Waffle house\n",
      "17        Panera  Waffle house  Waffle house\n",
      "18        Dennys        Panera        Dennys\n",
      "19        Panera  Waffle house        Panera\n",
      "20        Dennys        Panera        Panera\n",
      "21  Waffle house  Waffle house        Dennys\n",
      "22        Panera        Dennys        Panera\n",
      "23        Panera        Dennys        Panera\n",
      "24        Panera        Dennys        Dennys\n",
      "25        Dennys        Dennys  Waffle house\n",
      "26        Dennys  Waffle house        Dennys\n",
      "27        Panera        Dennys        Dennys\n",
      "28        Dennys        Dennys  Waffle house\n",
      "29        Dennys  Waffle house  Waffle house\n"
     ]
    }
   ],
   "source": [
    "print(a)\n",
    "print(b)\n",
    "print(c)\n",
    "print(d)\n",
    "print(e)"
   ]
  },
  {
   "cell_type": "code",
   "execution_count": 13,
   "metadata": {},
   "outputs": [],
   "source": [
    "# switch the columns so that Dave = Pat and Pat = Sheila and Sheila = Dave\n",
    "e.loc[:, ['Pat', 'Sheila', 'Dave']] = e[names].values"
   ]
  },
  {
   "cell_type": "code",
   "execution_count": 16,
   "metadata": {},
   "outputs": [
    {
     "data": {
      "text/html": [
       "<div>\n",
       "<style scoped>\n",
       "    .dataframe tbody tr th:only-of-type {\n",
       "        vertical-align: middle;\n",
       "    }\n",
       "\n",
       "    .dataframe tbody tr th {\n",
       "        vertical-align: top;\n",
       "    }\n",
       "\n",
       "    .dataframe thead th {\n",
       "        text-align: right;\n",
       "    }\n",
       "</style>\n",
       "<table border=\"1\" class=\"dataframe\">\n",
       "  <thead>\n",
       "    <tr style=\"text-align: right;\">\n",
       "      <th></th>\n",
       "      <th>Sheila</th>\n",
       "      <th>Dave</th>\n",
       "      <th>Pat</th>\n",
       "    </tr>\n",
       "  </thead>\n",
       "  <tbody>\n",
       "    <tr>\n",
       "      <th>0</th>\n",
       "      <td>Waffle house</td>\n",
       "      <td>Waffle house</td>\n",
       "      <td>Panera</td>\n",
       "    </tr>\n",
       "    <tr>\n",
       "      <th>1</th>\n",
       "      <td>Waffle house</td>\n",
       "      <td>Panera</td>\n",
       "      <td>Dennys</td>\n",
       "    </tr>\n",
       "    <tr>\n",
       "      <th>2</th>\n",
       "      <td>Panera</td>\n",
       "      <td>Dennys</td>\n",
       "      <td>Waffle house</td>\n",
       "    </tr>\n",
       "    <tr>\n",
       "      <th>3</th>\n",
       "      <td>Waffle house</td>\n",
       "      <td>Panera</td>\n",
       "      <td>Waffle house</td>\n",
       "    </tr>\n",
       "  </tbody>\n",
       "</table>\n",
       "</div>"
      ],
      "text/plain": [
       "         Sheila          Dave           Pat\n",
       "0  Waffle house  Waffle house        Panera\n",
       "1  Waffle house        Panera        Dennys\n",
       "2        Panera        Dennys  Waffle house\n",
       "3  Waffle house        Panera  Waffle house"
      ]
     },
     "execution_count": 16,
     "metadata": {},
     "output_type": "execute_result"
    }
   ],
   "source": [
    "e.iloc[:4]"
   ]
  },
  {
   "cell_type": "code",
   "execution_count": 17,
   "metadata": {},
   "outputs": [
    {
     "data": {
      "text/plain": [
       "0    Waffle house\n",
       "1          Panera\n",
       "2          Dennys\n",
       "3          Panera\n",
       "Name: Dave, dtype: object"
      ]
     },
     "execution_count": 17,
     "metadata": {},
     "output_type": "execute_result"
    }
   ],
   "source": [
    "# can acces columns as attributes\n",
    "e_sheila, e_dave, e_pat = e.Sheila, e.Dave, e.Pat\n",
    "e_dave[:4]"
   ]
  },
  {
   "cell_type": "code",
   "execution_count": 18,
   "metadata": {},
   "outputs": [
    {
     "data": {
      "text/plain": [
       "pandas.core.series.Series"
      ]
     },
     "execution_count": 18,
     "metadata": {},
     "output_type": "execute_result"
    }
   ],
   "source": [
    "type(e_dave)"
   ]
  },
  {
   "cell_type": "code",
   "execution_count": 19,
   "metadata": {},
   "outputs": [
    {
     "data": {
      "text/plain": [
       "0     Waffle house\n",
       "5           Panera\n",
       "10          Dennys\n",
       "15    Waffle house\n",
       "20          Panera\n",
       "25    Waffle house\n",
       "Name: Dave, dtype: object"
      ]
     },
     "execution_count": 19,
     "metadata": {},
     "output_type": "execute_result"
    }
   ],
   "source": [
    "# so that means all series slicing syntax works here\n",
    "e_dave[::5]\n",
    "# start from the back and get every fifth element"
   ]
  },
  {
   "cell_type": "code",
   "execution_count": 21,
   "metadata": {},
   "outputs": [
    {
     "data": {
      "text/plain": [
       "29    Waffle house\n",
       "28    Waffle house\n",
       "27          Dennys\n",
       "26          Dennys\n",
       "25    Waffle house\n",
       "24          Dennys\n",
       "23          Panera\n",
       "22          Panera\n",
       "21          Dennys\n",
       "20          Panera\n",
       "19          Panera\n",
       "18          Dennys\n",
       "17    Waffle house\n",
       "16    Waffle house\n",
       "15    Waffle house\n",
       "14    Waffle house\n",
       "13          Dennys\n",
       "12          Panera\n",
       "11    Waffle house\n",
       "10          Dennys\n",
       "9     Waffle house\n",
       "8           Dennys\n",
       "7     Waffle house\n",
       "6           Dennys\n",
       "5           Panera\n",
       "4     Waffle house\n",
       "3           Panera\n",
       "2           Dennys\n",
       "1           Panera\n",
       "0     Waffle house\n",
       "Name: Dave, dtype: object"
      ]
     },
     "execution_count": 21,
     "metadata": {},
     "output_type": "execute_result"
    }
   ],
   "source": [
    "# get the whole thing in reverse\n",
    "e_dave[::-1]\n",
    "# notice the index value is valid, here we start at 29"
   ]
  },
  {
   "cell_type": "code",
   "execution_count": 23,
   "metadata": {},
   "outputs": [],
   "source": [
    "# dave says that he ate at Waffle house on the third\n",
    "e_dave[2] = \"Waffle house\""
   ]
  },
  {
   "cell_type": "code",
   "execution_count": 25,
   "metadata": {},
   "outputs": [
    {
     "data": {
      "text/plain": [
       "0    Waffle house\n",
       "1          Panera\n",
       "2    Waffle house\n",
       "3          Panera\n",
       "4    Waffle house\n",
       "Name: Dave, dtype: object"
      ]
     },
     "execution_count": 25,
     "metadata": {},
     "output_type": "execute_result"
    }
   ],
   "source": [
    "e_dave[:5]\n",
    "# changed from Dennys to Waffle house"
   ]
  },
  {
   "cell_type": "code",
   "execution_count": 26,
   "metadata": {},
   "outputs": [
    {
     "data": {
      "text/html": [
       "<div>\n",
       "<style scoped>\n",
       "    .dataframe tbody tr th:only-of-type {\n",
       "        vertical-align: middle;\n",
       "    }\n",
       "\n",
       "    .dataframe tbody tr th {\n",
       "        vertical-align: top;\n",
       "    }\n",
       "\n",
       "    .dataframe thead th {\n",
       "        text-align: right;\n",
       "    }\n",
       "</style>\n",
       "<table border=\"1\" class=\"dataframe\">\n",
       "  <thead>\n",
       "    <tr style=\"text-align: right;\">\n",
       "      <th></th>\n",
       "      <th>Sheila</th>\n",
       "      <th>Dave</th>\n",
       "      <th>Pat</th>\n",
       "    </tr>\n",
       "  </thead>\n",
       "  <tbody>\n",
       "    <tr>\n",
       "      <th>0</th>\n",
       "      <td>Waffle house</td>\n",
       "      <td>Waffle house</td>\n",
       "      <td>Panera</td>\n",
       "    </tr>\n",
       "    <tr>\n",
       "      <th>1</th>\n",
       "      <td>Waffle house</td>\n",
       "      <td>Panera</td>\n",
       "      <td>Dennys</td>\n",
       "    </tr>\n",
       "    <tr>\n",
       "      <th>2</th>\n",
       "      <td>Panera</td>\n",
       "      <td>Waffle house</td>\n",
       "      <td>Waffle house</td>\n",
       "    </tr>\n",
       "  </tbody>\n",
       "</table>\n",
       "</div>"
      ],
      "text/plain": [
       "         Sheila          Dave           Pat\n",
       "0  Waffle house  Waffle house        Panera\n",
       "1  Waffle house        Panera        Dennys\n",
       "2        Panera  Waffle house  Waffle house"
      ]
     },
     "execution_count": 26,
     "metadata": {},
     "output_type": "execute_result"
    }
   ],
   "source": [
    "# this works on data frames too\n",
    "e[:3]"
   ]
  },
  {
   "cell_type": "code",
   "execution_count": 27,
   "metadata": {},
   "outputs": [
    {
     "data": {
      "text/html": [
       "<div>\n",
       "<style scoped>\n",
       "    .dataframe tbody tr th:only-of-type {\n",
       "        vertical-align: middle;\n",
       "    }\n",
       "\n",
       "    .dataframe tbody tr th {\n",
       "        vertical-align: top;\n",
       "    }\n",
       "\n",
       "    .dataframe thead th {\n",
       "        text-align: right;\n",
       "    }\n",
       "</style>\n",
       "<table border=\"1\" class=\"dataframe\">\n",
       "  <thead>\n",
       "    <tr style=\"text-align: right;\">\n",
       "      <th></th>\n",
       "      <th>Sheila</th>\n",
       "      <th>Dave</th>\n",
       "      <th>Pat</th>\n",
       "    </tr>\n",
       "  </thead>\n",
       "  <tbody>\n",
       "    <tr>\n",
       "      <th>0</th>\n",
       "      <td>Waffle house</td>\n",
       "      <td>Waffle house</td>\n",
       "      <td>Panera</td>\n",
       "    </tr>\n",
       "    <tr>\n",
       "      <th>5</th>\n",
       "      <td>Waffle house</td>\n",
       "      <td>Panera</td>\n",
       "      <td>Panera</td>\n",
       "    </tr>\n",
       "    <tr>\n",
       "      <th>10</th>\n",
       "      <td>Dennys</td>\n",
       "      <td>Dennys</td>\n",
       "      <td>Panera</td>\n",
       "    </tr>\n",
       "    <tr>\n",
       "      <th>15</th>\n",
       "      <td>Panera</td>\n",
       "      <td>Waffle house</td>\n",
       "      <td>Dennys</td>\n",
       "    </tr>\n",
       "    <tr>\n",
       "      <th>20</th>\n",
       "      <td>Panera</td>\n",
       "      <td>Panera</td>\n",
       "      <td>Dennys</td>\n",
       "    </tr>\n",
       "    <tr>\n",
       "      <th>25</th>\n",
       "      <td>Dennys</td>\n",
       "      <td>Waffle house</td>\n",
       "      <td>Dennys</td>\n",
       "    </tr>\n",
       "  </tbody>\n",
       "</table>\n",
       "</div>"
      ],
      "text/plain": [
       "          Sheila          Dave     Pat\n",
       "0   Waffle house  Waffle house  Panera\n",
       "5   Waffle house        Panera  Panera\n",
       "10        Dennys        Dennys  Panera\n",
       "15        Panera  Waffle house  Dennys\n",
       "20        Panera        Panera  Dennys\n",
       "25        Dennys  Waffle house  Dennys"
      ]
     },
     "execution_count": 27,
     "metadata": {},
     "output_type": "execute_result"
    }
   ],
   "source": [
    "e[::5]"
   ]
  },
  {
   "cell_type": "code",
   "execution_count": 28,
   "metadata": {},
   "outputs": [
    {
     "data": {
      "text/plain": [
       "0    Waffle house\n",
       "1          Panera\n",
       "2    Waffle house\n",
       "3          Panera\n",
       "4    Waffle house\n",
       "Name: Dave, dtype: object"
      ]
     },
     "execution_count": 28,
     "metadata": {},
     "output_type": "execute_result"
    }
   ],
   "source": [
    "# selection by label is the same\n",
    "e['Dave'][:5]"
   ]
  },
  {
   "cell_type": "code",
   "execution_count": 30,
   "metadata": {},
   "outputs": [],
   "source": [
    "# with dates it is a little different\n",
    "# ---- > d.loc[2:7] this will throw an error\n",
    "# TypeError: cannot do slice indexing on <class 'pandas.core.indexes.datetimes.DatetimeIndex'> \n",
    "# with these indexers [2] of <class 'int'>"
   ]
  },
  {
   "cell_type": "code",
   "execution_count": 31,
   "metadata": {},
   "outputs": [
    {
     "data": {
      "text/html": [
       "<div>\n",
       "<style scoped>\n",
       "    .dataframe tbody tr th:only-of-type {\n",
       "        vertical-align: middle;\n",
       "    }\n",
       "\n",
       "    .dataframe tbody tr th {\n",
       "        vertical-align: top;\n",
       "    }\n",
       "\n",
       "    .dataframe thead th {\n",
       "        text-align: right;\n",
       "    }\n",
       "</style>\n",
       "<table border=\"1\" class=\"dataframe\">\n",
       "  <thead>\n",
       "    <tr style=\"text-align: right;\">\n",
       "      <th></th>\n",
       "      <th>Waffle house</th>\n",
       "      <th>Dennys</th>\n",
       "      <th>Panera</th>\n",
       "    </tr>\n",
       "  </thead>\n",
       "  <tbody>\n",
       "    <tr>\n",
       "      <th>2017-04-10</th>\n",
       "      <td>8.03</td>\n",
       "      <td>6.01</td>\n",
       "      <td>5.72</td>\n",
       "    </tr>\n",
       "    <tr>\n",
       "      <th>2017-04-11</th>\n",
       "      <td>5.67</td>\n",
       "      <td>6.56</td>\n",
       "      <td>6.31</td>\n",
       "    </tr>\n",
       "    <tr>\n",
       "      <th>2017-04-12</th>\n",
       "      <td>4.26</td>\n",
       "      <td>6.34</td>\n",
       "      <td>7.96</td>\n",
       "    </tr>\n",
       "    <tr>\n",
       "      <th>2017-04-13</th>\n",
       "      <td>7.30</td>\n",
       "      <td>6.34</td>\n",
       "      <td>6.52</td>\n",
       "    </tr>\n",
       "    <tr>\n",
       "      <th>2017-04-14</th>\n",
       "      <td>4.65</td>\n",
       "      <td>7.89</td>\n",
       "      <td>4.67</td>\n",
       "    </tr>\n",
       "  </tbody>\n",
       "</table>\n",
       "</div>"
      ],
      "text/plain": [
       "            Waffle house  Dennys  Panera\n",
       "2017-04-10          8.03    6.01    5.72\n",
       "2017-04-11          5.67    6.56    6.31\n",
       "2017-04-12          4.26    6.34    7.96\n",
       "2017-04-13          7.30    6.34    6.52\n",
       "2017-04-14          4.65    7.89    4.67"
      ]
     },
     "execution_count": 31,
     "metadata": {},
     "output_type": "execute_result"
    }
   ],
   "source": [
    "# you need to use the value or a convertible 'like'string\n",
    "d.loc['20170410': '20170414']\n",
    "# notice the endpoint is included..."
   ]
  },
  {
   "cell_type": "code",
   "execution_count": 32,
   "metadata": {},
   "outputs": [
    {
     "data": {
      "text/html": [
       "<div>\n",
       "<style scoped>\n",
       "    .dataframe tbody tr th:only-of-type {\n",
       "        vertical-align: middle;\n",
       "    }\n",
       "\n",
       "    .dataframe tbody tr th {\n",
       "        vertical-align: top;\n",
       "    }\n",
       "\n",
       "    .dataframe thead th {\n",
       "        text-align: right;\n",
       "    }\n",
       "</style>\n",
       "<table border=\"1\" class=\"dataframe\">\n",
       "  <thead>\n",
       "    <tr style=\"text-align: right;\">\n",
       "      <th></th>\n",
       "      <th>toast</th>\n",
       "      <th>jelly</th>\n",
       "      <th>butter</th>\n",
       "      <th>wheat</th>\n",
       "      <th>white</th>\n",
       "    </tr>\n",
       "  </thead>\n",
       "  <tbody>\n",
       "  </tbody>\n",
       "</table>\n",
       "</div>"
      ],
      "text/plain": [
       "Empty DataFrame\n",
       "Columns: [toast, jelly, butter, wheat, white]\n",
       "Index: []"
      ]
     },
     "execution_count": 32,
     "metadata": {},
     "output_type": "execute_result"
    }
   ],
   "source": [
    "# here we can slice with labels\n",
    "b.loc['b':'d']\n",
    "# returns empy"
   ]
  },
  {
   "cell_type": "code",
   "execution_count": 33,
   "metadata": {},
   "outputs": [
    {
     "data": {
      "text/plain": [
       "array(['f', 'g', 'h', 'i', 'j'], dtype=object)"
      ]
     },
     "execution_count": 33,
     "metadata": {},
     "output_type": "execute_result"
    }
   ],
   "source": [
    "# whats in the index then\n",
    "b.index.values"
   ]
  },
  {
   "cell_type": "code",
   "execution_count": 34,
   "metadata": {},
   "outputs": [
    {
     "data": {
      "text/plain": [
       "'i'"
      ]
     },
     "execution_count": 34,
     "metadata": {},
     "output_type": "execute_result"
    }
   ],
   "source": [
    "# so do this:\n",
    "b_index = b.index.values\n",
    "b_index[3]"
   ]
  },
  {
   "cell_type": "code",
   "execution_count": 35,
   "metadata": {},
   "outputs": [
    {
     "data": {
      "text/html": [
       "<div>\n",
       "<style scoped>\n",
       "    .dataframe tbody tr th:only-of-type {\n",
       "        vertical-align: middle;\n",
       "    }\n",
       "\n",
       "    .dataframe tbody tr th {\n",
       "        vertical-align: top;\n",
       "    }\n",
       "\n",
       "    .dataframe thead th {\n",
       "        text-align: right;\n",
       "    }\n",
       "</style>\n",
       "<table border=\"1\" class=\"dataframe\">\n",
       "  <thead>\n",
       "    <tr style=\"text-align: right;\">\n",
       "      <th></th>\n",
       "      <th>toast</th>\n",
       "      <th>jelly</th>\n",
       "      <th>butter</th>\n",
       "      <th>wheat</th>\n",
       "      <th>white</th>\n",
       "    </tr>\n",
       "  </thead>\n",
       "  <tbody>\n",
       "    <tr>\n",
       "      <th>h</th>\n",
       "      <td>0</td>\n",
       "      <td>3</td>\n",
       "      <td>1</td>\n",
       "      <td>2</td>\n",
       "      <td>2</td>\n",
       "    </tr>\n",
       "    <tr>\n",
       "      <th>i</th>\n",
       "      <td>0</td>\n",
       "      <td>3</td>\n",
       "      <td>0</td>\n",
       "      <td>3</td>\n",
       "      <td>1</td>\n",
       "    </tr>\n",
       "  </tbody>\n",
       "</table>\n",
       "</div>"
      ],
      "text/plain": [
       "   toast  jelly  butter  wheat  white\n",
       "h      0      3       1      2      2\n",
       "i      0      3       0      3      1"
      ]
     },
     "execution_count": 35,
     "metadata": {},
     "output_type": "execute_result"
    }
   ],
   "source": [
    "# use the list and pass your index range as a slice value\n",
    "b.loc[b_index[2:4]]"
   ]
  },
  {
   "cell_type": "code",
   "execution_count": 36,
   "metadata": {},
   "outputs": [],
   "source": [
    "# these will come in handy\n",
    "# yes we could have used the list to create the df\n",
    "# but what if you don't have that list?\n",
    "a_index = a.index.values\n",
    "c_index = c.index.values\n"
   ]
  },
  {
   "cell_type": "code",
   "execution_count": 42,
   "metadata": {},
   "outputs": [
    {
     "data": {
      "text/html": [
       "<div>\n",
       "<style scoped>\n",
       "    .dataframe tbody tr th:only-of-type {\n",
       "        vertical-align: middle;\n",
       "    }\n",
       "\n",
       "    .dataframe tbody tr th {\n",
       "        vertical-align: top;\n",
       "    }\n",
       "\n",
       "    .dataframe thead th {\n",
       "        text-align: right;\n",
       "    }\n",
       "</style>\n",
       "<table border=\"1\" class=\"dataframe\">\n",
       "  <thead>\n",
       "    <tr style=\"text-align: right;\">\n",
       "      <th></th>\n",
       "      <th>pancakes</th>\n",
       "      <th>waffles</th>\n",
       "      <th>crepes</th>\n",
       "    </tr>\n",
       "  </thead>\n",
       "  <tbody>\n",
       "    <tr>\n",
       "      <th>k</th>\n",
       "      <td>2</td>\n",
       "      <td>0</td>\n",
       "      <td>2</td>\n",
       "    </tr>\n",
       "    <tr>\n",
       "      <th>l</th>\n",
       "      <td>0</td>\n",
       "      <td>1</td>\n",
       "      <td>1</td>\n",
       "    </tr>\n",
       "    <tr>\n",
       "      <th>m</th>\n",
       "      <td>3</td>\n",
       "      <td>0</td>\n",
       "      <td>0</td>\n",
       "    </tr>\n",
       "  </tbody>\n",
       "</table>\n",
       "</div>"
      ],
      "text/plain": [
       "   pancakes  waffles  crepes\n",
       "k         2        0       2\n",
       "l         0        1       1\n",
       "m         3        0       0"
      ]
     },
     "execution_count": 42,
     "metadata": {},
     "output_type": "execute_result"
    }
   ],
   "source": [
    "# so labels can be used just like integers(almost)\n",
    "c.loc['k':]"
   ]
  },
  {
   "cell_type": "code",
   "execution_count": 43,
   "metadata": {},
   "outputs": [
    {
     "data": {
      "text/html": [
       "<div>\n",
       "<style scoped>\n",
       "    .dataframe tbody tr th:only-of-type {\n",
       "        vertical-align: middle;\n",
       "    }\n",
       "\n",
       "    .dataframe tbody tr th {\n",
       "        vertical-align: top;\n",
       "    }\n",
       "\n",
       "    .dataframe thead th {\n",
       "        text-align: right;\n",
       "    }\n",
       "</style>\n",
       "<table border=\"1\" class=\"dataframe\">\n",
       "  <thead>\n",
       "    <tr style=\"text-align: right;\">\n",
       "      <th></th>\n",
       "      <th>pancakes</th>\n",
       "      <th>waffles</th>\n",
       "      <th>crepes</th>\n",
       "    </tr>\n",
       "  </thead>\n",
       "  <tbody>\n",
       "    <tr>\n",
       "      <th>k</th>\n",
       "      <td>2</td>\n",
       "      <td>0</td>\n",
       "      <td>2</td>\n",
       "    </tr>\n",
       "    <tr>\n",
       "      <th>l</th>\n",
       "      <td>0</td>\n",
       "      <td>1</td>\n",
       "      <td>1</td>\n",
       "    </tr>\n",
       "    <tr>\n",
       "      <th>m</th>\n",
       "      <td>3</td>\n",
       "      <td>0</td>\n",
       "      <td>0</td>\n",
       "    </tr>\n",
       "  </tbody>\n",
       "</table>\n",
       "</div>"
      ],
      "text/plain": [
       "   pancakes  waffles  crepes\n",
       "k         2        0       2\n",
       "l         0        1       1\n",
       "m         3        0       0"
      ]
     },
     "execution_count": 43,
     "metadata": {},
     "output_type": "execute_result"
    }
   ],
   "source": [
    "#or\n",
    "c.loc[:'m']"
   ]
  },
  {
   "cell_type": "code",
   "execution_count": 45,
   "metadata": {},
   "outputs": [
    {
     "data": {
      "text/html": [
       "<div>\n",
       "<style scoped>\n",
       "    .dataframe tbody tr th:only-of-type {\n",
       "        vertical-align: middle;\n",
       "    }\n",
       "\n",
       "    .dataframe tbody tr th {\n",
       "        vertical-align: top;\n",
       "    }\n",
       "\n",
       "    .dataframe thead th {\n",
       "        text-align: right;\n",
       "    }\n",
       "</style>\n",
       "<table border=\"1\" class=\"dataframe\">\n",
       "  <thead>\n",
       "    <tr style=\"text-align: right;\">\n",
       "      <th></th>\n",
       "      <th>ham</th>\n",
       "      <th>spam</th>\n",
       "      <th>hash</th>\n",
       "    </tr>\n",
       "  </thead>\n",
       "  <tbody>\n",
       "    <tr>\n",
       "      <th>b</th>\n",
       "      <td>5</td>\n",
       "      <td>0</td>\n",
       "      <td>0</td>\n",
       "    </tr>\n",
       "    <tr>\n",
       "      <th>c</th>\n",
       "      <td>1</td>\n",
       "      <td>0</td>\n",
       "      <td>4</td>\n",
       "    </tr>\n",
       "    <tr>\n",
       "      <th>d</th>\n",
       "      <td>1</td>\n",
       "      <td>4</td>\n",
       "      <td>1</td>\n",
       "    </tr>\n",
       "    <tr>\n",
       "      <th>e</th>\n",
       "      <td>0</td>\n",
       "      <td>4</td>\n",
       "      <td>2</td>\n",
       "    </tr>\n",
       "  </tbody>\n",
       "</table>\n",
       "</div>"
      ],
      "text/plain": [
       "   ham  spam  hash\n",
       "b    5     0     0\n",
       "c    1     0     4\n",
       "d    1     4     1\n",
       "e    0     4     2"
      ]
     },
     "execution_count": 45,
     "metadata": {},
     "output_type": "execute_result"
    }
   ],
   "source": [
    "# grab a mix of rows:\n",
    "a.loc['b':, 'ham':'hash']"
   ]
  },
  {
   "cell_type": "code",
   "execution_count": 46,
   "metadata": {},
   "outputs": [
    {
     "data": {
      "text/html": [
       "<div>\n",
       "<style scoped>\n",
       "    .dataframe tbody tr th:only-of-type {\n",
       "        vertical-align: middle;\n",
       "    }\n",
       "\n",
       "    .dataframe tbody tr th {\n",
       "        vertical-align: top;\n",
       "    }\n",
       "\n",
       "    .dataframe thead th {\n",
       "        text-align: right;\n",
       "    }\n",
       "</style>\n",
       "<table border=\"1\" class=\"dataframe\">\n",
       "  <thead>\n",
       "    <tr style=\"text-align: right;\">\n",
       "      <th></th>\n",
       "      <th>ham</th>\n",
       "      <th>spam</th>\n",
       "    </tr>\n",
       "  </thead>\n",
       "  <tbody>\n",
       "    <tr>\n",
       "      <th>c</th>\n",
       "      <td>1</td>\n",
       "      <td>0</td>\n",
       "    </tr>\n",
       "    <tr>\n",
       "      <th>d</th>\n",
       "      <td>1</td>\n",
       "      <td>4</td>\n",
       "    </tr>\n",
       "    <tr>\n",
       "      <th>e</th>\n",
       "      <td>0</td>\n",
       "      <td>4</td>\n",
       "    </tr>\n",
       "  </tbody>\n",
       "</table>\n",
       "</div>"
      ],
      "text/plain": [
       "   ham  spam\n",
       "c    1     0\n",
       "d    1     4\n",
       "e    0     4"
      ]
     },
     "execution_count": 46,
     "metadata": {},
     "output_type": "execute_result"
    }
   ],
   "source": [
    "# or \n",
    "a.loc['c':'e', 'ham':'spam']"
   ]
  },
  {
   "cell_type": "code",
   "execution_count": 47,
   "metadata": {},
   "outputs": [
    {
     "data": {
      "text/plain": [
       "bacon    2\n",
       "eggs     1\n",
       "ham      1\n",
       "spam     4\n",
       "hash     1\n",
       "Name: d, dtype: int64"
      ]
     },
     "execution_count": 47,
     "metadata": {},
     "output_type": "execute_result"
    }
   ],
   "source": [
    "# cross section of one row\n",
    "a.loc['d']"
   ]
  },
  {
   "cell_type": "code",
   "execution_count": 48,
   "metadata": {},
   "outputs": [
    {
     "data": {
      "text/plain": [
       "4.65"
      ]
     },
     "execution_count": 48,
     "metadata": {},
     "output_type": "execute_result"
    }
   ],
   "source": [
    "# get a specific value:\n",
    "# for example how much was spent at 'Waffle house' on April 13\n",
    "d.loc['20170414', 'Waffle house']"
   ]
  },
  {
   "cell_type": "code",
   "execution_count": 61,
   "metadata": {},
   "outputs": [
    {
     "data": {
      "text/plain": [
       "4.65"
      ]
     },
     "execution_count": 61,
     "metadata": {},
     "output_type": "execute_result"
    }
   ],
   "source": [
    "# if you know the index number\n",
    "d.iloc[13]['Waffle house']"
   ]
  },
  {
   "cell_type": "code",
   "execution_count": 62,
   "metadata": {},
   "outputs": [
    {
     "data": {
      "text/plain": [
       "Waffle house    4.65\n",
       "Dennys          7.89\n",
       "Panera          4.67\n",
       "Name: 2017-04-14 00:00:00, dtype: float64"
      ]
     },
     "execution_count": 62,
     "metadata": {},
     "output_type": "execute_result"
    }
   ],
   "source": [
    "d.loc['20170414']"
   ]
  },
  {
   "cell_type": "code",
   "execution_count": 63,
   "metadata": {},
   "outputs": [
    {
     "data": {
      "text/html": [
       "<div>\n",
       "<style scoped>\n",
       "    .dataframe tbody tr th:only-of-type {\n",
       "        vertical-align: middle;\n",
       "    }\n",
       "\n",
       "    .dataframe tbody tr th {\n",
       "        vertical-align: top;\n",
       "    }\n",
       "\n",
       "    .dataframe thead th {\n",
       "        text-align: right;\n",
       "    }\n",
       "</style>\n",
       "<table border=\"1\" class=\"dataframe\">\n",
       "  <thead>\n",
       "    <tr style=\"text-align: right;\">\n",
       "      <th></th>\n",
       "      <th>Sheila</th>\n",
       "      <th>Dave</th>\n",
       "      <th>Pat</th>\n",
       "    </tr>\n",
       "  </thead>\n",
       "  <tbody>\n",
       "    <tr>\n",
       "      <th>0</th>\n",
       "      <td>Waffle house</td>\n",
       "      <td>Waffle house</td>\n",
       "      <td>Panera</td>\n",
       "    </tr>\n",
       "    <tr>\n",
       "      <th>1</th>\n",
       "      <td>Waffle house</td>\n",
       "      <td>Panera</td>\n",
       "      <td>Dennys</td>\n",
       "    </tr>\n",
       "    <tr>\n",
       "      <th>2</th>\n",
       "      <td>Panera</td>\n",
       "      <td>Waffle house</td>\n",
       "      <td>Waffle house</td>\n",
       "    </tr>\n",
       "    <tr>\n",
       "      <th>3</th>\n",
       "      <td>Waffle house</td>\n",
       "      <td>Panera</td>\n",
       "      <td>Waffle house</td>\n",
       "    </tr>\n",
       "    <tr>\n",
       "      <th>4</th>\n",
       "      <td>Waffle house</td>\n",
       "      <td>Waffle house</td>\n",
       "      <td>Waffle house</td>\n",
       "    </tr>\n",
       "  </tbody>\n",
       "</table>\n",
       "</div>"
      ],
      "text/plain": [
       "         Sheila          Dave           Pat\n",
       "0  Waffle house  Waffle house        Panera\n",
       "1  Waffle house        Panera        Dennys\n",
       "2        Panera  Waffle house  Waffle house\n",
       "3  Waffle house        Panera  Waffle house\n",
       "4  Waffle house  Waffle house  Waffle house"
      ]
     },
     "execution_count": 63,
     "metadata": {},
     "output_type": "execute_result"
    }
   ],
   "source": [
    "# return to iloc\n",
    "e.iloc[:5]\n",
    "# iloc is like numpy or python.... the upper bound is excluded"
   ]
  },
  {
   "cell_type": "code",
   "execution_count": 64,
   "metadata": {},
   "outputs": [
    {
     "data": {
      "text/html": [
       "<div>\n",
       "<style scoped>\n",
       "    .dataframe tbody tr th:only-of-type {\n",
       "        vertical-align: middle;\n",
       "    }\n",
       "\n",
       "    .dataframe tbody tr th {\n",
       "        vertical-align: top;\n",
       "    }\n",
       "\n",
       "    .dataframe thead th {\n",
       "        text-align: right;\n",
       "    }\n",
       "</style>\n",
       "<table border=\"1\" class=\"dataframe\">\n",
       "  <thead>\n",
       "    <tr style=\"text-align: right;\">\n",
       "      <th></th>\n",
       "      <th>Dennys</th>\n",
       "      <th>Panera</th>\n",
       "    </tr>\n",
       "  </thead>\n",
       "  <tbody>\n",
       "    <tr>\n",
       "      <th>2017-04-12</th>\n",
       "      <td>6.34</td>\n",
       "      <td>7.96</td>\n",
       "    </tr>\n",
       "    <tr>\n",
       "      <th>2017-04-13</th>\n",
       "      <td>6.34</td>\n",
       "      <td>6.52</td>\n",
       "    </tr>\n",
       "    <tr>\n",
       "      <th>2017-04-14</th>\n",
       "      <td>7.89</td>\n",
       "      <td>4.67</td>\n",
       "    </tr>\n",
       "    <tr>\n",
       "      <th>2017-04-15</th>\n",
       "      <td>5.05</td>\n",
       "      <td>8.12</td>\n",
       "    </tr>\n",
       "    <tr>\n",
       "      <th>2017-04-16</th>\n",
       "      <td>9.51</td>\n",
       "      <td>7.86</td>\n",
       "    </tr>\n",
       "    <tr>\n",
       "      <th>2017-04-17</th>\n",
       "      <td>6.83</td>\n",
       "      <td>7.98</td>\n",
       "    </tr>\n",
       "    <tr>\n",
       "      <th>2017-04-18</th>\n",
       "      <td>9.92</td>\n",
       "      <td>7.90</td>\n",
       "    </tr>\n",
       "    <tr>\n",
       "      <th>2017-04-19</th>\n",
       "      <td>6.55</td>\n",
       "      <td>7.43</td>\n",
       "    </tr>\n",
       "  </tbody>\n",
       "</table>\n",
       "</div>"
      ],
      "text/plain": [
       "            Dennys  Panera\n",
       "2017-04-12    6.34    7.96\n",
       "2017-04-13    6.34    6.52\n",
       "2017-04-14    7.89    4.67\n",
       "2017-04-15    5.05    8.12\n",
       "2017-04-16    9.51    7.86\n",
       "2017-04-17    6.83    7.98\n",
       "2017-04-18    9.92    7.90\n",
       "2017-04-19    6.55    7.43"
      ]
     },
     "execution_count": 64,
     "metadata": {},
     "output_type": "execute_result"
    }
   ],
   "source": [
    "# get rows 11-18 for Dennys and panera\n",
    "d.iloc[11:19, 1:]"
   ]
  },
  {
   "cell_type": "code",
   "execution_count": 67,
   "metadata": {},
   "outputs": [],
   "source": [
    "# this will not work ---> d.iloc[11:19, resto[1:]]\n",
    "# canont put a string indexer with iloc\n",
    "# TypeError: cannot perform reduce with flexible type"
   ]
  },
  {
   "cell_type": "code",
   "execution_count": null,
   "metadata": {},
   "outputs": [],
   "source": []
  }
 ],
 "metadata": {
  "kernelspec": {
   "display_name": "Python 3",
   "language": "python",
   "name": "python3"
  },
  "language_info": {
   "codemirror_mode": {
    "name": "ipython",
    "version": 3
   },
   "file_extension": ".py",
   "mimetype": "text/x-python",
   "name": "python",
   "nbconvert_exporter": "python",
   "pygments_lexer": "ipython3",
   "version": "3.6.4"
  }
 },
 "nbformat": 4,
 "nbformat_minor": 2
}
