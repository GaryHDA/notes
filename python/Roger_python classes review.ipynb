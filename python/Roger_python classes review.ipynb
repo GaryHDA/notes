{
 "cells": [
  {
   "cell_type": "markdown",
   "metadata": {},
   "source": [
    "### Python classes\n",
    "\n",
    "Review of python topics before moving to ML and AI\n",
    "\n",
    "Referencecs\n",
    "1. Learning Python, Mark Lutz\n",
    "2. chapter 27"
   ]
  },
  {
   "cell_type": "code",
   "execution_count": 26,
   "metadata": {},
   "outputs": [],
   "source": [
    "import requests\n",
    "import json"
   ]
  },
  {
   "cell_type": "code",
   "execution_count": 27,
   "metadata": {},
   "outputs": [],
   "source": [
    "url = \"https://mwshovel.pythonanywhere.com/dirt/beaches/Lac-Léman/?format=json\"\n",
    "beachData = requests.get(url).json()"
   ]
  },
  {
   "cell_type": "code",
   "execution_count": 53,
   "metadata": {},
   "outputs": [],
   "source": [
    "urlX = \"http://mwshovel.pythonanywhere.com/dirt/codes/Lac-Léman/?format=json\"\n",
    "codeData = requests.get(urlX).json()"
   ]
  },
  {
   "cell_type": "code",
   "execution_count": 29,
   "metadata": {},
   "outputs": [
    {
     "name": "stdout",
     "output_type": "stream",
     "text": [
      "King Arthur\n"
     ]
    }
   ],
   "source": [
    "class FirstClass:\n",
    "    def setdata(self, value):\n",
    "        self.data = value\n",
    "    def display(self):\n",
    "        print(self.data)\n",
    "x = FirstClass()\n",
    "y = FirstClass()\n",
    "x.setdata(\"King Arthur\")\n",
    "y.setdata(3.14159)\n",
    "x.display()"
   ]
  },
  {
   "cell_type": "code",
   "execution_count": 30,
   "metadata": {},
   "outputs": [
    {
     "name": "stdout",
     "output_type": "stream",
     "text": [
      "Current value = \"42\"\n"
     ]
    }
   ],
   "source": [
    "class SecondClass(FirstClass):\n",
    "    def display(self):\n",
    "        print('Current value = \"%s\"'% self.data)\n",
    "z = SecondClass()\n",
    "z.setdata(42)\n",
    "z.display()"
   ]
  },
  {
   "cell_type": "code",
   "execution_count": 31,
   "metadata": {},
   "outputs": [
    {
     "name": "stdout",
     "output_type": "stream",
     "text": [
      "Current value = \"abc\"\n"
     ]
    }
   ],
   "source": [
    "class ThirdClass(SecondClass):\n",
    "    def __init__(self, value):\n",
    "        self.data = value\n",
    "    def __add__(self, other):\n",
    "        return ThirdClass(self.data + other)\n",
    "    def __str__(self):\n",
    "        return  '[ThirdClass: %s]' % self.data\n",
    "    def mul(self, other):\n",
    "        self.data *= other\n",
    "a = ThirdClass('abc')\n",
    "a.display()"
   ]
  },
  {
   "cell_type": "code",
   "execution_count": 32,
   "metadata": {},
   "outputs": [
    {
     "name": "stdout",
     "output_type": "stream",
     "text": [
      "[ThirdClass: abc]\n"
     ]
    }
   ],
   "source": [
    "print(a)"
   ]
  },
  {
   "cell_type": "code",
   "execution_count": 33,
   "metadata": {},
   "outputs": [
    {
     "name": "stdout",
     "output_type": "stream",
     "text": [
      "[ThirdClass: abcxyz]\n"
     ]
    }
   ],
   "source": [
    "b = a + 'xyz'\n",
    "print(b)"
   ]
  },
  {
   "cell_type": "code",
   "execution_count": 34,
   "metadata": {},
   "outputs": [
    {
     "name": "stdout",
     "output_type": "stream",
     "text": [
      "[ThirdClass: abcabcabc]\n"
     ]
    }
   ],
   "source": [
    "a.mul(3)\n",
    "print(a)"
   ]
  },
  {
   "cell_type": "code",
   "execution_count": 35,
   "metadata": {},
   "outputs": [
    {
     "name": "stdout",
     "output_type": "stream",
     "text": [
      "bob\n"
     ]
    }
   ],
   "source": [
    "class rec:\n",
    "    pass\n",
    "rec.name = 'bob'\n",
    "rec.age = 40\n",
    "print(rec.name)"
   ]
  },
  {
   "cell_type": "code",
   "execution_count": 36,
   "metadata": {},
   "outputs": [
    {
     "name": "stdout",
     "output_type": "stream",
     "text": [
      "bob bob\n"
     ]
    }
   ],
   "source": [
    "x = rec()\n",
    "y = rec()\n",
    "print(x.name,y.name)"
   ]
  },
  {
   "cell_type": "code",
   "execution_count": 37,
   "metadata": {},
   "outputs": [
    {
     "data": {
      "text/plain": [
       "('bob', 'sue', 'bob')"
      ]
     },
     "execution_count": 37,
     "metadata": {},
     "output_type": "execute_result"
    }
   ],
   "source": [
    "x.name='sue'\n",
    "rec.name, x.name, y.name"
   ]
  },
  {
   "cell_type": "code",
   "execution_count": 38,
   "metadata": {},
   "outputs": [
    {
     "data": {
      "text/plain": [
       "['__module__', '__dict__', '__weakref__', '__doc__', 'name', 'age']"
      ]
     },
     "execution_count": 38,
     "metadata": {},
     "output_type": "execute_result"
    }
   ],
   "source": [
    "list(rec.__dict__.keys())"
   ]
  },
  {
   "cell_type": "code",
   "execution_count": 39,
   "metadata": {},
   "outputs": [
    {
     "data": {
      "text/plain": [
       "['name', 'age']"
      ]
     },
     "execution_count": 39,
     "metadata": {},
     "output_type": "execute_result"
    }
   ],
   "source": [
    "list(name for name in rec.__dict__ if not name.startswith('__'))"
   ]
  },
  {
   "cell_type": "code",
   "execution_count": 40,
   "metadata": {},
   "outputs": [
    {
     "data": {
      "text/plain": [
       "['name']"
      ]
     },
     "execution_count": 40,
     "metadata": {},
     "output_type": "execute_result"
    }
   ],
   "source": [
    "list(x.__dict__.keys())"
   ]
  },
  {
   "cell_type": "code",
   "execution_count": 41,
   "metadata": {},
   "outputs": [
    {
     "data": {
      "text/plain": [
       "[]"
      ]
     },
     "execution_count": 41,
     "metadata": {},
     "output_type": "execute_result"
    }
   ],
   "source": [
    "list(y.__dict__.keys())"
   ]
  },
  {
   "cell_type": "code",
   "execution_count": 42,
   "metadata": {},
   "outputs": [
    {
     "data": {
      "text/plain": [
       "('sue', 'sue')"
      ]
     },
     "execution_count": 42,
     "metadata": {},
     "output_type": "execute_result"
    }
   ],
   "source": [
    "x.name, x.__dict__['name']"
   ]
  },
  {
   "cell_type": "code",
   "execution_count": 43,
   "metadata": {},
   "outputs": [
    {
     "data": {
      "text/plain": [
       "40"
      ]
     },
     "execution_count": 43,
     "metadata": {},
     "output_type": "execute_result"
    }
   ],
   "source": [
    "x.age"
   ]
  },
  {
   "cell_type": "code",
   "execution_count": 44,
   "metadata": {},
   "outputs": [
    {
     "data": {
      "text/plain": [
       "__main__.rec"
      ]
     },
     "execution_count": 44,
     "metadata": {},
     "output_type": "execute_result"
    }
   ],
   "source": [
    "x.__class__"
   ]
  },
  {
   "cell_type": "code",
   "execution_count": 45,
   "metadata": {},
   "outputs": [
    {
     "data": {
      "text/plain": [
       "(object,)"
      ]
     },
     "execution_count": 45,
     "metadata": {},
     "output_type": "execute_result"
    }
   ],
   "source": [
    "rec.__bases__"
   ]
  },
  {
   "cell_type": "code",
   "execution_count": 46,
   "metadata": {},
   "outputs": [
    {
     "data": {
      "text/plain": [
       "'SUE'"
      ]
     },
     "execution_count": 46,
     "metadata": {},
     "output_type": "execute_result"
    }
   ],
   "source": [
    "def uppername(obj):\n",
    "    return obj.name.upper()\n",
    "uppername(x)\n"
   ]
  },
  {
   "cell_type": "code",
   "execution_count": 48,
   "metadata": {},
   "outputs": [
    {
     "name": "stdout",
     "output_type": "stream",
     "text": [
      "Bob\n"
     ]
    }
   ],
   "source": [
    "rec = ('Bob', 40.5, ['dev', 'mgr'])\n",
    "print(rec[0])"
   ]
  },
  {
   "cell_type": "code",
   "execution_count": 49,
   "metadata": {},
   "outputs": [
    {
     "name": "stdout",
     "output_type": "stream",
     "text": [
      "Bob\n"
     ]
    }
   ],
   "source": [
    "rec = {}\n",
    "rec['name'] = 'Bob'\n",
    "rec['age'] = 40.5\n",
    "rec['jobs'] = ['dev', 'mgr']\n",
    "print(rec['name'])"
   ]
  },
  {
   "cell_type": "code",
   "execution_count": 50,
   "metadata": {},
   "outputs": [
    {
     "data": {
      "text/plain": [
       "'Bob'"
      ]
     },
     "execution_count": 50,
     "metadata": {},
     "output_type": "execute_result"
    }
   ],
   "source": [
    "class rec: pass\n",
    "rec.name = 'Bob'\n",
    "rec.age = 40.5\n",
    "rec.jobs = ['dev', 'mgr']\n",
    "rec.name"
   ]
  },
  {
   "cell_type": "code",
   "execution_count": 52,
   "metadata": {},
   "outputs": [
    {
     "data": {
      "text/plain": [
       "'Bob'"
      ]
     },
     "execution_count": 52,
     "metadata": {},
     "output_type": "execute_result"
    }
   ],
   "source": [
    "class rec: pass\n",
    "pers1 = rec()\n",
    "pers1.name, pers1.jobs, pers1.age = 'Bob', ['dev', 'mgr'], 40.5\n"
   ]
  },
  {
   "cell_type": "code",
   "execution_count": 54,
   "metadata": {},
   "outputs": [],
   "source": [
    "def makeDict(obj):\n",
    "    a = {x['location_id']:[] for x in obj}\n",
    "    return a\n",
    "theDicts = makeDict(codeData)"
   ]
  },
  {
   "cell_type": "code",
   "execution_count": 92,
   "metadata": {},
   "outputs": [],
   "source": [
    "def byDate(obj):\n",
    "    a = {(x['location_id'], x['date']) :[] for x in obj}\n",
    "    return a\n",
    "theDates = byDate(codeData)"
   ]
  },
  {
   "cell_type": "code",
   "execution_count": 116,
   "metadata": {},
   "outputs": [],
   "source": [
    "def byCode(obj):\n",
    "    a = {x['code_id']:[] for x in obj }\n",
    "    return a\n",
    "theCodes = byCode(codeData)"
   ]
  },
  {
   "cell_type": "code",
   "execution_count": 117,
   "metadata": {},
   "outputs": [],
   "source": [
    "def makeCodeList(obj, objx):\n",
    "    a = list(objx.keys())\n",
    "    for x in obj:\n",
    "        if x['code_id'] in a:\n",
    "            objx[x['code_id']].append((x['location_id'],x['date'],x['quantity'],x['length'],round(x['quantity']/x['length'], 4)))\n",
    "makeCodeList(codeData, theCodes)"
   ]
  },
  {
   "cell_type": "code",
   "execution_count": 119,
   "metadata": {},
   "outputs": [
    {
     "data": {
      "text/plain": [
       "('Baye-de-Montreux-G', '2015-12-10', 10, 61, 0.1639)"
      ]
     },
     "execution_count": 119,
     "metadata": {},
     "output_type": "execute_result"
    }
   ],
   "source": [
    "theCodes[\"G95\"][4]"
   ]
  },
  {
   "cell_type": "code",
   "execution_count": null,
   "metadata": {},
   "outputs": [],
   "source": []
  }
 ],
 "metadata": {
  "kernelspec": {
   "display_name": "Python 3",
   "language": "python",
   "name": "python3"
  },
  "language_info": {
   "codemirror_mode": {
    "name": "ipython",
    "version": 3
   },
   "file_extension": ".py",
   "mimetype": "text/x-python",
   "name": "python",
   "nbconvert_exporter": "python",
   "pygments_lexer": "ipython3",
   "version": "3.6.5"
  }
 },
 "nbformat": 4,
 "nbformat_minor": 2
}
